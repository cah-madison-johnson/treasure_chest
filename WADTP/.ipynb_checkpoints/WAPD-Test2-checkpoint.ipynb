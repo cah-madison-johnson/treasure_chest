{
 "cells": [
  {
   "cell_type": "code",
   "execution_count": 1,
   "id": "c2d4e05d-fc05-466a-a5df-dae854b27c0f",
   "metadata": {},
   "outputs": [],
   "source": [
    "# Display settings\n",
    "## Auto reload modules & inline plots\n",
    "%reload_ext autoreload\n",
    "%autoreload 2\n",
    "%matplotlib inline"
   ]
  },
  {
   "cell_type": "code",
   "execution_count": 2,
   "id": "6d5bc12e-1427-448d-bfc2-ea97baae66a0",
   "metadata": {},
   "outputs": [],
   "source": [
    "import datetime as dt #For inputing any date or time information\n",
    "from datetime import timezone #For inputing timezones\n",
    "from google.cloud import bigquery          #The BigQuery API\n",
    "import matplotlib.pyplot as plt      #For plotting\n",
    "import numpy as np                         #For scientific computation\n",
    "import os                            #For work with native operating system and directories\n",
    "from pathlib import Path             #For working with file paths and directories\n",
    "import pydata_google_auth                  #For authentication against Google \n",
    "import pandas as pd                        #For data manipulation and bgq --> pandas conversion\n",
    "import pandas_gbq as pd_gbq #Import BigQuery data to create a pandas dataframe\n",
    "import plotly.graph_objects as go # interactive plots\n",
    "import pytz #For timezone calculations\n",
    "import seaborn as sns                #For plotting\n",
    "import warnings\n",
    "import datetime\n",
    "\n",
    "from plotly.subplots import make_subplots\n",
    "import plotly.express as px\n",
    "import plotly.graph_objects as go"
   ]
  },
  {
   "cell_type": "code",
   "execution_count": 3,
   "id": "0f4781a0-4d30-400e-9eca-dc6f1b48691a",
   "metadata": {},
   "outputs": [],
   "source": [
    "pd.set_option('display.max_columns', None)\n",
    "pd.options.display.float_format = '{:.4f}'.format\n",
    "warnings.filterwarnings('ignore')"
   ]
  },
  {
   "cell_type": "code",
   "execution_count": 4,
   "id": "4910a1e5-5912-411f-9aca-af31465dc11a",
   "metadata": {},
   "outputs": [],
   "source": [
    "query = \"\"\"\n",
    "SELECT\n",
    "  CUSTOMER_NUMBER,\n",
    "  ENTERPRISE_ACCOUNT_NO,\n",
    "  ENTERPRISE_ACCOUNT_NAME,\n",
    "  NATIONAL_ACCOUNT,\n",
    "  PAYER,\n",
    "  DOCUMENT_DATE_IN_DOCUMENT,\n",
    "  DOCUMENT_TYPE,\n",
    "  POSTING_KEY_NAME,\n",
    "  AMOUNT_IN_LOCAL_CURRENCY,\n",
    "  CREDIT_CONTROL_AREA,\n",
    "  AR_STATUS,\n",
    "  PAYMENT_DATE,\n",
    "  CC_DAYS_TO_ADD,\n",
    "  TERMS_OF_PAYMENT_KEY  \n",
    "FROM\n",
    "  `edna-data-pr-cah.VW_CORP_GFSS_NP.VW_AR_AGING`\n",
    "WHERE\n",
    "  (DOCUMENT_TYPE IN ('ZF',\n",
    "      'VF', 'DH', 'DL', 'DZ', 'DW', 'DC'))\n",
    "    AND (\"2024-01-01\" >=PAYMENT_DATE)\n",
    "ORDER BY\n",
    "  PAYMENT_DATE\n",
    "  \n",
    "\"\"\""
   ]
  },
  {
   "cell_type": "markdown",
   "id": "cda44399-70ff-422d-83a1-1978151001fb",
   "metadata": {},
   "source": [
    "<font color='red'>check on: WHERE\n",
    "  (DOCUMENT_TYPE IN ('ZF',\n",
    "      'VF', 'DH', 'DL', 'DZ', 'DW', 'DC'))</font> "
   ]
  },
  {
   "cell_type": "code",
   "execution_count": 5,
   "id": "f40c94cc-547d-4e16-b49a-8529f31dd112",
   "metadata": {},
   "outputs": [],
   "source": [
    "# Import the data with imputation\n",
    "bqclient = bigquery.Client()\n",
    "df = bqclient.query(query).to_dataframe()"
   ]
  },
  {
   "cell_type": "code",
   "execution_count": 6,
   "id": "65c44fb7-3634-4da8-b17f-08bd944a890a",
   "metadata": {
    "tags": []
   },
   "outputs": [
    {
     "data": {
      "text/plain": [
       "4400100370    12141421\n",
       "4400008232     3223007\n",
       "4400100373     3016515\n",
       "4400100824      993766\n",
       "4400100815      690432\n",
       "                ...   \n",
       "2057187867       13393\n",
       "2057200722       13299\n",
       "0011001422       13176\n",
       "2057189628       13078\n",
       "2057190135       12887\n",
       "Name: CUSTOMER_NUMBER, Length: 100, dtype: int64"
      ]
     },
     "execution_count": 6,
     "metadata": {},
     "output_type": "execute_result"
    }
   ],
   "source": [
    "df.CUSTOMER_NUMBER.value_counts().head(100)"
   ]
  },
  {
   "cell_type": "code",
   "execution_count": 7,
   "id": "7bbb59e9-e791-4d23-9fc3-64c1becd5890",
   "metadata": {
    "tags": []
   },
   "outputs": [
    {
     "data": {
      "text/plain": [
       "array(['PD'], dtype=object)"
      ]
     },
     "execution_count": 7,
     "metadata": {},
     "output_type": "execute_result"
    }
   ],
   "source": [
    "df.query('CUSTOMER_NUMBER==\"4400008232\"').CREDIT_CONTROL_AREA.unique()"
   ]
  },
  {
   "cell_type": "code",
   "execution_count": 8,
   "id": "0843619b-913d-4c0f-b76f-830ce34dcc1a",
   "metadata": {},
   "outputs": [],
   "source": [
    "df=df.query('POSTING_KEY_NAME == \"01 - Invoice\" & AR_STATUS == \"CLEAR\"')\n",
    "# df['CC_DAYS_TO_ADD']=df['CC_DAYS_TO_ADD'].apply(lambda x: float(x))\n",
    "# df['AMOUNT_IN_LOCAL_CURRENCY']=df['AMOUNT_IN_LOCAL_CURRENCY'].apply(lambda x: float(x))\n",
    "# df.reset_index(inplace = True)\n"
   ]
  },
  {
   "cell_type": "code",
   "execution_count": 9,
   "id": "a8949bfd-c23f-4db9-a44c-8c06ad218631",
   "metadata": {
    "jupyter": {
     "source_hidden": true
    },
    "tags": []
   },
   "outputs": [],
   "source": [
    "def calc_WAPD1(df_1):\n",
    "    df_1['PAYMENT_DATE']=pd.to_datetime(df_1['PAYMENT_DATE'])\n",
    "    df_1['DOCUMENT_DATE_IN_DOCUMENT']=pd.to_datetime(df_1['DOCUMENT_DATE_IN_DOCUMENT'])\n",
    "    WAPD_new = pd.Series([])\n",
    "    for index, row in df_1.iterrows():\n",
    "        start_date= row['PAYMENT_DATE']\n",
    "        end_date = row['90_days_ago']\n",
    "        try:\n",
    "            ninety_day_range = df_1.query('@start_date >= DOCUMENT_DATE_IN_DOCUMENT   >= @end_date')\n",
    "            WAPD= ninety_day_range['Weighted Invoice Value'].sum() / ninety_day_range['AMOUNT_IN_LOCAL_CURRENCY'].sum()\n",
    "            WAPD_new[index]=WAPD\n",
    "        except:\n",
    "            print('no PAYMENT_DATE')\n",
    "            WAPD_new[index]=0\n",
    "    df_1.insert(16, \"WAPD\", WAPD_new)\n",
    "    return df_1"
   ]
  },
  {
   "cell_type": "code",
   "execution_count": 10,
   "id": "637d80f0-ff93-4ce0-9abe-f78314c0b6e9",
   "metadata": {},
   "outputs": [],
   "source": [
    "def calc_WAPD(df_1):\n",
    "    try:\n",
    "        df_1['PAYMENT_DATE']=pd.to_datetime(df_1['PAYMENT_DATE'])\n",
    "        df_1['DOCUMENT_DATE_IN_DOCUMENT']=pd.to_datetime(df_1['DOCUMENT_DATE_IN_DOCUMENT'])\n",
    "        # WAPD_new = pd.Series([])\n",
    "        start_date= df_1['PAYMENT_DATE']\n",
    "        end_date = df_1['90_days_ago']\n",
    "        ninety_day_range = df_1.query('@start_date >= DOCUMENT_DATE_IN_DOCUMENT   >= @end_date')\n",
    "        # print(ninety_day_range)\n",
    "        df_1['WAPD']= ninety_day_range['Weighted Invoice Value'].sum() / ninety_day_range['AMOUNT_IN_LOCAL_CURRENCY'].sum()\n",
    "    except:\n",
    "        print('no PAYMENT_DATE')\n",
    "        df_1['WAPD']= 0\n",
    "    \n",
    "    return df_1"
   ]
  },
  {
   "cell_type": "code",
   "execution_count": 11,
   "id": "843a8b35-d4e3-4a64-8117-ec4b1df6e420",
   "metadata": {
    "tags": []
   },
   "outputs": [],
   "source": [
    "def search_customer(CUSTOMER_NUMBER):\n",
    "    CUSTOMER_df=df.query('CUSTOMER_NUMBER == @CUSTOMER_NUMBER')\n",
    "    \n",
    "    CUSTOMER_df.reset_index(inplace = True)\n",
    "    # print(CUSTOMER_df)\n",
    "    CUSTOMER_df['AMOUNT_IN_LOCAL_CURRENCY']=CUSTOMER_df['AMOUNT_IN_LOCAL_CURRENCY'].apply(lambda x: float(x))\n",
    "#     Sub Payment Date from Invoice Date\n",
    "    CUSTOMER_df['Sub Payment Date from Invoice Date']=(CUSTOMER_df['PAYMENT_DATE']-CUSTOMER_df['DOCUMENT_DATE_IN_DOCUMENT']).dt.days\n",
    "#     Weighted Invoice Value\n",
    "    CUSTOMER_df['Weighted Invoice Value']= CUSTOMER_df['Sub Payment Date from Invoice Date']*CUSTOMER_df['AMOUNT_IN_LOCAL_CURRENCY']\n",
    "# WAPD\n",
    "    import datetime\n",
    "    current = pd.to_datetime(CUSTOMER_df['PAYMENT_DATE'])\n",
    "    CUSTOMER_df['90_days_ago']= current - pd.to_timedelta('90 days')\n",
    "    CUSTOMER_df = calc_WAPD1(CUSTOMER_df)\n",
    "    CUSTOMER_df = final_dataFram(CUSTOMER_df)\n",
    "    return CUSTOMER_df"
   ]
  },
  {
   "cell_type": "code",
   "execution_count": 12,
   "id": "25fda3ea-64c0-43ab-88fd-24bd732a12d1",
   "metadata": {
    "tags": []
   },
   "outputs": [],
   "source": [
    "# Returns a tuple of DataFrames sorted by DSO term\n",
    "\n",
    "def get_terms(ENTERPRISE_ACCOUNT_NO):\n",
    "    return_list = []\n",
    "    \n",
    "    terms_df=df.query('ENTERPRISE_ACCOUNT_NO == @ENTERPRISE_ACCOUNT_NO')\n",
    "    \n",
    "    # terms_df.reset_index(inplace = True)\n",
    "    terms_list = terms_df['CC_DAYS_TO_ADD'].unique()\n",
    "    print(terms_list)\n",
    "    \n",
    "    # for dso_term in terms_list:\n",
    "    #     name = str(dso_term)+\"_term\"\n",
    "    #     name = terms_df.query('CC_DAYS_TO_ADD ==@dso_term')\n",
    "    #     return_list.append(name)\n",
    "    \n",
    "    return None\n",
    " \n",
    "\n"
   ]
  },
  {
   "cell_type": "code",
   "execution_count": 13,
   "id": "db16e6c4-b062-4f3e-a4cd-f5aa8120c4c0",
   "metadata": {
    "tags": []
   },
   "outputs": [],
   "source": [
    "def search_EAN(term,EAN):\n",
    "    print(term)\n",
    "    CUSTOMER_df=df.query('ENTERPRISE_ACCOUNT_NO == @EAN')\n",
    "    print(\"Before\\n\",CUSTOMER_df)\n",
    "    # CUSTOMER_df=CUSTOMER_df.query('CC_DAYS_TO_ADD == @term')\n",
    "    print(\"AFTER\\n\",CUSTOMER_df)\n",
    "    CUSTOMER_df.reset_index(inplace = True)\n",
    "   \n",
    "    # CUSTOMER_df['AMOUNT_IN_LOCAL_CURRENCY']=CUSTOMER_df['AMOUNT_IN_LOCAL_CURRENCY'].apply(lambda x: float(x))\n",
    "#     Sub Payment Date from Invoice Date\n",
    "    \n",
    "    CUSTOMER_df['Sub Payment Date from Invoice Date']=(CUSTOMER_df['PAYMENT_DATE']-CUSTOMER_df['DOCUMENT_DATE_IN_DOCUMENT']).dt.days\n",
    "#     Weighted Invoice Value\n",
    "    CUSTOMER_df['Weighted Invoice Value']= CUSTOMER_df['Sub Payment Date from Invoice Date']*CUSTOMER_df['AMOUNT_IN_LOCAL_CURRENCY']\n",
    "# WAPD\n",
    "    import datetime\n",
    "    current = pd.to_datetime(CUSTOMER_df['PAYMENT_DATE'])\n",
    "    CUSTOMER_df['90_days_ago']= current - pd.to_timedelta('90 days')\n",
    "    CUSTOMER_df = calc_WAPD(CUSTOMER_df)\n",
    "    \n",
    "    \n",
    "    \n",
    "    return CUSTOMER_df"
   ]
  },
  {
   "cell_type": "code",
   "execution_count": 14,
   "id": "a546ece6-1829-4cda-8d6c-7b08dfe0d46e",
   "metadata": {
    "tags": []
   },
   "outputs": [],
   "source": [
    "def final_dataFram(toFix_df):\n",
    "    toFix_df['month'] = toFix_df['PAYMENT_DATE'].dt.strftime('%b')\n",
    "    df_final = pd.DataFrame({'Year': toFix_df.PAYMENT_DATE.dt.year,\n",
    "                   'Month': toFix_df.month,\n",
    "                   'CREDIT_CONTROL_AREA': toFix_df.CREDIT_CONTROL_AREA,\n",
    "                   'WAPD':toFix_df.WAPD,\n",
    "                    \"CC_DAYS_TO_ADD\":toFix_df.CC_DAYS_TO_ADD})\n",
    "    dfff = (\n",
    "        df_final\n",
    "        .filter([\"Year\", \"Month\",\"CREDIT_CONTROL_AREA\",\"WAPD\",\"CC_DAYS_TO_ADD\"])\n",
    "        .groupby(['Year','Month','CREDIT_CONTROL_AREA',\"CC_DAYS_TO_ADD\"])\n",
    "        .agg({'WAPD' : ['mean']})\n",
    "        .sort_values(['Year',\"Month\",\"CC_DAYS_TO_ADD\"])\n",
    "        .reset_index()\n",
    "    )\n",
    "    dfff.columns = ['Year','Month', 'CREDIT_CONTROL_AREA','CC_DAYS_TO_ADD',\"WAPD\"]\n",
    "    get_graph(dfff)\n",
    "    return dfff\n",
    "    "
   ]
  },
  {
   "cell_type": "code",
   "execution_count": 20,
   "id": "f58db648-fbec-41e9-99b9-e5197f2f4c19",
   "metadata": {
    "tags": []
   },
   "outputs": [],
   "source": [
    "def get_graph1(finished_df):\n",
    "    dff = pd.DataFrame(\n",
    "        dict(\n",
    "            year=finished_df.Year.values ,\n",
    "            month=finished_df.Month.values,\n",
    "            CCA= finished_df.CREDIT_CONTROL_AREA.values,\n",
    "            WAPD=finished_df.WAPD.values,\n",
    "            dso_term = finished_df.CC_DAYS_TO_ADD.values\n",
    "        )\n",
    "    )\n",
    "\n",
    "    fig = go.Figure()\n",
    "    # fig = make_subplots(1,1)\n",
    "\n",
    "    fig.update_layout(\n",
    "        template=\"none\",\n",
    "        xaxis=dict(title_text=\"Year\"),\n",
    "        yaxis=dict(title_text=\"WAPD\"),\n",
    "        barmode=\"group\",\n",
    "    )\n",
    "\n",
    "    colors = [\"#456e73\",\"#2A66DE\", \"#FFC32B\",\"#457353\"]\n",
    "\n",
    "    for r, c in zip(dff.CCA.unique(), colors):\n",
    "        plot_df = dff[dff.CCA == r]\n",
    "        fig.add_trace(go.Bar(x=[plot_df.year, plot_df.month], y=plot_df.WAPD, name=r, marker_color=c))\n",
    "\n",
    "\n",
    "    fig.add_trace(go.Scatter(x= [dff.year, dff.month], y=dff.dso_term, mode = 'lines',name = \"DSO Term\"))\n",
    "\n",
    "\n",
    "    # fig.plot(fi.CC_DAYS_TO_ADD, c = \"y\", label = \"DSO Term\",zorder=10)\n",
    "    fig.update_layout(title='WAPD')\n",
    "    fig.show()"
   ]
  },
  {
   "cell_type": "code",
   "execution_count": 38,
   "id": "71da3b66-d8b1-41ce-9b88-2afa24240099",
   "metadata": {},
   "outputs": [],
   "source": [
    "def get_graph(finished_df):\n",
    "    dff = pd.DataFrame(\n",
    "        dict(\n",
    "            year=finished_df.Year.values ,\n",
    "            month=finished_df.Month.values,\n",
    "            CCA= finished_df.CREDIT_CONTROL_AREA.values,\n",
    "            WAPD=finished_df.WAPD.values,\n",
    "            dso_term = finished_df.CC_DAYS_TO_ADD.values\n",
    "        )\n",
    "    )\n",
    "\n",
    "    fig = go.Figure()\n",
    "    # fig = make_subplots(1,1)\n",
    "\n",
    "    fig.update_layout(\n",
    "        template=\"none\",\n",
    "        xaxis=dict(title_text=\"Year\"),\n",
    "        yaxis=dict(title_text=\"WAPD\"),\n",
    "        barmode=\"group\",\n",
    "    )\n",
    "\n",
    "    colors = [\"#456e73\",\"#2A66DE\", \"#FFC32B\",\"purple\"]\n",
    "\n",
    "    for r, c in zip(dff.dso_term.unique(), colors):\n",
    "        plot_df = dff[dff.dso_term == r]\n",
    "        fig.add_trace(go.Bar(x=[plot_df.year, plot_df.month, plot_df.CCA], y=plot_df.WAPD, name=\"DSO Term = \"+str(r), marker_color=c))\n",
    "\n",
    "    for r, c in zip(dff.dso_term.unique(), colors):\n",
    "        plot_df = dff[dff.dso_term == r]\n",
    "        fig.add_trace(go.Scatter(x= [plot_df.year, plot_df.month], y=plot_df.dso_term, mode = 'lines',name = r))\n",
    "\n",
    "\n",
    "    # fig.plot(fi.CC_DAYS_TO_ADD, c = \"y\", label = \"DSO Term\",zorder=10)\n",
    "    fig.update_layout(title='WAPD')\n",
    "    fig.show()"
   ]
  },
  {
   "cell_type": "markdown",
   "id": "4738cf66-a9d3-43bb-93f3-898faa50ec71",
   "metadata": {
    "tags": []
   },
   "source": [
    "# **********************************************************************************************************"
   ]
  },
  {
   "cell_type": "markdown",
   "id": "2a399b1d-0ef2-4692-9bc6-04f43c92ee5b",
   "metadata": {},
   "source": [
    "# Visualization"
   ]
  },
  {
   "cell_type": "markdown",
   "id": "6c411fd8-6c27-44d1-bca2-19c557dc247a",
   "metadata": {},
   "source": [
    "## Customer"
   ]
  },
  {
   "cell_type": "code",
   "execution_count": null,
   "id": "4a3b8b01-f83c-41e4-961f-0117800f3ca7",
   "metadata": {},
   "outputs": [],
   "source": []
  },
  {
   "cell_type": "code",
   "execution_count": null,
   "id": "dfc2693c-0301-4ce6-be10-168c922af954",
   "metadata": {
    "tags": []
   },
   "outputs": [],
   "source": [
    "customer = \"2057190020\"\n",
    "t = search_customer(customer)"
   ]
  },
  {
   "cell_type": "code",
   "execution_count": 17,
   "id": "c0687552-79b3-4125-b44c-4961ece616c5",
   "metadata": {},
   "outputs": [
    {
     "data": {
      "application/vnd.plotly.v1+json": {
       "config": {
        "plotlyServerURL": "https://plot.ly"
       },
       "data": [
        {
         "marker": {
          "color": "#456e73"
         },
         "name": "PD",
         "type": "bar",
         "x": [
          [
           2022,
           2022,
           2022,
           2022,
           2023,
           2023,
           2023,
           2023,
           2023,
           2023,
           2023,
           2023,
           2023
          ],
          [
           "Dec",
           "Nov",
           "Oct",
           "Sep",
           "Apr",
           "Aug",
           "Feb",
           "Jan",
           "Jul",
           "Jun",
           "Mar",
           "May",
           "Sep"
          ]
         ],
         "y": [
          30.04335183672463,
          29.968190301091255,
          29.963657603240005,
          29.974440847942954,
          24.899338818830874,
          26.64832225991507,
          28.595340741821424,
          29.715879475196473,
          25.025680727597933,
          25.742250224223866,
          25.192083940333216,
          24.310420861451092,
          27.968506309745777
         ]
        },
        {
         "mode": "lines",
         "name": "DSO Term",
         "type": "scatter",
         "x": [
          [
           2022,
           2022,
           2022,
           2022,
           2023,
           2023,
           2023,
           2023,
           2023,
           2023,
           2023,
           2023,
           2023
          ],
          [
           "Dec",
           "Nov",
           "Oct",
           "Sep",
           "Apr",
           "Aug",
           "Feb",
           "Jan",
           "Jul",
           "Jun",
           "Mar",
           "May",
           "Sep"
          ]
         ],
         "y": [
          28,
          28,
          28,
          28,
          28,
          28,
          28,
          28,
          28,
          28,
          28,
          28,
          28
         ]
        }
       ],
       "layout": {
        "autosize": true,
        "barmode": "group",
        "template": {
         "data": {
          "scatter": [
           {
            "type": "scatter"
           }
          ]
         }
        },
        "title": {
         "text": "WAPD"
        },
        "xaxis": {
         "autorange": true,
         "range": [
          -0.5,
          12.5
         ],
         "title": {
          "text": "Year"
         },
         "type": "multicategory"
        },
        "yaxis": {
         "autorange": true,
         "range": [
          0,
          31.624580880762768
         ],
         "title": {
          "text": "WAPD"
         },
         "type": "linear"
        }
       }
      },
      "image/png": "[encoded data removed]",
      "text/html": [
       "<div>                            <div id=\"d77e6892-9c8a-461c-ba1d-60fa12133f2a\" class=\"plotly-graph-div\" style=\"height:525px; width:100%;\"></div>            <script type=\"text/javascript\">                require([\"plotly\"], function(Plotly) {                    window.PLOTLYENV=window.PLOTLYENV || {};                                    if (document.getElementById(\"d77e6892-9c8a-461c-ba1d-60fa12133f2a\")) {                    Plotly.newPlot(                        \"d77e6892-9c8a-461c-ba1d-60fa12133f2a\",                        [{\"marker\":{\"color\":\"#456e73\"},\"name\":\"PD\",\"x\":[[2022,2022,2022,2022,2023,2023,2023,2023,2023,2023,2023,2023,2023],[\"Dec\",\"Nov\",\"Oct\",\"Sep\",\"Apr\",\"Aug\",\"Feb\",\"Jan\",\"Jul\",\"Jun\",\"Mar\",\"May\",\"Sep\"]],\"y\":[30.04335183672463,29.968190301091255,29.963657603240005,29.974440847942954,24.899338818830874,26.64832225991507,28.595340741821424,29.715879475196473,25.025680727597933,25.742250224223866,25.192083940333216,24.310420861451092,27.968506309745777],\"type\":\"bar\"},{\"mode\":\"lines\",\"name\":\"DSO Term\",\"x\":[[2022,2022,2022,2022,2023,2023,2023,2023,2023,2023,2023,2023,2023],[\"Dec\",\"Nov\",\"Oct\",\"Sep\",\"Apr\",\"Aug\",\"Feb\",\"Jan\",\"Jul\",\"Jun\",\"Mar\",\"May\",\"Sep\"]],\"y\":[28.0,28.0,28.0,28.0,28.0,28.0,28.0,28.0,28.0,28.0,28.0,28.0,28.0],\"type\":\"scatter\"}],                        {\"template\":{\"data\":{\"scatter\":[{\"type\":\"scatter\"}]}},\"xaxis\":{\"title\":{\"text\":\"Year\"}},\"yaxis\":{\"title\":{\"text\":\"WAPD\"}},\"barmode\":\"group\",\"title\":{\"text\":\"WAPD\"}},                        {\"responsive\": true}                    ).then(function(){\n",
       "                            \n",
       "var gd = document.getElementById('d77e6892-9c8a-461c-ba1d-60fa12133f2a');\n",
       "var x = new MutationObserver(function (mutations, observer) {{\n",
       "        var display = window.getComputedStyle(gd).display;\n",
       "        if (!display || display === 'none') {{\n",
       "            console.log([gd, 'removed!']);\n",
       "            Plotly.purge(gd);\n",
       "            observer.disconnect();\n",
       "        }}\n",
       "}});\n",
       "\n",
       "// Listen for the removal of the full notebook cells\n",
       "var notebookContainer = gd.closest('#notebook-container');\n",
       "if (notebookContainer) {{\n",
       "    x.observe(notebookContainer, {childList: true});\n",
       "}}\n",
       "\n",
       "// Listen for the clearing of the current output cell\n",
       "var outputEl = gd.closest('.output');\n",
       "if (outputEl) {{\n",
       "    x.observe(outputEl, {childList: true});\n",
       "}}\n",
       "\n",
       "                        })                };                });            </script>        </div>"
      ]
     },
     "metadata": {},
     "output_type": "display_data"
    }
   ],
   "source": [
    "customer = \"2057194397\"\n",
    "t = search_customer(customer)"
   ]
  },
  {
   "cell_type": "code",
   "execution_count": 31,
   "id": "a6d3f779-90cd-4d00-93b2-0d1554cc23a2",
   "metadata": {
    "tags": []
   },
   "outputs": [
    {
     "data": {
      "text/html": [
       "<div>\n",
       "<style scoped>\n",
       "    .dataframe tbody tr th:only-of-type {\n",
       "        vertical-align: middle;\n",
       "    }\n",
       "\n",
       "    .dataframe tbody tr th {\n",
       "        vertical-align: top;\n",
       "    }\n",
       "\n",
       "    .dataframe thead th {\n",
       "        text-align: right;\n",
       "    }\n",
       "</style>\n",
       "<table border=\"1\" class=\"dataframe\">\n",
       "  <thead>\n",
       "    <tr style=\"text-align: right;\">\n",
       "      <th></th>\n",
       "      <th>Year</th>\n",
       "      <th>Month</th>\n",
       "      <th>CREDIT_CONTROL_AREA</th>\n",
       "      <th>CC_DAYS_TO_ADD</th>\n",
       "      <th>WAPD</th>\n",
       "    </tr>\n",
       "  </thead>\n",
       "  <tbody>\n",
       "    <tr>\n",
       "      <th>0</th>\n",
       "      <td>2022</td>\n",
       "      <td>Aug</td>\n",
       "      <td>PD</td>\n",
       "      <td>30.0000</td>\n",
       "      <td>4.6662</td>\n",
       "    </tr>\n",
       "    <tr>\n",
       "      <th>1</th>\n",
       "      <td>2022</td>\n",
       "      <td>Aug</td>\n",
       "      <td>PD</td>\n",
       "      <td>60.0000</td>\n",
       "      <td>4.6894</td>\n",
       "    </tr>\n",
       "    <tr>\n",
       "      <th>2</th>\n",
       "      <td>2022</td>\n",
       "      <td>Aug</td>\n",
       "      <td>PD</td>\n",
       "      <td>65.0000</td>\n",
       "      <td>5.0569</td>\n",
       "    </tr>\n",
       "    <tr>\n",
       "      <th>3</th>\n",
       "      <td>2022</td>\n",
       "      <td>Aug</td>\n",
       "      <td>PD</td>\n",
       "      <td>120.0000</td>\n",
       "      <td>4.8421</td>\n",
       "    </tr>\n",
       "    <tr>\n",
       "      <th>4</th>\n",
       "      <td>2022</td>\n",
       "      <td>Dec</td>\n",
       "      <td>PD</td>\n",
       "      <td>30.0000</td>\n",
       "      <td>6.4543</td>\n",
       "    </tr>\n",
       "    <tr>\n",
       "      <th>5</th>\n",
       "      <td>2022</td>\n",
       "      <td>Dec</td>\n",
       "      <td>PD</td>\n",
       "      <td>60.0000</td>\n",
       "      <td>6.4471</td>\n",
       "    </tr>\n",
       "    <tr>\n",
       "      <th>6</th>\n",
       "      <td>2022</td>\n",
       "      <td>Dec</td>\n",
       "      <td>PD</td>\n",
       "      <td>65.0000</td>\n",
       "      <td>6.4587</td>\n",
       "    </tr>\n",
       "    <tr>\n",
       "      <th>7</th>\n",
       "      <td>2022</td>\n",
       "      <td>Dec</td>\n",
       "      <td>PD</td>\n",
       "      <td>120.0000</td>\n",
       "      <td>6.5060</td>\n",
       "    </tr>\n",
       "    <tr>\n",
       "      <th>8</th>\n",
       "      <td>2022</td>\n",
       "      <td>Jul</td>\n",
       "      <td>PD</td>\n",
       "      <td>0.0000</td>\n",
       "      <td>NaN</td>\n",
       "    </tr>\n",
       "    <tr>\n",
       "      <th>9</th>\n",
       "      <td>2022</td>\n",
       "      <td>Nov</td>\n",
       "      <td>PD</td>\n",
       "      <td>30.0000</td>\n",
       "      <td>5.9713</td>\n",
       "    </tr>\n",
       "    <tr>\n",
       "      <th>10</th>\n",
       "      <td>2022</td>\n",
       "      <td>Nov</td>\n",
       "      <td>PD</td>\n",
       "      <td>60.0000</td>\n",
       "      <td>5.9498</td>\n",
       "    </tr>\n",
       "    <tr>\n",
       "      <th>11</th>\n",
       "      <td>2022</td>\n",
       "      <td>Nov</td>\n",
       "      <td>PD</td>\n",
       "      <td>65.0000</td>\n",
       "      <td>5.9872</td>\n",
       "    </tr>\n",
       "    <tr>\n",
       "      <th>12</th>\n",
       "      <td>2022</td>\n",
       "      <td>Nov</td>\n",
       "      <td>PD</td>\n",
       "      <td>120.0000</td>\n",
       "      <td>6.0238</td>\n",
       "    </tr>\n",
       "    <tr>\n",
       "      <th>13</th>\n",
       "      <td>2022</td>\n",
       "      <td>Oct</td>\n",
       "      <td>PD</td>\n",
       "      <td>30.0000</td>\n",
       "      <td>5.8147</td>\n",
       "    </tr>\n",
       "    <tr>\n",
       "      <th>14</th>\n",
       "      <td>2022</td>\n",
       "      <td>Oct</td>\n",
       "      <td>PD</td>\n",
       "      <td>60.0000</td>\n",
       "      <td>5.8259</td>\n",
       "    </tr>\n",
       "    <tr>\n",
       "      <th>15</th>\n",
       "      <td>2022</td>\n",
       "      <td>Oct</td>\n",
       "      <td>PD</td>\n",
       "      <td>65.0000</td>\n",
       "      <td>5.8360</td>\n",
       "    </tr>\n",
       "    <tr>\n",
       "      <th>16</th>\n",
       "      <td>2022</td>\n",
       "      <td>Oct</td>\n",
       "      <td>PD</td>\n",
       "      <td>120.0000</td>\n",
       "      <td>5.7997</td>\n",
       "    </tr>\n",
       "    <tr>\n",
       "      <th>17</th>\n",
       "      <td>2022</td>\n",
       "      <td>Sep</td>\n",
       "      <td>PD</td>\n",
       "      <td>30.0000</td>\n",
       "      <td>5.9319</td>\n",
       "    </tr>\n",
       "    <tr>\n",
       "      <th>18</th>\n",
       "      <td>2022</td>\n",
       "      <td>Sep</td>\n",
       "      <td>PD</td>\n",
       "      <td>60.0000</td>\n",
       "      <td>5.9035</td>\n",
       "    </tr>\n",
       "    <tr>\n",
       "      <th>19</th>\n",
       "      <td>2023</td>\n",
       "      <td>Apr</td>\n",
       "      <td>PD</td>\n",
       "      <td>30.0000</td>\n",
       "      <td>7.3093</td>\n",
       "    </tr>\n",
       "    <tr>\n",
       "      <th>20</th>\n",
       "      <td>2023</td>\n",
       "      <td>Apr</td>\n",
       "      <td>PD</td>\n",
       "      <td>65.0000</td>\n",
       "      <td>7.1288</td>\n",
       "    </tr>\n",
       "    <tr>\n",
       "      <th>21</th>\n",
       "      <td>2023</td>\n",
       "      <td>Aug</td>\n",
       "      <td>PD</td>\n",
       "      <td>30.0000</td>\n",
       "      <td>15.6489</td>\n",
       "    </tr>\n",
       "    <tr>\n",
       "      <th>22</th>\n",
       "      <td>2023</td>\n",
       "      <td>Feb</td>\n",
       "      <td>PD</td>\n",
       "      <td>30.0000</td>\n",
       "      <td>7.1305</td>\n",
       "    </tr>\n",
       "    <tr>\n",
       "      <th>23</th>\n",
       "      <td>2023</td>\n",
       "      <td>Feb</td>\n",
       "      <td>PD</td>\n",
       "      <td>60.0000</td>\n",
       "      <td>7.1236</td>\n",
       "    </tr>\n",
       "    <tr>\n",
       "      <th>24</th>\n",
       "      <td>2023</td>\n",
       "      <td>Feb</td>\n",
       "      <td>PD</td>\n",
       "      <td>65.0000</td>\n",
       "      <td>7.1367</td>\n",
       "    </tr>\n",
       "    <tr>\n",
       "      <th>25</th>\n",
       "      <td>2023</td>\n",
       "      <td>Jan</td>\n",
       "      <td>PD</td>\n",
       "      <td>30.0000</td>\n",
       "      <td>6.4668</td>\n",
       "    </tr>\n",
       "    <tr>\n",
       "      <th>26</th>\n",
       "      <td>2023</td>\n",
       "      <td>Jan</td>\n",
       "      <td>PD</td>\n",
       "      <td>60.0000</td>\n",
       "      <td>6.4616</td>\n",
       "    </tr>\n",
       "    <tr>\n",
       "      <th>27</th>\n",
       "      <td>2023</td>\n",
       "      <td>Jan</td>\n",
       "      <td>PD</td>\n",
       "      <td>65.0000</td>\n",
       "      <td>6.3668</td>\n",
       "    </tr>\n",
       "    <tr>\n",
       "      <th>28</th>\n",
       "      <td>2023</td>\n",
       "      <td>Jul</td>\n",
       "      <td>PD</td>\n",
       "      <td>30.0000</td>\n",
       "      <td>14.5218</td>\n",
       "    </tr>\n",
       "    <tr>\n",
       "      <th>29</th>\n",
       "      <td>2023</td>\n",
       "      <td>Jul</td>\n",
       "      <td>PD</td>\n",
       "      <td>65.0000</td>\n",
       "      <td>14.0788</td>\n",
       "    </tr>\n",
       "    <tr>\n",
       "      <th>30</th>\n",
       "      <td>2023</td>\n",
       "      <td>Jun</td>\n",
       "      <td>PD</td>\n",
       "      <td>30.0000</td>\n",
       "      <td>10.4411</td>\n",
       "    </tr>\n",
       "    <tr>\n",
       "      <th>31</th>\n",
       "      <td>2023</td>\n",
       "      <td>Mar</td>\n",
       "      <td>PD</td>\n",
       "      <td>30.0000</td>\n",
       "      <td>6.6573</td>\n",
       "    </tr>\n",
       "    <tr>\n",
       "      <th>32</th>\n",
       "      <td>2023</td>\n",
       "      <td>May</td>\n",
       "      <td>PD</td>\n",
       "      <td>30.0000</td>\n",
       "      <td>7.3263</td>\n",
       "    </tr>\n",
       "    <tr>\n",
       "      <th>33</th>\n",
       "      <td>2023</td>\n",
       "      <td>Sep</td>\n",
       "      <td>PD</td>\n",
       "      <td>30.0000</td>\n",
       "      <td>11.9497</td>\n",
       "    </tr>\n",
       "    <tr>\n",
       "      <th>34</th>\n",
       "      <td>2023</td>\n",
       "      <td>Sep</td>\n",
       "      <td>PD</td>\n",
       "      <td>65.0000</td>\n",
       "      <td>12.0774</td>\n",
       "    </tr>\n",
       "  </tbody>\n",
       "</table>\n",
       "</div>"
      ],
      "text/plain": [
       "    Year Month CREDIT_CONTROL_AREA  CC_DAYS_TO_ADD    WAPD\n",
       "0   2022   Aug                  PD         30.0000  4.6662\n",
       "1   2022   Aug                  PD         60.0000  4.6894\n",
       "2   2022   Aug                  PD         65.0000  5.0569\n",
       "3   2022   Aug                  PD        120.0000  4.8421\n",
       "4   2022   Dec                  PD         30.0000  6.4543\n",
       "5   2022   Dec                  PD         60.0000  6.4471\n",
       "6   2022   Dec                  PD         65.0000  6.4587\n",
       "7   2022   Dec                  PD        120.0000  6.5060\n",
       "8   2022   Jul                  PD          0.0000     NaN\n",
       "9   2022   Nov                  PD         30.0000  5.9713\n",
       "10  2022   Nov                  PD         60.0000  5.9498\n",
       "11  2022   Nov                  PD         65.0000  5.9872\n",
       "12  2022   Nov                  PD        120.0000  6.0238\n",
       "13  2022   Oct                  PD         30.0000  5.8147\n",
       "14  2022   Oct                  PD         60.0000  5.8259\n",
       "15  2022   Oct                  PD         65.0000  5.8360\n",
       "16  2022   Oct                  PD        120.0000  5.7997\n",
       "17  2022   Sep                  PD         30.0000  5.9319\n",
       "18  2022   Sep                  PD         60.0000  5.9035\n",
       "19  2023   Apr                  PD         30.0000  7.3093\n",
       "20  2023   Apr                  PD         65.0000  7.1288\n",
       "21  2023   Aug                  PD         30.0000 15.6489\n",
       "22  2023   Feb                  PD         30.0000  7.1305\n",
       "23  2023   Feb                  PD         60.0000  7.1236\n",
       "24  2023   Feb                  PD         65.0000  7.1367\n",
       "25  2023   Jan                  PD         30.0000  6.4668\n",
       "26  2023   Jan                  PD         60.0000  6.4616\n",
       "27  2023   Jan                  PD         65.0000  6.3668\n",
       "28  2023   Jul                  PD         30.0000 14.5218\n",
       "29  2023   Jul                  PD         65.0000 14.0788\n",
       "30  2023   Jun                  PD         30.0000 10.4411\n",
       "31  2023   Mar                  PD         30.0000  6.6573\n",
       "32  2023   May                  PD         30.0000  7.3263\n",
       "33  2023   Sep                  PD         30.0000 11.9497\n",
       "34  2023   Sep                  PD         65.0000 12.0774"
      ]
     },
     "execution_count": 31,
     "metadata": {},
     "output_type": "execute_result"
    }
   ],
   "source": [
    "t"
   ]
  },
  {
   "cell_type": "code",
   "execution_count": 19,
   "id": "e91ec5e2-4301-4d55-8ac8-545c020b816b",
   "metadata": {},
   "outputs": [
    {
     "ename": "SyntaxError",
     "evalue": "invalid syntax (3984537589.py, line 1)",
     "output_type": "error",
     "traceback": [
      "\u001b[0;36m  File \u001b[0;32m\"/var/tmp/ipykernel_18790/3984537589.py\"\u001b[0;36m, line \u001b[0;32m1\u001b[0m\n\u001b[0;31m    force fail\u001b[0m\n\u001b[0m             ^\u001b[0m\n\u001b[0;31mSyntaxError\u001b[0m\u001b[0;31m:\u001b[0m invalid syntax\n"
     ]
    }
   ],
   "source": [
    "force fail"
   ]
  },
  {
   "cell_type": "markdown",
   "id": "10a6bbd6-e88a-498a-996e-dcdb5f781a1e",
   "metadata": {},
   "source": [
    "## EAN"
   ]
  },
  {
   "cell_type": "code",
   "execution_count": null,
   "id": "02895845-04f8-4d38-8145-dfd67f45988a",
   "metadata": {},
   "outputs": [],
   "source": [
    "EAN = \"7100007382\"\n",
    "get_terms(EAN)\n",
    "# DSO terms are printed below"
   ]
  },
  {
   "cell_type": "code",
   "execution_count": null,
   "id": "a26c55ef-a503-40b6-809a-a525548b8395",
   "metadata": {},
   "outputs": [],
   "source": [
    "term = 30"
   ]
  },
  {
   "cell_type": "code",
   "execution_count": null,
   "id": "5c5c8987-a6e4-492e-800a-856405ab2c80",
   "metadata": {
    "tags": []
   },
   "outputs": [],
   "source": [
    "fit=search_EAN(term,EAN)"
   ]
  },
  {
   "cell_type": "code",
   "execution_count": null,
   "id": "93455791-6017-4537-aa55-916b9ebcde11",
   "metadata": {},
   "outputs": [],
   "source": [
    "fit.CREDIT_CONTROL_AREA.unique()"
   ]
  },
  {
   "cell_type": "code",
   "execution_count": null,
   "id": "d42cc68b-e007-4aeb-80cc-ee42ab75ac1a",
   "metadata": {
    "tags": []
   },
   "outputs": [],
   "source": [
    "fi=search_EAN(term,EAN)"
   ]
  },
  {
   "cell_type": "code",
   "execution_count": null,
   "id": "e9d407e5-4291-4ca8-b394-794619c84ffc",
   "metadata": {},
   "outputs": [],
   "source": [
    "final_dataFram(fit)\n"
   ]
  },
  {
   "cell_type": "markdown",
   "id": "766876bc-26b5-4089-aa0d-e6082d2b54e7",
   "metadata": {},
   "source": [
    "## National Account"
   ]
  },
  {
   "cell_type": "code",
   "execution_count": null,
   "id": "4c702a63-9d3b-4f39-9bb5-b1552d5e4b74",
   "metadata": {},
   "outputs": [],
   "source": []
  }
 ],
 "metadata": {
  "environment": {
   "kernel": "python3",
   "name": "pytorch-gpu.1-13.m108",
   "type": "gcloud",
   "uri": "gcr.io/deeplearning-platform-release/pytorch-gpu.1-13:m108"
  },
  "kernelspec": {
   "display_name": "Python 3",
   "language": "python",
   "name": "python3"
  },
  "language_info": {
   "codemirror_mode": {
    "name": "ipython",
    "version": 3
   },
   "file_extension": ".py",
   "mimetype": "text/x-python",
   "name": "python",
   "nbconvert_exporter": "python",
   "pygments_lexer": "ipython3",
   "version": "3.7.12"
  }
 },
 "nbformat": 4,
 "nbformat_minor": 5
}
