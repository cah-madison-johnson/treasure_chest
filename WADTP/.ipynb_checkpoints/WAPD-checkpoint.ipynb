{
 "cells": [
  {
   "cell_type": "code",
   "execution_count": 1,
   "id": "c2d4e05d-fc05-466a-a5df-dae854b27c0f",
   "metadata": {},
   "outputs": [],
   "source": [
    "# Display settings\n",
    "## Auto reload modules & inline plots\n",
    "%reload_ext autoreload\n",
    "%autoreload 2\n",
    "%matplotlib inline"
   ]
  },
  {
   "cell_type": "code",
   "execution_count": 2,
   "id": "6d5bc12e-1427-448d-bfc2-ea97baae66a0",
   "metadata": {},
   "outputs": [],
   "source": [
    "import datetime as dt #For inputing any date or time information\n",
    "from datetime import timezone #For inputing timezones\n",
    "from google.cloud import bigquery          #The BigQuery API\n",
    "import matplotlib.pyplot as plt      #For plotting\n",
    "import numpy as np                         #For scientific computation\n",
    "import os                            #For work with native operating system and directories\n",
    "from pathlib import Path             #For working with file paths and directories\n",
    "import pydata_google_auth                  #For authentication against Google \n",
    "import pandas as pd                        #For data manipulation and bgq --> pandas conversion\n",
    "import pandas_gbq as pd_gbq #Import BigQuery data to create a pandas dataframe\n",
    "import plotly.graph_objects as go # interactive plots\n",
    "import pytz #For timezone calculations\n",
    "import seaborn as sns                #For plotting\n",
    "import warnings\n",
    "import datetime\n",
    "\n",
    "from plotly.subplots import make_subplots\n",
    "import plotly.express as px\n",
    "import plotly.graph_objects as go"
   ]
  },
  {
   "cell_type": "code",
   "execution_count": 3,
   "id": "0f4781a0-4d30-400e-9eca-dc6f1b48691a",
   "metadata": {},
   "outputs": [],
   "source": [
    "pd.set_option('display.max_columns', None)\n",
    "pd.options.display.float_format = '{:.4f}'.format\n",
    "warnings.filterwarnings('ignore')"
   ]
  },
  {
   "cell_type": "code",
   "execution_count": 4,
   "id": "4910a1e5-5912-411f-9aca-af31465dc11a",
   "metadata": {},
   "outputs": [],
   "source": [
    "query = \"\"\"\n",
    "SELECT\n",
    "  CUSTOMER_NUMBER,\n",
    "  ENTERPRISE_ACCOUNT_NO,\n",
    "  ENTERPRISE_ACCOUNT_NAME,\n",
    "  NATIONAL_ACCOUNT,\n",
    "  PAYER,\n",
    "  DOCUMENT_DATE_IN_DOCUMENT,\n",
    "  DOCUMENT_TYPE,\n",
    "  POSTING_KEY_NAME,\n",
    "  AMOUNT_IN_LOCAL_CURRENCY,\n",
    "  CREDIT_CONTROL_AREA,\n",
    "  AR_STATUS,\n",
    "  PAYMENT_DATE,\n",
    "  CC_DAYS_TO_ADD,\n",
    "  TERMS_OF_PAYMENT_KEY  \n",
    "FROM\n",
    "  `edna-data-pr-cah.VW_CORP_GFSS_NP.VW_AR_AGING`\n",
    "WHERE\n",
    "  (DOCUMENT_TYPE IN ('ZF',\n",
    "      'VF', 'DH', 'DL', 'DZ', 'DW', 'DC'))\n",
    "    AND (\"2024-01-01\" >=PAYMENT_DATE)\n",
    "ORDER BY\n",
    "  PAYMENT_DATE\n",
    "\"\"\""
   ]
  },
  {
   "cell_type": "markdown",
   "id": "cda44399-70ff-422d-83a1-1978151001fb",
   "metadata": {},
   "source": [
    "<font color='red'>check on: WHERE\n",
    "  (DOCUMENT_TYPE IN ('ZF',\n",
    "      'VF', 'DH', 'DL', 'DZ', 'DW', 'DC'))</font> "
   ]
  },
  {
   "cell_type": "code",
   "execution_count": 23,
   "id": "f40c94cc-547d-4e16-b49a-8529f31dd112",
   "metadata": {},
   "outputs": [],
   "source": [
    "# Import the data with imputation\n",
    "bqclient = bigquery.Client()\n",
    "df = bqclient.query(query).to_dataframe()"
   ]
  },
  {
   "cell_type": "code",
   "execution_count": 24,
   "id": "65c44fb7-3634-4da8-b17f-08bd944a890a",
   "metadata": {
    "tags": []
   },
   "outputs": [
    {
     "data": {
      "text/html": [
       "<div>\n",
       "<style scoped>\n",
       "    .dataframe tbody tr th:only-of-type {\n",
       "        vertical-align: middle;\n",
       "    }\n",
       "\n",
       "    .dataframe tbody tr th {\n",
       "        vertical-align: top;\n",
       "    }\n",
       "\n",
       "    .dataframe thead th {\n",
       "        text-align: right;\n",
       "    }\n",
       "</style>\n",
       "<table border=\"1\" class=\"dataframe\">\n",
       "  <thead>\n",
       "    <tr style=\"text-align: right;\">\n",
       "      <th></th>\n",
       "      <th>CUSTOMER_NUMBER</th>\n",
       "      <th>ENTERPRISE_ACCOUNT_NO</th>\n",
       "      <th>ENTERPRISE_ACCOUNT_NAME</th>\n",
       "      <th>NATIONAL_ACCOUNT</th>\n",
       "      <th>PAYER</th>\n",
       "      <th>DOCUMENT_DATE_IN_DOCUMENT</th>\n",
       "      <th>DOCUMENT_TYPE</th>\n",
       "      <th>POSTING_KEY_NAME</th>\n",
       "      <th>AMOUNT_IN_LOCAL_CURRENCY</th>\n",
       "      <th>CREDIT_CONTROL_AREA</th>\n",
       "      <th>AR_STATUS</th>\n",
       "      <th>PAYMENT_DATE</th>\n",
       "      <th>CC_DAYS_TO_ADD</th>\n",
       "      <th>TERMS_OF_PAYMENT_KEY</th>\n",
       "    </tr>\n",
       "  </thead>\n",
       "  <tbody>\n",
       "    <tr>\n",
       "      <th>0</th>\n",
       "      <td>0010006591</td>\n",
       "      <td>7100000246</td>\n",
       "      <td>7100000246 - HCA</td>\n",
       "      <td></td>\n",
       "      <td>None</td>\n",
       "      <td>2021-01-01</td>\n",
       "      <td>DH</td>\n",
       "      <td>15 - Incoming payment</td>\n",
       "      <td>-6659.010000000</td>\n",
       "      <td>Z2140</td>\n",
       "      <td>CLEAR</td>\n",
       "      <td>2021-01-01</td>\n",
       "      <td>0E-9</td>\n",
       "      <td></td>\n",
       "    </tr>\n",
       "    <tr>\n",
       "      <th>1</th>\n",
       "      <td>0011192682</td>\n",
       "      <td>7100016051</td>\n",
       "      <td>7100016051 - HCA</td>\n",
       "      <td></td>\n",
       "      <td>None</td>\n",
       "      <td>2021-01-01</td>\n",
       "      <td>DH</td>\n",
       "      <td>15 - Incoming payment</td>\n",
       "      <td>-1968.960000000</td>\n",
       "      <td>Z2140</td>\n",
       "      <td>CLEAR</td>\n",
       "      <td>2021-01-01</td>\n",
       "      <td>0E-9</td>\n",
       "      <td></td>\n",
       "    </tr>\n",
       "    <tr>\n",
       "      <th>2</th>\n",
       "      <td>0011193471</td>\n",
       "      <td>7100016051</td>\n",
       "      <td>7100016051 - HCA</td>\n",
       "      <td></td>\n",
       "      <td>None</td>\n",
       "      <td>2021-01-01</td>\n",
       "      <td>DH</td>\n",
       "      <td>15 - Incoming payment</td>\n",
       "      <td>-1480.770000000</td>\n",
       "      <td>Z2140</td>\n",
       "      <td>CLEAR</td>\n",
       "      <td>2021-01-01</td>\n",
       "      <td>0E-9</td>\n",
       "      <td></td>\n",
       "    </tr>\n",
       "    <tr>\n",
       "      <th>3</th>\n",
       "      <td>0010021326</td>\n",
       "      <td>7100000246</td>\n",
       "      <td>7100000246 - HCA</td>\n",
       "      <td></td>\n",
       "      <td>None</td>\n",
       "      <td>2021-01-01</td>\n",
       "      <td>DH</td>\n",
       "      <td>15 - Incoming payment</td>\n",
       "      <td>-5726.100000000</td>\n",
       "      <td>Z2140</td>\n",
       "      <td>CLEAR</td>\n",
       "      <td>2021-01-01</td>\n",
       "      <td>0E-9</td>\n",
       "      <td></td>\n",
       "    </tr>\n",
       "    <tr>\n",
       "      <th>4</th>\n",
       "      <td>0011118939</td>\n",
       "      <td>7100000246</td>\n",
       "      <td>7100000246 - HCA</td>\n",
       "      <td></td>\n",
       "      <td>None</td>\n",
       "      <td>2021-01-01</td>\n",
       "      <td>DH</td>\n",
       "      <td>15 - Incoming payment</td>\n",
       "      <td>-102.790000000</td>\n",
       "      <td>Z2140</td>\n",
       "      <td>CLEAR</td>\n",
       "      <td>2021-01-01</td>\n",
       "      <td>0E-9</td>\n",
       "      <td></td>\n",
       "    </tr>\n",
       "    <tr>\n",
       "      <th>...</th>\n",
       "      <td>...</td>\n",
       "      <td>...</td>\n",
       "      <td>...</td>\n",
       "      <td>...</td>\n",
       "      <td>...</td>\n",
       "      <td>...</td>\n",
       "      <td>...</td>\n",
       "      <td>...</td>\n",
       "      <td>...</td>\n",
       "      <td>...</td>\n",
       "      <td>...</td>\n",
       "      <td>...</td>\n",
       "      <td>...</td>\n",
       "      <td>...</td>\n",
       "    </tr>\n",
       "    <tr>\n",
       "      <th>2260519</th>\n",
       "      <td>0011139510</td>\n",
       "      <td>7100000255</td>\n",
       "      <td>7100000255 - ADVENTIST HEALTH</td>\n",
       "      <td></td>\n",
       "      <td>None</td>\n",
       "      <td>2022-02-15</td>\n",
       "      <td>DH</td>\n",
       "      <td>16 - Payment difference</td>\n",
       "      <td>-244.790000000</td>\n",
       "      <td>Z2140</td>\n",
       "      <td>CLEAR</td>\n",
       "      <td>2023-12-22</td>\n",
       "      <td>0E-9</td>\n",
       "      <td></td>\n",
       "    </tr>\n",
       "    <tr>\n",
       "      <th>2260520</th>\n",
       "      <td>0011139510</td>\n",
       "      <td>7100000255</td>\n",
       "      <td>7100000255 - ADVENTIST HEALTH</td>\n",
       "      <td></td>\n",
       "      <td>None</td>\n",
       "      <td>2021-12-21</td>\n",
       "      <td>DH</td>\n",
       "      <td>16 - Payment difference</td>\n",
       "      <td>-246.170000000</td>\n",
       "      <td>Z2140</td>\n",
       "      <td>CLEAR</td>\n",
       "      <td>2023-12-22</td>\n",
       "      <td>0E-9</td>\n",
       "      <td></td>\n",
       "    </tr>\n",
       "    <tr>\n",
       "      <th>2260521</th>\n",
       "      <td>0011139510</td>\n",
       "      <td>7100000255</td>\n",
       "      <td>7100000255 - ADVENTIST HEALTH</td>\n",
       "      <td></td>\n",
       "      <td>None</td>\n",
       "      <td>2021-03-25</td>\n",
       "      <td>DH</td>\n",
       "      <td>16 - Payment difference</td>\n",
       "      <td>-31.430000000</td>\n",
       "      <td>Z2140</td>\n",
       "      <td>CLEAR</td>\n",
       "      <td>2023-12-22</td>\n",
       "      <td>0E-9</td>\n",
       "      <td></td>\n",
       "    </tr>\n",
       "    <tr>\n",
       "      <th>2260522</th>\n",
       "      <td>0011139510</td>\n",
       "      <td>7100000255</td>\n",
       "      <td>7100000255 - ADVENTIST HEALTH</td>\n",
       "      <td></td>\n",
       "      <td>None</td>\n",
       "      <td>2022-02-08</td>\n",
       "      <td>DH</td>\n",
       "      <td>16 - Payment difference</td>\n",
       "      <td>-995.430000000</td>\n",
       "      <td>Z2140</td>\n",
       "      <td>CLEAR</td>\n",
       "      <td>2023-12-22</td>\n",
       "      <td>0E-9</td>\n",
       "      <td></td>\n",
       "    </tr>\n",
       "    <tr>\n",
       "      <th>2260523</th>\n",
       "      <td>0011139510</td>\n",
       "      <td>7100000255</td>\n",
       "      <td>7100000255 - ADVENTIST HEALTH</td>\n",
       "      <td></td>\n",
       "      <td>None</td>\n",
       "      <td>2022-01-25</td>\n",
       "      <td>DH</td>\n",
       "      <td>16 - Payment difference</td>\n",
       "      <td>-195.980000000</td>\n",
       "      <td>Z2140</td>\n",
       "      <td>CLEAR</td>\n",
       "      <td>2023-12-22</td>\n",
       "      <td>0E-9</td>\n",
       "      <td></td>\n",
       "    </tr>\n",
       "  </tbody>\n",
       "</table>\n",
       "<p>2260524 rows × 14 columns</p>\n",
       "</div>"
      ],
      "text/plain": [
       "        CUSTOMER_NUMBER ENTERPRISE_ACCOUNT_NO        ENTERPRISE_ACCOUNT_NAME  \\\n",
       "0            0010006591            7100000246               7100000246 - HCA   \n",
       "1            0011192682            7100016051               7100016051 - HCA   \n",
       "2            0011193471            7100016051               7100016051 - HCA   \n",
       "3            0010021326            7100000246               7100000246 - HCA   \n",
       "4            0011118939            7100000246               7100000246 - HCA   \n",
       "...                 ...                   ...                            ...   \n",
       "2260519      0011139510            7100000255  7100000255 - ADVENTIST HEALTH   \n",
       "2260520      0011139510            7100000255  7100000255 - ADVENTIST HEALTH   \n",
       "2260521      0011139510            7100000255  7100000255 - ADVENTIST HEALTH   \n",
       "2260522      0011139510            7100000255  7100000255 - ADVENTIST HEALTH   \n",
       "2260523      0011139510            7100000255  7100000255 - ADVENTIST HEALTH   \n",
       "\n",
       "        NATIONAL_ACCOUNT PAYER DOCUMENT_DATE_IN_DOCUMENT DOCUMENT_TYPE  \\\n",
       "0                         None                2021-01-01            DH   \n",
       "1                         None                2021-01-01            DH   \n",
       "2                         None                2021-01-01            DH   \n",
       "3                         None                2021-01-01            DH   \n",
       "4                         None                2021-01-01            DH   \n",
       "...                  ...   ...                       ...           ...   \n",
       "2260519                   None                2022-02-15            DH   \n",
       "2260520                   None                2021-12-21            DH   \n",
       "2260521                   None                2021-03-25            DH   \n",
       "2260522                   None                2022-02-08            DH   \n",
       "2260523                   None                2022-01-25            DH   \n",
       "\n",
       "                POSTING_KEY_NAME AMOUNT_IN_LOCAL_CURRENCY CREDIT_CONTROL_AREA  \\\n",
       "0          15 - Incoming payment          -6659.010000000               Z2140   \n",
       "1          15 - Incoming payment          -1968.960000000               Z2140   \n",
       "2          15 - Incoming payment          -1480.770000000               Z2140   \n",
       "3          15 - Incoming payment          -5726.100000000               Z2140   \n",
       "4          15 - Incoming payment           -102.790000000               Z2140   \n",
       "...                          ...                      ...                 ...   \n",
       "2260519  16 - Payment difference           -244.790000000               Z2140   \n",
       "2260520  16 - Payment difference           -246.170000000               Z2140   \n",
       "2260521  16 - Payment difference            -31.430000000               Z2140   \n",
       "2260522  16 - Payment difference           -995.430000000               Z2140   \n",
       "2260523  16 - Payment difference           -195.980000000               Z2140   \n",
       "\n",
       "        AR_STATUS PAYMENT_DATE CC_DAYS_TO_ADD TERMS_OF_PAYMENT_KEY  \n",
       "0           CLEAR   2021-01-01           0E-9                       \n",
       "1           CLEAR   2021-01-01           0E-9                       \n",
       "2           CLEAR   2021-01-01           0E-9                       \n",
       "3           CLEAR   2021-01-01           0E-9                       \n",
       "4           CLEAR   2021-01-01           0E-9                       \n",
       "...           ...          ...            ...                  ...  \n",
       "2260519     CLEAR   2023-12-22           0E-9                       \n",
       "2260520     CLEAR   2023-12-22           0E-9                       \n",
       "2260521     CLEAR   2023-12-22           0E-9                       \n",
       "2260522     CLEAR   2023-12-22           0E-9                       \n",
       "2260523     CLEAR   2023-12-22           0E-9                       \n",
       "\n",
       "[2260524 rows x 14 columns]"
      ]
     },
     "execution_count": 24,
     "metadata": {},
     "output_type": "execute_result"
    }
   ],
   "source": [
    "df"
   ]
  },
  {
   "cell_type": "code",
   "execution_count": 7,
   "id": "0843619b-913d-4c0f-b76f-830ce34dcc1a",
   "metadata": {},
   "outputs": [],
   "source": [
    "df=df.query('POSTING_KEY_NAME == \"01 - Invoice\" & AR_STATUS == \"CLEAR\"')\n",
    "df['CC_DAYS_TO_ADD']=df['CC_DAYS_TO_ADD'].apply(lambda x: float(x))\n",
    "df['AMOUNT_IN_LOCAL_CURRENCY']=df['AMOUNT_IN_LOCAL_CURRENCY'].apply(lambda x: float(x))\n",
    "# df.reset_index(inplace = True)\n"
   ]
  },
  {
   "cell_type": "code",
   "execution_count": 8,
   "id": "a8949bfd-c23f-4db9-a44c-8c06ad218631",
   "metadata": {
    "tags": []
   },
   "outputs": [],
   "source": [
    "def calc_WAPD(df_1):\n",
    "    df_1['PAYMENT_DATE']=pd.to_datetime(df_1['PAYMENT_DATE'])\n",
    "    df_1['DOCUMENT_DATE_IN_DOCUMENT']=pd.to_datetime(df_1['DOCUMENT_DATE_IN_DOCUMENT'])\n",
    "    temp_dso = \"\"\n",
    "    WAPD_new = pd.Series([])\n",
    "    for index, row in df_1.iterrows():\n",
    "        start_date= row['PAYMENT_DATE']\n",
    "        end_date = row['90_days_ago']\n",
    "        temp_dso = row['TERMS_OF_PAYMENT_KEY']\n",
    "        try:\n",
    "            ninety_day_range = df_1.query('@start_date >= PAYMENT_DATE   >= @end_date and TERMS_OF_PAYMENT_KEY == @temp_dso ')\n",
    "            WAPD= ninety_day_range['Weighted Invoice Value'].sum() / ninety_day_range['AMOUNT_IN_LOCAL_CURRENCY'].sum()\n",
    "            WAPD_new[index]=WAPD\n",
    "        except:\n",
    "            print('no PAYMENT_DATE')\n",
    "            WAPD_new[index]=0\n",
    "    df_1.insert(16, \"WAPD\", WAPD_new)\n",
    "    return df_1"
   ]
  },
  {
   "cell_type": "code",
   "execution_count": 9,
   "id": "843a8b35-d4e3-4a64-8117-ec4b1df6e420",
   "metadata": {
    "tags": []
   },
   "outputs": [],
   "source": [
    "def search_customer(CUSTOMER_NUMBER):\n",
    "    CUSTOMER_df=df.query('CUSTOMER_NUMBER == @CUSTOMER_NUMBER')\n",
    "    \n",
    "    CUSTOMER_df.reset_index(inplace = True)\n",
    "    # print(CUSTOMER_df)\n",
    "    CUSTOMER_df['AMOUNT_IN_LOCAL_CURRENCY']=CUSTOMER_df['AMOUNT_IN_LOCAL_CURRENCY'].apply(lambda x: float(x))\n",
    "#     Sub Payment Date from Invoice Date\n",
    "    CUSTOMER_df['Sub Payment Date from Invoice Date']=(CUSTOMER_df['PAYMENT_DATE']-CUSTOMER_df['DOCUMENT_DATE_IN_DOCUMENT']).dt.days\n",
    "#     Weighted Invoice Value\n",
    "    CUSTOMER_df['Weighted Invoice Value']= CUSTOMER_df['Sub Payment Date from Invoice Date']*CUSTOMER_df['AMOUNT_IN_LOCAL_CURRENCY']\n",
    "# WAPD\n",
    "    import datetime\n",
    "    current = pd.to_datetime(CUSTOMER_df['PAYMENT_DATE'])\n",
    "    CUSTOMER_df['90_days_ago']= current - pd.to_timedelta('90 days')\n",
    "    # CUSTOMER_df = calc_WAPD(CUSTOMER_df)\n",
    "    # CUSTOMER_df = final_dataFram(CUSTOMER_df)\n",
    "    return CUSTOMER_df"
   ]
  },
  {
   "cell_type": "code",
   "execution_count": 10,
   "id": "25fda3ea-64c0-43ab-88fd-24bd732a12d1",
   "metadata": {
    "jupyter": {
     "source_hidden": true
    },
    "tags": []
   },
   "outputs": [],
   "source": [
    "# Returns a tuple of DataFrames sorted by DSO term\n",
    "\n",
    "def get_terms(ENTERPRISE_ACCOUNT_NO):\n",
    "    return_list = []\n",
    "    \n",
    "    terms_df=df.query('ENTERPRISE_ACCOUNT_NO == @ENTERPRISE_ACCOUNT_NO')\n",
    "    \n",
    "    # terms_df.reset_index(inplace = True)\n",
    "    terms_list = terms_df['CC_DAYS_TO_ADD'].unique()\n",
    "    print(terms_list)\n",
    "    \n",
    "    # for dso_term in terms_list:\n",
    "    #     name = str(dso_term)+\"_term\"\n",
    "    #     name = terms_df.query('CC_DAYS_TO_ADD ==@dso_term')\n",
    "    #     return_list.append(name)\n",
    "    \n",
    "    return None\n",
    " \n",
    "\n"
   ]
  },
  {
   "cell_type": "code",
   "execution_count": 11,
   "id": "db16e6c4-b062-4f3e-a4cd-f5aa8120c4c0",
   "metadata": {
    "jupyter": {
     "source_hidden": true
    },
    "tags": []
   },
   "outputs": [],
   "source": [
    "def search_EAN(term,EAN):\n",
    "    print(term)\n",
    "    CUSTOMER_df=df.query('ENTERPRISE_ACCOUNT_NO == @EAN')\n",
    "    print(\"Before\\n\",CUSTOMER_df)\n",
    "    CUSTOMER_df=CUSTOMER_df.query('CC_DAYS_TO_ADD == @term')\n",
    "    print(\"AFTER\\n\",CUSTOMER_df)\n",
    "    CUSTOMER_df.reset_index(inplace = True)\n",
    "   \n",
    "    # CUSTOMER_df['AMOUNT_IN_LOCAL_CURRENCY']=CUSTOMER_df['AMOUNT_IN_LOCAL_CURRENCY'].apply(lambda x: float(x))\n",
    "#     Sub Payment Date from Invoice Date\n",
    "    \n",
    "    CUSTOMER_df['Sub Payment Date from Invoice Date']=(CUSTOMER_df['PAYMENT_DATE']-CUSTOMER_df['DOCUMENT_DATE_IN_DOCUMENT']).dt.days\n",
    "#     Weighted Invoice Value\n",
    "    CUSTOMER_df['Weighted Invoice Value']= CUSTOMER_df['Sub Payment Date from Invoice Date']*CUSTOMER_df['AMOUNT_IN_LOCAL_CURRENCY']\n",
    "# WAPD\n",
    "    import datetime\n",
    "    current = pd.to_datetime(CUSTOMER_df['PAYMENT_DATE'])\n",
    "    CUSTOMER_df['90_days_ago']= current - pd.to_timedelta('90 days')\n",
    "    CUSTOMER_df = calc_WAPD(CUSTOMER_df)\n",
    "    \n",
    "    \n",
    "    \n",
    "    return CUSTOMER_df"
   ]
  },
  {
   "cell_type": "code",
   "execution_count": 12,
   "id": "a546ece6-1829-4cda-8d6c-7b08dfe0d46e",
   "metadata": {
    "tags": []
   },
   "outputs": [],
   "source": [
    "def final_dataFram(toFix_df):\n",
    "    toFix_df['month'] = toFix_df['PAYMENT_DATE'].dt.strftime('%b')\n",
    "    df_final = pd.DataFrame({'Year': toFix_df.PAYMENT_DATE.dt.year,\n",
    "                   'Month': toFix_df.month,\n",
    "                   'CREDIT_CONTROL_AREA': toFix_df.CREDIT_CONTROL_AREA,\n",
    "                   'WAPD':toFix_df.WAPD,\n",
    "                \n",
    "                    \"CC_DAYS_TO_ADD\":toFix_df.CC_DAYS_TO_ADD})\n",
    "    dfff = (\n",
    "        df_final\n",
    "        .filter([\"Year\", \"Month\",\"CREDIT_CONTROL_AREA\",\"WAPD\",\"CC_DAYS_TO_ADD\"])\n",
    "        .groupby(['Year','Month','CREDIT_CONTROL_AREA',\"CC_DAYS_TO_ADD\"])\n",
    "        .agg({'WAPD' : ['mean']})\n",
    "        .sort_values(['Year',\"Month\",\"CC_DAYS_TO_ADD\"])\n",
    "        .reset_index()\n",
    "    )\n",
    "    dfff.columns = ['Year','Month', 'CREDIT_CONTROL_AREA','CC_DAYS_TO_ADD',\"WAPD\"]\n",
    "    get_graph(dfff)\n",
    "    return dfff\n",
    "    "
   ]
  },
  {
   "cell_type": "code",
   "execution_count": 13,
   "id": "f58db648-fbec-41e9-99b9-e5197f2f4c19",
   "metadata": {
    "tags": []
   },
   "outputs": [],
   "source": [
    "def get_graph(finished_df):\n",
    "    dff = pd.DataFrame(\n",
    "        dict(\n",
    "            year=finished_df.Year.values ,\n",
    "            month=finished_df.Month.values,\n",
    "            CCA= finished_df.CREDIT_CONTROL_AREA.values,\n",
    "            WAPD=finished_df.WAPD.values,\n",
    "            dso_term = finished_df.CC_DAYS_TO_ADD.values\n",
    "        )\n",
    "    )\n",
    "\n",
    "    fig = go.Figure()\n",
    "    # fig = make_subplots(1,1)\n",
    "\n",
    "    fig.update_layout(\n",
    "        template=\"none\",\n",
    "        xaxis=dict(title_text=\"Year\"),\n",
    "        yaxis=dict(title_text=\"WAPD\"),\n",
    "        barmode=\"group\",\n",
    "    )\n",
    "\n",
    "    colors = [\"#456e73\",\"#2A66DE\", \"#FFC32B\",\"#457353\"]\n",
    "\n",
    "    for r, c in zip(dff.CCA.unique(), colors):\n",
    "        plot_df = dff[dff.CCA == r]\n",
    "        fig.add_trace(go.Bar(x=[plot_df.year, plot_df.month], y=plot_df.WAPD, name=r, marker_color=c))\n",
    "\n",
    "\n",
    "    fig.add_trace(go.Scatter(x= [dff.year, dff.month], y=dff.dso_term, mode = 'lines',name = \"DSO Term\"))\n",
    "\n",
    "\n",
    "    # fig.plot(fi.CC_DAYS_TO_ADD, c = \"y\", label = \"DSO Term\",zorder=10)\n",
    "    # print(dff)\n",
    "    fig.update_layout(title='WAPD')\n",
    "    fig.show()"
   ]
  },
  {
   "cell_type": "markdown",
   "id": "4738cf66-a9d3-43bb-93f3-898faa50ec71",
   "metadata": {
    "tags": []
   },
   "source": [
    "# **********************************************************************************************************"
   ]
  },
  {
   "cell_type": "markdown",
   "id": "2a399b1d-0ef2-4692-9bc6-04f43c92ee5b",
   "metadata": {},
   "source": [
    "# Visualization"
   ]
  },
  {
   "cell_type": "markdown",
   "id": "6c411fd8-6c27-44d1-bca2-19c557dc247a",
   "metadata": {},
   "source": [
    "## Customer"
   ]
  },
  {
   "cell_type": "code",
   "execution_count": 25,
   "id": "fba66e39-4106-4048-80e2-d4bdd7285c38",
   "metadata": {},
   "outputs": [],
   "source": [
    "customer = \"2057208375\"\n",
    "t = search_customer(customer)"
   ]
  },
  {
   "cell_type": "code",
   "execution_count": 26,
   "id": "8c33b449-e6cc-4586-aee7-9e167f03f077",
   "metadata": {},
   "outputs": [
    {
     "data": {
      "text/html": [
       "<div>\n",
       "<style scoped>\n",
       "    .dataframe tbody tr th:only-of-type {\n",
       "        vertical-align: middle;\n",
       "    }\n",
       "\n",
       "    .dataframe tbody tr th {\n",
       "        vertical-align: top;\n",
       "    }\n",
       "\n",
       "    .dataframe thead th {\n",
       "        text-align: right;\n",
       "    }\n",
       "</style>\n",
       "<table border=\"1\" class=\"dataframe\">\n",
       "  <thead>\n",
       "    <tr style=\"text-align: right;\">\n",
       "      <th></th>\n",
       "      <th>index</th>\n",
       "      <th>CUSTOMER_NUMBER</th>\n",
       "      <th>ENTERPRISE_ACCOUNT_NO</th>\n",
       "      <th>ENTERPRISE_ACCOUNT_NAME</th>\n",
       "      <th>NATIONAL_ACCOUNT</th>\n",
       "      <th>PAYER</th>\n",
       "      <th>DOCUMENT_DATE_IN_DOCUMENT</th>\n",
       "      <th>DOCUMENT_TYPE</th>\n",
       "      <th>POSTING_KEY_NAME</th>\n",
       "      <th>AMOUNT_IN_LOCAL_CURRENCY</th>\n",
       "      <th>CREDIT_CONTROL_AREA</th>\n",
       "      <th>AR_STATUS</th>\n",
       "      <th>PAYMENT_DATE</th>\n",
       "      <th>CC_DAYS_TO_ADD</th>\n",
       "      <th>TERMS_OF_PAYMENT_KEY</th>\n",
       "      <th>Sub Payment Date from Invoice Date</th>\n",
       "      <th>Weighted Invoice Value</th>\n",
       "      <th>90_days_ago</th>\n",
       "    </tr>\n",
       "  </thead>\n",
       "  <tbody>\n",
       "  </tbody>\n",
       "</table>\n",
       "</div>"
      ],
      "text/plain": [
       "Empty DataFrame\n",
       "Columns: [index, CUSTOMER_NUMBER, ENTERPRISE_ACCOUNT_NO, ENTERPRISE_ACCOUNT_NAME, NATIONAL_ACCOUNT, PAYER, DOCUMENT_DATE_IN_DOCUMENT, DOCUMENT_TYPE, POSTING_KEY_NAME, AMOUNT_IN_LOCAL_CURRENCY, CREDIT_CONTROL_AREA, AR_STATUS, PAYMENT_DATE, CC_DAYS_TO_ADD, TERMS_OF_PAYMENT_KEY, Sub Payment Date from Invoice Date, Weighted Invoice Value, 90_days_ago]\n",
       "Index: []"
      ]
     },
     "execution_count": 26,
     "metadata": {},
     "output_type": "execute_result"
    }
   ],
   "source": [
    "t"
   ]
  },
  {
   "cell_type": "code",
   "execution_count": 16,
   "id": "40bdfc14-4e89-4230-bfb9-596f7e49aca6",
   "metadata": {},
   "outputs": [],
   "source": [
    "customer = \"2057200915\"\n",
    "t = search_customer(customer)"
   ]
  },
  {
   "cell_type": "code",
   "execution_count": 17,
   "id": "4799ed16-4197-493f-a43e-81c011e79416",
   "metadata": {
    "tags": []
   },
   "outputs": [],
   "source": [
    "customer = \"2057194397\"\n",
    "t = search_customer(customer)"
   ]
  },
  {
   "cell_type": "code",
   "execution_count": 18,
   "id": "a6d3f779-90cd-4d00-93b2-0d1554cc23a2",
   "metadata": {
    "tags": []
   },
   "outputs": [
    {
     "data": {
      "text/html": [
       "<div>\n",
       "<style scoped>\n",
       "    .dataframe tbody tr th:only-of-type {\n",
       "        vertical-align: middle;\n",
       "    }\n",
       "\n",
       "    .dataframe tbody tr th {\n",
       "        vertical-align: top;\n",
       "    }\n",
       "\n",
       "    .dataframe thead th {\n",
       "        text-align: right;\n",
       "    }\n",
       "</style>\n",
       "<table border=\"1\" class=\"dataframe\">\n",
       "  <thead>\n",
       "    <tr style=\"text-align: right;\">\n",
       "      <th></th>\n",
       "      <th>index</th>\n",
       "      <th>CUSTOMER_NUMBER</th>\n",
       "      <th>ENTERPRISE_ACCOUNT_NO</th>\n",
       "      <th>ENTERPRISE_ACCOUNT_NAME</th>\n",
       "      <th>NATIONAL_ACCOUNT</th>\n",
       "      <th>PAYER</th>\n",
       "      <th>DOCUMENT_DATE_IN_DOCUMENT</th>\n",
       "      <th>DOCUMENT_TYPE</th>\n",
       "      <th>POSTING_KEY_NAME</th>\n",
       "      <th>AMOUNT_IN_LOCAL_CURRENCY</th>\n",
       "      <th>CREDIT_CONTROL_AREA</th>\n",
       "      <th>AR_STATUS</th>\n",
       "      <th>PAYMENT_DATE</th>\n",
       "      <th>CC_DAYS_TO_ADD</th>\n",
       "      <th>TERMS_OF_PAYMENT_KEY</th>\n",
       "      <th>Sub Payment Date from Invoice Date</th>\n",
       "      <th>Weighted Invoice Value</th>\n",
       "      <th>90_days_ago</th>\n",
       "    </tr>\n",
       "  </thead>\n",
       "  <tbody>\n",
       "  </tbody>\n",
       "</table>\n",
       "</div>"
      ],
      "text/plain": [
       "Empty DataFrame\n",
       "Columns: [index, CUSTOMER_NUMBER, ENTERPRISE_ACCOUNT_NO, ENTERPRISE_ACCOUNT_NAME, NATIONAL_ACCOUNT, PAYER, DOCUMENT_DATE_IN_DOCUMENT, DOCUMENT_TYPE, POSTING_KEY_NAME, AMOUNT_IN_LOCAL_CURRENCY, CREDIT_CONTROL_AREA, AR_STATUS, PAYMENT_DATE, CC_DAYS_TO_ADD, TERMS_OF_PAYMENT_KEY, Sub Payment Date from Invoice Date, Weighted Invoice Value, 90_days_ago]\n",
       "Index: []"
      ]
     },
     "execution_count": 18,
     "metadata": {},
     "output_type": "execute_result"
    }
   ],
   "source": [
    "t"
   ]
  },
  {
   "cell_type": "code",
   "execution_count": 19,
   "id": "dfc2693c-0301-4ce6-be10-168c922af954",
   "metadata": {},
   "outputs": [],
   "source": [
    "customer = \"2057194397\"\n",
    "t = search_customer(customer)"
   ]
  },
  {
   "cell_type": "code",
   "execution_count": 20,
   "id": "94f8736a-a8d4-478e-83bd-a446f05d1d6b",
   "metadata": {},
   "outputs": [
    {
     "data": {
      "text/plain": [
       "nan"
      ]
     },
     "execution_count": 20,
     "metadata": {},
     "output_type": "execute_result"
    }
   ],
   "source": [
    "t.AMOUNT_IN_LOCAL_CURRENCY.min()"
   ]
  },
  {
   "cell_type": "code",
   "execution_count": 21,
   "id": "2c61872c-a862-449a-8644-d99e91bbbf6d",
   "metadata": {},
   "outputs": [
    {
     "ename": "ZeroDivisionError",
     "evalue": "division by zero",
     "output_type": "error",
     "traceback": [
      "\u001b[0;31m---------------------------------------------------------------------------\u001b[0m",
      "\u001b[0;31mZeroDivisionError\u001b[0m                         Traceback (most recent call last)",
      "\u001b[0;32m/var/tmp/ipykernel_16144/2038027053.py\u001b[0m in \u001b[0;36m<module>\u001b[0;34m\u001b[0m\n\u001b[0;32m----> 1\u001b[0;31m \u001b[0mt\u001b[0m\u001b[0;34m[\u001b[0m\u001b[0;34m'Weighted Invoice Value'\u001b[0m\u001b[0;34m]\u001b[0m\u001b[0;34m.\u001b[0m\u001b[0msum\u001b[0m\u001b[0;34m(\u001b[0m\u001b[0;34m)\u001b[0m \u001b[0;34m/\u001b[0m \u001b[0mt\u001b[0m\u001b[0;34m[\u001b[0m\u001b[0;34m'AMOUNT_IN_LOCAL_CURRENCY'\u001b[0m\u001b[0;34m]\u001b[0m\u001b[0;34m.\u001b[0m\u001b[0msum\u001b[0m\u001b[0;34m(\u001b[0m\u001b[0;34m)\u001b[0m\u001b[0;34m\u001b[0m\u001b[0;34m\u001b[0m\u001b[0m\n\u001b[0m",
      "\u001b[0;31mZeroDivisionError\u001b[0m: division by zero"
     ]
    }
   ],
   "source": [
    "t['Weighted Invoice Value'].sum() / t['AMOUNT_IN_LOCAL_CURRENCY'].sum()"
   ]
  },
  {
   "cell_type": "code",
   "execution_count": null,
   "id": "e91ec5e2-4301-4d55-8ac8-545c020b816b",
   "metadata": {},
   "outputs": [],
   "source": [
    "t.WAPD.mean()"
   ]
  },
  {
   "cell_type": "markdown",
   "id": "10a6bbd6-e88a-498a-996e-dcdb5f781a1e",
   "metadata": {},
   "source": [
    "## EAN"
   ]
  },
  {
   "cell_type": "code",
   "execution_count": null,
   "id": "02895845-04f8-4d38-8145-dfd67f45988a",
   "metadata": {},
   "outputs": [],
   "source": [
    "EAN = \"7100007382\"\n",
    "get_terms(EAN)\n",
    "# DSO terms are printed below"
   ]
  },
  {
   "cell_type": "code",
   "execution_count": null,
   "id": "a26c55ef-a503-40b6-809a-a525548b8395",
   "metadata": {},
   "outputs": [],
   "source": [
    "term = 15"
   ]
  },
  {
   "cell_type": "code",
   "execution_count": null,
   "id": "d42cc68b-e007-4aeb-80cc-ee42ab75ac1a",
   "metadata": {
    "tags": []
   },
   "outputs": [],
   "source": [
    "fi=search_EAN(term,EAN)"
   ]
  },
  {
   "cell_type": "code",
   "execution_count": null,
   "id": "e9d407e5-4291-4ca8-b394-794619c84ffc",
   "metadata": {},
   "outputs": [],
   "source": [
    "final_dataFram(fi)\n"
   ]
  },
  {
   "cell_type": "markdown",
   "id": "766876bc-26b5-4089-aa0d-e6082d2b54e7",
   "metadata": {},
   "source": [
    "## National Account"
   ]
  },
  {
   "cell_type": "code",
   "execution_count": null,
   "id": "4c702a63-9d3b-4f39-9bb5-b1552d5e4b74",
   "metadata": {},
   "outputs": [],
   "source": []
  }
 ],
 "metadata": {
  "environment": {
   "kernel": "python3",
   "name": "pytorch-gpu.1-13.m108",
   "type": "gcloud",
   "uri": "gcr.io/deeplearning-platform-release/pytorch-gpu.1-13:m108"
  },
  "kernelspec": {
   "display_name": "Python 3",
   "language": "python",
   "name": "python3"
  },
  "language_info": {
   "codemirror_mode": {
    "name": "ipython",
    "version": 3
   },
   "file_extension": ".py",
   "mimetype": "text/x-python",
   "name": "python",
   "nbconvert_exporter": "python",
   "pygments_lexer": "ipython3",
   "version": "3.7.12"
  }
 },
 "nbformat": 4,
 "nbformat_minor": 5
}
