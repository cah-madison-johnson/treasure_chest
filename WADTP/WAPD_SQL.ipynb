{
 "cells": [
  {
   "cell_type": "code",
   "execution_count": null,
   "id": "c6a5d993-2ceb-4e74-b1b7-ac2b3e650fd7",
   "metadata": {},
   "outputs": [],
   "source": [
    "import datetime as dt #For inputing any date or time information\n",
    "from datetime import timezone #For inputing timezones\n",
    "from google.cloud import bigquery          #The BigQuery API\n",
    "import matplotlib.pyplot as plt      #For plotting\n",
    "import numpy as np                         #For scientific computation\n",
    "import os                            #For work with native operating system and directories\n",
    "from pathlib import Path             #For working with file paths and directories\n",
    "import pydata_google_auth                  #For authentication against Google \n",
    "import pandas as pd                        #For data manipulation and bgq --> pandas conversion\n",
    "import pandas_gbq as pd_gbq #Import BigQuery data to create a pandas dataframe\n",
    "import plotly.graph_objects as go # interactive plots\n",
    "import pytz #For timezone calculations\n",
    "import seaborn as sns                #For plotting\n",
    "import warnings\n",
    "import datetime"
   ]
  },
  {
   "cell_type": "code",
   "execution_count": null,
   "id": "f4cd1f74-662c-43a2-9fe4-57fb0f97c531",
   "metadata": {
    "jupyter": {
     "source_hidden": true
    },
    "tags": []
   },
   "outputs": [],
   "source": [
    "query = \"\"\"\n",
    "SELECT\n",
    "  CUSTOMER_NUMBER,\n",
    "  ENTERPRISE_ACCOUNT_NO,\n",
    "  ENTERPRISE_ACCOUNT_NAME,\n",
    "  NATIONAL_ACCOUNT,\n",
    "  PAYER,\n",
    "  DOCUMENT_DATE_IN_DOCUMENT,\n",
    "  DOCUMENT_TYPE,\n",
    "  POSTING_KEY_NAME,\n",
    "  AMOUNT_IN_LOCAL_CURRENCY,\n",
    "  CREDIT_CONTROL_AREA,\n",
    "  AR_STATUS,\n",
    "  PAYMENT_DATE,\n",
    "  CC_DAYS_TO_ADD,\n",
    "  TERMS_OF_PAYMENT_KEY  \n",
    "FROM\n",
    "  `edna-data-pr-cah.VW_CORP_GFSS_NP.VW_AR_AGING`\n",
    "WHERE\n",
    "  (DOCUMENT_TYPE IN ('ZF',\n",
    "      'VF', 'DH', 'DL', 'DZ', 'DW', 'DC'))\n",
    "    AND (\"2024-01-01\" >=PAYMENT_DATE)\n",
    "ORDER BY\n",
    "  PAYMENT_DATE\n",
    "\"\"\""
   ]
  },
  {
   "cell_type": "code",
   "execution_count": null,
   "id": "aae07099-3e34-4b70-8d5e-cef78238d66e",
   "metadata": {
    "tags": []
   },
   "outputs": [],
   "source": [
    "# Import the data with imputation\n",
    "bqclient = bigquery.Client()\n",
    "df = bqclient.query(query).to_dataframe()"
   ]
  },
  {
   "cell_type": "code",
   "execution_count": null,
   "id": "9b6178b5-b781-4b6a-9cae-4abd432f961c",
   "metadata": {
    "tags": []
   },
   "outputs": [],
   "source": [
    "df"
   ]
  },
  {
   "cell_type": "markdown",
   "id": "47b2a312-0dde-4f2c-8463-647bbfddb143",
   "metadata": {},
   "source": [
    "# Step 1\n",
    "- ### Search by:\n",
    "    - CUSTOMER_NUMBER\n",
    "    - ENTERPRISE_ACCOUNT_NO\n",
    "    "
   ]
  },
  {
   "cell_type": "markdown",
   "id": "44778dc4-b39b-4247-8fbe-784076d39677",
   "metadata": {},
   "source": [
    "## Search by CUSTOMER_NUMBER\n",
    "customer = \"2057194397\""
   ]
  },
  {
   "cell_type": "markdown",
   "id": "39318fec-afd5-472e-b62f-c4bda0c2c6ec",
   "metadata": {},
   "source": [
    "## Final Product\n",
    "**Year Month CREDIT_CONTROL_AREA CC_DAYS_TO_ADD WAPD**\n",
    "\n",
    "0\t2022\tDec \tPD\t 28.0000\t                     30.0434\n",
    "\n",
    "1\t2022\tNov \tPD\t 28.0000\t                     29.9682\n",
    "\n",
    "2\t2022\tOct \tPD\t 28.0000  \t                 29.9637\n",
    "\n",
    "3\t2022\tSep \tPD\t 28.0000\t                     29.9744\n",
    "\n",
    "4\t2023\tApr \tPD\t 28.0000\t                     24.8993\n",
    "\n",
    "5\t2023\tAug \tPD\t 28.0000\t                     26.6483\n",
    "\n",
    "6\t2023\tFeb \tPD\t 28.0000\t                     28.5953\n",
    "\n",
    "7\t2023\tJan \tPD\t 28.0000\t                     29.7159\n",
    "\n",
    "8\t2023\tJul \tPD\t 28.0000\t                     25.0257\n",
    "\n",
    "9\t2023\tJun \tPD\t 28.0000\t                     25.7423\n",
    "\n",
    "10\t2023\tMar \tPD\t 28.0000\t                     25.1921\n",
    "\n",
    "11\t2023\tMay \tPD\t 28.0000\t                     24.3104\n",
    "\n",
    "12\t2023\tSep \tPD\t 28.0000\t                     27.9685\n"
   ]
  },
  {
   "cell_type": "markdown",
   "id": "2e51713a-9209-4afe-b916-a0eb6af6d648",
   "metadata": {},
   "source": [
    "# Step 2:\n",
    "- Create new columns\n",
    "    - Sub Payment Date from Invoice Date\n",
    "    - Weighted Invoice Value\n",
    "    - WAPD"
   ]
  },
  {
   "cell_type": "code",
   "execution_count": null,
   "id": "629faa5a-c658-407f-ab10-3b98f1e57f83",
   "metadata": {
    "scrolled": true,
    "tags": []
   },
   "outputs": [],
   "source": [
    "# FINALLLLLLLLLLLLLL AND CORRECT\n",
    "\n",
    "query = \"\"\"\n",
    "SELECT\n",
    "  customer_number,\n",
    "  --payment_month,\n",
    "  FORMAT_DATETIME('%Y', payment_month) AS Year,\n",
    "  FORMAT_DATETIME('%B', payment_month) AS Month,\n",
    "  CREDIT_CONTROL_AREA,\n",
    "  TERMS_OF_PAYMENT_KEY,\n",
    "  AVG(Three_MONTH_AVG_WAPD) AS WAPD,\n",
    "  --total_WEIGHTED_INV_VALUE,\n",
    "  --total_INVOICE_VALUE,\n",
    "  MIN(total_WEIGHTED_INV_VALUE)/MIN(total_INVOICE_VALUE) AS OVERALL_WAPD\n",
    "  \n",
    "FROM (\n",
    "  SELECT\n",
    "    Customer_Number,\n",
    "    Payment_month,\n",
    "    CREDIT_CONTROL_AREA,\n",
    "    TERMS_OF_PAYMENT_KEY,\n",
    "    SUM(SUM(weighted_Invoice_Value)) OVER(PARTITION BY CUSTOMER_NUMBER ) as total_WEIGHTED_INV_VALUE,\n",
    "    SUM(SUM(AMOUNT_IN_LOCAL_CURRENCY)) OVER(PARTITION BY CUSTOMER_NUMBER ) AS total_INVOICE_VALUE,\n",
    "\n",
    "     \n",
    "\n",
    "    CASE\n",
    "      WHEN (END_DATE BETWEEN START_DATE AND END_DATE) THEN ROUND(((SUM(weighted_Invoice_Value))/(SUM(AMOUNT_IN_LOCAL_CURRENCY))),2)\n",
    "    ELSE\n",
    "    (CAST ('0' AS int))\n",
    "  END\n",
    "    Three_MONTH_AVG_WAPD\n",
    "  FROM (\n",
    "    \n",
    "  SELECT\n",
    "    CUSTOMER_NUMBER,\n",
    "    DATE_TRUNC(PAYMENT_DATE, MONTH) AS Payment_month,\n",
    "    Payment_date AS END_DATE,\n",
    "    ENTERPRISE_ACCOUNT_NO ENTERPRISE_ACCOUNT_NAME,\n",
    "    NATIONAL_ACCOUNT,\n",
    "    PAYER,\n",
    "    DOCUMENT_DATE_IN_DOCUMENT,\n",
    "    ACCOUNTING_DOCUMENT_NUMBER,\n",
    "    ACCOUNTING_DOCUMENT_LINE_ITEM,\n",
    "    POSTING_DATE_IN_DOCUMENT,\n",
    "    DOCUMENT_TYPE,\n",
    "    DOCUMENT_YEAR,\n",
    "    DOCUMENT_MONTH,\n",
    "    POSTING_KEY_NAME,\n",
    "    AMOUNT_IN_LOCAL_CURRENCY,\n",
    "    CREDIT_CONTROL_AREA,\n",
    "    AR_STATUS,\n",
    "    PAYMENT_DATE,\n",
    "    CC_DAYS_TO_ADD,\n",
    "    TERMS_OF_PAYMENT_KEY,\n",
    "    DATE_DIFF(CAST(PAYMENT_DATE AS DATE), CAST(DOCUMENT_DATE_IN_DOCUMENT AS DATE), DAY) AS Open_Days,\n",
    "    DATE_DIFF(CAST(PAYMENT_DATE AS DATE), CAST(DOCUMENT_DATE_IN_DOCUMENT AS DATE), DAY) * AMOUNT_IN_LOCAL_CURRENCY AS weighted_Invoice_Value,\n",
    "    (CAST(PAYMENT_DATE AS DATE)-90) AS START_DATE\n",
    "  FROM\n",
    "    `edna-data-pr-cah.VW_CORP_GFSS_NP.VW_AR_AGING`\n",
    "  WHERE\n",
    "    POSTING_KEY = '01'\n",
    "    AND (\"2024-01-01\" >=PAYMENT_DATE)\n",
    "    AND CUSTOMER_NUMBER = \"2057194397\"\n",
    "    AND PAYMENT_DATE IS NOT NULL\n",
    "    AND DOCUMENT_DATE_IN_DOCUMENT IS NOT NULL\n",
    "    AND AR_STATUS = \"CLEAR\"\n",
    "  GROUP BY\n",
    "    CUSTOMER_NUMBER,\n",
    "    ENTERPRISE_ACCOUNT_NO,\n",
    "    ENTERPRISE_ACCOUNT_NAME,\n",
    "    NATIONAL_ACCOUNT,\n",
    "    PAYER,\n",
    "    DOCUMENT_DATE_IN_DOCUMENT,\n",
    "    ACCOUNTING_DOCUMENT_NUMBER,\n",
    "    ACCOUNTING_DOCUMENT_LINE_ITEM,\n",
    "    POSTING_DATE_IN_DOCUMENT,\n",
    "    DOCUMENT_TYPE,\n",
    "    POSTING_KEY_NAME,\n",
    "    AMOUNT_IN_LOCAL_CURRENCY,\n",
    "    CREDIT_CONTROL_AREA,\n",
    "    AR_STATUS,\n",
    "    PAYMENT_DATE,\n",
    "    CC_DAYS_TO_ADD,\n",
    "    DOCUMENT_YEAR,\n",
    "    DOCUMENT_MONTH,\n",
    "    TERMS_OF_PAYMENT_KEY\n",
    "  ORDER BY\n",
    "    PAYMENT_DATE)\n",
    "WHERE\n",
    "  Payment_month >= Payment_month-3\n",
    "GROUP BY\n",
    "  Customer_Number,\n",
    "  END_DATE,\n",
    "  START_DATE,\n",
    "  CREDIT_CONTROL_AREA,\n",
    "  TERMS_OF_PAYMENT_KEY,\n",
    "Payment_month  \n",
    ")\n",
    "GROUP BY\n",
    "  Payment_month,\n",
    "  customer_number,CREDIT_CONTROL_AREA,\n",
    "  TERMS_OF_PAYMENT_KEY\n",
    "ORDER BY \n",
    "Payment_month\"\"\""
   ]
  },
  {
   "cell_type": "code",
   "execution_count": null,
   "id": "778f9e54-ae93-4e84-a05b-f5389e5268ae",
   "metadata": {
    "tags": []
   },
   "outputs": [],
   "source": [
    "# FINALLLLLLLLLLLLLL AND CORRECT\n",
    "\n",
    "query = \"\"\"\n",
    "SELECT\n",
    "  customer_number,\n",
    "  --payment_month,\n",
    "  FORMAT_DATETIME('%Y', payment_month) AS Year,\n",
    "  FORMAT_DATETIME('%B', payment_month) AS Month,\n",
    "  CREDIT_CONTROL_AREA,\n",
    "  TERMS_OF_PAYMENT_KEY,\n",
    "  AVG(Three_MONTH_AVG_WAPD) AS WAPD,\n",
    "  --total_WEIGHTED_INV_VALUE,\n",
    "  --total_INVOICE_VALUE,\n",
    "  MIN(total_WEIGHTED_INV_VALUE)/MIN(total_INVOICE_VALUE) AS OVERALL_WAPD\n",
    "  \n",
    "FROM (\n",
    "  SELECT\n",
    "    Customer_Number,\n",
    "    Payment_month,\n",
    "    CREDIT_CONTROL_AREA,\n",
    "    TERMS_OF_PAYMENT_KEY,\n",
    "    SUM(SUM(weighted_Invoice_Value)) OVER(PARTITION BY CUSTOMER_NUMBER ) as total_WEIGHTED_INV_VALUE,\n",
    "    SUM(SUM(AMOUNT_IN_LOCAL_CURRENCY)) OVER(PARTITION BY CUSTOMER_NUMBER ) AS total_INVOICE_VALUE,\n",
    "\n",
    "     \n",
    "\n",
    "    CASE\n",
    "      WHEN (END_DATE BETWEEN START_DATE AND END_DATE) THEN ROUND(((SUM(weighted_Invoice_Value))/(SUM(AMOUNT_IN_LOCAL_CURRENCY))),2)\n",
    "    ELSE\n",
    "    (CAST ('0' AS int))\n",
    "  END\n",
    "    Three_MONTH_AVG_WAPD\n",
    "  FROM (\n",
    "    \n",
    "  SELECT\n",
    "    CUSTOMER_NUMBER,\n",
    "    DATE_TRUNC(PAYMENT_DATE, MONTH) AS Payment_month,\n",
    "    Payment_date AS END_DATE,\n",
    "    ENTERPRISE_ACCOUNT_NO ENTERPRISE_ACCOUNT_NAME,\n",
    "    NATIONAL_ACCOUNT,\n",
    "    PAYER,\n",
    "    DOCUMENT_DATE_IN_DOCUMENT,\n",
    "    ACCOUNTING_DOCUMENT_NUMBER,\n",
    "    ACCOUNTING_DOCUMENT_LINE_ITEM,\n",
    "    POSTING_DATE_IN_DOCUMENT,\n",
    "    DOCUMENT_TYPE,\n",
    "    DOCUMENT_YEAR,\n",
    "    DOCUMENT_MONTH,\n",
    "    POSTING_KEY_NAME,\n",
    "    AMOUNT_IN_LOCAL_CURRENCY,\n",
    "    CREDIT_CONTROL_AREA,\n",
    "    AR_STATUS,\n",
    "    PAYMENT_DATE,\n",
    "    CC_DAYS_TO_ADD,\n",
    "    TERMS_OF_PAYMENT_KEY,\n",
    "    DATE_DIFF(CAST(PAYMENT_DATE AS DATE), CAST(DOCUMENT_DATE_IN_DOCUMENT AS DATE), DAY) AS Open_Days,\n",
    "    DATE_DIFF(CAST(PAYMENT_DATE AS DATE), CAST(DOCUMENT_DATE_IN_DOCUMENT AS DATE), DAY) * AMOUNT_IN_LOCAL_CURRENCY AS weighted_Invoice_Value,\n",
    "    (CAST(PAYMENT_DATE AS DATE)-90) AS START_DATE\n",
    "  FROM\n",
    "    `edna-data-pr-cah.VW_CORP_GFSS_NP.VW_AR_AGING`\n",
    "  WHERE\n",
    "    POSTING_KEY = '01'\n",
    "    AND (\"2024-01-01\" >=PAYMENT_DATE)\n",
    "    AND (\"2021-01-01\" <=PAYMENT_DATE)\n",
    "    --AND CUSTOMER_NUMBER = \"2057194397\"\n",
    "    AND PAYMENT_DATE IS NOT NULL\n",
    "    AND DOCUMENT_DATE_IN_DOCUMENT IS NOT NULL\n",
    "    AND AR_STATUS = \"CLEAR\"\n",
    "  GROUP BY\n",
    "    CUSTOMER_NUMBER,\n",
    "    ENTERPRISE_ACCOUNT_NO,\n",
    "    ENTERPRISE_ACCOUNT_NAME,\n",
    "    NATIONAL_ACCOUNT,\n",
    "    PAYER,\n",
    "    DOCUMENT_DATE_IN_DOCUMENT,\n",
    "    ACCOUNTING_DOCUMENT_NUMBER,\n",
    "    ACCOUNTING_DOCUMENT_LINE_ITEM,\n",
    "    POSTING_DATE_IN_DOCUMENT,\n",
    "    DOCUMENT_TYPE,\n",
    "    POSTING_KEY_NAME,\n",
    "    AMOUNT_IN_LOCAL_CURRENCY,\n",
    "    CREDIT_CONTROL_AREA,\n",
    "    AR_STATUS,\n",
    "    PAYMENT_DATE,\n",
    "    CC_DAYS_TO_ADD,\n",
    "    DOCUMENT_YEAR,\n",
    "    DOCUMENT_MONTH,\n",
    "    TERMS_OF_PAYMENT_KEY\n",
    "  ORDER BY\n",
    "    PAYMENT_DATE)\n",
    "WHERE\n",
    "  Payment_month >= Payment_month-3\n",
    "GROUP BY\n",
    "  Customer_Number,\n",
    "  END_DATE,\n",
    "  START_DATE,\n",
    "  CREDIT_CONTROL_AREA,\n",
    "  TERMS_OF_PAYMENT_KEY,\n",
    "Payment_month  \n",
    ")\n",
    "GROUP BY\n",
    "  Payment_month,\n",
    "  customer_number,CREDIT_CONTROL_AREA,\n",
    "  TERMS_OF_PAYMENT_KEY\n",
    "ORDER BY \n",
    "Payment_month\"\"\""
   ]
  },
  {
   "cell_type": "code",
   "execution_count": null,
   "id": "0fc5cd6f-ce64-4c8e-90de-1091e4b2c0b1",
   "metadata": {
    "scrolled": true,
    "tags": []
   },
   "outputs": [],
   "source": [
    "bqclient = bigquery.Client()\n",
    "df_customer_Crystal= bqclient.query(query).to_dataframe()"
   ]
  },
  {
   "cell_type": "code",
   "execution_count": null,
   "id": "1dff069b-e8d3-4a79-967e-ccc0087a2821",
   "metadata": {},
   "outputs": [],
   "source": [
    "df_customer_Crystal"
   ]
  },
  {
   "cell_type": "code",
   "execution_count": null,
   "id": "bb4fc89d-4ddb-4e02-a04b-21f9af3c2113",
   "metadata": {},
   "outputs": [],
   "source": [
    "df_customer_Crystal.query('customer_number == \"2057208375\"')"
   ]
  },
  {
   "cell_type": "code",
   "execution_count": null,
   "id": "8dc3c0d8-fc0a-4bcb-86ab-43b5f9849013",
   "metadata": {},
   "outputs": [],
   "source": [
    "df_customer_Crystal.query('customer_number == \"2057200915\"')"
   ]
  },
  {
   "cell_type": "code",
   "execution_count": null,
   "id": "4bbcdbdc-03d0-4460-8ede-330c7a9a8319",
   "metadata": {},
   "outputs": [],
   "source": [
    "df_customer_Crystal.query('customer_number == \"2057200915\"')"
   ]
  },
  {
   "cell_type": "code",
   "execution_count": null,
   "id": "58a64d4c-0bf6-4b16-9a3b-948256e8a716",
   "metadata": {
    "tags": []
   },
   "outputs": [],
   "source": [
    "df_customer_Crystal=df_customer_Crystal.query('customer_number == \"2057194397\"')\n",
    "df_customer_Crystal"
   ]
  },
  {
   "cell_type": "code",
   "execution_count": null,
   "id": "07146474-f136-44b9-8ebb-758548ee5eba",
   "metadata": {
    "jupyter": {
     "source_hidden": true
    },
    "tags": []
   },
   "outputs": [],
   "source": [
    "df_customer_Crystal['Payment_Month']=pd.to_datetime(df_customer_Crystal['Payment_Month'])\n",
    "df_customer_Crystal['Payment_Month'].dt.strftime('%b')"
   ]
  },
  {
   "cell_type": "code",
   "execution_count": null,
   "id": "2198d198-8d44-4a7b-a398-3b95277a368e",
   "metadata": {
    "jupyter": {
     "source_hidden": true
    },
    "tags": []
   },
   "outputs": [],
   "source": [
    "def final_dataFram(toFix_df):\n",
    "    toFix_df['month'] = toFix_df['Payment_Month'].dt.strftime('%b')\n",
    "    toFix_df['year'] = toFix_df['Payment_Month'].dt.strftime('%Y')\n",
    "    df_final = pd.DataFrame({'Year': toFix_df.year,\n",
    "                   'Month': toFix_df.month,\n",
    "                   'CREDIT_CONTROL_AREA': toFix_df.CREDIT_CONTROL_AREA,\n",
    "                   'WAPD':toFix_df.Three_MONTH_AVG_WAPD,\n",
    "                    \"TERMS_OF_PAYMENT_KEY\":toFix_df.TERMS_OF_PAYMENT_KEY})\n",
    "    dfff = (\n",
    "        df_final\n",
    "        .filter([\"Year\", \"Month\",\"CREDIT_CONTROL_AREA\",\"WAPD\",\"TERMS_OF_PAYMENT_KEY\"])\n",
    "        .groupby(['Year','Month','CREDIT_CONTROL_AREA',\"TERMS_OF_PAYMENT_KEY\"])\n",
    "        .agg({'WAPD' : ['mean']})\n",
    "        .sort_values(['Year',\"Month\",\"TERMS_OF_PAYMENT_KEY\"])\n",
    "        .reset_index()\n",
    "    )\n",
    "    dfff.columns = ['Year','Month', 'CREDIT_CONTROL_AREA','TERMS_OF_PAYMENT_KEY',\"WAPD\"]\n",
    "    get_graph(dfff)\n",
    "    return dfff.head(65)"
   ]
  },
  {
   "cell_type": "code",
   "execution_count": null,
   "id": "53b38361-de90-493b-9cf1-fe1907fe9c50",
   "metadata": {
    "jupyter": {
     "source_hidden": true
    },
    "tags": []
   },
   "outputs": [],
   "source": [
    "def get_graph(finished_df):\n",
    "    dff = pd.DataFrame(\n",
    "        dict(\n",
    "            year=finished_df.Year.values ,\n",
    "            month=finished_df.Month.values,\n",
    "            CCA= finished_df.CREDIT_CONTROL_AREA.values,\n",
    "            WAPD=finished_df.WAPD.values,\n",
    "            dso_term = int(finished_df.TERMS_OF_PAYMENT_KEY.values[0][2:4])\n",
    "        )\n",
    "    )\n",
    "\n",
    "    fig = go.Figure()\n",
    "    # fig = make_subplots(1,1)\n",
    "\n",
    "    fig.update_layout(\n",
    "        template=\"none\",\n",
    "        xaxis=dict(title_text=\"Year\"),\n",
    "        yaxis=dict(title_text=\"WAPD\"),\n",
    "        barmode=\"group\",\n",
    "    )\n",
    "\n",
    "    colors = [\"#456e73\",\"#2A66DE\", \"#FFC32B\",\"#457353\"]\n",
    "\n",
    "    for r, c in zip(dff.CCA.unique(), colors):\n",
    "        plot_df = dff[dff.CCA == r]\n",
    "        fig.add_trace(go.Bar(x=[plot_df.year, plot_df.month], y=plot_df.WAPD, name=r, marker_color=c))\n",
    "\n",
    "\n",
    "    fig.add_trace(go.Scatter(x= [dff.year, dff.month], y=dff.dso_term, mode = 'lines',name = \"DSO Term\"))\n",
    "\n",
    "\n",
    "    # fig.plot(fi.CC_DAYS_TO_ADD, c = \"y\", label = \"DSO Term\",zorder=10)\n",
    "    fig.update_layout(title='WAPD')\n",
    "    fig.show()"
   ]
  },
  {
   "cell_type": "code",
   "execution_count": null,
   "id": "f95bd66f-7669-4ac9-bf33-dfb4247301c7",
   "metadata": {},
   "outputs": [],
   "source": [
    "get_graph(df_customer_Crystal)"
   ]
  },
  {
   "cell_type": "code",
   "execution_count": null,
   "id": "12b47ad1-2945-4bad-9a03-dd8b5fe8c907",
   "metadata": {},
   "outputs": [],
   "source": [
    "df_customer_Crystal.WAPD.mean()"
   ]
  },
  {
   "cell_type": "code",
   "execution_count": null,
   "id": "8b082562-81d6-49e2-8755-5b8945117cef",
   "metadata": {},
   "outputs": [],
   "source": []
  }
 ],
 "metadata": {
  "environment": {
   "kernel": "python3",
   "name": "pytorch-gpu.1-13.m108",
   "type": "gcloud",
   "uri": "gcr.io/deeplearning-platform-release/pytorch-gpu.1-13:m108"
  },
  "kernelspec": {
   "display_name": "Python 3",
   "language": "python",
   "name": "python3"
  },
  "language_info": {
   "codemirror_mode": {
    "name": "ipython",
    "version": 3
   },
   "file_extension": ".py",
   "mimetype": "text/x-python",
   "name": "python",
   "nbconvert_exporter": "python",
   "pygments_lexer": "ipython3",
   "version": "3.7.12"
  }
 },
 "nbformat": 4,
 "nbformat_minor": 5
}
