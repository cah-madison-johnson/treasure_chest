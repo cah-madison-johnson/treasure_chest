{
 "cells": [
  {
   "cell_type": "code",
   "execution_count": 1,
   "id": "c6a5d993-2ceb-4e74-b1b7-ac2b3e650fd7",
   "metadata": {},
   "outputs": [],
   "source": [
    "import datetime as dt #For inputing any date or time information\n",
    "from datetime import timezone #For inputing timezones\n",
    "from google.cloud import bigquery          #The BigQuery API\n",
    "import matplotlib.pyplot as plt      #For plotting\n",
    "import numpy as np                         #For scientific computation\n",
    "import os                            #For work with native operating system and directories\n",
    "from pathlib import Path             #For working with file paths and directories\n",
    "import pydata_google_auth                  #For authentication against Google \n",
    "import pandas as pd                        #For data manipulation and bgq --> pandas conversion\n",
    "import pandas_gbq as pd_gbq #Import BigQuery data to create a pandas dataframe\n",
    "import plotly.graph_objects as go # interactive plots\n",
    "import pytz #For timezone calculations\n",
    "import seaborn as sns                #For plotting\n",
    "import warnings\n",
    "import datetime"
   ]
  },
  {
   "cell_type": "code",
   "execution_count": 2,
   "id": "f4cd1f74-662c-43a2-9fe4-57fb0f97c531",
   "metadata": {},
   "outputs": [],
   "source": [
    "query = \"\"\"\n",
    "SELECT\n",
    "  CUSTOMER_NUMBER,\n",
    "  ENTERPRISE_ACCOUNT_NO,\n",
    "  ENTERPRISE_ACCOUNT_NAME,\n",
    "  NATIONAL_ACCOUNT,\n",
    "  PAYER,\n",
    "  DOCUMENT_DATE_IN_DOCUMENT,\n",
    "  DOCUMENT_TYPE,\n",
    "  POSTING_KEY_NAME,\n",
    "  AMOUNT_IN_LOCAL_CURRENCY,\n",
    "  CREDIT_CONTROL_AREA,\n",
    "  AR_STATUS,\n",
    "  PAYMENT_DATE,\n",
    "  CC_DAYS_TO_ADD,\n",
    "  TERMS_OF_PAYMENT_KEY  \n",
    "FROM\n",
    "  `edna-data-pr-cah.VW_CORP_GFSS_NP.VW_AR_AGING`\n",
    "WHERE\n",
    "  (DOCUMENT_TYPE IN ('ZF',\n",
    "      'VF', 'DH', 'DL', 'DZ', 'DW', 'DC'))\n",
    "    AND (\"2024-01-01\" >=PAYMENT_DATE)\n",
    "ORDER BY\n",
    "  PAYMENT_DATE\n",
    "\"\"\""
   ]
  },
  {
   "cell_type": "code",
   "execution_count": 3,
   "id": "aae07099-3e34-4b70-8d5e-cef78238d66e",
   "metadata": {},
   "outputs": [],
   "source": [
    "# Import the data with imputation\n",
    "bqclient = bigquery.Client()\n",
    "df = bqclient.query(query).to_dataframe()"
   ]
  },
  {
   "cell_type": "markdown",
   "id": "47b2a312-0dde-4f2c-8463-647bbfddb143",
   "metadata": {},
   "source": [
    "# Step 1\n",
    "- ### Search by:\n",
    "    - CUSTOMER_NUMBER\n",
    "    - ENTERPRISE_ACCOUNT_NO\n",
    "    "
   ]
  },
  {
   "cell_type": "markdown",
   "id": "44778dc4-b39b-4247-8fbe-784076d39677",
   "metadata": {},
   "source": [
    "## Search by EAN\n",
    "EAN = \"7100007382\""
   ]
  },
  {
   "cell_type": "code",
   "execution_count": null,
   "id": "918be232-e9e4-4242-8ccd-5f2566e276fa",
   "metadata": {},
   "outputs": [],
   "source": []
  }
 ],
 "metadata": {
  "environment": {
   "kernel": "python3",
   "name": "pytorch-gpu.1-13.m108",
   "type": "gcloud",
   "uri": "gcr.io/deeplearning-platform-release/pytorch-gpu.1-13:m108"
  },
  "kernelspec": {
   "display_name": "Python 3",
   "language": "python",
   "name": "python3"
  },
  "language_info": {
   "codemirror_mode": {
    "name": "ipython",
    "version": 3
   },
   "file_extension": ".py",
   "mimetype": "text/x-python",
   "name": "python",
   "nbconvert_exporter": "python",
   "pygments_lexer": "ipython3",
   "version": "3.7.12"
  }
 },
 "nbformat": 4,
 "nbformat_minor": 5
}
