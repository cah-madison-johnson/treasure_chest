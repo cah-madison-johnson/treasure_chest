{
 "cells": [
  {
   "cell_type": "code",
   "execution_count": 1,
   "id": "c2d4e05d-fc05-466a-a5df-dae854b27c0f",
   "metadata": {},
   "outputs": [],
   "source": [
    "# Display settings\n",
    "## Auto reload modules & inline plots\n",
    "%reload_ext autoreload\n",
    "%autoreload 2\n",
    "%matplotlib inline"
   ]
  },
  {
   "cell_type": "code",
   "execution_count": 2,
   "id": "6d5bc12e-1427-448d-bfc2-ea97baae66a0",
   "metadata": {},
   "outputs": [],
   "source": [
    "import datetime as dt #For inputing any date or time information\n",
    "from datetime import timezone #For inputing timezones\n",
    "from google.cloud import bigquery          #The BigQuery API\n",
    "import matplotlib.pyplot as plt      #For plotting\n",
    "import numpy as np                         #For scientific computation\n",
    "import os                            #For work with native operating system and directories\n",
    "from pathlib import Path             #For working with file paths and directories\n",
    "import pydata_google_auth                  #For authentication against Google \n",
    "import pandas as pd                        #For data manipulation and bgq --> pandas conversion\n",
    "import pandas_gbq as pd_gbq #Import BigQuery data to create a pandas dataframe\n",
    "import plotly.graph_objects as go # interactive plots\n",
    "import pytz #For timezone calculations\n",
    "import seaborn as sns                #For plotting\n",
    "import warnings\n",
    "import datetime"
   ]
  },
  {
   "cell_type": "code",
   "execution_count": 3,
   "id": "0f4781a0-4d30-400e-9eca-dc6f1b48691a",
   "metadata": {},
   "outputs": [],
   "source": [
    "pd.set_option('display.max_columns', None)\n",
    "pd.options.display.float_format = '{:.4f}'.format\n",
    "warnings.filterwarnings('ignore')"
   ]
  },
  {
   "cell_type": "code",
   "execution_count": 4,
   "id": "4910a1e5-5912-411f-9aca-af31465dc11a",
   "metadata": {},
   "outputs": [],
   "source": [
    "query = \"\"\"\n",
    "SELECT\n",
    "  CUSTOMER_NUMBER,\n",
    "  ENTERPRISE_ACCOUNT_NO,\n",
    "  ENTERPRISE_ACCOUNT_NAME,\n",
    "  NATIONAL_ACCOUNT,\n",
    "  PAYER,\n",
    "  DOCUMENT_DATE_IN_DOCUMENT,\n",
    "  DOCUMENT_TYPE,\n",
    "  POSTING_KEY_NAME,\n",
    "  AMOUNT_IN_LOCAL_CURRENCY,\n",
    "  CREDIT_CONTROL_AREA,\n",
    "  AR_STATUS,\n",
    "  PAYMENT_DATE,\n",
    "  CC_DAYS_TO_ADD\n",
    "  \n",
    "FROM\n",
    "  `edna-data-pr-cah.VW_CORP_GFSS_NP.VW_AR_AGING`\n",
    "WHERE\n",
    "  (DOCUMENT_TYPE IN ('ZF',\n",
    "      'VF', 'DH', 'DL', 'DZ', 'DW', 'DC'))\n",
    "    AND (\"2024-01-01\" >=PAYMENT_DATE)\n",
    "ORDER BY\n",
    "  PAYMENT_DATE\n",
    "\"\"\""
   ]
  },
  {
   "cell_type": "markdown",
   "id": "cda44399-70ff-422d-83a1-1978151001fb",
   "metadata": {},
   "source": [
    "<font color='red'>check on: WHERE\n",
    "  (DOCUMENT_TYPE IN ('ZF',\n",
    "      'VF', 'DH', 'DL', 'DZ', 'DW', 'DC'))</font> "
   ]
  },
  {
   "cell_type": "code",
   "execution_count": 5,
   "id": "f40c94cc-547d-4e16-b49a-8529f31dd112",
   "metadata": {},
   "outputs": [],
   "source": [
    "# Import the data with imputation\n",
    "bqclient = bigquery.Client()\n",
    "df = bqclient.query(query).to_dataframe()"
   ]
  },
  {
   "cell_type": "code",
   "execution_count": 6,
   "id": "65c44fb7-3634-4da8-b17f-08bd944a890a",
   "metadata": {
    "tags": []
   },
   "outputs": [
    {
     "name": "stdout",
     "output_type": "stream",
     "text": [
      "<class 'pandas.core.frame.DataFrame'>\n",
      "RangeIndex: 49611105 entries, 0 to 49611104\n",
      "Data columns (total 13 columns):\n",
      " #   Column                     Dtype \n",
      "---  ------                     ----- \n",
      " 0   CUSTOMER_NUMBER            object\n",
      " 1   ENTERPRISE_ACCOUNT_NO      object\n",
      " 2   ENTERPRISE_ACCOUNT_NAME    object\n",
      " 3   NATIONAL_ACCOUNT           object\n",
      " 4   PAYER                      object\n",
      " 5   DOCUMENT_DATE_IN_DOCUMENT  dbdate\n",
      " 6   DOCUMENT_TYPE              object\n",
      " 7   POSTING_KEY_NAME           object\n",
      " 8   AMOUNT_IN_LOCAL_CURRENCY   object\n",
      " 9   CREDIT_CONTROL_AREA        object\n",
      " 10  AR_STATUS                  object\n",
      " 11  PAYMENT_DATE               dbdate\n",
      " 12  CC_DAYS_TO_ADD             object\n",
      "dtypes: dbdate(2), object(11)\n",
      "memory usage: 4.8+ GB\n"
     ]
    }
   ],
   "source": [
    "df.info()"
   ]
  },
  {
   "cell_type": "code",
   "execution_count": 7,
   "id": "fb5e826d-55c3-449a-aa8d-f413105ca69b",
   "metadata": {},
   "outputs": [],
   "source": [
    "# df['PAYMENT_DATE']=pd.to_datetime(df['PAYMENT_DATE'])\n",
    "# df.query('\"2024-01-01\" >=PAYMENT_DATE')"
   ]
  },
  {
   "cell_type": "code",
   "execution_count": 8,
   "id": "0843619b-913d-4c0f-b76f-830ce34dcc1a",
   "metadata": {},
   "outputs": [],
   "source": [
    "df=df.query('POSTING_KEY_NAME == \"01 - Invoice\" & AR_STATUS == \"CLEAR\"')\n",
    "df['CC_DAYS_TO_ADD']=df['CC_DAYS_TO_ADD'].apply(lambda x: float(x))\n",
    "df['AMOUNT_IN_LOCAL_CURRENCY']=df['AMOUNT_IN_LOCAL_CURRENCY'].apply(lambda x: float(x))\n",
    "df.reset_index(inplace = True)\n"
   ]
  },
  {
   "cell_type": "code",
   "execution_count": 9,
   "id": "a8949bfd-c23f-4db9-a44c-8c06ad218631",
   "metadata": {
    "tags": []
   },
   "outputs": [],
   "source": [
    "def calc_WAPD(df_1):\n",
    "    df_1['PAYMENT_DATE']=pd.to_datetime(df_1['PAYMENT_DATE'])\n",
    "    WAPD_new = pd.Series([])\n",
    "    for index, row in df_1.iterrows():\n",
    "        start_date= row['PAYMENT_DATE']\n",
    "        end_date = row['90_days_ago']\n",
    "        try:\n",
    "            ninety_day_range = df_1.query('@start_date >= PAYMENT_DATE >= @end_date')\n",
    "            WAPD= ninety_day_range['Weighted Invoice Value'].sum() / ninety_day_range['AMOUNT_IN_LOCAL_CURRENCY'].sum()\n",
    "            WAPD_new[index]=WAPD\n",
    "        except:\n",
    "            print('no PAYMENT_DATE')\n",
    "    df_1.insert(16, \"WAPD\", WAPD_new)\n",
    "    return df_1"
   ]
  },
  {
   "cell_type": "code",
   "execution_count": 10,
   "id": "843a8b35-d4e3-4a64-8117-ec4b1df6e420",
   "metadata": {
    "tags": []
   },
   "outputs": [],
   "source": [
    "def search_customer(CUSTOMER_NUMBER):\n",
    "    CUSTOMER_df=df.query('CUSTOMER_NUMBER == @CUSTOMER_NUMBER')\n",
    "    CUSTOMER_df.reset_index(inplace = True)\n",
    "    \n",
    "    \n",
    "    CUSTOMER_df['AMOUNT_IN_LOCAL_CURRENCY']=CUSTOMER_df['AMOUNT_IN_LOCAL_CURRENCY'].apply(lambda x: float(x))\n",
    "#     Sub Payment Date from Invoice Date\n",
    "    CUSTOMER_df['Sub Payment Date from Invoice Date']=(CUSTOMER_df['PAYMENT_DATE']-CUSTOMER_df['DOCUMENT_DATE_IN_DOCUMENT']).dt.days\n",
    "#     Weighted Invoice Value\n",
    "    CUSTOMER_df['Weighted Invoice Value']= CUSTOMER_df['Sub Payment Date from Invoice Date']*CUSTOMER_df['AMOUNT_IN_LOCAL_CURRENCY']\n",
    "# WAPD\n",
    "    import datetime\n",
    "    current = pd.to_datetime(CUSTOMER_df['PAYMENT_DATE'])\n",
    "    CUSTOMER_df['90_days_ago']= current - pd.to_timedelta('90 days')\n",
    "    CUSTOMER_df = calc_WAPD(CUSTOMER_df)\n",
    "    return CUSTOMER_df"
   ]
  },
  {
   "cell_type": "code",
   "execution_count": 11,
   "id": "db16e6c4-b062-4f3e-a4cd-f5aa8120c4c0",
   "metadata": {},
   "outputs": [],
   "source": [
    "def search_EAN(CUSTOMER_df):\n",
    "    # CUSTOMER_df=EN_df.query('ENTERPRISE_ACCOUNT_NO == @ENTERPRISE_ACCOUNT_NO')\n",
    "    # CUSTOMER_df.reset_index(inplace = True)\n",
    "   \n",
    "    # CUSTOMER_df['AMOUNT_IN_LOCAL_CURRENCY']=CUSTOMER_df['AMOUNT_IN_LOCAL_CURRENCY'].apply(lambda x: float(x))\n",
    "#     Sub Payment Date from Invoice Date\n",
    "    \n",
    "    CUSTOMER_df['Sub Payment Date from Invoice Date']=(CUSTOMER_df['PAYMENT_DATE']-CUSTOMER_df['DOCUMENT_DATE_IN_DOCUMENT']).dt.days\n",
    "#     Weighted Invoice Value\n",
    "    CUSTOMER_df['Weighted Invoice Value']= CUSTOMER_df['Sub Payment Date from Invoice Date']*CUSTOMER_df['AMOUNT_IN_LOCAL_CURRENCY']\n",
    "# WAPD\n",
    "    import datetime\n",
    "    current = pd.to_datetime(CUSTOMER_df['PAYMENT_DATE'])\n",
    "    CUSTOMER_df['90_days_ago']= current - pd.to_timedelta('90 days')\n",
    "    CUSTOMER_df = calc_WAPD(CUSTOMER_df)\n",
    "    \n",
    "    \n",
    "    \n",
    "    return CUSTOMER_df"
   ]
  },
  {
   "cell_type": "code",
   "execution_count": 12,
   "id": "dafdf0c6-22fd-4c12-982e-a7ea06dfff70",
   "metadata": {
    "jupyter": {
     "source_hidden": true
    },
    "tags": []
   },
   "outputs": [],
   "source": [
    "def search_EAN_terms(ENTERPRISE_ACCOUNT_NO):\n",
    "    CUSTOMER_df=df.query('ENTERPRISE_ACCOUNT_NO == @ENTERPRISE_ACCOUNT_NO')\n",
    "    CUSTOMER_df.reset_index(inplace = True)\n",
    "    \n",
    "#     loop for terms \n",
    "\n",
    "    four = CUSTOMER_df.query('CC_DAYS_TO_ADD ==4.000000000')\n",
    "    thirty =CUSTOMER_df.query('CC_DAYS_TO_ADD ==30.000000000')\n",
    "    sixty =CUSTOMER_df.query('CC_DAYS_TO_ADD ==60.000000000')\n",
    "    ninty = CUSTOMER_df.query('CC_DAYS_TO_ADD ==90.000000000')\n",
    "\n",
    "# FOUR\n",
    "\n",
    "\n",
    "\n",
    "    four['AMOUNT_IN_LOCAL_CURRENCY']=four['AMOUNT_IN_LOCAL_CURRENCY'].apply(lambda x: float(x))\n",
    "#     Sub Payment Date from Invoice Date\n",
    "    four['Sub Payment Date from Invoice Date']=(four['PAYMENT_DATE']-four['DOCUMENT_DATE_IN_DOCUMENT']).dt.days\n",
    "#     Weighted Invoice Value\n",
    "    four['Weighted Invoice Value']= four['Sub Payment Date from Invoice Date']*four['AMOUNT_IN_LOCAL_CURRENCY']\n",
    "# WAPD\n",
    "    import datetime\n",
    "    current = pd.to_datetime(four['PAYMENT_DATE'])\n",
    "    four['90_days_ago']= current - pd.to_timedelta('90 days')\n",
    "    four = calc_WAPD(four)\n",
    "    \n",
    "#   THIRTY  \n",
    "    \n",
    "    thirty['AMOUNT_IN_LOCAL_CURRENCY']=thirty['AMOUNT_IN_LOCAL_CURRENCY'].apply(lambda x: float(x))\n",
    "#     Sub Payment Date from Invoice Date\n",
    "    thirty['Sub Payment Date from Invoice Date']=(thirty['PAYMENT_DATE']-thirty['DOCUMENT_DATE_IN_DOCUMENT']).dt.days\n",
    "#     Weighted Invoice Value\n",
    "    thirty['Weighted Invoice Value']= thirty['Sub Payment Date from Invoice Date']*thirty['AMOUNT_IN_LOCAL_CURRENCY']\n",
    "# WAPD\n",
    "    import datetime\n",
    "    current = pd.to_datetime(thirty['PAYMENT_DATE'])\n",
    "    thirty['90_days_ago']= current - pd.to_timedelta('90 days')\n",
    "    thirty = calc_WAPD(thirty)\n",
    "    \n",
    "    \n",
    "    \n",
    "    \n",
    "    return CUSTOMER_df"
   ]
  },
  {
   "cell_type": "markdown",
   "id": "4738cf66-a9d3-43bb-93f3-898faa50ec71",
   "metadata": {},
   "source": [
    "# **********************************************************************************************************"
   ]
  },
  {
   "cell_type": "markdown",
   "id": "2a399b1d-0ef2-4692-9bc6-04f43c92ee5b",
   "metadata": {},
   "source": [
    "# Visualization"
   ]
  },
  {
   "cell_type": "markdown",
   "id": "6c411fd8-6c27-44d1-bca2-19c557dc247a",
   "metadata": {},
   "source": [
    "## Customer"
   ]
  },
  {
   "cell_type": "code",
   "execution_count": 13,
   "id": "4799ed16-4197-493f-a43e-81c011e79416",
   "metadata": {},
   "outputs": [],
   "source": [
    "customer = \"2057194397\"\n",
    "t = search_customer(customer)"
   ]
  },
  {
   "cell_type": "code",
   "execution_count": 14,
   "id": "03c1a07d-7f51-408e-82d5-727d18e82dd3",
   "metadata": {
    "tags": []
   },
   "outputs": [
    {
     "data": {
      "text/plain": [
       "level_0                                        int64\n",
       "index                                          int64\n",
       "CUSTOMER_NUMBER                               object\n",
       "ENTERPRISE_ACCOUNT_NO                         object\n",
       "ENTERPRISE_ACCOUNT_NAME                       object\n",
       "NATIONAL_ACCOUNT                              object\n",
       "PAYER                                         object\n",
       "DOCUMENT_DATE_IN_DOCUMENT                     dbdate\n",
       "DOCUMENT_TYPE                                 object\n",
       "POSTING_KEY_NAME                              object\n",
       "AMOUNT_IN_LOCAL_CURRENCY                     float64\n",
       "CREDIT_CONTROL_AREA                           object\n",
       "AR_STATUS                                     object\n",
       "PAYMENT_DATE                          datetime64[ns]\n",
       "CC_DAYS_TO_ADD                               float64\n",
       "Sub Payment Date from Invoice Date             int64\n",
       "WAPD                                         float64\n",
       "Weighted Invoice Value                       float64\n",
       "90_days_ago                           datetime64[ns]\n",
       "dtype: object"
      ]
     },
     "execution_count": 14,
     "metadata": {},
     "output_type": "execute_result"
    }
   ],
   "source": [
    "t.dtypes"
   ]
  },
  {
   "cell_type": "code",
   "execution_count": null,
   "id": "f4f49104-5cfc-44d2-8fe9-b464a40739fa",
   "metadata": {},
   "outputs": [],
   "source": []
  },
  {
   "cell_type": "code",
   "execution_count": 15,
   "id": "dedcbae1-0bd6-42eb-9a32-34ba8a977e34",
   "metadata": {},
   "outputs": [],
   "source": [
    "t['month'] = t['PAYMENT_DATE'].dt.strftime('%b')"
   ]
  },
  {
   "cell_type": "code",
   "execution_count": 16,
   "id": "adcd9317-daab-4516-8a72-04786b92746e",
   "metadata": {},
   "outputs": [],
   "source": [
    "year_order = ['Jan','Feb','Mar','Apr','May','Jun','Jul','Aug','Sep','Oct','Nov','Dec']\n",
    "dfp1 = pd.pivot_table(data=t, index=[t.PAYMENT_DATE.dt.year], columns='month', values='WAPD')\n",
    "dfp1 = dfp1.reindex(year_order, axis=1)"
   ]
  },
  {
   "cell_type": "code",
   "execution_count": 17,
   "id": "141eee15-1fe1-4778-a6a5-fc272a67f74c",
   "metadata": {
    "tags": []
   },
   "outputs": [
    {
     "data": {
      "text/html": [
       "<div>\n",
       "<style scoped>\n",
       "    .dataframe tbody tr th:only-of-type {\n",
       "        vertical-align: middle;\n",
       "    }\n",
       "\n",
       "    .dataframe tbody tr th {\n",
       "        vertical-align: top;\n",
       "    }\n",
       "\n",
       "    .dataframe thead th {\n",
       "        text-align: right;\n",
       "    }\n",
       "</style>\n",
       "<table border=\"1\" class=\"dataframe\">\n",
       "  <thead>\n",
       "    <tr style=\"text-align: right;\">\n",
       "      <th>month</th>\n",
       "      <th>Jan</th>\n",
       "      <th>Feb</th>\n",
       "      <th>Mar</th>\n",
       "      <th>Apr</th>\n",
       "      <th>May</th>\n",
       "      <th>Jun</th>\n",
       "      <th>Jul</th>\n",
       "      <th>Aug</th>\n",
       "      <th>Sep</th>\n",
       "      <th>Oct</th>\n",
       "      <th>Nov</th>\n",
       "      <th>Dec</th>\n",
       "    </tr>\n",
       "    <tr>\n",
       "      <th>PAYMENT_DATE</th>\n",
       "      <th></th>\n",
       "      <th></th>\n",
       "      <th></th>\n",
       "      <th></th>\n",
       "      <th></th>\n",
       "      <th></th>\n",
       "      <th></th>\n",
       "      <th></th>\n",
       "      <th></th>\n",
       "      <th></th>\n",
       "      <th></th>\n",
       "      <th></th>\n",
       "    </tr>\n",
       "  </thead>\n",
       "  <tbody>\n",
       "    <tr>\n",
       "      <th>2022</th>\n",
       "      <td>NaN</td>\n",
       "      <td>NaN</td>\n",
       "      <td>NaN</td>\n",
       "      <td>NaN</td>\n",
       "      <td>NaN</td>\n",
       "      <td>NaN</td>\n",
       "      <td>NaN</td>\n",
       "      <td>NaN</td>\n",
       "      <td>30.2435</td>\n",
       "      <td>29.8647</td>\n",
       "      <td>29.9069</td>\n",
       "      <td>29.9826</td>\n",
       "    </tr>\n",
       "    <tr>\n",
       "      <th>2023</th>\n",
       "      <td>30.0828</td>\n",
       "      <td>29.5841</td>\n",
       "      <td>27.5906</td>\n",
       "      <td>24.8068</td>\n",
       "      <td>24.9288</td>\n",
       "      <td>24.9342</td>\n",
       "      <td>26.1582</td>\n",
       "      <td>25.3285</td>\n",
       "      <td>26.6899</td>\n",
       "      <td>NaN</td>\n",
       "      <td>NaN</td>\n",
       "      <td>NaN</td>\n",
       "    </tr>\n",
       "  </tbody>\n",
       "</table>\n",
       "</div>"
      ],
      "text/plain": [
       "month            Jan     Feb     Mar     Apr     May     Jun     Jul     Aug  \\\n",
       "PAYMENT_DATE                                                                   \n",
       "2022             NaN     NaN     NaN     NaN     NaN     NaN     NaN     NaN   \n",
       "2023         30.0828 29.5841 27.5906 24.8068 24.9288 24.9342 26.1582 25.3285   \n",
       "\n",
       "month            Sep     Oct     Nov     Dec  \n",
       "PAYMENT_DATE                                  \n",
       "2022         30.2435 29.8647 29.9069 29.9826  \n",
       "2023         26.6899     NaN     NaN     NaN  "
      ]
     },
     "execution_count": 17,
     "metadata": {},
     "output_type": "execute_result"
    }
   ],
   "source": [
    "dfp1"
   ]
  },
  {
   "cell_type": "code",
   "execution_count": 18,
   "id": "616b3c44-607f-4fec-bb98-3990b4ab180a",
   "metadata": {},
   "outputs": [
    {
     "data": {
      "image/png": "[encoded data removed]",
      "text/plain": [
       "<Figure size 800x400 with 1 Axes>"
      ]
     },
     "metadata": {},
     "output_type": "display_data"
    }
   ],
   "source": [
    "ax = dfp1.plot(kind='bar', figsize=(8, 4), ylabel='WAPD', xlabel='Year', rot=0,colormap='Paired')\n",
    "ax.plot(t.CC_DAYS_TO_ADD, c = \"y\", label = \"DSO Term\")\n",
    "_ = ax.legend(bbox_to_anchor=(1, 1.02), loc='upper left')"
   ]
  },
  {
   "cell_type": "code",
   "execution_count": 19,
   "id": "865d9a3b-36ad-47c6-96fa-1c7233dc95f7",
   "metadata": {},
   "outputs": [],
   "source": [
    "# year_order = ['Jan','Feb','Mar','Apr','May','Jun','Jul','Aug','Sep','Oct','Nov','Dec']\n",
    "# dfp = pd.pivot_table(data=CONVERSIO_HEALTH_df, index=[CONVERSIO_HEALTH_df.PAYMENT_DATE.dt.year], columns='month', values='WAPD')\n",
    "# dfp = dfp.reindex(year_order, axis=1)\n",
    "# dfp"
   ]
  },
  {
   "cell_type": "code",
   "execution_count": 20,
   "id": "cb71493e-e79b-4063-9836-5d5170f00add",
   "metadata": {},
   "outputs": [],
   "source": [
    "# ax = dfp.plot(kind='bar', figsize=(12, 4), ylabel='WAPD', xlabel='Year', rot=0,colormap='Paired')\n",
    "# _ = ax.legend(bbox_to_anchor=(1, 1.02), loc='upper left')"
   ]
  },
  {
   "cell_type": "markdown",
   "id": "10a6bbd6-e88a-498a-996e-dcdb5f781a1e",
   "metadata": {},
   "source": [
    "## EAN"
   ]
  },
  {
   "cell_type": "code",
   "execution_count": 21,
   "id": "1e39ccb0-5d81-44ee-9b48-75808ba6dda9",
   "metadata": {
    "tags": []
   },
   "outputs": [
    {
     "ename": "TypeError",
     "evalue": "string indices must be integers",
     "output_type": "error",
     "traceback": [
      "\u001b[0;31m---------------------------------------------------------------------------\u001b[0m",
      "\u001b[0;31mTypeError\u001b[0m                                 Traceback (most recent call last)",
      "\u001b[0;32m/var/tmp/ipykernel_31199/1067238253.py\u001b[0m in \u001b[0;36m<module>\u001b[0;34m\u001b[0m\n\u001b[1;32m      1\u001b[0m \u001b[0mEAN\u001b[0m \u001b[0;34m=\u001b[0m \u001b[0;34m\"7100000391\"\u001b[0m\u001b[0;34m\u001b[0m\u001b[0;34m\u001b[0m\u001b[0m\n\u001b[0;32m----> 2\u001b[0;31m \u001b[0ms\u001b[0m \u001b[0;34m=\u001b[0m \u001b[0msearch_EAN\u001b[0m\u001b[0;34m(\u001b[0m\u001b[0mEAN\u001b[0m\u001b[0;34m)\u001b[0m\u001b[0;34m\u001b[0m\u001b[0;34m\u001b[0m\u001b[0m\n\u001b[0m",
      "\u001b[0;32m/var/tmp/ipykernel_31199/3126039418.py\u001b[0m in \u001b[0;36msearch_EAN\u001b[0;34m(CUSTOMER_df)\u001b[0m\n\u001b[1;32m      6\u001b[0m \u001b[0;31m#     Sub Payment Date from Invoice Date\u001b[0m\u001b[0;34m\u001b[0m\u001b[0;34m\u001b[0m\u001b[0;34m\u001b[0m\u001b[0m\n\u001b[1;32m      7\u001b[0m \u001b[0;34m\u001b[0m\u001b[0m\n\u001b[0;32m----> 8\u001b[0;31m     \u001b[0mCUSTOMER_df\u001b[0m\u001b[0;34m[\u001b[0m\u001b[0;34m'Sub Payment Date from Invoice Date'\u001b[0m\u001b[0;34m]\u001b[0m\u001b[0;34m=\u001b[0m\u001b[0;34m(\u001b[0m\u001b[0mCUSTOMER_df\u001b[0m\u001b[0;34m[\u001b[0m\u001b[0;34m'PAYMENT_DATE'\u001b[0m\u001b[0;34m]\u001b[0m\u001b[0;34m-\u001b[0m\u001b[0mCUSTOMER_df\u001b[0m\u001b[0;34m[\u001b[0m\u001b[0;34m'DOCUMENT_DATE_IN_DOCUMENT'\u001b[0m\u001b[0;34m]\u001b[0m\u001b[0;34m)\u001b[0m\u001b[0;34m.\u001b[0m\u001b[0mdt\u001b[0m\u001b[0;34m.\u001b[0m\u001b[0mdays\u001b[0m\u001b[0;34m\u001b[0m\u001b[0;34m\u001b[0m\u001b[0m\n\u001b[0m\u001b[1;32m      9\u001b[0m \u001b[0;31m#     Weighted Invoice Value\u001b[0m\u001b[0;34m\u001b[0m\u001b[0;34m\u001b[0m\u001b[0;34m\u001b[0m\u001b[0m\n\u001b[1;32m     10\u001b[0m     \u001b[0mCUSTOMER_df\u001b[0m\u001b[0;34m[\u001b[0m\u001b[0;34m'Weighted Invoice Value'\u001b[0m\u001b[0;34m]\u001b[0m\u001b[0;34m=\u001b[0m \u001b[0mCUSTOMER_df\u001b[0m\u001b[0;34m[\u001b[0m\u001b[0;34m'Sub Payment Date from Invoice Date'\u001b[0m\u001b[0;34m]\u001b[0m\u001b[0;34m*\u001b[0m\u001b[0mCUSTOMER_df\u001b[0m\u001b[0;34m[\u001b[0m\u001b[0;34m'AMOUNT_IN_LOCAL_CURRENCY'\u001b[0m\u001b[0;34m]\u001b[0m\u001b[0;34m\u001b[0m\u001b[0;34m\u001b[0m\u001b[0m\n",
      "\u001b[0;31mTypeError\u001b[0m: string indices must be integers"
     ]
    }
   ],
   "source": [
    "EAN = \"7100000391\"\n",
    "s = search_EAN(EAN)"
   ]
  },
  {
   "cell_type": "code",
   "execution_count": null,
   "id": "de496e9f-ec10-4094-bbe4-fc7b9c608d60",
   "metadata": {
    "tags": []
   },
   "outputs": [],
   "source": [
    "four"
   ]
  },
  {
   "cell_type": "code",
   "execution_count": null,
   "id": "c7c559fc-9642-4dcc-9270-ccfe9243f41b",
   "metadata": {},
   "outputs": [],
   "source": [
    "four['month'] = four['PAYMENT_DATE'].dt.strftime('%b')\n",
    "thirty['month'] = thirty['PAYMENT_DATE'].dt.strftime('%b')"
   ]
  },
  {
   "cell_type": "code",
   "execution_count": null,
   "id": "ca66b178-35de-4391-936b-5ea5bf170770",
   "metadata": {},
   "outputs": [],
   "source": [
    "# four = s.query('CC_DAYS_TO_ADD ==4.000000000')\n",
    "# thirty =s.query('CC_DAYS_TO_ADD ==30.000000000')\n",
    "# sixty =s.query('CC_DAYS_TO_ADD ==60.000000000')\n",
    "# ninty = s.query('CC_DAYS_TO_ADD ==90.000000000')"
   ]
  },
  {
   "cell_type": "code",
   "execution_count": null,
   "id": "65a40fc1-cdee-4494-b2c8-f436264fa191",
   "metadata": {},
   "outputs": [],
   "source": []
  },
  {
   "cell_type": "code",
   "execution_count": null,
   "id": "4583fafa-51bb-4ac9-a24b-28863e88df7b",
   "metadata": {},
   "outputs": [],
   "source": [
    "year_order = ['Jan','Feb','Mar','Apr','May','Jun','Jul','Aug','Sep','Oct','Nov','Dec']\n",
    "dfp = pd.pivot_table(data=four, index=[four.PAYMENT_DATE.dt.year], columns='month', values='WAPD')\n",
    "dfp = dfp.reindex(year_order, axis=1)\n",
    "dfp"
   ]
  },
  {
   "cell_type": "code",
   "execution_count": null,
   "id": "17335e44-ab01-4ae0-b868-aa607dd1ca58",
   "metadata": {},
   "outputs": [],
   "source": [
    "four.CC_DAYS_TO_ADD.unique()"
   ]
  },
  {
   "cell_type": "code",
   "execution_count": null,
   "id": "60bceef1-180d-4076-a9cd-63c93a22c60a",
   "metadata": {
    "tags": []
   },
   "outputs": [],
   "source": [
    "s.query('CC_DAYS_TO_ADD ==90.000000000 or CC_DAYS_TO_ADD ==30.000000000 or CC_DAYS_TO_ADD ==60.000000000')"
   ]
  },
  {
   "cell_type": "code",
   "execution_count": null,
   "id": "b4fdacfc-72c2-4ed7-b66c-a4f5cdceaadd",
   "metadata": {
    "jupyter": {
     "source_hidden": true
    },
    "tags": []
   },
   "outputs": [],
   "source": [
    "ax = dfp.plot(kind='bar', figsize=(17, 4), ylabel='WAPD', xlabel='Year', rot=0,colormap='Paired')\n",
    "ax.plot(four.CC_DAYS_TO_ADD, c = \"y\", label = \"DSO Term\")\n",
    "_ = ax.legend(bbox_to_anchor=(1, 1.02), loc='upper left')"
   ]
  },
  {
   "cell_type": "code",
   "execution_count": null,
   "id": "7bffd8df-d7f4-4588-a0d9-bf565fb51c87",
   "metadata": {},
   "outputs": [],
   "source": [
    "year_order = ['Jan','Feb','Mar','Apr','May','Jun','Jul','Aug','Sep','Oct','Nov','Dec']\n",
    "dfp_thirty = pd.pivot_table(data=thirty, index=[thirty.PAYMENT_DATE.dt.year], columns='month', values='WAPD')\n",
    "dfp_thirty = dfp_thirty.reindex(year_order, axis=1)\n",
    "dfp_thirty"
   ]
  },
  {
   "cell_type": "code",
   "execution_count": null,
   "id": "c181b3c3-442c-4c75-905b-37b5d516a4b4",
   "metadata": {},
   "outputs": [],
   "source": [
    "thirty"
   ]
  },
  {
   "cell_type": "code",
   "execution_count": null,
   "id": "5a4515e1-4e92-41f1-a534-30d7d38d5597",
   "metadata": {},
   "outputs": [],
   "source": [
    "thirty.CC_DAYS_TO_ADD.unique()"
   ]
  },
  {
   "cell_type": "code",
   "execution_count": null,
   "id": "37d3c18d-e3d8-408f-b4eb-0aacdf40019a",
   "metadata": {},
   "outputs": [],
   "source": [
    "ax = dfp_thirty.plot(kind='bar', figsize=(10, 4), ylabel='WAPD', xlabel='Year', rot=0,colormap='Paired')\n",
    "ax.plot(thirty.CC_DAYS_TO_ADD, c = \"y\", label = \"DSO Term\")\n",
    "_ = ax.legend(bbox_to_anchor=(1, 1.02), loc='upper left')"
   ]
  },
  {
   "cell_type": "code",
   "execution_count": null,
   "id": "c885a7f4-c873-4141-9f48-446913191271",
   "metadata": {},
   "outputs": [],
   "source": [
    "s['month'] = s['PAYMENT_DATE'].dt.strftime('%b')"
   ]
  },
  {
   "cell_type": "code",
   "execution_count": null,
   "id": "18b2f7c8-0c91-42df-8f52-c9d10239c823",
   "metadata": {},
   "outputs": [],
   "source": [
    "year_order = ['Jan','Feb','Mar','Apr','May','Jun','Jul','Aug','Sep','Oct','Nov','Dec']\n",
    "dfp = pd.pivot_table(data=s, index=[s.PAYMENT_DATE.dt.year], columns='month', values='WAPD')\n",
    "dfp = dfp.reindex(year_order, axis=1)\n",
    "dfp"
   ]
  },
  {
   "cell_type": "code",
   "execution_count": null,
   "id": "2ab7e016-ea95-4214-8b26-a51a10512eff",
   "metadata": {},
   "outputs": [],
   "source": [
    "s.head(2)"
   ]
  },
  {
   "cell_type": "code",
   "execution_count": null,
   "id": "d77e129d-2c20-4128-b512-6bca69a86731",
   "metadata": {},
   "outputs": [],
   "source": [
    "welp = dfp.values[1]"
   ]
  },
  {
   "cell_type": "code",
   "execution_count": null,
   "id": "71f9058b-7377-473e-af2f-5172faa328f7",
   "metadata": {
    "tags": []
   },
   "outputs": [],
   "source": [
    "g = sns.FacetGrid(s, col=\"CC_DAYS_TO_ADD\", col_wrap=2, aspect=2)\n",
    "g.map_dataframe(sns.barplot, x=dfp.columns, y=welp , color=\"blue\")\n",
    "# g.map_dataframe(sns.lineplot, x=s.PAYMENT_DATE.dt.year, y=\"EXPECTED_CASH_FLOW\", color=\"red\",alpha=0.5)\n",
    "g.set_xticklabels(rotation=30)\n"
   ]
  },
  {
   "cell_type": "code",
   "execution_count": null,
   "id": "5b9d4ad6-8d6a-4295-8479-66dad0906902",
   "metadata": {},
   "outputs": [],
   "source": [
    "df.head()"
   ]
  },
  {
   "cell_type": "code",
   "execution_count": 22,
   "id": "25fda3ea-64c0-43ab-88fd-24bd732a12d1",
   "metadata": {
    "tags": []
   },
   "outputs": [],
   "source": [
    "# Returns a tuple of DataFrames sorted by DSO term\n",
    "\n",
    "def get_terms(ENTERPRISE_ACCOUNT_NO):\n",
    "    return_list = []\n",
    "    \n",
    "    terms_df=df.query('ENTERPRISE_ACCOUNT_NO == @ENTERPRISE_ACCOUNT_NO')\n",
    "    \n",
    "    # terms_df.reset_index(inplace = True)\n",
    "    terms_list = terms_df['CC_DAYS_TO_ADD'].unique()\n",
    "    print(terms_list)\n",
    "    \n",
    "    for dso_term in terms_list:\n",
    "        name = str(dso_term)+\"_term\"\n",
    "        name = terms_df.query('CC_DAYS_TO_ADD ==@dso_term')\n",
    "        return_list.append(name)\n",
    "    \n",
    "    return return_list\n",
    " \n",
    "# EAN = \"7100000391\"\n",
    "# s = get_terms(EAN)"
   ]
  },
  {
   "cell_type": "code",
   "execution_count": null,
   "id": "52852208-319a-4133-8487-3055560c3e7c",
   "metadata": {
    "tags": []
   },
   "outputs": [],
   "source": [
    "# terms_list=[]\n",
    "# for i in s['CC_DAYS_TO_ADD'].unique():\n",
    "#     print(i)\n",
    "#     terms_list.append(i)\n",
    "# ll=s['CC_DAYS_TO_ADD'].unique()\n"
   ]
  },
  {
   "cell_type": "markdown",
   "id": "9015f036-5831-4dc1-8bd9-deb070785553",
   "metadata": {},
   "source": [
    "# trying again for terms"
   ]
  },
  {
   "cell_type": "code",
   "execution_count": 23,
   "id": "02895845-04f8-4d38-8145-dfd67f45988a",
   "metadata": {},
   "outputs": [
    {
     "name": "stdout",
     "output_type": "stream",
     "text": [
      "[ 4. 30. 90. 60.]\n"
     ]
    }
   ],
   "source": [
    "EAN = \"7100000391\"\n",
    "s = get_terms(EAN)\n"
   ]
  },
  {
   "cell_type": "code",
   "execution_count": 24,
   "id": "abc87b09-b0cb-4b23-a760-9bfde977db08",
   "metadata": {
    "tags": []
   },
   "outputs": [
    {
     "data": {
      "text/plain": [
       "index                          int64\n",
       "CUSTOMER_NUMBER               object\n",
       "ENTERPRISE_ACCOUNT_NO         object\n",
       "ENTERPRISE_ACCOUNT_NAME       object\n",
       "NATIONAL_ACCOUNT              object\n",
       "PAYER                         object\n",
       "DOCUMENT_DATE_IN_DOCUMENT     dbdate\n",
       "DOCUMENT_TYPE                 object\n",
       "POSTING_KEY_NAME              object\n",
       "AMOUNT_IN_LOCAL_CURRENCY     float64\n",
       "CREDIT_CONTROL_AREA           object\n",
       "AR_STATUS                     object\n",
       "PAYMENT_DATE                  dbdate\n",
       "CC_DAYS_TO_ADD               float64\n",
       "dtype: object"
      ]
     },
     "execution_count": 24,
     "metadata": {},
     "output_type": "execute_result"
    }
   ],
   "source": [
    "s[0].dtypes"
   ]
  },
  {
   "cell_type": "code",
   "execution_count": 26,
   "id": "45fd2f92-d18d-498a-9cdb-9b1c20ac9e30",
   "metadata": {
    "tags": []
   },
   "outputs": [],
   "source": [
    "four=search_EAN(s[0])\n",
    "thirty=search_EAN(s[1])\n",
    "sixty=search_EAN(s[2])\n",
    "ninty=search_EAN(s[3])\n",
    "\n",
    "# for term in s:\n",
    "#     # print(term.type())\n",
    "#     search_EAN(s)\n"
   ]
  },
  {
   "cell_type": "code",
   "execution_count": 28,
   "id": "49093cd9-5755-44cd-ad97-e92f05b34161",
   "metadata": {
    "tags": []
   },
   "outputs": [
    {
     "data": {
      "text/html": [
       "<div>\n",
       "<style scoped>\n",
       "    .dataframe tbody tr th:only-of-type {\n",
       "        vertical-align: middle;\n",
       "    }\n",
       "\n",
       "    .dataframe tbody tr th {\n",
       "        vertical-align: top;\n",
       "    }\n",
       "\n",
       "    .dataframe thead th {\n",
       "        text-align: right;\n",
       "    }\n",
       "</style>\n",
       "<table border=\"1\" class=\"dataframe\">\n",
       "  <thead>\n",
       "    <tr style=\"text-align: right;\">\n",
       "      <th></th>\n",
       "      <th>index</th>\n",
       "      <th>CUSTOMER_NUMBER</th>\n",
       "      <th>ENTERPRISE_ACCOUNT_NO</th>\n",
       "      <th>ENTERPRISE_ACCOUNT_NAME</th>\n",
       "      <th>NATIONAL_ACCOUNT</th>\n",
       "      <th>PAYER</th>\n",
       "      <th>DOCUMENT_DATE_IN_DOCUMENT</th>\n",
       "      <th>DOCUMENT_TYPE</th>\n",
       "      <th>POSTING_KEY_NAME</th>\n",
       "      <th>AMOUNT_IN_LOCAL_CURRENCY</th>\n",
       "      <th>CREDIT_CONTROL_AREA</th>\n",
       "      <th>AR_STATUS</th>\n",
       "      <th>PAYMENT_DATE</th>\n",
       "      <th>CC_DAYS_TO_ADD</th>\n",
       "      <th>Sub Payment Date from Invoice Date</th>\n",
       "      <th>Weighted Invoice Value</th>\n",
       "      <th>WAPD</th>\n",
       "      <th>90_days_ago</th>\n",
       "    </tr>\n",
       "  </thead>\n",
       "  <tbody>\n",
       "    <tr>\n",
       "      <th>8401587</th>\n",
       "      <td>11246866</td>\n",
       "      <td>2057180591</td>\n",
       "      <td>7100000391</td>\n",
       "      <td>7100000391 - STEWARD HEALTH CARE SYSTEM</td>\n",
       "      <td>0000025769</td>\n",
       "      <td>2057180591</td>\n",
       "      <td>2022-09-27</td>\n",
       "      <td>ZF</td>\n",
       "      <td>01 - Invoice</td>\n",
       "      <td>15691.5900</td>\n",
       "      <td>SPD</td>\n",
       "      <td>CLEAR</td>\n",
       "      <td>2022-11-08</td>\n",
       "      <td>60.0000</td>\n",
       "      <td>42</td>\n",
       "      <td>659046.7800</td>\n",
       "      <td>42.0000</td>\n",
       "      <td>2022-08-10</td>\n",
       "    </tr>\n",
       "  </tbody>\n",
       "</table>\n",
       "</div>"
      ],
      "text/plain": [
       "            index CUSTOMER_NUMBER ENTERPRISE_ACCOUNT_NO  \\\n",
       "8401587  11246866      2057180591            7100000391   \n",
       "\n",
       "                         ENTERPRISE_ACCOUNT_NAME NATIONAL_ACCOUNT       PAYER  \\\n",
       "8401587  7100000391 - STEWARD HEALTH CARE SYSTEM       0000025769  2057180591   \n",
       "\n",
       "        DOCUMENT_DATE_IN_DOCUMENT DOCUMENT_TYPE POSTING_KEY_NAME  \\\n",
       "8401587                2022-09-27            ZF     01 - Invoice   \n",
       "\n",
       "         AMOUNT_IN_LOCAL_CURRENCY CREDIT_CONTROL_AREA AR_STATUS PAYMENT_DATE  \\\n",
       "8401587                15691.5900                 SPD     CLEAR   2022-11-08   \n",
       "\n",
       "         CC_DAYS_TO_ADD  Sub Payment Date from Invoice Date  \\\n",
       "8401587         60.0000                                  42   \n",
       "\n",
       "         Weighted Invoice Value    WAPD 90_days_ago  \n",
       "8401587             659046.7800 42.0000  2022-08-10  "
      ]
     },
     "execution_count": 28,
     "metadata": {},
     "output_type": "execute_result"
    }
   ],
   "source": [
    "ninty"
   ]
  },
  {
   "cell_type": "code",
   "execution_count": 29,
   "id": "c9f5b840-2780-43d3-90d1-cab976cf0e7c",
   "metadata": {},
   "outputs": [],
   "source": [
    "four['month'] = four['PAYMENT_DATE'].dt.strftime('%b')\n",
    "thirty['month'] = thirty['PAYMENT_DATE'].dt.strftime('%b')\n",
    "sixty['month'] = sixty['PAYMENT_DATE'].dt.strftime('%b')\n",
    "ninty['month'] = ninty['PAYMENT_DATE'].dt.strftime('%b')"
   ]
  },
  {
   "cell_type": "code",
   "execution_count": 30,
   "id": "96d6dcaa-6a1a-4e2d-a2a0-fbf824c31ec7",
   "metadata": {},
   "outputs": [
    {
     "data": {
      "text/html": [
       "<div>\n",
       "<style scoped>\n",
       "    .dataframe tbody tr th:only-of-type {\n",
       "        vertical-align: middle;\n",
       "    }\n",
       "\n",
       "    .dataframe tbody tr th {\n",
       "        vertical-align: top;\n",
       "    }\n",
       "\n",
       "    .dataframe thead th {\n",
       "        text-align: right;\n",
       "    }\n",
       "</style>\n",
       "<table border=\"1\" class=\"dataframe\">\n",
       "  <thead>\n",
       "    <tr style=\"text-align: right;\">\n",
       "      <th>month</th>\n",
       "      <th>Jan</th>\n",
       "      <th>Feb</th>\n",
       "      <th>Mar</th>\n",
       "      <th>Apr</th>\n",
       "      <th>May</th>\n",
       "      <th>Jun</th>\n",
       "      <th>Jul</th>\n",
       "      <th>Aug</th>\n",
       "      <th>Sep</th>\n",
       "      <th>Oct</th>\n",
       "      <th>Nov</th>\n",
       "      <th>Dec</th>\n",
       "    </tr>\n",
       "    <tr>\n",
       "      <th>PAYMENT_DATE</th>\n",
       "      <th></th>\n",
       "      <th></th>\n",
       "      <th></th>\n",
       "      <th></th>\n",
       "      <th></th>\n",
       "      <th></th>\n",
       "      <th></th>\n",
       "      <th></th>\n",
       "      <th></th>\n",
       "      <th></th>\n",
       "      <th></th>\n",
       "      <th></th>\n",
       "    </tr>\n",
       "  </thead>\n",
       "  <tbody>\n",
       "    <tr>\n",
       "      <th>2022</th>\n",
       "      <td>NaN</td>\n",
       "      <td>NaN</td>\n",
       "      <td>NaN</td>\n",
       "      <td>NaN</td>\n",
       "      <td>NaN</td>\n",
       "      <td>NaN</td>\n",
       "      <td>NaN</td>\n",
       "      <td>5.6671</td>\n",
       "      <td>5.9355</td>\n",
       "      <td>6.1530</td>\n",
       "      <td>6.4311</td>\n",
       "      <td>9.1430</td>\n",
       "    </tr>\n",
       "    <tr>\n",
       "      <th>2023</th>\n",
       "      <td>10.8311</td>\n",
       "      <td>10.5710</td>\n",
       "      <td>6.0590</td>\n",
       "      <td>4.7303</td>\n",
       "      <td>6.6613</td>\n",
       "      <td>16.3634</td>\n",
       "      <td>21.5822</td>\n",
       "      <td>25.9741</td>\n",
       "      <td>30.4537</td>\n",
       "      <td>NaN</td>\n",
       "      <td>NaN</td>\n",
       "      <td>NaN</td>\n",
       "    </tr>\n",
       "  </tbody>\n",
       "</table>\n",
       "</div>"
      ],
      "text/plain": [
       "month            Jan     Feb    Mar    Apr    May     Jun     Jul     Aug  \\\n",
       "PAYMENT_DATE                                                                \n",
       "2022             NaN     NaN    NaN    NaN    NaN     NaN     NaN  5.6671   \n",
       "2023         10.8311 10.5710 6.0590 4.7303 6.6613 16.3634 21.5822 25.9741   \n",
       "\n",
       "month            Sep    Oct    Nov    Dec  \n",
       "PAYMENT_DATE                               \n",
       "2022          5.9355 6.1530 6.4311 9.1430  \n",
       "2023         30.4537    NaN    NaN    NaN  "
      ]
     },
     "execution_count": 30,
     "metadata": {},
     "output_type": "execute_result"
    }
   ],
   "source": [
    "year_order = ['Jan','Feb','Mar','Apr','May','Jun','Jul','Aug','Sep','Oct','Nov','Dec']\n",
    "dfp_4 = pd.pivot_table(data=four, index=[four.PAYMENT_DATE.dt.year], columns='month', values='WAPD')\n",
    "dfp_4 = dfp_4.reindex(year_order, axis=1)\n",
    "dfp_4"
   ]
  },
  {
   "cell_type": "code",
   "execution_count": 31,
   "id": "323ea3c1-bbf6-498b-95a3-369a90a42749",
   "metadata": {},
   "outputs": [
    {
     "data": {
      "text/html": [
       "<div>\n",
       "<style scoped>\n",
       "    .dataframe tbody tr th:only-of-type {\n",
       "        vertical-align: middle;\n",
       "    }\n",
       "\n",
       "    .dataframe tbody tr th {\n",
       "        vertical-align: top;\n",
       "    }\n",
       "\n",
       "    .dataframe thead th {\n",
       "        text-align: right;\n",
       "    }\n",
       "</style>\n",
       "<table border=\"1\" class=\"dataframe\">\n",
       "  <thead>\n",
       "    <tr style=\"text-align: right;\">\n",
       "      <th>month</th>\n",
       "      <th>Jan</th>\n",
       "      <th>Feb</th>\n",
       "      <th>Mar</th>\n",
       "      <th>Apr</th>\n",
       "      <th>May</th>\n",
       "      <th>Jun</th>\n",
       "      <th>Jul</th>\n",
       "      <th>Aug</th>\n",
       "      <th>Sep</th>\n",
       "      <th>Oct</th>\n",
       "      <th>Nov</th>\n",
       "      <th>Dec</th>\n",
       "    </tr>\n",
       "    <tr>\n",
       "      <th>PAYMENT_DATE</th>\n",
       "      <th></th>\n",
       "      <th></th>\n",
       "      <th></th>\n",
       "      <th></th>\n",
       "      <th></th>\n",
       "      <th></th>\n",
       "      <th></th>\n",
       "      <th></th>\n",
       "      <th></th>\n",
       "      <th></th>\n",
       "      <th></th>\n",
       "      <th></th>\n",
       "    </tr>\n",
       "  </thead>\n",
       "  <tbody>\n",
       "    <tr>\n",
       "      <th>2022</th>\n",
       "      <td>NaN</td>\n",
       "      <td>NaN</td>\n",
       "      <td>NaN</td>\n",
       "      <td>NaN</td>\n",
       "      <td>NaN</td>\n",
       "      <td>NaN</td>\n",
       "      <td>NaN</td>\n",
       "      <td>NaN</td>\n",
       "      <td>53.7802</td>\n",
       "      <td>51.5348</td>\n",
       "      <td>47.1176</td>\n",
       "      <td>49.0126</td>\n",
       "    </tr>\n",
       "    <tr>\n",
       "      <th>2023</th>\n",
       "      <td>50.7768</td>\n",
       "      <td>59.1402</td>\n",
       "      <td>60.8968</td>\n",
       "      <td>56.1709</td>\n",
       "      <td>54.9780</td>\n",
       "      <td>43.9196</td>\n",
       "      <td>45.3093</td>\n",
       "      <td>43.5584</td>\n",
       "      <td>41.7740</td>\n",
       "      <td>NaN</td>\n",
       "      <td>NaN</td>\n",
       "      <td>NaN</td>\n",
       "    </tr>\n",
       "  </tbody>\n",
       "</table>\n",
       "</div>"
      ],
      "text/plain": [
       "month            Jan     Feb     Mar     Apr     May     Jun     Jul     Aug  \\\n",
       "PAYMENT_DATE                                                                   \n",
       "2022             NaN     NaN     NaN     NaN     NaN     NaN     NaN     NaN   \n",
       "2023         50.7768 59.1402 60.8968 56.1709 54.9780 43.9196 45.3093 43.5584   \n",
       "\n",
       "month            Sep     Oct     Nov     Dec  \n",
       "PAYMENT_DATE                                  \n",
       "2022         53.7802 51.5348 47.1176 49.0126  \n",
       "2023         41.7740     NaN     NaN     NaN  "
      ]
     },
     "execution_count": 31,
     "metadata": {},
     "output_type": "execute_result"
    }
   ],
   "source": [
    "# year_order = ['Jan','Feb','Mar','Apr','May','Jun','Jul','Aug','Sep','Oct','Nov','Dec']\n",
    "dfp_30 = pd.pivot_table(data=thirty, index=[thirty.PAYMENT_DATE.dt.year], columns='month', values='WAPD')\n",
    "dfp_30 = dfp_30.reindex(year_order, axis=1)\n",
    "dfp_30"
   ]
  },
  {
   "cell_type": "code",
   "execution_count": 32,
   "id": "38c59020-7162-4ead-b5cd-1b4be453a882",
   "metadata": {},
   "outputs": [
    {
     "data": {
      "text/html": [
       "<div>\n",
       "<style scoped>\n",
       "    .dataframe tbody tr th:only-of-type {\n",
       "        vertical-align: middle;\n",
       "    }\n",
       "\n",
       "    .dataframe tbody tr th {\n",
       "        vertical-align: top;\n",
       "    }\n",
       "\n",
       "    .dataframe thead th {\n",
       "        text-align: right;\n",
       "    }\n",
       "</style>\n",
       "<table border=\"1\" class=\"dataframe\">\n",
       "  <thead>\n",
       "    <tr style=\"text-align: right;\">\n",
       "      <th>month</th>\n",
       "      <th>Jan</th>\n",
       "      <th>Feb</th>\n",
       "      <th>Mar</th>\n",
       "      <th>Apr</th>\n",
       "      <th>May</th>\n",
       "      <th>Jun</th>\n",
       "      <th>Jul</th>\n",
       "      <th>Aug</th>\n",
       "      <th>Sep</th>\n",
       "      <th>Oct</th>\n",
       "      <th>Nov</th>\n",
       "      <th>Dec</th>\n",
       "    </tr>\n",
       "    <tr>\n",
       "      <th>PAYMENT_DATE</th>\n",
       "      <th></th>\n",
       "      <th></th>\n",
       "      <th></th>\n",
       "      <th></th>\n",
       "      <th></th>\n",
       "      <th></th>\n",
       "      <th></th>\n",
       "      <th></th>\n",
       "      <th></th>\n",
       "      <th></th>\n",
       "      <th></th>\n",
       "      <th></th>\n",
       "    </tr>\n",
       "  </thead>\n",
       "  <tbody>\n",
       "    <tr>\n",
       "      <th>2022</th>\n",
       "      <td>NaN</td>\n",
       "      <td>NaN</td>\n",
       "      <td>NaN</td>\n",
       "      <td>NaN</td>\n",
       "      <td>NaN</td>\n",
       "      <td>NaN</td>\n",
       "      <td>NaN</td>\n",
       "      <td>NaN</td>\n",
       "      <td>NaN</td>\n",
       "      <td>59.0000</td>\n",
       "      <td>NaN</td>\n",
       "      <td>NaN</td>\n",
       "    </tr>\n",
       "  </tbody>\n",
       "</table>\n",
       "</div>"
      ],
      "text/plain": [
       "month         Jan  Feb  Mar  Apr  May  Jun  Jul  Aug  Sep     Oct  Nov  Dec\n",
       "PAYMENT_DATE                                                               \n",
       "2022          NaN  NaN  NaN  NaN  NaN  NaN  NaN  NaN  NaN 59.0000  NaN  NaN"
      ]
     },
     "execution_count": 32,
     "metadata": {},
     "output_type": "execute_result"
    }
   ],
   "source": [
    "# year_order = ['Jan','Feb','Mar','Apr','May','Jun','Jul','Aug','Sep','Oct','Nov','Dec']\n",
    "dfp_60 = pd.pivot_table(data=sixty, index=[sixty.PAYMENT_DATE.dt.year], columns='month', values='WAPD')\n",
    "dfp_60 = dfp_60.reindex(year_order, axis=1)\n",
    "dfp_60"
   ]
  },
  {
   "cell_type": "code",
   "execution_count": 33,
   "id": "b1e56402-d249-4b9b-91b7-95912ab57c89",
   "metadata": {},
   "outputs": [
    {
     "data": {
      "text/html": [
       "<div>\n",
       "<style scoped>\n",
       "    .dataframe tbody tr th:only-of-type {\n",
       "        vertical-align: middle;\n",
       "    }\n",
       "\n",
       "    .dataframe tbody tr th {\n",
       "        vertical-align: top;\n",
       "    }\n",
       "\n",
       "    .dataframe thead th {\n",
       "        text-align: right;\n",
       "    }\n",
       "</style>\n",
       "<table border=\"1\" class=\"dataframe\">\n",
       "  <thead>\n",
       "    <tr style=\"text-align: right;\">\n",
       "      <th>month</th>\n",
       "      <th>Jan</th>\n",
       "      <th>Feb</th>\n",
       "      <th>Mar</th>\n",
       "      <th>Apr</th>\n",
       "      <th>May</th>\n",
       "      <th>Jun</th>\n",
       "      <th>Jul</th>\n",
       "      <th>Aug</th>\n",
       "      <th>Sep</th>\n",
       "      <th>Oct</th>\n",
       "      <th>Nov</th>\n",
       "      <th>Dec</th>\n",
       "    </tr>\n",
       "    <tr>\n",
       "      <th>PAYMENT_DATE</th>\n",
       "      <th></th>\n",
       "      <th></th>\n",
       "      <th></th>\n",
       "      <th></th>\n",
       "      <th></th>\n",
       "      <th></th>\n",
       "      <th></th>\n",
       "      <th></th>\n",
       "      <th></th>\n",
       "      <th></th>\n",
       "      <th></th>\n",
       "      <th></th>\n",
       "    </tr>\n",
       "  </thead>\n",
       "  <tbody>\n",
       "    <tr>\n",
       "      <th>2022</th>\n",
       "      <td>NaN</td>\n",
       "      <td>NaN</td>\n",
       "      <td>NaN</td>\n",
       "      <td>NaN</td>\n",
       "      <td>NaN</td>\n",
       "      <td>NaN</td>\n",
       "      <td>NaN</td>\n",
       "      <td>NaN</td>\n",
       "      <td>NaN</td>\n",
       "      <td>NaN</td>\n",
       "      <td>42.0000</td>\n",
       "      <td>NaN</td>\n",
       "    </tr>\n",
       "  </tbody>\n",
       "</table>\n",
       "</div>"
      ],
      "text/plain": [
       "month         Jan  Feb  Mar  Apr  May  Jun  Jul  Aug  Sep  Oct     Nov  Dec\n",
       "PAYMENT_DATE                                                               \n",
       "2022          NaN  NaN  NaN  NaN  NaN  NaN  NaN  NaN  NaN  NaN 42.0000  NaN"
      ]
     },
     "execution_count": 33,
     "metadata": {},
     "output_type": "execute_result"
    }
   ],
   "source": [
    "# year_order = ['Jan','Feb','Mar','Apr','May','Jun','Jul','Aug','Sep','Oct','Nov','Dec']\n",
    "dfp_90 = pd.pivot_table(data=ninty, index=[ninty.PAYMENT_DATE.dt.year], columns='month', values='WAPD')\n",
    "dfp_90 = dfp_90.reindex(year_order, axis=1)\n",
    "dfp_90"
   ]
  },
  {
   "cell_type": "code",
   "execution_count": 61,
   "id": "5932f55c-0c71-4bfa-815a-68ea4ce80597",
   "metadata": {},
   "outputs": [],
   "source": [
    "ax4 = dfp_4.plot(kind='bar', figsize=(8, 4), ylabel='WAPD', xlabel='Year', rot=0,colormap='Paired')\n",
    "ax4.plot(four.CC_DAYS_TO_ADD, c = \"y\", label = \"DSO Term\")\n",
    "_ = ax4.legend(bbox_to_anchor=(1, 1.02), loc='upper left')"
   ]
  },
  {
   "cell_type": "code",
   "execution_count": 40,
   "id": "2d5faff6-c78f-4915-b264-69e09b852326",
   "metadata": {},
   "outputs": [
    {
     "data": {
      "image/png": "[encoded data removed]",
      "text/plain": [
       "<Figure size 1000x400 with 1 Axes>"
      ]
     },
     "metadata": {},
     "output_type": "display_data"
    }
   ],
   "source": [
    "ax30 = dfp_30.plot(kind='bar', figsize=(10, 4), ylabel='WAPD', xlabel='Year', rot=0,colormap='Paired')\n",
    "ax30.plot(thirty.CC_DAYS_TO_ADD, c = \"y\", label = \"DSO Term\")\n",
    "_ = ax30.legend(bbox_to_anchor=(1, 1.02), loc='upper left')"
   ]
  },
  {
   "cell_type": "code",
   "execution_count": 41,
   "id": "27975aec-b099-4b0d-a695-890fa0b83f66",
   "metadata": {},
   "outputs": [
    {
     "data": {
      "image/png": "[encoded data removed]",
      "text/plain": [
       "<Figure size 1000x400 with 1 Axes>"
      ]
     },
     "metadata": {},
     "output_type": "display_data"
    }
   ],
   "source": [
    "ax60 = dfp_60.plot(kind='bar', figsize=(10, 4), ylabel='WAPD', xlabel='Year', rot=0,colormap='Paired')\n",
    "ax60.plot(sixty.CC_DAYS_TO_ADD, c = \"y\", label = \"DSO Term\")\n",
    "_ = ax60.legend(bbox_to_anchor=(1, 1.02), loc='upper left')"
   ]
  },
  {
   "cell_type": "code",
   "execution_count": 42,
   "id": "1d09b4a6-fd26-46df-99a9-b4796ebbbf3a",
   "metadata": {},
   "outputs": [
    {
     "data": {
      "image/png": "[encoded data removed]",
      "text/plain": [
       "<Figure size 1000x400 with 1 Axes>"
      ]
     },
     "metadata": {},
     "output_type": "display_data"
    }
   ],
   "source": [
    "ax90 = dfp_90.plot(kind='bar', figsize=(10, 4), ylabel='WAPD', xlabel='Year', rot=0,colormap='Paired')\n",
    "ax90.plot(ninty.CC_DAYS_TO_ADD, c = \"y\", label = \"DSO Term\")\n",
    "_ = ax90.legend(bbox_to_anchor=(1, 1.02), loc='upper left')"
   ]
  },
  {
   "cell_type": "code",
   "execution_count": null,
   "id": "88c6c7f2-2687-4539-8689-c90c52092e92",
   "metadata": {},
   "outputs": [],
   "source": []
  },
  {
   "cell_type": "code",
   "execution_count": null,
   "id": "0954248f-038a-4d15-9a66-74de9dd180cf",
   "metadata": {},
   "outputs": [],
   "source": []
  },
  {
   "cell_type": "markdown",
   "id": "766876bc-26b5-4089-aa0d-e6082d2b54e7",
   "metadata": {},
   "source": [
    "## National Account"
   ]
  },
  {
   "cell_type": "code",
   "execution_count": null,
   "id": "4c702a63-9d3b-4f39-9bb5-b1552d5e4b74",
   "metadata": {},
   "outputs": [],
   "source": []
  }
 ],
 "metadata": {
  "environment": {
   "kernel": "python3",
   "name": "pytorch-gpu.1-13.m108",
   "type": "gcloud",
   "uri": "gcr.io/deeplearning-platform-release/pytorch-gpu.1-13:m108"
  },
  "kernelspec": {
   "display_name": "Python 3",
   "language": "python",
   "name": "python3"
  },
  "language_info": {
   "codemirror_mode": {
    "name": "ipython",
    "version": 3
   },
   "file_extension": ".py",
   "mimetype": "text/x-python",
   "name": "python",
   "nbconvert_exporter": "python",
   "pygments_lexer": "ipython3",
   "version": "3.7.12"
  }
 },
 "nbformat": 4,
 "nbformat_minor": 5
}
