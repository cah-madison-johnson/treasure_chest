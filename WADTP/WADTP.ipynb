{
 "cells": [
  {
   "cell_type": "code",
   "execution_count": 1,
   "id": "c2d4e05d-fc05-466a-a5df-dae854b27c0f",
   "metadata": {},
   "outputs": [],
   "source": [
    "# Display settings\n",
    "## Auto reload modules & inline plots\n",
    "%reload_ext autoreload\n",
    "%autoreload 2\n",
    "%matplotlib inline"
   ]
  },
  {
   "cell_type": "code",
   "execution_count": 2,
   "id": "6d5bc12e-1427-448d-bfc2-ea97baae66a0",
   "metadata": {},
   "outputs": [],
   "source": [
    "import datetime as dt #For inputing any date or time information\n",
    "from datetime import timezone #For inputing timezones\n",
    "from google.cloud import bigquery          #The BigQuery API\n",
    "import matplotlib.pyplot as plt      #For plotting\n",
    "import numpy as np                         #For scientific computation\n",
    "import os                            #For work with native operating system and directories\n",
    "from pathlib import Path             #For working with file paths and directories\n",
    "import pydata_google_auth                  #For authentication against Google \n",
    "import pandas as pd                        #For data manipulation and bgq --> pandas conversion\n",
    "import pandas_gbq as pd_gbq #Import BigQuery data to create a pandas dataframe\n",
    "import plotly.graph_objects as go # interactive plots\n",
    "import pytz #For timezone calculations\n",
    "import seaborn as sns                #For plotting\n",
    "import warnings\n",
    "import datetime"
   ]
  },
  {
   "cell_type": "code",
   "execution_count": 3,
   "id": "0f4781a0-4d30-400e-9eca-dc6f1b48691a",
   "metadata": {},
   "outputs": [],
   "source": [
    "pd.set_option('display.max_columns', None)\n",
    "pd.options.display.float_format = '{:.4f}'.format\n",
    "warnings.filterwarnings('ignore')"
   ]
  },
  {
   "cell_type": "code",
   "execution_count": 4,
   "id": "4910a1e5-5912-411f-9aca-af31465dc11a",
   "metadata": {},
   "outputs": [],
   "source": [
    "query = \"\"\"\n",
    "SELECT\n",
    "  CUSTOMER_NUMBER,\n",
    "  ENTERPRISE_ACCOUNT_NO,\n",
    "  ENTERPRISE_ACCOUNT_NAME,\n",
    "  NATIONAL_ACCOUNT,\n",
    "  PAYER,\n",
    "  DOCUMENT_DATE_IN_DOCUMENT,\n",
    "  DOCUMENT_TYPE,\n",
    "  POSTING_KEY_NAME,\n",
    "  AMOUNT_IN_LOCAL_CURRENCY,\n",
    "  CREDIT_CONTROL_AREA,\n",
    "  AR_STATUS,\n",
    "  PAYMENT_DATE\n",
    "  \n",
    "FROM\n",
    "  `edna-data-pr-cah.VW_CORP_GFSS_NP.VW_AR_AGING`\n",
    "WHERE\n",
    "  (DOCUMENT_TYPE IN ('ZF',\n",
    "      'VF', 'DH', 'DL', 'DZ', 'DW', 'DC'))\n",
    "ORDER BY\n",
    "  PAYMENT_DATE\n",
    "\"\"\""
   ]
  },
  {
   "cell_type": "markdown",
   "id": "cda44399-70ff-422d-83a1-1978151001fb",
   "metadata": {},
   "source": [
    "<font color='red'>check on: WHERE\n",
    "  (DOCUMENT_TYPE IN ('ZF',\n",
    "      'VF', 'DH', 'DL', 'DZ', 'DW', 'DC'))</font> "
   ]
  },
  {
   "cell_type": "code",
   "execution_count": 5,
   "id": "f40c94cc-547d-4e16-b49a-8529f31dd112",
   "metadata": {},
   "outputs": [],
   "source": [
    "# Import the data with imputation\n",
    "bqclient = bigquery.Client()\n",
    "df = bqclient.query(query).to_dataframe()"
   ]
  },
  {
   "cell_type": "code",
   "execution_count": 6,
   "id": "65c44fb7-3634-4da8-b17f-08bd944a890a",
   "metadata": {
    "tags": []
   },
   "outputs": [
    {
     "data": {
      "text/html": [
       "<div>\n",
       "<style scoped>\n",
       "    .dataframe tbody tr th:only-of-type {\n",
       "        vertical-align: middle;\n",
       "    }\n",
       "\n",
       "    .dataframe tbody tr th {\n",
       "        vertical-align: top;\n",
       "    }\n",
       "\n",
       "    .dataframe thead th {\n",
       "        text-align: right;\n",
       "    }\n",
       "</style>\n",
       "<table border=\"1\" class=\"dataframe\">\n",
       "  <thead>\n",
       "    <tr style=\"text-align: right;\">\n",
       "      <th></th>\n",
       "      <th>CUSTOMER_NUMBER</th>\n",
       "      <th>ENTERPRISE_ACCOUNT_NO</th>\n",
       "      <th>ENTERPRISE_ACCOUNT_NAME</th>\n",
       "      <th>NATIONAL_ACCOUNT</th>\n",
       "      <th>PAYER</th>\n",
       "      <th>DOCUMENT_DATE_IN_DOCUMENT</th>\n",
       "      <th>DOCUMENT_TYPE</th>\n",
       "      <th>POSTING_KEY_NAME</th>\n",
       "      <th>AMOUNT_IN_LOCAL_CURRENCY</th>\n",
       "      <th>CREDIT_CONTROL_AREA</th>\n",
       "      <th>AR_STATUS</th>\n",
       "      <th>PAYMENT_DATE</th>\n",
       "    </tr>\n",
       "  </thead>\n",
       "  <tbody>\n",
       "    <tr>\n",
       "      <th>0</th>\n",
       "      <td>0031002280</td>\n",
       "      <td></td>\n",
       "      <td></td>\n",
       "      <td></td>\n",
       "      <td>None</td>\n",
       "      <td>2021-04-27</td>\n",
       "      <td>DH</td>\n",
       "      <td>16 - Payment difference</td>\n",
       "      <td>-110.820000000</td>\n",
       "      <td>Z2140</td>\n",
       "      <td>CLEAR</td>\n",
       "      <td>None</td>\n",
       "    </tr>\n",
       "    <tr>\n",
       "      <th>1</th>\n",
       "      <td>0031004394</td>\n",
       "      <td>7100000234</td>\n",
       "      <td>7100000234 - NEW YORK PRESBYTERIAN HEALTHCARE ...</td>\n",
       "      <td></td>\n",
       "      <td>None</td>\n",
       "      <td>2021-04-09</td>\n",
       "      <td>DH</td>\n",
       "      <td>06 - Payment difference</td>\n",
       "      <td>282.110000000</td>\n",
       "      <td>Z2140</td>\n",
       "      <td>CLEAR</td>\n",
       "      <td>None</td>\n",
       "    </tr>\n",
       "    <tr>\n",
       "      <th>2</th>\n",
       "      <td>0031004394</td>\n",
       "      <td>7100000234</td>\n",
       "      <td>7100000234 - NEW YORK PRESBYTERIAN HEALTHCARE ...</td>\n",
       "      <td></td>\n",
       "      <td>None</td>\n",
       "      <td>2021-04-23</td>\n",
       "      <td>DH</td>\n",
       "      <td>06 - Payment difference</td>\n",
       "      <td>202.220000000</td>\n",
       "      <td>Z2140</td>\n",
       "      <td>CLEAR</td>\n",
       "      <td>None</td>\n",
       "    </tr>\n",
       "    <tr>\n",
       "      <th>3</th>\n",
       "      <td>0031004394</td>\n",
       "      <td>7100000234</td>\n",
       "      <td>7100000234 - NEW YORK PRESBYTERIAN HEALTHCARE ...</td>\n",
       "      <td></td>\n",
       "      <td>None</td>\n",
       "      <td>2021-04-20</td>\n",
       "      <td>DL</td>\n",
       "      <td>16 - Payment difference</td>\n",
       "      <td>-454.070000000</td>\n",
       "      <td>Z2140</td>\n",
       "      <td>CLEAR</td>\n",
       "      <td>None</td>\n",
       "    </tr>\n",
       "    <tr>\n",
       "      <th>4</th>\n",
       "      <td>0010012413</td>\n",
       "      <td>7100017231</td>\n",
       "      <td>7100017231 - University of Missouri System</td>\n",
       "      <td></td>\n",
       "      <td>None</td>\n",
       "      <td>2021-09-23</td>\n",
       "      <td>DH</td>\n",
       "      <td>06 - Payment difference</td>\n",
       "      <td>150.000000000</td>\n",
       "      <td>Z2140</td>\n",
       "      <td>CLEAR</td>\n",
       "      <td>None</td>\n",
       "    </tr>\n",
       "    <tr>\n",
       "      <th>...</th>\n",
       "      <td>...</td>\n",
       "      <td>...</td>\n",
       "      <td>...</td>\n",
       "      <td>...</td>\n",
       "      <td>...</td>\n",
       "      <td>...</td>\n",
       "      <td>...</td>\n",
       "      <td>...</td>\n",
       "      <td>...</td>\n",
       "      <td>...</td>\n",
       "      <td>...</td>\n",
       "      <td>...</td>\n",
       "    </tr>\n",
       "    <tr>\n",
       "      <th>53259959</th>\n",
       "      <td>2057223688</td>\n",
       "      <td>7100000645</td>\n",
       "      <td>7100000645 - UNIV OF MIAMI HEALTH SYSTEM</td>\n",
       "      <td>0000027009</td>\n",
       "      <td>2057223688</td>\n",
       "      <td>2203-06-21</td>\n",
       "      <td>DL</td>\n",
       "      <td>17 - Other clearing</td>\n",
       "      <td>-113370.440000000</td>\n",
       "      <td>PD</td>\n",
       "      <td>CLEAR</td>\n",
       "      <td>2203-06-21</td>\n",
       "    </tr>\n",
       "    <tr>\n",
       "      <th>53259960</th>\n",
       "      <td>0011098170</td>\n",
       "      <td>7100004978</td>\n",
       "      <td>7100004978 - ASC CENTER FOR CHANGE LLC</td>\n",
       "      <td></td>\n",
       "      <td>None</td>\n",
       "      <td>2222-04-26</td>\n",
       "      <td>DL</td>\n",
       "      <td>06 - Payment difference</td>\n",
       "      <td>376.180000000</td>\n",
       "      <td>Z2140</td>\n",
       "      <td>CLEAR</td>\n",
       "      <td>2222-04-26</td>\n",
       "    </tr>\n",
       "    <tr>\n",
       "      <th>53259961</th>\n",
       "      <td>0011098170</td>\n",
       "      <td>7100004978</td>\n",
       "      <td>7100004978 - ASC CENTER FOR CHANGE LLC</td>\n",
       "      <td></td>\n",
       "      <td>None</td>\n",
       "      <td>2222-04-26</td>\n",
       "      <td>DL</td>\n",
       "      <td>16 - Payment difference</td>\n",
       "      <td>-376.180000000</td>\n",
       "      <td>Z2140</td>\n",
       "      <td>CLEAR</td>\n",
       "      <td>2222-04-26</td>\n",
       "    </tr>\n",
       "    <tr>\n",
       "      <th>53259962</th>\n",
       "      <td>0010011780</td>\n",
       "      <td>7100000117</td>\n",
       "      <td>7100000117 - AVERA HEALTH</td>\n",
       "      <td></td>\n",
       "      <td>None</td>\n",
       "      <td>5019-05-25</td>\n",
       "      <td>DL</td>\n",
       "      <td>17 - Other clearing</td>\n",
       "      <td>-328.000000000</td>\n",
       "      <td>Z2140</td>\n",
       "      <td>CLEAR</td>\n",
       "      <td>5019-05-25</td>\n",
       "    </tr>\n",
       "    <tr>\n",
       "      <th>53259963</th>\n",
       "      <td>0011007021</td>\n",
       "      <td>7100000231</td>\n",
       "      <td>7100000231 - Advocate Aurora Health</td>\n",
       "      <td></td>\n",
       "      <td>None</td>\n",
       "      <td>5019-05-25</td>\n",
       "      <td>DL</td>\n",
       "      <td>07 - Other clearing</td>\n",
       "      <td>328.000000000</td>\n",
       "      <td>Z2140</td>\n",
       "      <td>CLEAR</td>\n",
       "      <td>5019-05-25</td>\n",
       "    </tr>\n",
       "  </tbody>\n",
       "</table>\n",
       "<p>53259964 rows × 12 columns</p>\n",
       "</div>"
      ],
      "text/plain": [
       "         CUSTOMER_NUMBER ENTERPRISE_ACCOUNT_NO  \\\n",
       "0             0031002280                         \n",
       "1             0031004394            7100000234   \n",
       "2             0031004394            7100000234   \n",
       "3             0031004394            7100000234   \n",
       "4             0010012413            7100017231   \n",
       "...                  ...                   ...   \n",
       "53259959      2057223688            7100000645   \n",
       "53259960      0011098170            7100004978   \n",
       "53259961      0011098170            7100004978   \n",
       "53259962      0010011780            7100000117   \n",
       "53259963      0011007021            7100000231   \n",
       "\n",
       "                                    ENTERPRISE_ACCOUNT_NAME NATIONAL_ACCOUNT  \\\n",
       "0                                                                              \n",
       "1         7100000234 - NEW YORK PRESBYTERIAN HEALTHCARE ...                    \n",
       "2         7100000234 - NEW YORK PRESBYTERIAN HEALTHCARE ...                    \n",
       "3         7100000234 - NEW YORK PRESBYTERIAN HEALTHCARE ...                    \n",
       "4                7100017231 - University of Missouri System                    \n",
       "...                                                     ...              ...   \n",
       "53259959           7100000645 - UNIV OF MIAMI HEALTH SYSTEM       0000027009   \n",
       "53259960             7100004978 - ASC CENTER FOR CHANGE LLC                    \n",
       "53259961             7100004978 - ASC CENTER FOR CHANGE LLC                    \n",
       "53259962                          7100000117 - AVERA HEALTH                    \n",
       "53259963                7100000231 - Advocate Aurora Health                    \n",
       "\n",
       "               PAYER DOCUMENT_DATE_IN_DOCUMENT DOCUMENT_TYPE  \\\n",
       "0               None                2021-04-27            DH   \n",
       "1               None                2021-04-09            DH   \n",
       "2               None                2021-04-23            DH   \n",
       "3               None                2021-04-20            DL   \n",
       "4               None                2021-09-23            DH   \n",
       "...              ...                       ...           ...   \n",
       "53259959  2057223688                2203-06-21            DL   \n",
       "53259960        None                2222-04-26            DL   \n",
       "53259961        None                2222-04-26            DL   \n",
       "53259962        None                5019-05-25            DL   \n",
       "53259963        None                5019-05-25            DL   \n",
       "\n",
       "                 POSTING_KEY_NAME AMOUNT_IN_LOCAL_CURRENCY  \\\n",
       "0         16 - Payment difference           -110.820000000   \n",
       "1         06 - Payment difference            282.110000000   \n",
       "2         06 - Payment difference            202.220000000   \n",
       "3         16 - Payment difference           -454.070000000   \n",
       "4         06 - Payment difference            150.000000000   \n",
       "...                           ...                      ...   \n",
       "53259959      17 - Other clearing        -113370.440000000   \n",
       "53259960  06 - Payment difference            376.180000000   \n",
       "53259961  16 - Payment difference           -376.180000000   \n",
       "53259962      17 - Other clearing           -328.000000000   \n",
       "53259963      07 - Other clearing            328.000000000   \n",
       "\n",
       "         CREDIT_CONTROL_AREA AR_STATUS PAYMENT_DATE  \n",
       "0                      Z2140     CLEAR         None  \n",
       "1                      Z2140     CLEAR         None  \n",
       "2                      Z2140     CLEAR         None  \n",
       "3                      Z2140     CLEAR         None  \n",
       "4                      Z2140     CLEAR         None  \n",
       "...                      ...       ...          ...  \n",
       "53259959                  PD     CLEAR   2203-06-21  \n",
       "53259960               Z2140     CLEAR   2222-04-26  \n",
       "53259961               Z2140     CLEAR   2222-04-26  \n",
       "53259962               Z2140     CLEAR   5019-05-25  \n",
       "53259963               Z2140     CLEAR   5019-05-25  \n",
       "\n",
       "[53259964 rows x 12 columns]"
      ]
     },
     "execution_count": 6,
     "metadata": {},
     "output_type": "execute_result"
    }
   ],
   "source": [
    "df"
   ]
  },
  {
   "cell_type": "code",
   "execution_count": 7,
   "id": "a8949bfd-c23f-4db9-a44c-8c06ad218631",
   "metadata": {
    "tags": []
   },
   "outputs": [],
   "source": [
    "def calc_WAPD(df):\n",
    "    WAPD_new = pd.Series([])\n",
    "    for index, row in df.iterrows():\n",
    "        start_date= row['PAYMENT_DATE']\n",
    "        end_date = row['90_days_ago']\n",
    "        try:\n",
    "            ninety_day_range = df.query('@start_date >= PAYMENT_DATE >= @end_date')\n",
    "            WAPD= ninety_day_range['Weighted Invoice Value'].sum()/ninety_day_range['AMOUNT_IN_LOCAL_CURRENCY'].sum()\n",
    "            WAPD_new[index]=WAPD\n",
    "        except:\n",
    "            print('no PAYMENT_DATE')\n",
    "    df.insert(16, \"WAPD\", WAPD_new)"
   ]
  },
  {
   "cell_type": "code",
   "execution_count": 8,
   "id": "843a8b35-d4e3-4a64-8117-ec4b1df6e420",
   "metadata": {
    "tags": []
   },
   "outputs": [],
   "source": [
    "def search_customer(CUSTOMER_NUMBER):\n",
    "    CUSTOMER_df=df.query('CUSTOMER_NUMBER == @CUSTOMER_NUMBER')\n",
    "    CUSTOMER_df=CUSTOMER_df.query('POSTING_KEY_NAME == \"01 - Invoice\" & AR_STATUS == \"CLEAR\"')\n",
    "    CUSTOMER_df.reset_index(inplace = True)\n",
    "    \n",
    "    \n",
    "    CUSTOMER_df['AMOUNT_IN_LOCAL_CURRENCY']=CUSTOMER_df['AMOUNT_IN_LOCAL_CURRENCY'].apply(lambda x: float(x))\n",
    "#     Sub Payment Date from Invoice Date\n",
    "    CUSTOMER_df['Sub Payment Date from Invoice Date']=(CUSTOMER_df['PAYMENT_DATE']-CUSTOMER_df['DOCUMENT_DATE_IN_DOCUMENT']).dt.days\n",
    "#     Weighted Invoice Value\n",
    "    CUSTOMER_df['Weighted Invoice Value']= CUSTOMER_df['Sub Payment Date from Invoice Date']*CUSTOMER_df['AMOUNT_IN_LOCAL_CURRENCY']\n",
    "# WAPD\n",
    "    import datetime\n",
    "    current = CUSTOMER_df['PAYMENT_DATE']\n",
    "    d = datetime.timedelta(days = 90)\n",
    "    days_ago = (current - d)\n",
    "    CUSTOMER_df['90 days ago']= days_ago\n",
    "    # WAPD_dates = (CUSTOMER_df['PAYMENT_DATE'] > CUSTOMER_df['90 days ago'][0]) & (CUSTOMER_df['PAYMENT_DATE'] <= CUSTOMER_df['PAYMENT_DATE'][0])\n",
    "    # df2 = CUSTOMER_df.loc[WAPD_dates]\n",
    "    \n",
    "    calc_WAPD(CUSTOMER_df)\n",
    "\n",
    "    return CUSTOMER_df"
   ]
  },
  {
   "cell_type": "code",
   "execution_count": 9,
   "id": "db16e6c4-b062-4f3e-a4cd-f5aa8120c4c0",
   "metadata": {},
   "outputs": [],
   "source": [
    "def search_EAN(ENTERPRISE_ACCOUNT_NAME):\n",
    "    None"
   ]
  },
  {
   "cell_type": "code",
   "execution_count": 10,
   "id": "dafdf0c6-22fd-4c12-982e-a7ea06dfff70",
   "metadata": {},
   "outputs": [],
   "source": [
    "def search_EAN(ENTERPRISE_ACCOUNT_NAME):\n",
    "    None"
   ]
  },
  {
   "cell_type": "markdown",
   "id": "4738cf66-a9d3-43bb-93f3-898faa50ec71",
   "metadata": {},
   "source": [
    "# **********************************************************************************************************"
   ]
  },
  {
   "cell_type": "code",
   "execution_count": 11,
   "id": "4b1999a1-322b-431f-b4e1-0c23398e17cb",
   "metadata": {},
   "outputs": [],
   "source": [
    "CONVERSIO_HEALTH_df=df.query('CUSTOMER_NUMBER == \"2057194397\"')"
   ]
  },
  {
   "cell_type": "code",
   "execution_count": 12,
   "id": "db06ac3c-0320-4507-a2ce-aa3e215ed17e",
   "metadata": {},
   "outputs": [],
   "source": [
    "CONVERSIO_HEALTH_df=CONVERSIO_HEALTH_df.query('POSTING_KEY_NAME == \"01 - Invoice\" & AR_STATUS == \"CLEAR\"')"
   ]
  },
  {
   "cell_type": "code",
   "execution_count": 13,
   "id": "8b7720fc-0eb6-44c9-9675-5249bbb59535",
   "metadata": {
    "tags": []
   },
   "outputs": [
    {
     "data": {
      "text/plain": [
       "CUSTOMER_NUMBER              0\n",
       "ENTERPRISE_ACCOUNT_NO        0\n",
       "ENTERPRISE_ACCOUNT_NAME      0\n",
       "NATIONAL_ACCOUNT             0\n",
       "PAYER                        0\n",
       "DOCUMENT_DATE_IN_DOCUMENT    0\n",
       "DOCUMENT_TYPE                0\n",
       "POSTING_KEY_NAME             0\n",
       "AMOUNT_IN_LOCAL_CURRENCY     0\n",
       "CREDIT_CONTROL_AREA          0\n",
       "AR_STATUS                    0\n",
       "PAYMENT_DATE                 2\n",
       "dtype: int64"
      ]
     },
     "execution_count": 13,
     "metadata": {},
     "output_type": "execute_result"
    }
   ],
   "source": [
    "CONVERSIO_HEALTH_df.isnull().sum()"
   ]
  },
  {
   "cell_type": "code",
   "execution_count": 14,
   "id": "c6074a45-4fa0-432d-9617-6ae7066767ed",
   "metadata": {},
   "outputs": [],
   "source": [
    "CONVERSIO_HEALTH_df.reset_index(inplace = True)"
   ]
  },
  {
   "cell_type": "code",
   "execution_count": 15,
   "id": "b391a4a1-1f8d-46df-ae6d-72ee5eb9e73e",
   "metadata": {},
   "outputs": [],
   "source": [
    "# CONVERSIO_HEALTH_df[''] = float(CONVERSIO_HEALTH_df['AMOUNT_IN_LOCAL_CURRENCY'])\n",
    "CONVERSIO_HEALTH_df['AMOUNT_IN_LOCAL_CURRENCY']=CONVERSIO_HEALTH_df['AMOUNT_IN_LOCAL_CURRENCY'].apply(lambda x: float(x))"
   ]
  },
  {
   "cell_type": "code",
   "execution_count": 16,
   "id": "60f18b6d-a48c-4ac2-b464-67656bb034f0",
   "metadata": {},
   "outputs": [
    {
     "data": {
      "text/html": [
       "<div>\n",
       "<style scoped>\n",
       "    .dataframe tbody tr th:only-of-type {\n",
       "        vertical-align: middle;\n",
       "    }\n",
       "\n",
       "    .dataframe tbody tr th {\n",
       "        vertical-align: top;\n",
       "    }\n",
       "\n",
       "    .dataframe thead th {\n",
       "        text-align: right;\n",
       "    }\n",
       "</style>\n",
       "<table border=\"1\" class=\"dataframe\">\n",
       "  <thead>\n",
       "    <tr style=\"text-align: right;\">\n",
       "      <th></th>\n",
       "      <th>index</th>\n",
       "      <th>CUSTOMER_NUMBER</th>\n",
       "      <th>ENTERPRISE_ACCOUNT_NO</th>\n",
       "      <th>ENTERPRISE_ACCOUNT_NAME</th>\n",
       "      <th>NATIONAL_ACCOUNT</th>\n",
       "      <th>PAYER</th>\n",
       "      <th>DOCUMENT_DATE_IN_DOCUMENT</th>\n",
       "      <th>DOCUMENT_TYPE</th>\n",
       "      <th>POSTING_KEY_NAME</th>\n",
       "      <th>AMOUNT_IN_LOCAL_CURRENCY</th>\n",
       "      <th>CREDIT_CONTROL_AREA</th>\n",
       "      <th>AR_STATUS</th>\n",
       "      <th>PAYMENT_DATE</th>\n",
       "    </tr>\n",
       "  </thead>\n",
       "  <tbody>\n",
       "    <tr>\n",
       "      <th>478</th>\n",
       "      <td>46838414</td>\n",
       "      <td>2057194397</td>\n",
       "      <td>7100004137</td>\n",
       "      <td>7100004137 - CONVERSIO HEALTH</td>\n",
       "      <td>0000000101</td>\n",
       "      <td>2057194397</td>\n",
       "      <td>2023-06-29</td>\n",
       "      <td>ZF</td>\n",
       "      <td>01 - Invoice</td>\n",
       "      <td>2179.2600</td>\n",
       "      <td>PD</td>\n",
       "      <td>CLEAR</td>\n",
       "      <td>2023-07-21</td>\n",
       "    </tr>\n",
       "    <tr>\n",
       "      <th>527</th>\n",
       "      <td>51134561</td>\n",
       "      <td>2057194397</td>\n",
       "      <td>7100004137</td>\n",
       "      <td>7100004137 - CONVERSIO HEALTH</td>\n",
       "      <td>0000000101</td>\n",
       "      <td>2057194397</td>\n",
       "      <td>2023-07-28</td>\n",
       "      <td>ZF</td>\n",
       "      <td>01 - Invoice</td>\n",
       "      <td>2179.2600</td>\n",
       "      <td>PD</td>\n",
       "      <td>CLEAR</td>\n",
       "      <td>2023-08-25</td>\n",
       "    </tr>\n",
       "  </tbody>\n",
       "</table>\n",
       "</div>"
      ],
      "text/plain": [
       "        index CUSTOMER_NUMBER ENTERPRISE_ACCOUNT_NO  \\\n",
       "478  46838414      2057194397            7100004137   \n",
       "527  51134561      2057194397            7100004137   \n",
       "\n",
       "           ENTERPRISE_ACCOUNT_NAME NATIONAL_ACCOUNT       PAYER  \\\n",
       "478  7100004137 - CONVERSIO HEALTH       0000000101  2057194397   \n",
       "527  7100004137 - CONVERSIO HEALTH       0000000101  2057194397   \n",
       "\n",
       "    DOCUMENT_DATE_IN_DOCUMENT DOCUMENT_TYPE POSTING_KEY_NAME  \\\n",
       "478                2023-06-29            ZF     01 - Invoice   \n",
       "527                2023-07-28            ZF     01 - Invoice   \n",
       "\n",
       "     AMOUNT_IN_LOCAL_CURRENCY CREDIT_CONTROL_AREA AR_STATUS PAYMENT_DATE  \n",
       "478                 2179.2600                  PD     CLEAR   2023-07-21  \n",
       "527                 2179.2600                  PD     CLEAR   2023-08-25  "
      ]
     },
     "execution_count": 16,
     "metadata": {},
     "output_type": "execute_result"
    }
   ],
   "source": [
    "CONVERSIO_HEALTH_df.query('2179.26 >=AMOUNT_IN_LOCAL_CURRENCY >= 2178.26')"
   ]
  },
  {
   "cell_type": "markdown",
   "id": "4d6fb9fd-4a95-42bf-aaf3-6fe905c191cf",
   "metadata": {},
   "source": [
    "### Sub Payment Date from Invoice Date "
   ]
  },
  {
   "cell_type": "code",
   "execution_count": 17,
   "id": "b5cab197-649c-4b9a-b70d-d05801fe31fd",
   "metadata": {},
   "outputs": [],
   "source": [
    "CONVERSIO_HEALTH_df['Sub Payment Date from Invoice Date']=(CONVERSIO_HEALTH_df['PAYMENT_DATE']-CONVERSIO_HEALTH_df['DOCUMENT_DATE_IN_DOCUMENT']).dt.days"
   ]
  },
  {
   "cell_type": "markdown",
   "id": "890b68d9-a01f-4973-bdee-a1dbe6d6ada1",
   "metadata": {},
   "source": [
    "### Weighted Invoice Value"
   ]
  },
  {
   "cell_type": "code",
   "execution_count": 18,
   "id": "588d71cf-dea6-4fb6-9bc9-cd01b6a7e324",
   "metadata": {},
   "outputs": [],
   "source": [
    "CONVERSIO_HEALTH_df['Weighted Invoice Value']= CONVERSIO_HEALTH_df['Sub Payment Date from Invoice Date']*CONVERSIO_HEALTH_df['AMOUNT_IN_LOCAL_CURRENCY']"
   ]
  },
  {
   "cell_type": "markdown",
   "id": "1c12582e-bad8-4654-8e5f-2a6fc4cbee16",
   "metadata": {},
   "source": [
    "### WAPD \n",
    "\n",
    "=SUM(*Weighted Invoice Value* 8:AR15)/SUM(*AMOUNT_IN_LOCAL_CURRENCY* 8:AS15)"
   ]
  },
  {
   "cell_type": "code",
   "execution_count": 19,
   "id": "96b66ef5-7834-4988-afea-0892f5f6378f",
   "metadata": {},
   "outputs": [],
   "source": [
    "# CONVERSIO_HEALTH_df['WAPD']= CONVERSIO_HEALTH_df['Weighted Invoice Value']/CONVERSIO_HEALTH_df['AMOUNT_IN_LOCAL_CURRENCY']"
   ]
  },
  {
   "cell_type": "code",
   "execution_count": 20,
   "id": "8b101283-ad25-45f4-bbe3-115479cc8503",
   "metadata": {},
   "outputs": [],
   "source": [
    "import datetime\n",
    "current = pd.to_datetime(CONVERSIO_HEALTH_df['PAYMENT_DATE'])\n",
    "CONVERSIO_HEALTH_df['90_days_ago']= current - pd.to_timedelta('90 days')"
   ]
  },
  {
   "cell_type": "code",
   "execution_count": 22,
   "id": "8b0abfc8-4b70-4dec-b221-4ccaabd82f6c",
   "metadata": {},
   "outputs": [],
   "source": [
    "CONVERSIO_HEALTH_df['PAYMENT_DATE']=pd.to_datetime(CONVERSIO_HEALTH_df['PAYMENT_DATE'])"
   ]
  },
  {
   "cell_type": "code",
   "execution_count": 42,
   "id": "5087aabe-0e4d-4fc2-8227-8770369faa05",
   "metadata": {
    "tags": []
   },
   "outputs": [],
   "source": [
    "# CONVERSIO_HEALTH_df.query('\"2022-10-14\" >= PAYMENT_DATE >= \"2022-07-16\"')"
   ]
  },
  {
   "cell_type": "code",
   "execution_count": 26,
   "id": "1c7d3b99-45f8-41ac-b789-f10c10432b15",
   "metadata": {
    "scrolled": true,
    "tags": []
   },
   "outputs": [
    {
     "name": "stdout",
     "output_type": "stream",
     "text": [
      "no PAYMENT_DATE\n",
      "no PAYMENT_DATE\n"
     ]
    }
   ],
   "source": [
    "WAPD_new = pd.Series([])\n",
    "for index, row in CONVERSIO_HEALTH_df.iterrows():\n",
    "    start_date= row['PAYMENT_DATE']\n",
    "    end_date = row['90_days_ago']\n",
    "    try:\n",
    "        ninety_day_range = CONVERSIO_HEALTH_df.query('@start_date >= PAYMENT_DATE >= @end_date')\n",
    "        WAPD= ninety_day_range['Weighted Invoice Value'].sum()/ninety_day_range['AMOUNT_IN_LOCAL_CURRENCY'].sum()\n",
    "        WAPD_new[index]=WAPD\n",
    "    except:\n",
    "        print('no PAYMENT_DATE')\n",
    "CONVERSIO_HEALTH_df.insert(16, \"WAPD\", WAPD_new)"
   ]
  },
  {
   "cell_type": "markdown",
   "id": "2a399b1d-0ef2-4692-9bc6-04f43c92ee5b",
   "metadata": {},
   "source": [
    "# Visualization"
   ]
  },
  {
   "cell_type": "markdown",
   "id": "6c411fd8-6c27-44d1-bca2-19c557dc247a",
   "metadata": {},
   "source": [
    "## Customer"
   ]
  },
  {
   "cell_type": "code",
   "execution_count": 32,
   "id": "28002833-3095-4232-83c0-e4baa33ef3cb",
   "metadata": {},
   "outputs": [
    {
     "data": {
      "text/plain": [
       "array(['0031002280', '0031004394', '0010012413', ..., '2057183654',\n",
       "       '2057158691', '0010015540'], dtype=object)"
      ]
     },
     "execution_count": 32,
     "metadata": {},
     "output_type": "execute_result"
    }
   ],
   "source": [
    "df['CUSTOMER_NUMBER'].unique()"
   ]
  },
  {
   "cell_type": "code",
   "execution_count": 33,
   "id": "4799ed16-4197-493f-a43e-81c011e79416",
   "metadata": {},
   "outputs": [],
   "source": [
    "customer = \"2057194397\"\n",
    "# t = search_customer(customer)"
   ]
  },
  {
   "cell_type": "code",
   "execution_count": 41,
   "id": "b21a4893-1596-4dfe-8557-090264eae284",
   "metadata": {
    "tags": []
   },
   "outputs": [],
   "source": [
    "CONVERSIO_HEALTH_df['month'] = CONVERSIO_HEALTH_df['PAYMENT_DATE'].dt.strftime('%b')"
   ]
  },
  {
   "cell_type": "code",
   "execution_count": 35,
   "id": "55aebe6d-9aaf-4d9b-a7c0-39974dd4565d",
   "metadata": {
    "tags": []
   },
   "outputs": [],
   "source": [
    "# plt.bar(CONVERSIO_HEALTH_df['month'],CONVERSIO_HEALTH_df['WAPD'])"
   ]
  },
  {
   "cell_type": "code",
   "execution_count": 38,
   "id": "865d9a3b-36ad-47c6-96fa-1c7233dc95f7",
   "metadata": {},
   "outputs": [
    {
     "data": {
      "text/html": [
       "<div>\n",
       "<style scoped>\n",
       "    .dataframe tbody tr th:only-of-type {\n",
       "        vertical-align: middle;\n",
       "    }\n",
       "\n",
       "    .dataframe tbody tr th {\n",
       "        vertical-align: top;\n",
       "    }\n",
       "\n",
       "    .dataframe thead th {\n",
       "        text-align: right;\n",
       "    }\n",
       "</style>\n",
       "<table border=\"1\" class=\"dataframe\">\n",
       "  <thead>\n",
       "    <tr style=\"text-align: right;\">\n",
       "      <th>month</th>\n",
       "      <th>Jan</th>\n",
       "      <th>Feb</th>\n",
       "      <th>Mar</th>\n",
       "      <th>Apr</th>\n",
       "      <th>May</th>\n",
       "      <th>Jun</th>\n",
       "      <th>Jul</th>\n",
       "      <th>Aug</th>\n",
       "      <th>Sep</th>\n",
       "      <th>Oct</th>\n",
       "      <th>Nov</th>\n",
       "      <th>Dec</th>\n",
       "    </tr>\n",
       "    <tr>\n",
       "      <th>PAYMENT_DATE</th>\n",
       "      <th></th>\n",
       "      <th></th>\n",
       "      <th></th>\n",
       "      <th></th>\n",
       "      <th></th>\n",
       "      <th></th>\n",
       "      <th></th>\n",
       "      <th></th>\n",
       "      <th></th>\n",
       "      <th></th>\n",
       "      <th></th>\n",
       "      <th></th>\n",
       "    </tr>\n",
       "  </thead>\n",
       "  <tbody>\n",
       "    <tr>\n",
       "      <th>2022.0000</th>\n",
       "      <td>NaN</td>\n",
       "      <td>NaN</td>\n",
       "      <td>NaN</td>\n",
       "      <td>NaN</td>\n",
       "      <td>NaN</td>\n",
       "      <td>NaN</td>\n",
       "      <td>NaN</td>\n",
       "      <td>NaN</td>\n",
       "      <td>30.2435</td>\n",
       "      <td>29.8647</td>\n",
       "      <td>29.9069</td>\n",
       "      <td>29.9826</td>\n",
       "    </tr>\n",
       "    <tr>\n",
       "      <th>2023.0000</th>\n",
       "      <td>30.0828</td>\n",
       "      <td>29.5841</td>\n",
       "      <td>27.5906</td>\n",
       "      <td>24.8068</td>\n",
       "      <td>24.9288</td>\n",
       "      <td>24.9342</td>\n",
       "      <td>26.1582</td>\n",
       "      <td>25.3285</td>\n",
       "      <td>26.5825</td>\n",
       "      <td>NaN</td>\n",
       "      <td>NaN</td>\n",
       "      <td>NaN</td>\n",
       "    </tr>\n",
       "  </tbody>\n",
       "</table>\n",
       "</div>"
      ],
      "text/plain": [
       "month            Jan     Feb     Mar     Apr     May     Jun     Jul     Aug  \\\n",
       "PAYMENT_DATE                                                                   \n",
       "2022.0000        NaN     NaN     NaN     NaN     NaN     NaN     NaN     NaN   \n",
       "2023.0000    30.0828 29.5841 27.5906 24.8068 24.9288 24.9342 26.1582 25.3285   \n",
       "\n",
       "month            Sep     Oct     Nov     Dec  \n",
       "PAYMENT_DATE                                  \n",
       "2022.0000    30.2435 29.8647 29.9069 29.9826  \n",
       "2023.0000    26.5825     NaN     NaN     NaN  "
      ]
     },
     "execution_count": 38,
     "metadata": {},
     "output_type": "execute_result"
    }
   ],
   "source": [
    "year_order = ['Jan','Feb','Mar','Apr','May','Jun','Jul','Aug','Sep','Oct','Nov','Dec']\n",
    "dfp = pd.pivot_table(data=CONVERSIO_HEALTH_df, index=[CONVERSIO_HEALTH_df.PAYMENT_DATE.dt.year], columns='month', values='WAPD')\n",
    "dfp = dfp.reindex(year_order, axis=1)\n",
    "dfp"
   ]
  },
  {
   "cell_type": "code",
   "execution_count": 40,
   "id": "cb71493e-e79b-4063-9836-5d5170f00add",
   "metadata": {},
   "outputs": [
    {
     "data": {
      "image/png": "[encoded data removed]",
      "text/plain": [
       "<Figure size 1200x400 with 1 Axes>"
      ]
     },
     "metadata": {},
     "output_type": "display_data"
    }
   ],
   "source": [
    "ax = dfp.plot(kind='bar', figsize=(12, 4), ylabel='WAPD', xlabel='Year', rot=0,colormap='Paired')\n",
    "_ = ax.legend(bbox_to_anchor=(1, 1.02), loc='upper left')"
   ]
  },
  {
   "cell_type": "markdown",
   "id": "10a6bbd6-e88a-498a-996e-dcdb5f781a1e",
   "metadata": {},
   "source": [
    "## EAN"
   ]
  },
  {
   "cell_type": "code",
   "execution_count": null,
   "id": "1e39ccb0-5d81-44ee-9b48-75808ba6dda9",
   "metadata": {},
   "outputs": [],
   "source": []
  },
  {
   "cell_type": "markdown",
   "id": "766876bc-26b5-4089-aa0d-e6082d2b54e7",
   "metadata": {},
   "source": [
    "## National Account"
   ]
  },
  {
   "cell_type": "code",
   "execution_count": null,
   "id": "4c702a63-9d3b-4f39-9bb5-b1552d5e4b74",
   "metadata": {},
   "outputs": [],
   "source": []
  }
 ],
 "metadata": {
  "environment": {
   "kernel": "python3",
   "name": "pytorch-gpu.1-13.m108",
   "type": "gcloud",
   "uri": "gcr.io/deeplearning-platform-release/pytorch-gpu.1-13:m108"
  },
  "kernelspec": {
   "display_name": "Python 3",
   "language": "python",
   "name": "python3"
  },
  "language_info": {
   "codemirror_mode": {
    "name": "ipython",
    "version": 3
   },
   "file_extension": ".py",
   "mimetype": "text/x-python",
   "name": "python",
   "nbconvert_exporter": "python",
   "pygments_lexer": "ipython3",
   "version": "3.7.12"
  }
 },
 "nbformat": 4,
 "nbformat_minor": 5
}
