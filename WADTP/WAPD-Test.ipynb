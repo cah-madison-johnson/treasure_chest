{
 "cells": [
  {
   "cell_type": "code",
   "execution_count": 1,
   "id": "c2d4e05d-fc05-466a-a5df-dae854b27c0f",
   "metadata": {},
   "outputs": [],
   "source": [
    "# Display settings\n",
    "## Auto reload modules & inline plots\n",
    "%reload_ext autoreload\n",
    "%autoreload 2\n",
    "%matplotlib inline"
   ]
  },
  {
   "cell_type": "code",
   "execution_count": 2,
   "id": "6d5bc12e-1427-448d-bfc2-ea97baae66a0",
   "metadata": {},
   "outputs": [],
   "source": [
    "import datetime as dt #For inputing any date or time information\n",
    "from datetime import timezone #For inputing timezones\n",
    "from google.cloud import bigquery          #The BigQuery API\n",
    "import matplotlib.pyplot as plt      #For plotting\n",
    "import numpy as np                         #For scientific computation\n",
    "import os                            #For work with native operating system and directories\n",
    "from pathlib import Path             #For working with file paths and directories\n",
    "import pydata_google_auth                  #For authentication against Google \n",
    "import pandas as pd                        #For data manipulation and bgq --> pandas conversion\n",
    "import pandas_gbq as pd_gbq #Import BigQuery data to create a pandas dataframe\n",
    "import plotly.graph_objects as go # interactive plots\n",
    "import pytz #For timezone calculations\n",
    "import seaborn as sns                #For plotting\n",
    "import warnings\n",
    "import datetime\n",
    "\n",
    "from plotly.subplots import make_subplots\n",
    "import plotly.express as px\n",
    "import plotly.graph_objects as go"
   ]
  },
  {
   "cell_type": "code",
   "execution_count": 3,
   "id": "0f4781a0-4d30-400e-9eca-dc6f1b48691a",
   "metadata": {},
   "outputs": [],
   "source": [
    "pd.set_option('display.max_columns', None)\n",
    "pd.options.display.float_format = '{:.4f}'.format\n",
    "warnings.filterwarnings('ignore')"
   ]
  },
  {
   "cell_type": "code",
   "execution_count": 4,
   "id": "4910a1e5-5912-411f-9aca-af31465dc11a",
   "metadata": {},
   "outputs": [],
   "source": [
    "query = \"\"\"\n",
    "SELECT\n",
    "  CUSTOMER_NUMBER,\n",
    "  ENTERPRISE_ACCOUNT_NO,\n",
    "  ENTERPRISE_ACCOUNT_NAME,\n",
    "  NATIONAL_ACCOUNT,\n",
    "  PAYER,\n",
    "  DOCUMENT_DATE_IN_DOCUMENT,\n",
    "  DOCUMENT_TYPE,\n",
    "  POSTING_KEY_NAME,\n",
    "  AMOUNT_IN_LOCAL_CURRENCY,\n",
    "  CREDIT_CONTROL_AREA,\n",
    "  AR_STATUS,\n",
    "  PAYMENT_DATE,\n",
    "  CC_DAYS_TO_ADD,\n",
    "  TERMS_OF_PAYMENT_KEY  \n",
    "FROM\n",
    "  `edna-data-pr-cah.VW_CORP_GFSS_NP.VW_AR_AGING`\n",
    "WHERE\n",
    "  (DOCUMENT_TYPE IN ('ZF',\n",
    "      'VF', 'DH', 'DL', 'DZ', 'DW', 'DC'))\n",
    "    AND (\"2024-01-01\" >=PAYMENT_DATE)\n",
    "ORDER BY\n",
    "  PAYMENT_DATE\n",
    "\"\"\""
   ]
  },
  {
   "cell_type": "markdown",
   "id": "cda44399-70ff-422d-83a1-1978151001fb",
   "metadata": {},
   "source": [
    "<font color='red'>check on: WHERE\n",
    "  (DOCUMENT_TYPE IN ('ZF',\n",
    "      'VF', 'DH', 'DL', 'DZ', 'DW', 'DC'))</font> "
   ]
  },
  {
   "cell_type": "code",
   "execution_count": 5,
   "id": "f40c94cc-547d-4e16-b49a-8529f31dd112",
   "metadata": {},
   "outputs": [],
   "source": [
    "# Import the data with imputation\n",
    "bqclient = bigquery.Client()\n",
    "df = bqclient.query(query).to_dataframe()"
   ]
  },
  {
   "cell_type": "code",
   "execution_count": 6,
   "id": "65c44fb7-3634-4da8-b17f-08bd944a890a",
   "metadata": {
    "tags": []
   },
   "outputs": [
    {
     "data": {
      "text/html": [
       "<div>\n",
       "<style scoped>\n",
       "    .dataframe tbody tr th:only-of-type {\n",
       "        vertical-align: middle;\n",
       "    }\n",
       "\n",
       "    .dataframe tbody tr th {\n",
       "        vertical-align: top;\n",
       "    }\n",
       "\n",
       "    .dataframe thead th {\n",
       "        text-align: right;\n",
       "    }\n",
       "</style>\n",
       "<table border=\"1\" class=\"dataframe\">\n",
       "  <thead>\n",
       "    <tr style=\"text-align: right;\">\n",
       "      <th></th>\n",
       "      <th>CUSTOMER_NUMBER</th>\n",
       "      <th>ENTERPRISE_ACCOUNT_NO</th>\n",
       "      <th>ENTERPRISE_ACCOUNT_NAME</th>\n",
       "      <th>NATIONAL_ACCOUNT</th>\n",
       "      <th>PAYER</th>\n",
       "      <th>DOCUMENT_DATE_IN_DOCUMENT</th>\n",
       "      <th>DOCUMENT_TYPE</th>\n",
       "      <th>POSTING_KEY_NAME</th>\n",
       "      <th>AMOUNT_IN_LOCAL_CURRENCY</th>\n",
       "      <th>CREDIT_CONTROL_AREA</th>\n",
       "      <th>AR_STATUS</th>\n",
       "      <th>PAYMENT_DATE</th>\n",
       "      <th>CC_DAYS_TO_ADD</th>\n",
       "      <th>TERMS_OF_PAYMENT_KEY</th>\n",
       "    </tr>\n",
       "  </thead>\n",
       "  <tbody>\n",
       "    <tr>\n",
       "      <th>0</th>\n",
       "      <td>2057199296</td>\n",
       "      <td></td>\n",
       "      <td></td>\n",
       "      <td>0000041400</td>\n",
       "      <td>2057199296</td>\n",
       "      <td>2023-08-24</td>\n",
       "      <td>ZF</td>\n",
       "      <td>01 - Invoice</td>\n",
       "      <td>11.130000000</td>\n",
       "      <td>PD</td>\n",
       "      <td>CLEAR</td>\n",
       "      <td>2007-12-13</td>\n",
       "      <td>5.000000000</td>\n",
       "      <td>YS05</td>\n",
       "    </tr>\n",
       "    <tr>\n",
       "      <th>1</th>\n",
       "      <td>2057199296</td>\n",
       "      <td></td>\n",
       "      <td></td>\n",
       "      <td>0000041400</td>\n",
       "      <td>2057199296</td>\n",
       "      <td>2023-08-25</td>\n",
       "      <td>ZF</td>\n",
       "      <td>01 - Invoice</td>\n",
       "      <td>12115.260000000</td>\n",
       "      <td>PD</td>\n",
       "      <td>CLEAR</td>\n",
       "      <td>2007-12-13</td>\n",
       "      <td>5.000000000</td>\n",
       "      <td>YS05</td>\n",
       "    </tr>\n",
       "    <tr>\n",
       "      <th>2</th>\n",
       "      <td>2057199296</td>\n",
       "      <td></td>\n",
       "      <td></td>\n",
       "      <td>0000041400</td>\n",
       "      <td>2057199296</td>\n",
       "      <td>2023-08-23</td>\n",
       "      <td>ZF</td>\n",
       "      <td>11 - Credit memo</td>\n",
       "      <td>-10.130000000</td>\n",
       "      <td>PD</td>\n",
       "      <td>CLEAR</td>\n",
       "      <td>2007-12-13</td>\n",
       "      <td>0E-9</td>\n",
       "      <td>YS05</td>\n",
       "    </tr>\n",
       "    <tr>\n",
       "      <th>3</th>\n",
       "      <td>2057199296</td>\n",
       "      <td></td>\n",
       "      <td></td>\n",
       "      <td>0000041400</td>\n",
       "      <td>2057199296</td>\n",
       "      <td>2023-08-21</td>\n",
       "      <td>ZF</td>\n",
       "      <td>01 - Invoice</td>\n",
       "      <td>474.830000000</td>\n",
       "      <td>PD</td>\n",
       "      <td>CLEAR</td>\n",
       "      <td>2007-12-13</td>\n",
       "      <td>5.000000000</td>\n",
       "      <td>YS05</td>\n",
       "    </tr>\n",
       "    <tr>\n",
       "      <th>4</th>\n",
       "      <td>2057199296</td>\n",
       "      <td></td>\n",
       "      <td></td>\n",
       "      <td>0000041400</td>\n",
       "      <td>2057199296</td>\n",
       "      <td>2023-08-23</td>\n",
       "      <td>ZF</td>\n",
       "      <td>01 - Invoice</td>\n",
       "      <td>25.280000000</td>\n",
       "      <td>PD</td>\n",
       "      <td>CLEAR</td>\n",
       "      <td>2007-12-13</td>\n",
       "      <td>5.000000000</td>\n",
       "      <td>YS05</td>\n",
       "    </tr>\n",
       "    <tr>\n",
       "      <th>...</th>\n",
       "      <td>...</td>\n",
       "      <td>...</td>\n",
       "      <td>...</td>\n",
       "      <td>...</td>\n",
       "      <td>...</td>\n",
       "      <td>...</td>\n",
       "      <td>...</td>\n",
       "      <td>...</td>\n",
       "      <td>...</td>\n",
       "      <td>...</td>\n",
       "      <td>...</td>\n",
       "      <td>...</td>\n",
       "      <td>...</td>\n",
       "      <td>...</td>\n",
       "    </tr>\n",
       "    <tr>\n",
       "      <th>50678254</th>\n",
       "      <td>0011139510</td>\n",
       "      <td>7100000255</td>\n",
       "      <td>7100000255 - ADVENTIST HEALTH</td>\n",
       "      <td></td>\n",
       "      <td>None</td>\n",
       "      <td>2023-12-22</td>\n",
       "      <td>DH</td>\n",
       "      <td>07 - Other clearing</td>\n",
       "      <td>14319.260000000</td>\n",
       "      <td>Z2140</td>\n",
       "      <td>CLEAR</td>\n",
       "      <td>2023-12-22</td>\n",
       "      <td>0E-9</td>\n",
       "      <td>Y020</td>\n",
       "    </tr>\n",
       "    <tr>\n",
       "      <th>50678255</th>\n",
       "      <td>0011139510</td>\n",
       "      <td>7100000255</td>\n",
       "      <td>7100000255 - ADVENTIST HEALTH</td>\n",
       "      <td></td>\n",
       "      <td>None</td>\n",
       "      <td>2021-12-21</td>\n",
       "      <td>DH</td>\n",
       "      <td>16 - Payment difference</td>\n",
       "      <td>-246.170000000</td>\n",
       "      <td>Z2140</td>\n",
       "      <td>CLEAR</td>\n",
       "      <td>2023-12-22</td>\n",
       "      <td>0E-9</td>\n",
       "      <td></td>\n",
       "    </tr>\n",
       "    <tr>\n",
       "      <th>50678256</th>\n",
       "      <td>0011139510</td>\n",
       "      <td>7100000255</td>\n",
       "      <td>7100000255 - ADVENTIST HEALTH</td>\n",
       "      <td></td>\n",
       "      <td>None</td>\n",
       "      <td>2022-04-27</td>\n",
       "      <td>DH</td>\n",
       "      <td>16 - Payment difference</td>\n",
       "      <td>-121.890000000</td>\n",
       "      <td>Z2140</td>\n",
       "      <td>CLEAR</td>\n",
       "      <td>2023-12-22</td>\n",
       "      <td>0E-9</td>\n",
       "      <td></td>\n",
       "    </tr>\n",
       "    <tr>\n",
       "      <th>50678257</th>\n",
       "      <td>0011139510</td>\n",
       "      <td>7100000255</td>\n",
       "      <td>7100000255 - ADVENTIST HEALTH</td>\n",
       "      <td></td>\n",
       "      <td>None</td>\n",
       "      <td>2023-12-22</td>\n",
       "      <td>DH</td>\n",
       "      <td>17 - Other clearing</td>\n",
       "      <td>-42184.980000000</td>\n",
       "      <td>Z2140</td>\n",
       "      <td>CLEAR</td>\n",
       "      <td>2023-12-22</td>\n",
       "      <td>0E-9</td>\n",
       "      <td></td>\n",
       "    </tr>\n",
       "    <tr>\n",
       "      <th>50678258</th>\n",
       "      <td>0011139510</td>\n",
       "      <td>7100000255</td>\n",
       "      <td>7100000255 - ADVENTIST HEALTH</td>\n",
       "      <td></td>\n",
       "      <td>None</td>\n",
       "      <td>2022-08-09</td>\n",
       "      <td>DH</td>\n",
       "      <td>16 - Payment difference</td>\n",
       "      <td>-4.330000000</td>\n",
       "      <td>Z2140</td>\n",
       "      <td>CLEAR</td>\n",
       "      <td>2023-12-22</td>\n",
       "      <td>0E-9</td>\n",
       "      <td></td>\n",
       "    </tr>\n",
       "  </tbody>\n",
       "</table>\n",
       "<p>50678259 rows × 14 columns</p>\n",
       "</div>"
      ],
      "text/plain": [
       "         CUSTOMER_NUMBER ENTERPRISE_ACCOUNT_NO        ENTERPRISE_ACCOUNT_NAME  \\\n",
       "0             2057199296                                                        \n",
       "1             2057199296                                                        \n",
       "2             2057199296                                                        \n",
       "3             2057199296                                                        \n",
       "4             2057199296                                                        \n",
       "...                  ...                   ...                            ...   \n",
       "50678254      0011139510            7100000255  7100000255 - ADVENTIST HEALTH   \n",
       "50678255      0011139510            7100000255  7100000255 - ADVENTIST HEALTH   \n",
       "50678256      0011139510            7100000255  7100000255 - ADVENTIST HEALTH   \n",
       "50678257      0011139510            7100000255  7100000255 - ADVENTIST HEALTH   \n",
       "50678258      0011139510            7100000255  7100000255 - ADVENTIST HEALTH   \n",
       "\n",
       "         NATIONAL_ACCOUNT       PAYER DOCUMENT_DATE_IN_DOCUMENT DOCUMENT_TYPE  \\\n",
       "0              0000041400  2057199296                2023-08-24            ZF   \n",
       "1              0000041400  2057199296                2023-08-25            ZF   \n",
       "2              0000041400  2057199296                2023-08-23            ZF   \n",
       "3              0000041400  2057199296                2023-08-21            ZF   \n",
       "4              0000041400  2057199296                2023-08-23            ZF   \n",
       "...                   ...         ...                       ...           ...   \n",
       "50678254                         None                2023-12-22            DH   \n",
       "50678255                         None                2021-12-21            DH   \n",
       "50678256                         None                2022-04-27            DH   \n",
       "50678257                         None                2023-12-22            DH   \n",
       "50678258                         None                2022-08-09            DH   \n",
       "\n",
       "                 POSTING_KEY_NAME AMOUNT_IN_LOCAL_CURRENCY  \\\n",
       "0                    01 - Invoice             11.130000000   \n",
       "1                    01 - Invoice          12115.260000000   \n",
       "2                11 - Credit memo            -10.130000000   \n",
       "3                    01 - Invoice            474.830000000   \n",
       "4                    01 - Invoice             25.280000000   \n",
       "...                           ...                      ...   \n",
       "50678254      07 - Other clearing          14319.260000000   \n",
       "50678255  16 - Payment difference           -246.170000000   \n",
       "50678256  16 - Payment difference           -121.890000000   \n",
       "50678257      17 - Other clearing         -42184.980000000   \n",
       "50678258  16 - Payment difference             -4.330000000   \n",
       "\n",
       "         CREDIT_CONTROL_AREA AR_STATUS PAYMENT_DATE CC_DAYS_TO_ADD  \\\n",
       "0                         PD     CLEAR   2007-12-13    5.000000000   \n",
       "1                         PD     CLEAR   2007-12-13    5.000000000   \n",
       "2                         PD     CLEAR   2007-12-13           0E-9   \n",
       "3                         PD     CLEAR   2007-12-13    5.000000000   \n",
       "4                         PD     CLEAR   2007-12-13    5.000000000   \n",
       "...                      ...       ...          ...            ...   \n",
       "50678254               Z2140     CLEAR   2023-12-22           0E-9   \n",
       "50678255               Z2140     CLEAR   2023-12-22           0E-9   \n",
       "50678256               Z2140     CLEAR   2023-12-22           0E-9   \n",
       "50678257               Z2140     CLEAR   2023-12-22           0E-9   \n",
       "50678258               Z2140     CLEAR   2023-12-22           0E-9   \n",
       "\n",
       "         TERMS_OF_PAYMENT_KEY  \n",
       "0                        YS05  \n",
       "1                        YS05  \n",
       "2                        YS05  \n",
       "3                        YS05  \n",
       "4                        YS05  \n",
       "...                       ...  \n",
       "50678254                 Y020  \n",
       "50678255                       \n",
       "50678256                       \n",
       "50678257                       \n",
       "50678258                       \n",
       "\n",
       "[50678259 rows x 14 columns]"
      ]
     },
     "execution_count": 6,
     "metadata": {},
     "output_type": "execute_result"
    }
   ],
   "source": [
    "df"
   ]
  },
  {
   "cell_type": "code",
   "execution_count": 7,
   "id": "0843619b-913d-4c0f-b76f-830ce34dcc1a",
   "metadata": {},
   "outputs": [],
   "source": [
    "df=df.query('POSTING_KEY_NAME == \"01 - Invoice\" & AR_STATUS == \"CLEAR\"')\n",
    "# df['CC_DAYS_TO_ADD']=df['CC_DAYS_TO_ADD'].apply(lambda x: float(x))\n",
    "# df['AMOUNT_IN_LOCAL_CURRENCY']=df['AMOUNT_IN_LOCAL_CURRENCY'].apply(lambda x: float(x))\n",
    "# df.reset_index(inplace = True)\n"
   ]
  },
  {
   "cell_type": "code",
   "execution_count": null,
   "id": "a8949bfd-c23f-4db9-a44c-8c06ad218631",
   "metadata": {
    "jupyter": {
     "source_hidden": true
    },
    "tags": []
   },
   "outputs": [],
   "source": [
    "def calc_WAPD1(df_1):\n",
    "    df_1['PAYMENT_DATE']=pd.to_datetime(df_1['PAYMENT_DATE'])\n",
    "    df_1['DOCUMENT_DATE_IN_DOCUMENT']=pd.to_datetime(df_1['DOCUMENT_DATE_IN_DOCUMENT'])\n",
    "    WAPD_new = pd.Series([])\n",
    "    for index, row in df_1.iterrows():\n",
    "        start_date= row['PAYMENT_DATE']\n",
    "        end_date = row['90_days_ago']\n",
    "        try:\n",
    "            ninety_day_range = df_1.query('@start_date >= DOCUMENT_DATE_IN_DOCUMENT   >= @end_date')\n",
    "            WAPD= ninety_day_range['Weighted Invoice Value'].sum() / ninety_day_range['AMOUNT_IN_LOCAL_CURRENCY'].sum()\n",
    "            WAPD_new[index]=WAPD\n",
    "        except:\n",
    "            print('no PAYMENT_DATE')\n",
    "            WAPD_new[index]=0\n",
    "    df_1.insert(16, \"WAPD\", WAPD_new)\n",
    "    return df_1"
   ]
  },
  {
   "cell_type": "code",
   "execution_count": 8,
   "id": "637d80f0-ff93-4ce0-9abe-f78314c0b6e9",
   "metadata": {},
   "outputs": [],
   "source": [
    "def calc_WAPD(df_1):\n",
    "    try:\n",
    "        df_1['PAYMENT_DATE']=pd.to_datetime(df_1['PAYMENT_DATE'])\n",
    "        df_1['DOCUMENT_DATE_IN_DOCUMENT']=pd.to_datetime(df_1['DOCUMENT_DATE_IN_DOCUMENT'])\n",
    "        # WAPD_new = pd.Series([])\n",
    "        start_date= df_1['PAYMENT_DATE']\n",
    "        end_date = df_1['90_days_ago']\n",
    "        ninety_day_range = df_1.query('@start_date >= DOCUMENT_DATE_IN_DOCUMENT   >= @end_date')\n",
    "        # print(ninety_day_range)\n",
    "        df_1['WAPD']= ninety_day_range['Weighted Invoice Value'].sum() / ninety_day_range['AMOUNT_IN_LOCAL_CURRENCY'].sum()\n",
    "    except:\n",
    "        print('no PAYMENT_DATE')\n",
    "    \n",
    "    return df_1"
   ]
  },
  {
   "cell_type": "code",
   "execution_count": 77,
   "id": "843a8b35-d4e3-4a64-8117-ec4b1df6e420",
   "metadata": {
    "tags": []
   },
   "outputs": [],
   "source": [
    "def search_customer(CUSTOMER_NUMBER):\n",
    "    CUSTOMER_df=df.query('CUSTOMER_NUMBER == @CUSTOMER_NUMBER')\n",
    "    \n",
    "    CUSTOMER_df.reset_index(inplace = True)\n",
    "    # print(CUSTOMER_df)\n",
    "    CUSTOMER_df['AMOUNT_IN_LOCAL_CURRENCY']=CUSTOMER_df['AMOUNT_IN_LOCAL_CURRENCY'].apply(lambda x: float(x))\n",
    "#     Sub Payment Date from Invoice Date\n",
    "    CUSTOMER_df['Sub Payment Date from Invoice Date']=(CUSTOMER_df['PAYMENT_DATE']-CUSTOMER_df['DOCUMENT_DATE_IN_DOCUMENT']).dt.days\n",
    "#     Weighted Invoice Value\n",
    "    CUSTOMER_df['Weighted Invoice Value']= CUSTOMER_df['Sub Payment Date from Invoice Date']*CUSTOMER_df['AMOUNT_IN_LOCAL_CURRENCY']\n",
    "# WAPD\n",
    "    import datetime\n",
    "    current = pd.to_datetime(CUSTOMER_df['PAYMENT_DATE'])\n",
    "    CUSTOMER_df['90_days_ago']= current - pd.to_timedelta('90 days')\n",
    "    CUSTOMER_df = calc_WAPD(CUSTOMER_df)\n",
    "    CUSTOMER_df = final_dataFram(CUSTOMER_df)\n",
    "    return CUSTOMER_df"
   ]
  },
  {
   "cell_type": "code",
   "execution_count": 10,
   "id": "25fda3ea-64c0-43ab-88fd-24bd732a12d1",
   "metadata": {
    "tags": []
   },
   "outputs": [],
   "source": [
    "# Returns a tuple of DataFrames sorted by DSO term\n",
    "\n",
    "def get_terms(ENTERPRISE_ACCOUNT_NO):\n",
    "    return_list = []\n",
    "    \n",
    "    terms_df=df.query('ENTERPRISE_ACCOUNT_NO == @ENTERPRISE_ACCOUNT_NO')\n",
    "    \n",
    "    # terms_df.reset_index(inplace = True)\n",
    "    terms_list = terms_df['CC_DAYS_TO_ADD'].unique()\n",
    "    print(terms_list)\n",
    "    \n",
    "    # for dso_term in terms_list:\n",
    "    #     name = str(dso_term)+\"_term\"\n",
    "    #     name = terms_df.query('CC_DAYS_TO_ADD ==@dso_term')\n",
    "    #     return_list.append(name)\n",
    "    \n",
    "    return None\n",
    " \n",
    "\n"
   ]
  },
  {
   "cell_type": "code",
   "execution_count": 65,
   "id": "db16e6c4-b062-4f3e-a4cd-f5aa8120c4c0",
   "metadata": {
    "tags": []
   },
   "outputs": [],
   "source": [
    "def search_EAN(term,EAN):\n",
    "    print(term)\n",
    "    CUSTOMER_df=df.query('ENTERPRISE_ACCOUNT_NO == @EAN')\n",
    "    CUSTOMER_df=CUSTOMER_df.query('CC_DAYS_TO_ADD == @term')\n",
    "    CUSTOMER_df.reset_index(inplace = True)\n",
    "   \n",
    "    # CUSTOMER_df['AMOUNT_IN_LOCAL_CURRENCY']=CUSTOMER_df['AMOUNT_IN_LOCAL_CURRENCY'].apply(lambda x: float(x))\n",
    "#     Sub Payment Date from Invoice Date\n",
    "    \n",
    "    CUSTOMER_df['Sub Payment Date from Invoice Date']=(CUSTOMER_df['PAYMENT_DATE']-CUSTOMER_df['DOCUMENT_DATE_IN_DOCUMENT']).dt.days\n",
    "#     Weighted Invoice Value\n",
    "    CUSTOMER_df['Weighted Invoice Value']= CUSTOMER_df['Sub Payment Date from Invoice Date']*CUSTOMER_df['AMOUNT_IN_LOCAL_CURRENCY']\n",
    "# WAPD\n",
    "    import datetime\n",
    "    current = pd.to_datetime(CUSTOMER_df['PAYMENT_DATE'])\n",
    "    CUSTOMER_df['90_days_ago']= current - pd.to_timedelta('90 days')\n",
    "    CUSTOMER_df = calc_WAPD(CUSTOMER_df)\n",
    "    \n",
    "    \n",
    "    \n",
    "    return CUSTOMER_df"
   ]
  },
  {
   "cell_type": "code",
   "execution_count": 12,
   "id": "a546ece6-1829-4cda-8d6c-7b08dfe0d46e",
   "metadata": {
    "tags": []
   },
   "outputs": [],
   "source": [
    "def final_dataFram(toFix_df):\n",
    "    toFix_df['month'] = toFix_df['PAYMENT_DATE'].dt.strftime('%b')\n",
    "    df_final = pd.DataFrame({'Year': toFix_df.PAYMENT_DATE.dt.year,\n",
    "                   'Month': toFix_df.month,\n",
    "                   'CREDIT_CONTROL_AREA': toFix_df.CREDIT_CONTROL_AREA,\n",
    "                   'WAPD':toFix_df.WAPD,\n",
    "                    \"CC_DAYS_TO_ADD\":toFix_df.CC_DAYS_TO_ADD})\n",
    "    dfff = (\n",
    "        df_final\n",
    "        .filter([\"Year\", \"Month\",\"CREDIT_CONTROL_AREA\",\"WAPD\",\"CC_DAYS_TO_ADD\"])\n",
    "        .groupby(['Year','Month','CREDIT_CONTROL_AREA',\"CC_DAYS_TO_ADD\"])\n",
    "        .agg({'WAPD' : ['mean']})\n",
    "        .sort_values(['Year',\"Month\",\"CC_DAYS_TO_ADD\"])\n",
    "        .reset_index()\n",
    "    )\n",
    "    dfff.columns = ['Year','Month', 'CREDIT_CONTROL_AREA','CC_DAYS_TO_ADD',\"WAPD\"]\n",
    "    get_graph(dfff)\n",
    "    return dfff\n",
    "    "
   ]
  },
  {
   "cell_type": "code",
   "execution_count": 74,
   "id": "f58db648-fbec-41e9-99b9-e5197f2f4c19",
   "metadata": {
    "tags": []
   },
   "outputs": [],
   "source": [
    "def get_graph(finished_df):\n",
    "    dff = pd.DataFrame(\n",
    "        dict(\n",
    "            year=finished_df.Year.values ,\n",
    "            month=finished_df.Month.values,\n",
    "            CCA= finished_df.CREDIT_CONTROL_AREA.values,\n",
    "            WAPD=finished_df.WAPD.values,\n",
    "            dso_term = finished_df.CC_DAYS_TO_ADD.values\n",
    "        )\n",
    "    )\n",
    "\n",
    "    fig = go.Figure()\n",
    "    # fig = make_subplots(1,1)\n",
    "\n",
    "    fig.update_layout(\n",
    "        template=\"none\",\n",
    "        xaxis=dict(title_text=\"Year\"),\n",
    "        yaxis=dict(title_text=\"WAPD\"),\n",
    "        barmode=\"group\",\n",
    "    )\n",
    "\n",
    "    colors = [\"#456e73\",\"#2A66DE\", \"#FFC32B\",\"#457353\"]\n",
    "\n",
    "    for r, c in zip(dff.CCA.unique(), colors):\n",
    "        plot_df = dff[dff.CCA == r]\n",
    "        fig.add_trace(go.Bar(x=[plot_df.year, plot_df.month], y=plot_df.WAPD, name=\"DSO Term = \"+str(r), marker_color=c))\n",
    "\n",
    "\n",
    "    fig.add_trace(go.Scatter(x= [dff.year, dff.month], y=dff.dso_term, mode = 'lines',name = \"DSO Term\"))\n",
    "\n",
    "\n",
    "    # fig.plot(fi.CC_DAYS_TO_ADD, c = \"y\", label = \"DSO Term\",zorder=10)\n",
    "    fig.update_layout(title='WAPD')\n",
    "    fig.show()"
   ]
  },
  {
   "cell_type": "code",
   "execution_count": 78,
   "id": "4799ed16-4197-493f-a43e-81c011e79416",
   "metadata": {
    "scrolled": true,
    "tags": []
   },
   "outputs": [
    {
     "data": {
      "application/vnd.plotly.v1+json": {
       "config": {
        "plotlyServerURL": "https://plot.ly"
       },
       "data": [
        {
         "marker": {
          "color": "#456e73"
         },
         "name": "DSO Term = PD",
         "type": "bar",
         "x": [
          [
           2022,
           2022,
           2022,
           2022,
           2023,
           2023,
           2023,
           2023,
           2023,
           2023,
           2023,
           2023,
           2023
          ],
          [
           "Dec",
           "Nov",
           "Oct",
           "Sep",
           "Apr",
           "Aug",
           "Feb",
           "Jan",
           "Jul",
           "Jun",
           "Mar",
           "May",
           "Sep"
          ]
         ],
         "y": [
          27.256092367094208,
          27.256092367094215,
          27.25609236709421,
          27.256092367094208,
          27.25609236709421,
          27.25609236709421,
          27.25609236709421,
          27.25609236709421,
          27.25609236709421,
          27.25609236709421,
          27.25609236709421,
          27.25609236709421,
          27.25609236709421
         ]
        },
        {
         "mode": "lines",
         "name": "DSO Term",
         "type": "scatter",
         "x": [
          [
           2022,
           2022,
           2022,
           2022,
           2023,
           2023,
           2023,
           2023,
           2023,
           2023,
           2023,
           2023,
           2023
          ],
          [
           "Dec",
           "Nov",
           "Oct",
           "Sep",
           "Apr",
           "Aug",
           "Feb",
           "Jan",
           "Jul",
           "Jun",
           "Mar",
           "May",
           "Sep"
          ]
         ],
         "y": [
          28,
          28,
          28,
          28,
          28,
          28,
          28,
          28,
          28,
          28,
          28,
          28,
          28
         ]
        }
       ],
       "layout": {
        "autosize": true,
        "barmode": "group",
        "template": {
         "data": {
          "scatter": [
           {
            "type": "scatter"
           }
          ]
         }
        },
        "title": {
         "text": "WAPD"
        },
        "xaxis": {
         "autorange": true,
         "range": [
          -0.5,
          12.5
         ],
         "title": {
          "text": "Year"
         },
         "type": "multicategory"
        },
        "yaxis": {
         "autorange": true,
         "range": [
          0,
          29.473684210526315
         ],
         "title": {
          "text": "WAPD"
         },
         "type": "linear"
        }
       }
      },
      "image/png": "[encoded data removed]",
      "text/html": [
       "<div>                            <div id=\"1098d589-7924-41cd-875f-e2775f6600be\" class=\"plotly-graph-div\" style=\"height:525px; width:100%;\"></div>            <script type=\"text/javascript\">                require([\"plotly\"], function(Plotly) {                    window.PLOTLYENV=window.PLOTLYENV || {};                                    if (document.getElementById(\"1098d589-7924-41cd-875f-e2775f6600be\")) {                    Plotly.newPlot(                        \"1098d589-7924-41cd-875f-e2775f6600be\",                        [{\"marker\":{\"color\":\"#456e73\"},\"name\":\"DSO Term = PD\",\"x\":[[2022,2022,2022,2022,2023,2023,2023,2023,2023,2023,2023,2023,2023],[\"Dec\",\"Nov\",\"Oct\",\"Sep\",\"Apr\",\"Aug\",\"Feb\",\"Jan\",\"Jul\",\"Jun\",\"Mar\",\"May\",\"Sep\"]],\"y\":[27.256092367094208,27.256092367094215,27.25609236709421,27.256092367094208,27.25609236709421,27.25609236709421,27.25609236709421,27.25609236709421,27.25609236709421,27.25609236709421,27.25609236709421,27.25609236709421,27.25609236709421],\"type\":\"bar\"},{\"mode\":\"lines\",\"name\":\"DSO Term\",\"x\":[[2022,2022,2022,2022,2023,2023,2023,2023,2023,2023,2023,2023,2023],[\"Dec\",\"Nov\",\"Oct\",\"Sep\",\"Apr\",\"Aug\",\"Feb\",\"Jan\",\"Jul\",\"Jun\",\"Mar\",\"May\",\"Sep\"]],\"y\":[28.0,28.0,28.0,28.0,28.0,28.0,28.0,28.0,28.0,28.0,28.0,28.0,28.0],\"type\":\"scatter\"}],                        {\"template\":{\"data\":{\"scatter\":[{\"type\":\"scatter\"}]}},\"xaxis\":{\"title\":{\"text\":\"Year\"}},\"yaxis\":{\"title\":{\"text\":\"WAPD\"}},\"barmode\":\"group\",\"title\":{\"text\":\"WAPD\"}},                        {\"responsive\": true}                    ).then(function(){\n",
       "                            \n",
       "var gd = document.getElementById('1098d589-7924-41cd-875f-e2775f6600be');\n",
       "var x = new MutationObserver(function (mutations, observer) {{\n",
       "        var display = window.getComputedStyle(gd).display;\n",
       "        if (!display || display === 'none') {{\n",
       "            console.log([gd, 'removed!']);\n",
       "            Plotly.purge(gd);\n",
       "            observer.disconnect();\n",
       "        }}\n",
       "}});\n",
       "\n",
       "// Listen for the removal of the full notebook cells\n",
       "var notebookContainer = gd.closest('#notebook-container');\n",
       "if (notebookContainer) {{\n",
       "    x.observe(notebookContainer, {childList: true});\n",
       "}}\n",
       "\n",
       "// Listen for the clearing of the current output cell\n",
       "var outputEl = gd.closest('.output');\n",
       "if (outputEl) {{\n",
       "    x.observe(outputEl, {childList: true});\n",
       "}}\n",
       "\n",
       "                        })                };                });            </script>        </div>"
      ]
     },
     "metadata": {},
     "output_type": "display_data"
    }
   ],
   "source": [
    "customer = \"2057194397\"\n",
    "t = search_customer(customer)"
   ]
  },
  {
   "cell_type": "markdown",
   "id": "4738cf66-a9d3-43bb-93f3-898faa50ec71",
   "metadata": {
    "tags": []
   },
   "source": [
    "# **********************************************************************************************************"
   ]
  },
  {
   "cell_type": "markdown",
   "id": "2a399b1d-0ef2-4692-9bc6-04f43c92ee5b",
   "metadata": {},
   "source": [
    "# Visualization"
   ]
  },
  {
   "cell_type": "markdown",
   "id": "6c411fd8-6c27-44d1-bca2-19c557dc247a",
   "metadata": {},
   "source": [
    "## Customer"
   ]
  },
  {
   "cell_type": "code",
   "execution_count": 79,
   "id": "dfc2693c-0301-4ce6-be10-168c922af954",
   "metadata": {},
   "outputs": [
    {
     "data": {
      "application/vnd.plotly.v1+json": {
       "config": {
        "plotlyServerURL": "https://plot.ly"
       },
       "data": [
        {
         "marker": {
          "color": "#456e73"
         },
         "name": "DSO Term = PD",
         "type": "bar",
         "x": [
          [
           2022,
           2022,
           2022,
           2022,
           2023,
           2023,
           2023,
           2023,
           2023,
           2023,
           2023,
           2023,
           2023
          ],
          [
           "Dec",
           "Nov",
           "Oct",
           "Sep",
           "Apr",
           "Aug",
           "Feb",
           "Jan",
           "Jul",
           "Jun",
           "Mar",
           "May",
           "Sep"
          ]
         ],
         "y": [
          27.256092367094208,
          27.256092367094215,
          27.25609236709421,
          27.256092367094208,
          27.25609236709421,
          27.25609236709421,
          27.25609236709421,
          27.25609236709421,
          27.25609236709421,
          27.25609236709421,
          27.25609236709421,
          27.25609236709421,
          27.25609236709421
         ]
        },
        {
         "mode": "lines",
         "name": "DSO Term",
         "type": "scatter",
         "x": [
          [
           2022,
           2022,
           2022,
           2022,
           2023,
           2023,
           2023,
           2023,
           2023,
           2023,
           2023,
           2023,
           2023
          ],
          [
           "Dec",
           "Nov",
           "Oct",
           "Sep",
           "Apr",
           "Aug",
           "Feb",
           "Jan",
           "Jul",
           "Jun",
           "Mar",
           "May",
           "Sep"
          ]
         ],
         "y": [
          28,
          28,
          28,
          28,
          28,
          28,
          28,
          28,
          28,
          28,
          28,
          28,
          28
         ]
        }
       ],
       "layout": {
        "autosize": true,
        "barmode": "group",
        "template": {
         "data": {
          "scatter": [
           {
            "type": "scatter"
           }
          ]
         }
        },
        "title": {
         "text": "WAPD"
        },
        "xaxis": {
         "autorange": true,
         "range": [
          -0.5,
          12.5
         ],
         "title": {
          "text": "Year"
         },
         "type": "multicategory"
        },
        "yaxis": {
         "autorange": true,
         "range": [
          0,
          29.473684210526315
         ],
         "title": {
          "text": "WAPD"
         },
         "type": "linear"
        }
       }
      },
      "image/png": "[encoded data removed]",
      "text/html": [
       "<div>                            <div id=\"f41c2546-1e15-480b-9c5b-676e98731796\" class=\"plotly-graph-div\" style=\"height:525px; width:100%;\"></div>            <script type=\"text/javascript\">                require([\"plotly\"], function(Plotly) {                    window.PLOTLYENV=window.PLOTLYENV || {};                                    if (document.getElementById(\"f41c2546-1e15-480b-9c5b-676e98731796\")) {                    Plotly.newPlot(                        \"f41c2546-1e15-480b-9c5b-676e98731796\",                        [{\"marker\":{\"color\":\"#456e73\"},\"name\":\"DSO Term = PD\",\"x\":[[2022,2022,2022,2022,2023,2023,2023,2023,2023,2023,2023,2023,2023],[\"Dec\",\"Nov\",\"Oct\",\"Sep\",\"Apr\",\"Aug\",\"Feb\",\"Jan\",\"Jul\",\"Jun\",\"Mar\",\"May\",\"Sep\"]],\"y\":[27.256092367094208,27.256092367094215,27.25609236709421,27.256092367094208,27.25609236709421,27.25609236709421,27.25609236709421,27.25609236709421,27.25609236709421,27.25609236709421,27.25609236709421,27.25609236709421,27.25609236709421],\"type\":\"bar\"},{\"mode\":\"lines\",\"name\":\"DSO Term\",\"x\":[[2022,2022,2022,2022,2023,2023,2023,2023,2023,2023,2023,2023,2023],[\"Dec\",\"Nov\",\"Oct\",\"Sep\",\"Apr\",\"Aug\",\"Feb\",\"Jan\",\"Jul\",\"Jun\",\"Mar\",\"May\",\"Sep\"]],\"y\":[28.0,28.0,28.0,28.0,28.0,28.0,28.0,28.0,28.0,28.0,28.0,28.0,28.0],\"type\":\"scatter\"}],                        {\"template\":{\"data\":{\"scatter\":[{\"type\":\"scatter\"}]}},\"xaxis\":{\"title\":{\"text\":\"Year\"}},\"yaxis\":{\"title\":{\"text\":\"WAPD\"}},\"barmode\":\"group\",\"title\":{\"text\":\"WAPD\"}},                        {\"responsive\": true}                    ).then(function(){\n",
       "                            \n",
       "var gd = document.getElementById('f41c2546-1e15-480b-9c5b-676e98731796');\n",
       "var x = new MutationObserver(function (mutations, observer) {{\n",
       "        var display = window.getComputedStyle(gd).display;\n",
       "        if (!display || display === 'none') {{\n",
       "            console.log([gd, 'removed!']);\n",
       "            Plotly.purge(gd);\n",
       "            observer.disconnect();\n",
       "        }}\n",
       "}});\n",
       "\n",
       "// Listen for the removal of the full notebook cells\n",
       "var notebookContainer = gd.closest('#notebook-container');\n",
       "if (notebookContainer) {{\n",
       "    x.observe(notebookContainer, {childList: true});\n",
       "}}\n",
       "\n",
       "// Listen for the clearing of the current output cell\n",
       "var outputEl = gd.closest('.output');\n",
       "if (outputEl) {{\n",
       "    x.observe(outputEl, {childList: true});\n",
       "}}\n",
       "\n",
       "                        })                };                });            </script>        </div>"
      ]
     },
     "metadata": {},
     "output_type": "display_data"
    }
   ],
   "source": [
    "customer = \"2057194397\"\n",
    "t = search_customer(customer)"
   ]
  },
  {
   "cell_type": "code",
   "execution_count": 80,
   "id": "a6d3f779-90cd-4d00-93b2-0d1554cc23a2",
   "metadata": {
    "tags": []
   },
   "outputs": [
    {
     "data": {
      "text/html": [
       "<div>\n",
       "<style scoped>\n",
       "    .dataframe tbody tr th:only-of-type {\n",
       "        vertical-align: middle;\n",
       "    }\n",
       "\n",
       "    .dataframe tbody tr th {\n",
       "        vertical-align: top;\n",
       "    }\n",
       "\n",
       "    .dataframe thead th {\n",
       "        text-align: right;\n",
       "    }\n",
       "</style>\n",
       "<table border=\"1\" class=\"dataframe\">\n",
       "  <thead>\n",
       "    <tr style=\"text-align: right;\">\n",
       "      <th></th>\n",
       "      <th>Year</th>\n",
       "      <th>Month</th>\n",
       "      <th>CREDIT_CONTROL_AREA</th>\n",
       "      <th>CC_DAYS_TO_ADD</th>\n",
       "      <th>WAPD</th>\n",
       "    </tr>\n",
       "  </thead>\n",
       "  <tbody>\n",
       "    <tr>\n",
       "      <th>0</th>\n",
       "      <td>2022</td>\n",
       "      <td>Dec</td>\n",
       "      <td>PD</td>\n",
       "      <td>28.000000000</td>\n",
       "      <td>27.2561</td>\n",
       "    </tr>\n",
       "    <tr>\n",
       "      <th>1</th>\n",
       "      <td>2022</td>\n",
       "      <td>Nov</td>\n",
       "      <td>PD</td>\n",
       "      <td>28.000000000</td>\n",
       "      <td>27.2561</td>\n",
       "    </tr>\n",
       "    <tr>\n",
       "      <th>2</th>\n",
       "      <td>2022</td>\n",
       "      <td>Oct</td>\n",
       "      <td>PD</td>\n",
       "      <td>28.000000000</td>\n",
       "      <td>27.2561</td>\n",
       "    </tr>\n",
       "    <tr>\n",
       "      <th>3</th>\n",
       "      <td>2022</td>\n",
       "      <td>Sep</td>\n",
       "      <td>PD</td>\n",
       "      <td>28.000000000</td>\n",
       "      <td>27.2561</td>\n",
       "    </tr>\n",
       "    <tr>\n",
       "      <th>4</th>\n",
       "      <td>2023</td>\n",
       "      <td>Apr</td>\n",
       "      <td>PD</td>\n",
       "      <td>28.000000000</td>\n",
       "      <td>27.2561</td>\n",
       "    </tr>\n",
       "    <tr>\n",
       "      <th>5</th>\n",
       "      <td>2023</td>\n",
       "      <td>Aug</td>\n",
       "      <td>PD</td>\n",
       "      <td>28.000000000</td>\n",
       "      <td>27.2561</td>\n",
       "    </tr>\n",
       "    <tr>\n",
       "      <th>6</th>\n",
       "      <td>2023</td>\n",
       "      <td>Feb</td>\n",
       "      <td>PD</td>\n",
       "      <td>28.000000000</td>\n",
       "      <td>27.2561</td>\n",
       "    </tr>\n",
       "    <tr>\n",
       "      <th>7</th>\n",
       "      <td>2023</td>\n",
       "      <td>Jan</td>\n",
       "      <td>PD</td>\n",
       "      <td>28.000000000</td>\n",
       "      <td>27.2561</td>\n",
       "    </tr>\n",
       "    <tr>\n",
       "      <th>8</th>\n",
       "      <td>2023</td>\n",
       "      <td>Jul</td>\n",
       "      <td>PD</td>\n",
       "      <td>28.000000000</td>\n",
       "      <td>27.2561</td>\n",
       "    </tr>\n",
       "    <tr>\n",
       "      <th>9</th>\n",
       "      <td>2023</td>\n",
       "      <td>Jun</td>\n",
       "      <td>PD</td>\n",
       "      <td>28.000000000</td>\n",
       "      <td>27.2561</td>\n",
       "    </tr>\n",
       "    <tr>\n",
       "      <th>10</th>\n",
       "      <td>2023</td>\n",
       "      <td>Mar</td>\n",
       "      <td>PD</td>\n",
       "      <td>28.000000000</td>\n",
       "      <td>27.2561</td>\n",
       "    </tr>\n",
       "    <tr>\n",
       "      <th>11</th>\n",
       "      <td>2023</td>\n",
       "      <td>May</td>\n",
       "      <td>PD</td>\n",
       "      <td>28.000000000</td>\n",
       "      <td>27.2561</td>\n",
       "    </tr>\n",
       "    <tr>\n",
       "      <th>12</th>\n",
       "      <td>2023</td>\n",
       "      <td>Sep</td>\n",
       "      <td>PD</td>\n",
       "      <td>28.000000000</td>\n",
       "      <td>27.2561</td>\n",
       "    </tr>\n",
       "  </tbody>\n",
       "</table>\n",
       "</div>"
      ],
      "text/plain": [
       "    Year Month CREDIT_CONTROL_AREA CC_DAYS_TO_ADD    WAPD\n",
       "0   2022   Dec                  PD   28.000000000 27.2561\n",
       "1   2022   Nov                  PD   28.000000000 27.2561\n",
       "2   2022   Oct                  PD   28.000000000 27.2561\n",
       "3   2022   Sep                  PD   28.000000000 27.2561\n",
       "4   2023   Apr                  PD   28.000000000 27.2561\n",
       "5   2023   Aug                  PD   28.000000000 27.2561\n",
       "6   2023   Feb                  PD   28.000000000 27.2561\n",
       "7   2023   Jan                  PD   28.000000000 27.2561\n",
       "8   2023   Jul                  PD   28.000000000 27.2561\n",
       "9   2023   Jun                  PD   28.000000000 27.2561\n",
       "10  2023   Mar                  PD   28.000000000 27.2561\n",
       "11  2023   May                  PD   28.000000000 27.2561\n",
       "12  2023   Sep                  PD   28.000000000 27.2561"
      ]
     },
     "execution_count": 80,
     "metadata": {},
     "output_type": "execute_result"
    }
   ],
   "source": [
    "t"
   ]
  },
  {
   "cell_type": "code",
   "execution_count": null,
   "id": "e91ec5e2-4301-4d55-8ac8-545c020b816b",
   "metadata": {},
   "outputs": [],
   "source": [
    "fail"
   ]
  },
  {
   "cell_type": "markdown",
   "id": "10a6bbd6-e88a-498a-996e-dcdb5f781a1e",
   "metadata": {},
   "source": [
    "## EAN"
   ]
  },
  {
   "cell_type": "code",
   "execution_count": 57,
   "id": "02895845-04f8-4d38-8145-dfd67f45988a",
   "metadata": {},
   "outputs": [
    {
     "name": "stdout",
     "output_type": "stream",
     "text": [
      "[Decimal('7.000000000') Decimal('60.000000000') Decimal('15.000000000')\n",
      " Decimal('10.000000000') Decimal('30.000000000')]\n"
     ]
    }
   ],
   "source": [
    "EAN = \"7100000656\"\n",
    "get_terms(EAN)\n",
    "# DSO terms are printed below"
   ]
  },
  {
   "cell_type": "code",
   "execution_count": 63,
   "id": "a26c55ef-a503-40b6-809a-a525548b8395",
   "metadata": {},
   "outputs": [],
   "source": [
    "term = 10"
   ]
  },
  {
   "cell_type": "code",
   "execution_count": 69,
   "id": "d42cc68b-e007-4aeb-80cc-ee42ab75ac1a",
   "metadata": {
    "tags": []
   },
   "outputs": [
    {
     "name": "stdout",
     "output_type": "stream",
     "text": [
      "10\n"
     ]
    }
   ],
   "source": [
    "ten=search_EAN(term,EAN)"
   ]
  },
  {
   "cell_type": "code",
   "execution_count": 70,
   "id": "b2880660-4f75-4c5d-b67e-3e00a6e45d7f",
   "metadata": {},
   "outputs": [
    {
     "data": {
      "application/vnd.plotly.v1+json": {
       "config": {
        "plotlyServerURL": "https://plot.ly"
       },
       "data": [
        {
         "marker": {
          "color": "#456e73"
         },
         "name": "DSO Term = 10.000000000",
         "type": "bar",
         "x": [
          [
           2023,
           2023,
           2023,
           2023
          ],
          [
           "Aug",
           "Jul",
           "Jun",
           "Sep"
          ]
         ],
         "y": [
          38.11833095431466,
          38.11833095431466,
          38.11833095431466,
          38.11833095431466
         ]
        },
        {
         "mode": "lines",
         "name": "DSO Term",
         "type": "scatter",
         "x": [
          [
           2023,
           2023,
           2023,
           2023
          ],
          [
           "Aug",
           "Jul",
           "Jun",
           "Sep"
          ]
         ],
         "y": [
          10,
          10,
          10,
          10
         ]
        }
       ],
       "layout": {
        "autosize": true,
        "barmode": "group",
        "template": {
         "data": {
          "scatter": [
           {
            "type": "scatter"
           }
          ]
         }
        },
        "title": {
         "text": "WAPD"
        },
        "xaxis": {
         "autorange": true,
         "range": [
          -0.5,
          3.5
         ],
         "title": {
          "text": "Year"
         },
         "type": "multicategory"
        },
        "yaxis": {
         "autorange": true,
         "range": [
          0,
          40.12455889927859
         ],
         "title": {
          "text": "WAPD"
         },
         "type": "linear"
        }
       }
      },
      "image/png": "[encoded data removed]",
      "text/html": [
       "<div>                            <div id=\"9f8d2f35-e0ca-4301-b23b-7aa0a117ebcb\" class=\"plotly-graph-div\" style=\"height:525px; width:100%;\"></div>            <script type=\"text/javascript\">                require([\"plotly\"], function(Plotly) {                    window.PLOTLYENV=window.PLOTLYENV || {};                                    if (document.getElementById(\"9f8d2f35-e0ca-4301-b23b-7aa0a117ebcb\")) {                    Plotly.newPlot(                        \"9f8d2f35-e0ca-4301-b23b-7aa0a117ebcb\",                        [{\"marker\":{\"color\":\"#456e73\"},\"name\":\"DSO Term = 10.000000000\",\"x\":[[2023,2023,2023,2023],[\"Aug\",\"Jul\",\"Jun\",\"Sep\"]],\"y\":[38.11833095431466,38.11833095431466,38.11833095431466,38.11833095431466],\"type\":\"bar\"},{\"mode\":\"lines\",\"name\":\"DSO Term\",\"x\":[[2023,2023,2023,2023],[\"Aug\",\"Jul\",\"Jun\",\"Sep\"]],\"y\":[10.0,10.0,10.0,10.0],\"type\":\"scatter\"}],                        {\"template\":{\"data\":{\"scatter\":[{\"type\":\"scatter\"}]}},\"xaxis\":{\"title\":{\"text\":\"Year\"}},\"yaxis\":{\"title\":{\"text\":\"WAPD\"}},\"barmode\":\"group\",\"title\":{\"text\":\"WAPD\"}},                        {\"responsive\": true}                    ).then(function(){\n",
       "                            \n",
       "var gd = document.getElementById('9f8d2f35-e0ca-4301-b23b-7aa0a117ebcb');\n",
       "var x = new MutationObserver(function (mutations, observer) {{\n",
       "        var display = window.getComputedStyle(gd).display;\n",
       "        if (!display || display === 'none') {{\n",
       "            console.log([gd, 'removed!']);\n",
       "            Plotly.purge(gd);\n",
       "            observer.disconnect();\n",
       "        }}\n",
       "}});\n",
       "\n",
       "// Listen for the removal of the full notebook cells\n",
       "var notebookContainer = gd.closest('#notebook-container');\n",
       "if (notebookContainer) {{\n",
       "    x.observe(notebookContainer, {childList: true});\n",
       "}}\n",
       "\n",
       "// Listen for the clearing of the current output cell\n",
       "var outputEl = gd.closest('.output');\n",
       "if (outputEl) {{\n",
       "    x.observe(outputEl, {childList: true});\n",
       "}}\n",
       "\n",
       "                        })                };                });            </script>        </div>"
      ]
     },
     "metadata": {},
     "output_type": "display_data"
    },
    {
     "data": {
      "text/html": [
       "<div>\n",
       "<style scoped>\n",
       "    .dataframe tbody tr th:only-of-type {\n",
       "        vertical-align: middle;\n",
       "    }\n",
       "\n",
       "    .dataframe tbody tr th {\n",
       "        vertical-align: top;\n",
       "    }\n",
       "\n",
       "    .dataframe thead th {\n",
       "        text-align: right;\n",
       "    }\n",
       "</style>\n",
       "<table border=\"1\" class=\"dataframe\">\n",
       "  <thead>\n",
       "    <tr style=\"text-align: right;\">\n",
       "      <th></th>\n",
       "      <th>Year</th>\n",
       "      <th>Month</th>\n",
       "      <th>CREDIT_CONTROL_AREA</th>\n",
       "      <th>CC_DAYS_TO_ADD</th>\n",
       "      <th>WAPD</th>\n",
       "    </tr>\n",
       "  </thead>\n",
       "  <tbody>\n",
       "    <tr>\n",
       "      <th>0</th>\n",
       "      <td>2023</td>\n",
       "      <td>Aug</td>\n",
       "      <td>PD</td>\n",
       "      <td>10.000000000</td>\n",
       "      <td>38.1183</td>\n",
       "    </tr>\n",
       "    <tr>\n",
       "      <th>1</th>\n",
       "      <td>2023</td>\n",
       "      <td>Jul</td>\n",
       "      <td>PD</td>\n",
       "      <td>10.000000000</td>\n",
       "      <td>38.1183</td>\n",
       "    </tr>\n",
       "    <tr>\n",
       "      <th>2</th>\n",
       "      <td>2023</td>\n",
       "      <td>Jun</td>\n",
       "      <td>PD</td>\n",
       "      <td>10.000000000</td>\n",
       "      <td>38.1183</td>\n",
       "    </tr>\n",
       "    <tr>\n",
       "      <th>3</th>\n",
       "      <td>2023</td>\n",
       "      <td>Sep</td>\n",
       "      <td>PD</td>\n",
       "      <td>10.000000000</td>\n",
       "      <td>38.1183</td>\n",
       "    </tr>\n",
       "  </tbody>\n",
       "</table>\n",
       "</div>"
      ],
      "text/plain": [
       "   Year Month CREDIT_CONTROL_AREA CC_DAYS_TO_ADD    WAPD\n",
       "0  2023   Aug                  PD   10.000000000 38.1183\n",
       "1  2023   Jul                  PD   10.000000000 38.1183\n",
       "2  2023   Jun                  PD   10.000000000 38.1183\n",
       "3  2023   Sep                  PD   10.000000000 38.1183"
      ]
     },
     "execution_count": 70,
     "metadata": {},
     "output_type": "execute_result"
    }
   ],
   "source": [
    "final_dataFram(ten)"
   ]
  },
  {
   "cell_type": "code",
   "execution_count": 60,
   "id": "e9d407e5-4291-4ca8-b394-794619c84ffc",
   "metadata": {
    "tags": []
   },
   "outputs": [
    {
     "data": {
      "application/vnd.plotly.v1+json": {
       "config": {
        "plotlyServerURL": "https://plot.ly"
       },
       "data": [
        {
         "marker": {
          "color": "#456e73"
         },
         "name": "DSO Term = 7.000000000",
         "type": "bar",
         "x": [
          [
           2022,
           2022,
           2022,
           2022,
           2022,
           2023,
           2023,
           2023,
           2023,
           2023,
           2023,
           2023,
           2023,
           2023
          ],
          [
           "Aug",
           "Dec",
           "Nov",
           "Oct",
           "Sep",
           "Apr",
           "Aug",
           "Feb",
           "Jan",
           "Jul",
           "Jun",
           "Mar",
           "May",
           "Sep"
          ]
         ],
         "y": [
          10.059150844986851,
          10.059150844986851,
          10.059150844986851,
          10.059150844986853,
          10.059150844986851,
          10.059150844986853,
          10.059150844986851,
          10.059150844986851,
          10.059150844986851,
          10.059150844986851,
          10.059150844986851,
          10.059150844986851,
          10.059150844986851,
          10.059150844986851
         ]
        },
        {
         "marker": {
          "color": "#2A66DE"
         },
         "name": "DSO Term = 15.000000000",
         "type": "bar",
         "x": [
          [
           2022,
           2022,
           2023,
           2023,
           2023,
           2023,
           2023
          ],
          [
           "Dec",
           "Nov",
           "Jan",
           "Jul",
           "Jun",
           "Mar",
           "May"
          ]
         ],
         "y": [
          10.059150844986851,
          10.059150844986851,
          10.059150844986851,
          10.059150844986851,
          10.059150844986851,
          10.059150844986851,
          10.059150844986851
         ]
        },
        {
         "marker": {
          "color": "#FFC32B"
         },
         "name": "DSO Term = 60.000000000",
         "type": "bar",
         "x": [
          [
           2022
          ],
          [
           "Sep"
          ]
         ],
         "y": [
          10.059150844986851
         ]
        },
        {
         "marker": {
          "color": "#457353"
         },
         "name": "DSO Term = 10.000000000",
         "type": "bar",
         "x": [
          [
           2023,
           2023,
           2023,
           2023
          ],
          [
           "Aug",
           "Jul",
           "Jun",
           "Sep"
          ]
         ],
         "y": [
          10.059150844986851,
          10.059150844986851,
          10.059150844986851,
          10.059150844986851
         ]
        }
       ],
       "layout": {
        "autosize": true,
        "barmode": "group",
        "template": {
         "data": {
          "scatter": [
           {
            "type": "scatter"
           }
          ]
         }
        },
        "title": {
         "text": "WAPD"
        },
        "xaxis": {
         "autorange": true,
         "range": [
          -0.5,
          13.5
         ],
         "title": {
          "text": "Year"
         },
         "type": "multicategory"
        },
        "yaxis": {
         "autorange": true,
         "range": [
          0,
          10.588579836828266
         ],
         "title": {
          "text": "WAPD"
         },
         "type": "linear"
        }
       }
      },
      "image/png": "[encoded data removed]",
      "text/html": [
       "<div>                            <div id=\"25fabbbb-92fa-450f-a1a4-3c3644069f78\" class=\"plotly-graph-div\" style=\"height:525px; width:100%;\"></div>            <script type=\"text/javascript\">                require([\"plotly\"], function(Plotly) {                    window.PLOTLYENV=window.PLOTLYENV || {};                                    if (document.getElementById(\"25fabbbb-92fa-450f-a1a4-3c3644069f78\")) {                    Plotly.newPlot(                        \"25fabbbb-92fa-450f-a1a4-3c3644069f78\",                        [{\"marker\":{\"color\":\"#456e73\"},\"name\":\"DSO Term = 7.000000000\",\"x\":[[2022,2022,2022,2022,2022,2023,2023,2023,2023,2023,2023,2023,2023,2023],[\"Aug\",\"Dec\",\"Nov\",\"Oct\",\"Sep\",\"Apr\",\"Aug\",\"Feb\",\"Jan\",\"Jul\",\"Jun\",\"Mar\",\"May\",\"Sep\"]],\"y\":[10.059150844986851,10.059150844986851,10.059150844986851,10.059150844986853,10.059150844986851,10.059150844986853,10.059150844986851,10.059150844986851,10.059150844986851,10.059150844986851,10.059150844986851,10.059150844986851,10.059150844986851,10.059150844986851],\"type\":\"bar\"},{\"marker\":{\"color\":\"#2A66DE\"},\"name\":\"DSO Term = 15.000000000\",\"x\":[[2022,2022,2023,2023,2023,2023,2023],[\"Dec\",\"Nov\",\"Jan\",\"Jul\",\"Jun\",\"Mar\",\"May\"]],\"y\":[10.059150844986851,10.059150844986851,10.059150844986851,10.059150844986851,10.059150844986851,10.059150844986851,10.059150844986851],\"type\":\"bar\"},{\"marker\":{\"color\":\"#FFC32B\"},\"name\":\"DSO Term = 60.000000000\",\"x\":[[2022],[\"Sep\"]],\"y\":[10.059150844986851],\"type\":\"bar\"},{\"marker\":{\"color\":\"#457353\"},\"name\":\"DSO Term = 10.000000000\",\"x\":[[2023,2023,2023,2023],[\"Aug\",\"Jul\",\"Jun\",\"Sep\"]],\"y\":[10.059150844986851,10.059150844986851,10.059150844986851,10.059150844986851],\"type\":\"bar\"}],                        {\"template\":{\"data\":{\"scatter\":[{\"type\":\"scatter\"}]}},\"xaxis\":{\"title\":{\"text\":\"Year\"}},\"yaxis\":{\"title\":{\"text\":\"WAPD\"}},\"barmode\":\"group\",\"title\":{\"text\":\"WAPD\"}},                        {\"responsive\": true}                    ).then(function(){\n",
       "                            \n",
       "var gd = document.getElementById('25fabbbb-92fa-450f-a1a4-3c3644069f78');\n",
       "var x = new MutationObserver(function (mutations, observer) {{\n",
       "        var display = window.getComputedStyle(gd).display;\n",
       "        if (!display || display === 'none') {{\n",
       "            console.log([gd, 'removed!']);\n",
       "            Plotly.purge(gd);\n",
       "            observer.disconnect();\n",
       "        }}\n",
       "}});\n",
       "\n",
       "// Listen for the removal of the full notebook cells\n",
       "var notebookContainer = gd.closest('#notebook-container');\n",
       "if (notebookContainer) {{\n",
       "    x.observe(notebookContainer, {childList: true});\n",
       "}}\n",
       "\n",
       "// Listen for the clearing of the current output cell\n",
       "var outputEl = gd.closest('.output');\n",
       "if (outputEl) {{\n",
       "    x.observe(outputEl, {childList: true});\n",
       "}}\n",
       "\n",
       "                        })                };                });            </script>        </div>"
      ]
     },
     "metadata": {},
     "output_type": "display_data"
    },
    {
     "data": {
      "text/html": [
       "<div>\n",
       "<style scoped>\n",
       "    .dataframe tbody tr th:only-of-type {\n",
       "        vertical-align: middle;\n",
       "    }\n",
       "\n",
       "    .dataframe tbody tr th {\n",
       "        vertical-align: top;\n",
       "    }\n",
       "\n",
       "    .dataframe thead th {\n",
       "        text-align: right;\n",
       "    }\n",
       "</style>\n",
       "<table border=\"1\" class=\"dataframe\">\n",
       "  <thead>\n",
       "    <tr style=\"text-align: right;\">\n",
       "      <th></th>\n",
       "      <th>Year</th>\n",
       "      <th>Month</th>\n",
       "      <th>CREDIT_CONTROL_AREA</th>\n",
       "      <th>CC_DAYS_TO_ADD</th>\n",
       "      <th>WAPD</th>\n",
       "    </tr>\n",
       "  </thead>\n",
       "  <tbody>\n",
       "    <tr>\n",
       "      <th>0</th>\n",
       "      <td>2022</td>\n",
       "      <td>Aug</td>\n",
       "      <td>PD</td>\n",
       "      <td>7.000000000</td>\n",
       "      <td>10.0592</td>\n",
       "    </tr>\n",
       "    <tr>\n",
       "      <th>1</th>\n",
       "      <td>2022</td>\n",
       "      <td>Dec</td>\n",
       "      <td>PD</td>\n",
       "      <td>7.000000000</td>\n",
       "      <td>10.0592</td>\n",
       "    </tr>\n",
       "    <tr>\n",
       "      <th>2</th>\n",
       "      <td>2022</td>\n",
       "      <td>Dec</td>\n",
       "      <td>PD</td>\n",
       "      <td>15.000000000</td>\n",
       "      <td>10.0592</td>\n",
       "    </tr>\n",
       "    <tr>\n",
       "      <th>3</th>\n",
       "      <td>2022</td>\n",
       "      <td>Nov</td>\n",
       "      <td>PD</td>\n",
       "      <td>7.000000000</td>\n",
       "      <td>10.0592</td>\n",
       "    </tr>\n",
       "    <tr>\n",
       "      <th>4</th>\n",
       "      <td>2022</td>\n",
       "      <td>Nov</td>\n",
       "      <td>PD</td>\n",
       "      <td>15.000000000</td>\n",
       "      <td>10.0592</td>\n",
       "    </tr>\n",
       "    <tr>\n",
       "      <th>5</th>\n",
       "      <td>2022</td>\n",
       "      <td>Oct</td>\n",
       "      <td>PD</td>\n",
       "      <td>7.000000000</td>\n",
       "      <td>10.0592</td>\n",
       "    </tr>\n",
       "    <tr>\n",
       "      <th>6</th>\n",
       "      <td>2022</td>\n",
       "      <td>Sep</td>\n",
       "      <td>PD</td>\n",
       "      <td>7.000000000</td>\n",
       "      <td>10.0592</td>\n",
       "    </tr>\n",
       "    <tr>\n",
       "      <th>7</th>\n",
       "      <td>2022</td>\n",
       "      <td>Sep</td>\n",
       "      <td>PD</td>\n",
       "      <td>60.000000000</td>\n",
       "      <td>10.0592</td>\n",
       "    </tr>\n",
       "    <tr>\n",
       "      <th>8</th>\n",
       "      <td>2023</td>\n",
       "      <td>Apr</td>\n",
       "      <td>PD</td>\n",
       "      <td>7.000000000</td>\n",
       "      <td>10.0592</td>\n",
       "    </tr>\n",
       "    <tr>\n",
       "      <th>9</th>\n",
       "      <td>2023</td>\n",
       "      <td>Aug</td>\n",
       "      <td>PD</td>\n",
       "      <td>7.000000000</td>\n",
       "      <td>10.0592</td>\n",
       "    </tr>\n",
       "    <tr>\n",
       "      <th>10</th>\n",
       "      <td>2023</td>\n",
       "      <td>Aug</td>\n",
       "      <td>PD</td>\n",
       "      <td>10.000000000</td>\n",
       "      <td>10.0592</td>\n",
       "    </tr>\n",
       "    <tr>\n",
       "      <th>11</th>\n",
       "      <td>2023</td>\n",
       "      <td>Aug</td>\n",
       "      <td>PD</td>\n",
       "      <td>30.000000000</td>\n",
       "      <td>10.0592</td>\n",
       "    </tr>\n",
       "    <tr>\n",
       "      <th>12</th>\n",
       "      <td>2023</td>\n",
       "      <td>Feb</td>\n",
       "      <td>PD</td>\n",
       "      <td>7.000000000</td>\n",
       "      <td>10.0592</td>\n",
       "    </tr>\n",
       "    <tr>\n",
       "      <th>13</th>\n",
       "      <td>2023</td>\n",
       "      <td>Jan</td>\n",
       "      <td>PD</td>\n",
       "      <td>7.000000000</td>\n",
       "      <td>10.0592</td>\n",
       "    </tr>\n",
       "    <tr>\n",
       "      <th>14</th>\n",
       "      <td>2023</td>\n",
       "      <td>Jan</td>\n",
       "      <td>PD</td>\n",
       "      <td>15.000000000</td>\n",
       "      <td>10.0592</td>\n",
       "    </tr>\n",
       "    <tr>\n",
       "      <th>15</th>\n",
       "      <td>2023</td>\n",
       "      <td>Jul</td>\n",
       "      <td>PD</td>\n",
       "      <td>7.000000000</td>\n",
       "      <td>10.0592</td>\n",
       "    </tr>\n",
       "    <tr>\n",
       "      <th>16</th>\n",
       "      <td>2023</td>\n",
       "      <td>Jul</td>\n",
       "      <td>PD</td>\n",
       "      <td>10.000000000</td>\n",
       "      <td>10.0592</td>\n",
       "    </tr>\n",
       "    <tr>\n",
       "      <th>17</th>\n",
       "      <td>2023</td>\n",
       "      <td>Jul</td>\n",
       "      <td>PD</td>\n",
       "      <td>15.000000000</td>\n",
       "      <td>10.0592</td>\n",
       "    </tr>\n",
       "    <tr>\n",
       "      <th>18</th>\n",
       "      <td>2023</td>\n",
       "      <td>Jul</td>\n",
       "      <td>PD</td>\n",
       "      <td>30.000000000</td>\n",
       "      <td>10.0592</td>\n",
       "    </tr>\n",
       "    <tr>\n",
       "      <th>19</th>\n",
       "      <td>2023</td>\n",
       "      <td>Jun</td>\n",
       "      <td>PD</td>\n",
       "      <td>7.000000000</td>\n",
       "      <td>10.0592</td>\n",
       "    </tr>\n",
       "    <tr>\n",
       "      <th>20</th>\n",
       "      <td>2023</td>\n",
       "      <td>Jun</td>\n",
       "      <td>PD</td>\n",
       "      <td>10.000000000</td>\n",
       "      <td>10.0592</td>\n",
       "    </tr>\n",
       "    <tr>\n",
       "      <th>21</th>\n",
       "      <td>2023</td>\n",
       "      <td>Jun</td>\n",
       "      <td>PD</td>\n",
       "      <td>15.000000000</td>\n",
       "      <td>10.0592</td>\n",
       "    </tr>\n",
       "    <tr>\n",
       "      <th>22</th>\n",
       "      <td>2023</td>\n",
       "      <td>Mar</td>\n",
       "      <td>PD</td>\n",
       "      <td>7.000000000</td>\n",
       "      <td>10.0592</td>\n",
       "    </tr>\n",
       "    <tr>\n",
       "      <th>23</th>\n",
       "      <td>2023</td>\n",
       "      <td>Mar</td>\n",
       "      <td>PD</td>\n",
       "      <td>15.000000000</td>\n",
       "      <td>10.0592</td>\n",
       "    </tr>\n",
       "    <tr>\n",
       "      <th>24</th>\n",
       "      <td>2023</td>\n",
       "      <td>May</td>\n",
       "      <td>PD</td>\n",
       "      <td>7.000000000</td>\n",
       "      <td>10.0592</td>\n",
       "    </tr>\n",
       "    <tr>\n",
       "      <th>25</th>\n",
       "      <td>2023</td>\n",
       "      <td>May</td>\n",
       "      <td>PD</td>\n",
       "      <td>15.000000000</td>\n",
       "      <td>10.0592</td>\n",
       "    </tr>\n",
       "    <tr>\n",
       "      <th>26</th>\n",
       "      <td>2023</td>\n",
       "      <td>Sep</td>\n",
       "      <td>PD</td>\n",
       "      <td>7.000000000</td>\n",
       "      <td>10.0592</td>\n",
       "    </tr>\n",
       "    <tr>\n",
       "      <th>27</th>\n",
       "      <td>2023</td>\n",
       "      <td>Sep</td>\n",
       "      <td>PD</td>\n",
       "      <td>10.000000000</td>\n",
       "      <td>10.0592</td>\n",
       "    </tr>\n",
       "  </tbody>\n",
       "</table>\n",
       "</div>"
      ],
      "text/plain": [
       "    Year Month CREDIT_CONTROL_AREA CC_DAYS_TO_ADD    WAPD\n",
       "0   2022   Aug                  PD    7.000000000 10.0592\n",
       "1   2022   Dec                  PD    7.000000000 10.0592\n",
       "2   2022   Dec                  PD   15.000000000 10.0592\n",
       "3   2022   Nov                  PD    7.000000000 10.0592\n",
       "4   2022   Nov                  PD   15.000000000 10.0592\n",
       "5   2022   Oct                  PD    7.000000000 10.0592\n",
       "6   2022   Sep                  PD    7.000000000 10.0592\n",
       "7   2022   Sep                  PD   60.000000000 10.0592\n",
       "8   2023   Apr                  PD    7.000000000 10.0592\n",
       "9   2023   Aug                  PD    7.000000000 10.0592\n",
       "10  2023   Aug                  PD   10.000000000 10.0592\n",
       "11  2023   Aug                  PD   30.000000000 10.0592\n",
       "12  2023   Feb                  PD    7.000000000 10.0592\n",
       "13  2023   Jan                  PD    7.000000000 10.0592\n",
       "14  2023   Jan                  PD   15.000000000 10.0592\n",
       "15  2023   Jul                  PD    7.000000000 10.0592\n",
       "16  2023   Jul                  PD   10.000000000 10.0592\n",
       "17  2023   Jul                  PD   15.000000000 10.0592\n",
       "18  2023   Jul                  PD   30.000000000 10.0592\n",
       "19  2023   Jun                  PD    7.000000000 10.0592\n",
       "20  2023   Jun                  PD   10.000000000 10.0592\n",
       "21  2023   Jun                  PD   15.000000000 10.0592\n",
       "22  2023   Mar                  PD    7.000000000 10.0592\n",
       "23  2023   Mar                  PD   15.000000000 10.0592\n",
       "24  2023   May                  PD    7.000000000 10.0592\n",
       "25  2023   May                  PD   15.000000000 10.0592\n",
       "26  2023   Sep                  PD    7.000000000 10.0592\n",
       "27  2023   Sep                  PD   10.000000000 10.0592"
      ]
     },
     "execution_count": 60,
     "metadata": {},
     "output_type": "execute_result"
    }
   ],
   "source": [
    "final_dataFram(fi)\n"
   ]
  },
  {
   "cell_type": "code",
   "execution_count": 75,
   "id": "e77f92b4-7ca1-4302-8192-92c17565a2e1",
   "metadata": {},
   "outputs": [
    {
     "name": "stdout",
     "output_type": "stream",
     "text": [
      "7\n"
     ]
    },
    {
     "data": {
      "application/vnd.plotly.v1+json": {
       "config": {
        "plotlyServerURL": "https://plot.ly"
       },
       "data": [
        {
         "marker": {
          "color": "#456e73"
         },
         "name": "DSO Term = PD",
         "type": "bar",
         "x": [
          [
           2022,
           2022,
           2022,
           2022,
           2022,
           2023,
           2023,
           2023,
           2023,
           2023,
           2023,
           2023,
           2023,
           2023
          ],
          [
           "Aug",
           "Dec",
           "Nov",
           "Oct",
           "Sep",
           "Apr",
           "Aug",
           "Feb",
           "Jan",
           "Jul",
           "Jun",
           "Mar",
           "May",
           "Sep"
          ]
         ],
         "y": [
          10.012403530129486,
          10.012403530129486,
          10.012403530129486,
          10.012403530129486,
          10.012403530129486,
          10.012403530129486,
          10.012403530129486,
          10.012403530129486,
          10.012403530129486,
          10.012403530129486,
          10.012403530129486,
          10.012403530129484,
          10.012403530129486,
          10.012403530129486
         ]
        },
        {
         "mode": "lines",
         "name": "DSO Term",
         "type": "scatter",
         "x": [
          [
           2022,
           2022,
           2022,
           2022,
           2022,
           2023,
           2023,
           2023,
           2023,
           2023,
           2023,
           2023,
           2023,
           2023
          ],
          [
           "Aug",
           "Dec",
           "Nov",
           "Oct",
           "Sep",
           "Apr",
           "Aug",
           "Feb",
           "Jan",
           "Jul",
           "Jun",
           "Mar",
           "May",
           "Sep"
          ]
         ],
         "y": [
          7,
          7,
          7,
          7,
          7,
          7,
          7,
          7,
          7,
          7,
          7,
          7,
          7,
          7
         ]
        }
       ],
       "layout": {
        "autosize": true,
        "barmode": "group",
        "template": {
         "data": {
          "scatter": [
           {
            "type": "scatter"
           }
          ]
         }
        },
        "title": {
         "text": "WAPD"
        },
        "xaxis": {
         "autorange": true,
         "range": [
          -0.5,
          13.5
         ],
         "title": {
          "text": "Year"
         },
         "type": "multicategory"
        },
        "yaxis": {
         "autorange": true,
         "range": [
          0,
          10.539372136978406
         ],
         "title": {
          "text": "WAPD"
         },
         "type": "linear"
        }
       }
      },
      "image/png": "[encoded data removed]",
      "text/html": [
       "<div>                            <div id=\"21ec8734-a688-4285-8596-c6e64ecc91d9\" class=\"plotly-graph-div\" style=\"height:525px; width:100%;\"></div>            <script type=\"text/javascript\">                require([\"plotly\"], function(Plotly) {                    window.PLOTLYENV=window.PLOTLYENV || {};                                    if (document.getElementById(\"21ec8734-a688-4285-8596-c6e64ecc91d9\")) {                    Plotly.newPlot(                        \"21ec8734-a688-4285-8596-c6e64ecc91d9\",                        [{\"marker\":{\"color\":\"#456e73\"},\"name\":\"DSO Term = PD\",\"x\":[[2022,2022,2022,2022,2022,2023,2023,2023,2023,2023,2023,2023,2023,2023],[\"Aug\",\"Dec\",\"Nov\",\"Oct\",\"Sep\",\"Apr\",\"Aug\",\"Feb\",\"Jan\",\"Jul\",\"Jun\",\"Mar\",\"May\",\"Sep\"]],\"y\":[10.012403530129486,10.012403530129486,10.012403530129486,10.012403530129486,10.012403530129486,10.012403530129486,10.012403530129486,10.012403530129486,10.012403530129486,10.012403530129486,10.012403530129486,10.012403530129484,10.012403530129486,10.012403530129486],\"type\":\"bar\"},{\"mode\":\"lines\",\"name\":\"DSO Term\",\"x\":[[2022,2022,2022,2022,2022,2023,2023,2023,2023,2023,2023,2023,2023,2023],[\"Aug\",\"Dec\",\"Nov\",\"Oct\",\"Sep\",\"Apr\",\"Aug\",\"Feb\",\"Jan\",\"Jul\",\"Jun\",\"Mar\",\"May\",\"Sep\"]],\"y\":[7.0,7.0,7.0,7.0,7.0,7.0,7.0,7.0,7.0,7.0,7.0,7.0,7.0,7.0],\"type\":\"scatter\"}],                        {\"template\":{\"data\":{\"scatter\":[{\"type\":\"scatter\"}]}},\"xaxis\":{\"title\":{\"text\":\"Year\"}},\"yaxis\":{\"title\":{\"text\":\"WAPD\"}},\"barmode\":\"group\",\"title\":{\"text\":\"WAPD\"}},                        {\"responsive\": true}                    ).then(function(){\n",
       "                            \n",
       "var gd = document.getElementById('21ec8734-a688-4285-8596-c6e64ecc91d9');\n",
       "var x = new MutationObserver(function (mutations, observer) {{\n",
       "        var display = window.getComputedStyle(gd).display;\n",
       "        if (!display || display === 'none') {{\n",
       "            console.log([gd, 'removed!']);\n",
       "            Plotly.purge(gd);\n",
       "            observer.disconnect();\n",
       "        }}\n",
       "}});\n",
       "\n",
       "// Listen for the removal of the full notebook cells\n",
       "var notebookContainer = gd.closest('#notebook-container');\n",
       "if (notebookContainer) {{\n",
       "    x.observe(notebookContainer, {childList: true});\n",
       "}}\n",
       "\n",
       "// Listen for the clearing of the current output cell\n",
       "var outputEl = gd.closest('.output');\n",
       "if (outputEl) {{\n",
       "    x.observe(outputEl, {childList: true});\n",
       "}}\n",
       "\n",
       "                        })                };                });            </script>        </div>"
      ]
     },
     "metadata": {},
     "output_type": "display_data"
    },
    {
     "data": {
      "text/html": [
       "<div>\n",
       "<style scoped>\n",
       "    .dataframe tbody tr th:only-of-type {\n",
       "        vertical-align: middle;\n",
       "    }\n",
       "\n",
       "    .dataframe tbody tr th {\n",
       "        vertical-align: top;\n",
       "    }\n",
       "\n",
       "    .dataframe thead th {\n",
       "        text-align: right;\n",
       "    }\n",
       "</style>\n",
       "<table border=\"1\" class=\"dataframe\">\n",
       "  <thead>\n",
       "    <tr style=\"text-align: right;\">\n",
       "      <th></th>\n",
       "      <th>Year</th>\n",
       "      <th>Month</th>\n",
       "      <th>CREDIT_CONTROL_AREA</th>\n",
       "      <th>CC_DAYS_TO_ADD</th>\n",
       "      <th>WAPD</th>\n",
       "    </tr>\n",
       "  </thead>\n",
       "  <tbody>\n",
       "    <tr>\n",
       "      <th>0</th>\n",
       "      <td>2022</td>\n",
       "      <td>Aug</td>\n",
       "      <td>PD</td>\n",
       "      <td>7.000000000</td>\n",
       "      <td>10.0124</td>\n",
       "    </tr>\n",
       "    <tr>\n",
       "      <th>1</th>\n",
       "      <td>2022</td>\n",
       "      <td>Dec</td>\n",
       "      <td>PD</td>\n",
       "      <td>7.000000000</td>\n",
       "      <td>10.0124</td>\n",
       "    </tr>\n",
       "    <tr>\n",
       "      <th>2</th>\n",
       "      <td>2022</td>\n",
       "      <td>Nov</td>\n",
       "      <td>PD</td>\n",
       "      <td>7.000000000</td>\n",
       "      <td>10.0124</td>\n",
       "    </tr>\n",
       "    <tr>\n",
       "      <th>3</th>\n",
       "      <td>2022</td>\n",
       "      <td>Oct</td>\n",
       "      <td>PD</td>\n",
       "      <td>7.000000000</td>\n",
       "      <td>10.0124</td>\n",
       "    </tr>\n",
       "    <tr>\n",
       "      <th>4</th>\n",
       "      <td>2022</td>\n",
       "      <td>Sep</td>\n",
       "      <td>PD</td>\n",
       "      <td>7.000000000</td>\n",
       "      <td>10.0124</td>\n",
       "    </tr>\n",
       "    <tr>\n",
       "      <th>5</th>\n",
       "      <td>2023</td>\n",
       "      <td>Apr</td>\n",
       "      <td>PD</td>\n",
       "      <td>7.000000000</td>\n",
       "      <td>10.0124</td>\n",
       "    </tr>\n",
       "    <tr>\n",
       "      <th>6</th>\n",
       "      <td>2023</td>\n",
       "      <td>Aug</td>\n",
       "      <td>PD</td>\n",
       "      <td>7.000000000</td>\n",
       "      <td>10.0124</td>\n",
       "    </tr>\n",
       "    <tr>\n",
       "      <th>7</th>\n",
       "      <td>2023</td>\n",
       "      <td>Feb</td>\n",
       "      <td>PD</td>\n",
       "      <td>7.000000000</td>\n",
       "      <td>10.0124</td>\n",
       "    </tr>\n",
       "    <tr>\n",
       "      <th>8</th>\n",
       "      <td>2023</td>\n",
       "      <td>Jan</td>\n",
       "      <td>PD</td>\n",
       "      <td>7.000000000</td>\n",
       "      <td>10.0124</td>\n",
       "    </tr>\n",
       "    <tr>\n",
       "      <th>9</th>\n",
       "      <td>2023</td>\n",
       "      <td>Jul</td>\n",
       "      <td>PD</td>\n",
       "      <td>7.000000000</td>\n",
       "      <td>10.0124</td>\n",
       "    </tr>\n",
       "    <tr>\n",
       "      <th>10</th>\n",
       "      <td>2023</td>\n",
       "      <td>Jun</td>\n",
       "      <td>PD</td>\n",
       "      <td>7.000000000</td>\n",
       "      <td>10.0124</td>\n",
       "    </tr>\n",
       "    <tr>\n",
       "      <th>11</th>\n",
       "      <td>2023</td>\n",
       "      <td>Mar</td>\n",
       "      <td>PD</td>\n",
       "      <td>7.000000000</td>\n",
       "      <td>10.0124</td>\n",
       "    </tr>\n",
       "    <tr>\n",
       "      <th>12</th>\n",
       "      <td>2023</td>\n",
       "      <td>May</td>\n",
       "      <td>PD</td>\n",
       "      <td>7.000000000</td>\n",
       "      <td>10.0124</td>\n",
       "    </tr>\n",
       "    <tr>\n",
       "      <th>13</th>\n",
       "      <td>2023</td>\n",
       "      <td>Sep</td>\n",
       "      <td>PD</td>\n",
       "      <td>7.000000000</td>\n",
       "      <td>10.0124</td>\n",
       "    </tr>\n",
       "  </tbody>\n",
       "</table>\n",
       "</div>"
      ],
      "text/plain": [
       "    Year Month CREDIT_CONTROL_AREA CC_DAYS_TO_ADD    WAPD\n",
       "0   2022   Aug                  PD    7.000000000 10.0124\n",
       "1   2022   Dec                  PD    7.000000000 10.0124\n",
       "2   2022   Nov                  PD    7.000000000 10.0124\n",
       "3   2022   Oct                  PD    7.000000000 10.0124\n",
       "4   2022   Sep                  PD    7.000000000 10.0124\n",
       "5   2023   Apr                  PD    7.000000000 10.0124\n",
       "6   2023   Aug                  PD    7.000000000 10.0124\n",
       "7   2023   Feb                  PD    7.000000000 10.0124\n",
       "8   2023   Jan                  PD    7.000000000 10.0124\n",
       "9   2023   Jul                  PD    7.000000000 10.0124\n",
       "10  2023   Jun                  PD    7.000000000 10.0124\n",
       "11  2023   Mar                  PD    7.000000000 10.0124\n",
       "12  2023   May                  PD    7.000000000 10.0124\n",
       "13  2023   Sep                  PD    7.000000000 10.0124"
      ]
     },
     "execution_count": 75,
     "metadata": {},
     "output_type": "execute_result"
    }
   ],
   "source": [
    "term = 7\n",
    "sixty=search_EAN(term,EAN)\n",
    "final_dataFram(sixty)"
   ]
  },
  {
   "cell_type": "code",
   "execution_count": null,
   "id": "7c9ae40c-83d3-4279-a8c0-be4076bc87a2",
   "metadata": {},
   "outputs": [],
   "source": []
  },
  {
   "cell_type": "markdown",
   "id": "766876bc-26b5-4089-aa0d-e6082d2b54e7",
   "metadata": {},
   "source": [
    "## National Account"
   ]
  },
  {
   "cell_type": "code",
   "execution_count": 44,
   "id": "4c702a63-9d3b-4f39-9bb5-b1552d5e4b74",
   "metadata": {},
   "outputs": [
    {
     "data": {
      "text/plain": [
       "array([Decimal('7.000000000'), Decimal('60.000000000'),\n",
       "       Decimal('15.000000000'), Decimal('10.000000000'),\n",
       "       Decimal('30.000000000')], dtype=object)"
      ]
     },
     "execution_count": 44,
     "metadata": {},
     "output_type": "execute_result"
    }
   ],
   "source": [
    "df.query(\"ENTERPRISE_ACCOUNT_NO == '7100000656'\").CC_DAYS_TO_ADD.unique()"
   ]
  },
  {
   "cell_type": "code",
   "execution_count": 41,
   "id": "f5cec136-fe7d-42fb-a180-0d291c645164",
   "metadata": {},
   "outputs": [
    {
     "data": {
      "text/plain": [
       "7100007382    11373369\n",
       "               7270425\n",
       "7100017882     2932168\n",
       "7100002977     2778541\n",
       "7100000361     1279355\n",
       "7100004101      774295\n",
       "7100019180      605728\n",
       "7100000001      336828\n",
       "7100018765      232541\n",
       "7100000212      230141\n",
       "7100000110      216146\n",
       "7100000344      200803\n",
       "7100004141      193366\n",
       "7100000121      190619\n",
       "7100000381      146337\n",
       "7100000329      140846\n",
       "7100000356      134122\n",
       "7100000165      118076\n",
       "7100000348      111605\n",
       "7100000656      104146\n",
       "Name: ENTERPRISE_ACCOUNT_NO, dtype: int64"
      ]
     },
     "execution_count": 41,
     "metadata": {},
     "output_type": "execute_result"
    }
   ],
   "source": [
    "df.ENTERPRISE_ACCOUNT_NO.value_counts().head(20)"
   ]
  }
 ],
 "metadata": {
  "environment": {
   "kernel": "python3",
   "name": "pytorch-gpu.1-13.m108",
   "type": "gcloud",
   "uri": "gcr.io/deeplearning-platform-release/pytorch-gpu.1-13:m108"
  },
  "kernelspec": {
   "display_name": "Python 3",
   "language": "python",
   "name": "python3"
  },
  "language_info": {
   "codemirror_mode": {
    "name": "ipython",
    "version": 3
   },
   "file_extension": ".py",
   "mimetype": "text/x-python",
   "name": "python",
   "nbconvert_exporter": "python",
   "pygments_lexer": "ipython3",
   "version": "3.7.12"
  }
 },
 "nbformat": 4,
 "nbformat_minor": 5
}
