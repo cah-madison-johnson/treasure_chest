{
 "cells": [
  {
   "cell_type": "code",
   "execution_count": 1,
   "id": "c2d4e05d-fc05-466a-a5df-dae854b27c0f",
   "metadata": {},
   "outputs": [],
   "source": [
    "# Display settings\n",
    "## Auto reload modules & inline plots\n",
    "%reload_ext autoreload\n",
    "%autoreload 2\n",
    "%matplotlib inline"
   ]
  },
  {
   "cell_type": "code",
   "execution_count": 2,
   "id": "6d5bc12e-1427-448d-bfc2-ea97baae66a0",
   "metadata": {},
   "outputs": [],
   "source": [
    "import datetime as dt #For inputing any date or time information\n",
    "from datetime import timezone #For inputing timezones\n",
    "from google.cloud import bigquery          #The BigQuery API\n",
    "import matplotlib.pyplot as plt      #For plotting\n",
    "import numpy as np                         #For scientific computation\n",
    "import os                            #For work with native operating system and directories\n",
    "from pathlib import Path             #For working with file paths and directories\n",
    "import pydata_google_auth                  #For authentication against Google \n",
    "import pandas as pd                        #For data manipulation and bgq --> pandas conversion\n",
    "import pandas_gbq as pd_gbq #Import BigQuery data to create a pandas dataframe\n",
    "import plotly.graph_objects as go # interactive plots\n",
    "import pytz #For timezone calculations\n",
    "import seaborn as sns                #For plotting\n",
    "import warnings\n",
    "import datetime"
   ]
  },
  {
   "cell_type": "code",
   "execution_count": 3,
   "id": "0f4781a0-4d30-400e-9eca-dc6f1b48691a",
   "metadata": {},
   "outputs": [],
   "source": [
    "pd.set_option('display.max_columns', None)\n",
    "pd.options.display.float_format = '{:.4f}'.format\n",
    "warnings.filterwarnings('ignore')"
   ]
  },
  {
   "cell_type": "code",
   "execution_count": 4,
   "id": "4910a1e5-5912-411f-9aca-af31465dc11a",
   "metadata": {},
   "outputs": [],
   "source": [
    "query = \"\"\"\n",
    "SELECT\n",
    "  CUSTOMER_NUMBER,\n",
    "  ENTERPRISE_ACCOUNT_NO,\n",
    "  ENTERPRISE_ACCOUNT_NAME,\n",
    "  NATIONAL_ACCOUNT,\n",
    "  PAYER,\n",
    "  DOCUMENT_DATE_IN_DOCUMENT,\n",
    "  DOCUMENT_TYPE,\n",
    "  POSTING_KEY_NAME,\n",
    "  AMOUNT_IN_LOCAL_CURRENCY,\n",
    "  CREDIT_CONTROL_AREA,\n",
    "  AR_STATUS,\n",
    "  PAYMENT_DATE,\n",
    "  CC_DAYS_TO_ADD,\n",
    "  TERMS_OF_PAYMENT_KEY  \n",
    "FROM\n",
    "  `edna-data-pr-cah.VW_CORP_GFSS_NP.VW_AR_AGING`\n",
    "WHERE\n",
    "  (DOCUMENT_TYPE IN ('ZF',\n",
    "      'VF', 'DH', 'DL', 'DZ', 'DW', 'DC'))\n",
    "    AND (\"2024-01-01\" >=PAYMENT_DATE)\n",
    "ORDER BY\n",
    "  PAYMENT_DATE\n",
    "\"\"\""
   ]
  },
  {
   "cell_type": "markdown",
   "id": "cda44399-70ff-422d-83a1-1978151001fb",
   "metadata": {},
   "source": [
    "<font color='red'>check on: WHERE\n",
    "  (DOCUMENT_TYPE IN ('ZF',\n",
    "      'VF', 'DH', 'DL', 'DZ', 'DW', 'DC'))</font> "
   ]
  },
  {
   "cell_type": "code",
   "execution_count": 5,
   "id": "f40c94cc-547d-4e16-b49a-8529f31dd112",
   "metadata": {},
   "outputs": [],
   "source": [
    "# Import the data with imputation\n",
    "bqclient = bigquery.Client()\n",
    "df = bqclient.query(query).to_dataframe()"
   ]
  },
  {
   "cell_type": "code",
   "execution_count": 6,
   "id": "9eff9775-e3a8-4ccf-b47f-16832943f615",
   "metadata": {},
   "outputs": [
    {
     "data": {
      "text/plain": [
       "array(['PD', 'PRMD'], dtype=object)"
      ]
     },
     "execution_count": 6,
     "metadata": {},
     "output_type": "execute_result"
    }
   ],
   "source": [
    "df.query('ENTERPRISE_ACCOUNT_NO == \"7100007382\"').CREDIT_CONTROL_AREA.unique()"
   ]
  },
  {
   "cell_type": "code",
   "execution_count": 7,
   "id": "65c44fb7-3634-4da8-b17f-08bd944a890a",
   "metadata": {
    "tags": []
   },
   "outputs": [
    {
     "data": {
      "text/plain": [
       "7100007382    12010976\n",
       "               9365686\n",
       "7100017882     3147195\n",
       "7100002977     3010252\n",
       "7100000361     1375177\n",
       "                ...   \n",
       "7100008084           1\n",
       "7100021081           1\n",
       "7100024115           1\n",
       "7100007256           1\n",
       "7100020510           1\n",
       "Name: ENTERPRISE_ACCOUNT_NO, Length: 7705, dtype: int64"
      ]
     },
     "execution_count": 7,
     "metadata": {},
     "output_type": "execute_result"
    }
   ],
   "source": [
    "df.ENTERPRISE_ACCOUNT_NO.value_counts()"
   ]
  },
  {
   "cell_type": "code",
   "execution_count": 8,
   "id": "fb5e826d-55c3-449a-aa8d-f413105ca69b",
   "metadata": {},
   "outputs": [],
   "source": [
    "# df['PAYMENT_DATE']=pd.to_datetime(df['PAYMENT_DATE'])\n",
    "# df.query('\"2024-01-01\" >=PAYMENT_DATE')"
   ]
  },
  {
   "cell_type": "code",
   "execution_count": 9,
   "id": "0843619b-913d-4c0f-b76f-830ce34dcc1a",
   "metadata": {},
   "outputs": [],
   "source": [
    "df=df.query('POSTING_KEY_NAME == \"01 - Invoice\" & AR_STATUS == \"CLEAR\"')\n",
    "df['CC_DAYS_TO_ADD']=df['CC_DAYS_TO_ADD'].apply(lambda x: float(x))\n",
    "df['AMOUNT_IN_LOCAL_CURRENCY']=df['AMOUNT_IN_LOCAL_CURRENCY'].apply(lambda x: float(x))\n",
    "df.reset_index(inplace = True)\n"
   ]
  },
  {
   "cell_type": "code",
   "execution_count": 10,
   "id": "a8949bfd-c23f-4db9-a44c-8c06ad218631",
   "metadata": {
    "tags": []
   },
   "outputs": [],
   "source": [
    "def calc_WAPD(df_1):\n",
    "    df_1['PAYMENT_DATE']=pd.to_datetime(df_1['PAYMENT_DATE'])\n",
    "    df_1['DOCUMENT_DATE_IN_DOCUMENT']=pd.to_datetime(df_1['DOCUMENT_DATE_IN_DOCUMENT'])\n",
    "    WAPD_new = pd.Series([])\n",
    "    for index, row in df_1.iterrows():\n",
    "        start_date= row['PAYMENT_DATE']\n",
    "        end_date = row['90_days_ago']\n",
    "        try:\n",
    "            ninety_day_range = df_1.query('@start_date >= DOCUMENT_DATE_IN_DOCUMENT   >= @end_date')\n",
    "            WAPD= ninety_day_range['Weighted Invoice Value'].sum() / ninety_day_range['AMOUNT_IN_LOCAL_CURRENCY'].sum()\n",
    "            WAPD_new[index]=WAPD\n",
    "        except:\n",
    "            print('no PAYMENT_DATE')\n",
    "    df_1.insert(16, \"WAPD\", WAPD_new)\n",
    "    return df_1"
   ]
  },
  {
   "cell_type": "code",
   "execution_count": 11,
   "id": "843a8b35-d4e3-4a64-8117-ec4b1df6e420",
   "metadata": {
    "tags": []
   },
   "outputs": [],
   "source": [
    "def search_customer(CUSTOMER_NUMBER):\n",
    "    CUSTOMER_df=df.query('CUSTOMER_NUMBER == @CUSTOMER_NUMBER')\n",
    "    CUSTOMER_df.reset_index(inplace = True)\n",
    "    \n",
    "    CUSTOMER_df['AMOUNT_IN_LOCAL_CURRENCY']=CUSTOMER_df['AMOUNT_IN_LOCAL_CURRENCY'].apply(lambda x: float(x))\n",
    "#     Sub Payment Date from Invoice Date\n",
    "    CUSTOMER_df['Sub Payment Date from Invoice Date']=(CUSTOMER_df['PAYMENT_DATE']-CUSTOMER_df['DOCUMENT_DATE_IN_DOCUMENT']).dt.days\n",
    "#     Weighted Invoice Value\n",
    "    CUSTOMER_df['Weighted Invoice Value']= CUSTOMER_df['Sub Payment Date from Invoice Date']*CUSTOMER_df['AMOUNT_IN_LOCAL_CURRENCY']\n",
    "# WAPD\n",
    "    import datetime\n",
    "    current = pd.to_datetime(CUSTOMER_df['PAYMENT_DATE'])\n",
    "    CUSTOMER_df['90_days_ago']= current - pd.to_timedelta('90 days')\n",
    "    CUSTOMER_df = calc_WAPD(CUSTOMER_df)\n",
    "    return CUSTOMER_df"
   ]
  },
  {
   "cell_type": "code",
   "execution_count": 12,
   "id": "25fda3ea-64c0-43ab-88fd-24bd732a12d1",
   "metadata": {
    "tags": []
   },
   "outputs": [],
   "source": [
    "# Returns a tuple of DataFrames sorted by DSO term\n",
    "\n",
    "def get_terms(ENTERPRISE_ACCOUNT_NO):\n",
    "    return_list = []\n",
    "    \n",
    "    terms_df=df.query('ENTERPRISE_ACCOUNT_NO == @ENTERPRISE_ACCOUNT_NO')\n",
    "    \n",
    "    # terms_df.reset_index(inplace = True)\n",
    "    terms_list = terms_df['CC_DAYS_TO_ADD'].unique()\n",
    "    print(terms_list)\n",
    "    \n",
    "    for dso_term in terms_list:\n",
    "        name = str(dso_term)+\"_term\"\n",
    "        name = terms_df.query('CC_DAYS_TO_ADD ==@dso_term')\n",
    "        return_list.append(name)\n",
    "    \n",
    "    return return_list\n",
    " \n",
    "# EAN = \"7100000391\"\n",
    "# s = get_terms(EAN)"
   ]
  },
  {
   "cell_type": "code",
   "execution_count": 13,
   "id": "db16e6c4-b062-4f3e-a4cd-f5aa8120c4c0",
   "metadata": {},
   "outputs": [],
   "source": [
    "def search_EAN(CUSTOMER_df):\n",
    "    # CUSTOMER_df=EN_df.query('ENTERPRISE_ACCOUNT_NO == @ENTERPRISE_ACCOUNT_NO')\n",
    "    CUSTOMER_df.reset_index(inplace = True)\n",
    "   \n",
    "    # CUSTOMER_df['AMOUNT_IN_LOCAL_CURRENCY']=CUSTOMER_df['AMOUNT_IN_LOCAL_CURRENCY'].apply(lambda x: float(x))\n",
    "#     Sub Payment Date from Invoice Date\n",
    "    \n",
    "    CUSTOMER_df['Sub Payment Date from Invoice Date']=(CUSTOMER_df['PAYMENT_DATE']-CUSTOMER_df['DOCUMENT_DATE_IN_DOCUMENT']).dt.days\n",
    "#     Weighted Invoice Value\n",
    "    CUSTOMER_df['Weighted Invoice Value']= CUSTOMER_df['Sub Payment Date from Invoice Date']*CUSTOMER_df['AMOUNT_IN_LOCAL_CURRENCY']\n",
    "# WAPD\n",
    "    import datetime\n",
    "    current = pd.to_datetime(CUSTOMER_df['PAYMENT_DATE'])\n",
    "    CUSTOMER_df['90_days_ago']= current - pd.to_timedelta('90 days')\n",
    "    CUSTOMER_df = calc_WAPD(CUSTOMER_df)\n",
    "    \n",
    "    \n",
    "    \n",
    "    return CUSTOMER_df"
   ]
  },
  {
   "cell_type": "code",
   "execution_count": 14,
   "id": "dafdf0c6-22fd-4c12-982e-a7ea06dfff70",
   "metadata": {
    "jupyter": {
     "source_hidden": true
    },
    "tags": []
   },
   "outputs": [],
   "source": [
    "def search_EAN_terms(ENTERPRISE_ACCOUNT_NO):\n",
    "    CUSTOMER_df=df.query('ENTERPRISE_ACCOUNT_NO == @ENTERPRISE_ACCOUNT_NO')\n",
    "    CUSTOMER_df.reset_index(inplace = True)\n",
    "    \n",
    "#     loop for terms \n",
    "\n",
    "    four = CUSTOMER_df.query('CC_DAYS_TO_ADD ==4.000000000')\n",
    "    thirty =CUSTOMER_df.query('CC_DAYS_TO_ADD ==30.000000000')\n",
    "    sixty =CUSTOMER_df.query('CC_DAYS_TO_ADD ==60.000000000')\n",
    "    ninty = CUSTOMER_df.query('CC_DAYS_TO_ADD ==90.000000000')\n",
    "\n",
    "# FOUR\n",
    "\n",
    "\n",
    "\n",
    "    four['AMOUNT_IN_LOCAL_CURRENCY']=four['AMOUNT_IN_LOCAL_CURRENCY'].apply(lambda x: float(x))\n",
    "#     Sub Payment Date from Invoice Date\n",
    "    four['Sub Payment Date from Invoice Date']=(four['PAYMENT_DATE']-four['DOCUMENT_DATE_IN_DOCUMENT']).dt.days\n",
    "#     Weighted Invoice Value\n",
    "    four['Weighted Invoice Value']= four['Sub Payment Date from Invoice Date']*four['AMOUNT_IN_LOCAL_CURRENCY']\n",
    "# WAPD\n",
    "    import datetime\n",
    "    current = pd.to_datetime(four['PAYMENT_DATE'])\n",
    "    four['90_days_ago']= current - pd.to_timedelta('90 days')\n",
    "    four = calc_WAPD(four)\n",
    "    \n",
    "#   THIRTY  \n",
    "    \n",
    "    thirty['AMOUNT_IN_LOCAL_CURRENCY']=thirty['AMOUNT_IN_LOCAL_CURRENCY'].apply(lambda x: float(x))\n",
    "#     Sub Payment Date from Invoice Date\n",
    "    thirty['Sub Payment Date from Invoice Date']=(thirty['PAYMENT_DATE']-thirty['DOCUMENT_DATE_IN_DOCUMENT']).dt.days\n",
    "#     Weighted Invoice Value\n",
    "    thirty['Weighted Invoice Value']= thirty['Sub Payment Date from Invoice Date']*thirty['AMOUNT_IN_LOCAL_CURRENCY']\n",
    "# WAPD\n",
    "    import datetime\n",
    "    current = pd.to_datetime(thirty['PAYMENT_DATE'])\n",
    "    thirty['90_days_ago']= current - pd.to_timedelta('90 days')\n",
    "    thirty = calc_WAPD(thirty)\n",
    "    \n",
    "    \n",
    "    \n",
    "    \n",
    "    return CUSTOMER_df"
   ]
  },
  {
   "cell_type": "markdown",
   "id": "4738cf66-a9d3-43bb-93f3-898faa50ec71",
   "metadata": {},
   "source": [
    "# **********************************************************************************************************"
   ]
  },
  {
   "cell_type": "markdown",
   "id": "2a399b1d-0ef2-4692-9bc6-04f43c92ee5b",
   "metadata": {},
   "source": [
    "# Visualization"
   ]
  },
  {
   "cell_type": "markdown",
   "id": "6c411fd8-6c27-44d1-bca2-19c557dc247a",
   "metadata": {},
   "source": [
    "## Customer"
   ]
  },
  {
   "cell_type": "code",
   "execution_count": 15,
   "id": "4799ed16-4197-493f-a43e-81c011e79416",
   "metadata": {
    "tags": []
   },
   "outputs": [],
   "source": [
    "customer = \"2057194397\"\n",
    "t = search_customer(customer)"
   ]
  },
  {
   "cell_type": "code",
   "execution_count": 16,
   "id": "03c1a07d-7f51-408e-82d5-727d18e82dd3",
   "metadata": {
    "tags": []
   },
   "outputs": [
    {
     "data": {
      "text/html": [
       "<div>\n",
       "<style scoped>\n",
       "    .dataframe tbody tr th:only-of-type {\n",
       "        vertical-align: middle;\n",
       "    }\n",
       "\n",
       "    .dataframe tbody tr th {\n",
       "        vertical-align: top;\n",
       "    }\n",
       "\n",
       "    .dataframe thead th {\n",
       "        text-align: right;\n",
       "    }\n",
       "</style>\n",
       "<table border=\"1\" class=\"dataframe\">\n",
       "  <thead>\n",
       "    <tr style=\"text-align: right;\">\n",
       "      <th></th>\n",
       "      <th>level_0</th>\n",
       "      <th>index</th>\n",
       "      <th>CUSTOMER_NUMBER</th>\n",
       "      <th>ENTERPRISE_ACCOUNT_NO</th>\n",
       "      <th>ENTERPRISE_ACCOUNT_NAME</th>\n",
       "      <th>NATIONAL_ACCOUNT</th>\n",
       "      <th>PAYER</th>\n",
       "      <th>DOCUMENT_DATE_IN_DOCUMENT</th>\n",
       "      <th>DOCUMENT_TYPE</th>\n",
       "      <th>POSTING_KEY_NAME</th>\n",
       "      <th>AMOUNT_IN_LOCAL_CURRENCY</th>\n",
       "      <th>CREDIT_CONTROL_AREA</th>\n",
       "      <th>AR_STATUS</th>\n",
       "      <th>PAYMENT_DATE</th>\n",
       "      <th>CC_DAYS_TO_ADD</th>\n",
       "      <th>TERMS_OF_PAYMENT_KEY</th>\n",
       "      <th>WAPD</th>\n",
       "      <th>Sub Payment Date from Invoice Date</th>\n",
       "      <th>Weighted Invoice Value</th>\n",
       "      <th>90_days_ago</th>\n",
       "    </tr>\n",
       "  </thead>\n",
       "  <tbody>\n",
       "    <tr>\n",
       "      <th>573</th>\n",
       "      <td>42146754</td>\n",
       "      <td>50072189</td>\n",
       "      <td>2057194397</td>\n",
       "      <td>7100004137</td>\n",
       "      <td>7100004137 - CONVERSIO HEALTH</td>\n",
       "      <td>0000000101</td>\n",
       "      <td>2057194397</td>\n",
       "      <td>2023-08-24</td>\n",
       "      <td>ZF</td>\n",
       "      <td>01 - Invoice</td>\n",
       "      <td>3232.3800</td>\n",
       "      <td>PD</td>\n",
       "      <td>CLEAR</td>\n",
       "      <td>2023-09-22</td>\n",
       "      <td>28.0000</td>\n",
       "      <td>YS28</td>\n",
       "      <td>28.6444</td>\n",
       "      <td>29</td>\n",
       "      <td>93739.0200</td>\n",
       "      <td>2023-06-24</td>\n",
       "    </tr>\n",
       "    <tr>\n",
       "      <th>574</th>\n",
       "      <td>42146810</td>\n",
       "      <td>50072259</td>\n",
       "      <td>2057194397</td>\n",
       "      <td>7100004137</td>\n",
       "      <td>7100004137 - CONVERSIO HEALTH</td>\n",
       "      <td>0000000101</td>\n",
       "      <td>2057194397</td>\n",
       "      <td>2023-08-23</td>\n",
       "      <td>ZF</td>\n",
       "      <td>01 - Invoice</td>\n",
       "      <td>2251.5600</td>\n",
       "      <td>PD</td>\n",
       "      <td>CLEAR</td>\n",
       "      <td>2023-09-22</td>\n",
       "      <td>28.0000</td>\n",
       "      <td>YS28</td>\n",
       "      <td>28.6444</td>\n",
       "      <td>30</td>\n",
       "      <td>67546.8000</td>\n",
       "      <td>2023-06-24</td>\n",
       "    </tr>\n",
       "    <tr>\n",
       "      <th>575</th>\n",
       "      <td>42147145</td>\n",
       "      <td>50072641</td>\n",
       "      <td>2057194397</td>\n",
       "      <td>7100004137</td>\n",
       "      <td>7100004137 - CONVERSIO HEALTH</td>\n",
       "      <td>0000000101</td>\n",
       "      <td>2057194397</td>\n",
       "      <td>2023-08-24</td>\n",
       "      <td>ZF</td>\n",
       "      <td>01 - Invoice</td>\n",
       "      <td>497.3700</td>\n",
       "      <td>PD</td>\n",
       "      <td>CLEAR</td>\n",
       "      <td>2023-09-22</td>\n",
       "      <td>28.0000</td>\n",
       "      <td>YS28</td>\n",
       "      <td>28.6444</td>\n",
       "      <td>29</td>\n",
       "      <td>14423.7300</td>\n",
       "      <td>2023-06-24</td>\n",
       "    </tr>\n",
       "    <tr>\n",
       "      <th>576</th>\n",
       "      <td>42147915</td>\n",
       "      <td>50073523</td>\n",
       "      <td>2057194397</td>\n",
       "      <td>7100004137</td>\n",
       "      <td>7100004137 - CONVERSIO HEALTH</td>\n",
       "      <td>0000000101</td>\n",
       "      <td>2057194397</td>\n",
       "      <td>2023-08-21</td>\n",
       "      <td>ZF</td>\n",
       "      <td>01 - Invoice</td>\n",
       "      <td>2481.2800</td>\n",
       "      <td>PD</td>\n",
       "      <td>CLEAR</td>\n",
       "      <td>2023-09-22</td>\n",
       "      <td>28.0000</td>\n",
       "      <td>YS28</td>\n",
       "      <td>28.6444</td>\n",
       "      <td>32</td>\n",
       "      <td>79400.9600</td>\n",
       "      <td>2023-06-24</td>\n",
       "    </tr>\n",
       "    <tr>\n",
       "      <th>577</th>\n",
       "      <td>42148352</td>\n",
       "      <td>50074029</td>\n",
       "      <td>2057194397</td>\n",
       "      <td>7100004137</td>\n",
       "      <td>7100004137 - CONVERSIO HEALTH</td>\n",
       "      <td>0000000101</td>\n",
       "      <td>2057194397</td>\n",
       "      <td>2023-08-25</td>\n",
       "      <td>ZF</td>\n",
       "      <td>01 - Invoice</td>\n",
       "      <td>608.5000</td>\n",
       "      <td>PD</td>\n",
       "      <td>CLEAR</td>\n",
       "      <td>2023-09-22</td>\n",
       "      <td>28.0000</td>\n",
       "      <td>YS28</td>\n",
       "      <td>28.6444</td>\n",
       "      <td>28</td>\n",
       "      <td>17038.0000</td>\n",
       "      <td>2023-06-24</td>\n",
       "    </tr>\n",
       "  </tbody>\n",
       "</table>\n",
       "</div>"
      ],
      "text/plain": [
       "      level_0     index CUSTOMER_NUMBER ENTERPRISE_ACCOUNT_NO  \\\n",
       "573  42146754  50072189      2057194397            7100004137   \n",
       "574  42146810  50072259      2057194397            7100004137   \n",
       "575  42147145  50072641      2057194397            7100004137   \n",
       "576  42147915  50073523      2057194397            7100004137   \n",
       "577  42148352  50074029      2057194397            7100004137   \n",
       "\n",
       "           ENTERPRISE_ACCOUNT_NAME NATIONAL_ACCOUNT       PAYER  \\\n",
       "573  7100004137 - CONVERSIO HEALTH       0000000101  2057194397   \n",
       "574  7100004137 - CONVERSIO HEALTH       0000000101  2057194397   \n",
       "575  7100004137 - CONVERSIO HEALTH       0000000101  2057194397   \n",
       "576  7100004137 - CONVERSIO HEALTH       0000000101  2057194397   \n",
       "577  7100004137 - CONVERSIO HEALTH       0000000101  2057194397   \n",
       "\n",
       "    DOCUMENT_DATE_IN_DOCUMENT DOCUMENT_TYPE POSTING_KEY_NAME  \\\n",
       "573                2023-08-24            ZF     01 - Invoice   \n",
       "574                2023-08-23            ZF     01 - Invoice   \n",
       "575                2023-08-24            ZF     01 - Invoice   \n",
       "576                2023-08-21            ZF     01 - Invoice   \n",
       "577                2023-08-25            ZF     01 - Invoice   \n",
       "\n",
       "     AMOUNT_IN_LOCAL_CURRENCY CREDIT_CONTROL_AREA AR_STATUS PAYMENT_DATE  \\\n",
       "573                 3232.3800                  PD     CLEAR   2023-09-22   \n",
       "574                 2251.5600                  PD     CLEAR   2023-09-22   \n",
       "575                  497.3700                  PD     CLEAR   2023-09-22   \n",
       "576                 2481.2800                  PD     CLEAR   2023-09-22   \n",
       "577                  608.5000                  PD     CLEAR   2023-09-22   \n",
       "\n",
       "     CC_DAYS_TO_ADD TERMS_OF_PAYMENT_KEY    WAPD  \\\n",
       "573         28.0000                 YS28 28.6444   \n",
       "574         28.0000                 YS28 28.6444   \n",
       "575         28.0000                 YS28 28.6444   \n",
       "576         28.0000                 YS28 28.6444   \n",
       "577         28.0000                 YS28 28.6444   \n",
       "\n",
       "     Sub Payment Date from Invoice Date  Weighted Invoice Value 90_days_ago  \n",
       "573                                  29              93739.0200  2023-06-24  \n",
       "574                                  30              67546.8000  2023-06-24  \n",
       "575                                  29              14423.7300  2023-06-24  \n",
       "576                                  32              79400.9600  2023-06-24  \n",
       "577                                  28              17038.0000  2023-06-24  "
      ]
     },
     "execution_count": 16,
     "metadata": {},
     "output_type": "execute_result"
    }
   ],
   "source": [
    "t.tail()"
   ]
  },
  {
   "cell_type": "code",
   "execution_count": 17,
   "id": "dedcbae1-0bd6-42eb-9a32-34ba8a977e34",
   "metadata": {},
   "outputs": [],
   "source": [
    "t['month'] = t['PAYMENT_DATE'].dt.strftime('%b')"
   ]
  },
  {
   "cell_type": "code",
   "execution_count": 18,
   "id": "adcd9317-daab-4516-8a72-04786b92746e",
   "metadata": {},
   "outputs": [
    {
     "data": {
      "text/html": [
       "<div>\n",
       "<style scoped>\n",
       "    .dataframe tbody tr th:only-of-type {\n",
       "        vertical-align: middle;\n",
       "    }\n",
       "\n",
       "    .dataframe tbody tr th {\n",
       "        vertical-align: top;\n",
       "    }\n",
       "\n",
       "    .dataframe thead th {\n",
       "        text-align: right;\n",
       "    }\n",
       "</style>\n",
       "<table border=\"1\" class=\"dataframe\">\n",
       "  <thead>\n",
       "    <tr style=\"text-align: right;\">\n",
       "      <th></th>\n",
       "      <th>month</th>\n",
       "      <th>Jan</th>\n",
       "      <th>Feb</th>\n",
       "      <th>Mar</th>\n",
       "      <th>Apr</th>\n",
       "      <th>May</th>\n",
       "      <th>Jun</th>\n",
       "      <th>Jul</th>\n",
       "      <th>Aug</th>\n",
       "      <th>Sep</th>\n",
       "      <th>Oct</th>\n",
       "      <th>Nov</th>\n",
       "      <th>Dec</th>\n",
       "    </tr>\n",
       "    <tr>\n",
       "      <th>PAYMENT_DATE</th>\n",
       "      <th>CREDIT_CONTROL_AREA</th>\n",
       "      <th></th>\n",
       "      <th></th>\n",
       "      <th></th>\n",
       "      <th></th>\n",
       "      <th></th>\n",
       "      <th></th>\n",
       "      <th></th>\n",
       "      <th></th>\n",
       "      <th></th>\n",
       "      <th></th>\n",
       "      <th></th>\n",
       "      <th></th>\n",
       "    </tr>\n",
       "  </thead>\n",
       "  <tbody>\n",
       "    <tr>\n",
       "      <th>2022</th>\n",
       "      <th>PD</th>\n",
       "      <td>NaN</td>\n",
       "      <td>NaN</td>\n",
       "      <td>NaN</td>\n",
       "      <td>NaN</td>\n",
       "      <td>NaN</td>\n",
       "      <td>NaN</td>\n",
       "      <td>NaN</td>\n",
       "      <td>NaN</td>\n",
       "      <td>29.9744</td>\n",
       "      <td>29.9637</td>\n",
       "      <td>29.9682</td>\n",
       "      <td>30.0434</td>\n",
       "    </tr>\n",
       "    <tr>\n",
       "      <th>2023</th>\n",
       "      <th>PD</th>\n",
       "      <td>29.7159</td>\n",
       "      <td>28.5953</td>\n",
       "      <td>25.1921</td>\n",
       "      <td>24.8993</td>\n",
       "      <td>24.3104</td>\n",
       "      <td>25.7423</td>\n",
       "      <td>25.0257</td>\n",
       "      <td>26.6483</td>\n",
       "      <td>27.9685</td>\n",
       "      <td>NaN</td>\n",
       "      <td>NaN</td>\n",
       "      <td>NaN</td>\n",
       "    </tr>\n",
       "  </tbody>\n",
       "</table>\n",
       "</div>"
      ],
      "text/plain": [
       "month                                Jan     Feb     Mar     Apr     May  \\\n",
       "PAYMENT_DATE CREDIT_CONTROL_AREA                                           \n",
       "2022         PD                      NaN     NaN     NaN     NaN     NaN   \n",
       "2023         PD                  29.7159 28.5953 25.1921 24.8993 24.3104   \n",
       "\n",
       "month                                Jun     Jul     Aug     Sep     Oct  \\\n",
       "PAYMENT_DATE CREDIT_CONTROL_AREA                                           \n",
       "2022         PD                      NaN     NaN     NaN 29.9744 29.9637   \n",
       "2023         PD                  25.7423 25.0257 26.6483 27.9685     NaN   \n",
       "\n",
       "month                                Nov     Dec  \n",
       "PAYMENT_DATE CREDIT_CONTROL_AREA                  \n",
       "2022         PD                  29.9682 30.0434  \n",
       "2023         PD                      NaN     NaN  "
      ]
     },
     "execution_count": 18,
     "metadata": {},
     "output_type": "execute_result"
    }
   ],
   "source": [
    "year_order = ['Jan','Feb','Mar','Apr','May','Jun','Jul','Aug','Sep','Oct','Nov','Dec']\n",
    "\n",
    "dfp1 = pd.pivot_table(data=t, index=[t.PAYMENT_DATE.dt.year,t.CREDIT_CONTROL_AREA], columns='month', values='WAPD')\n",
    "dfp1 = dfp1.reindex(year_order, axis=1)\n",
    "dfp1"
   ]
  },
  {
   "cell_type": "code",
   "execution_count": 19,
   "id": "616b3c44-607f-4fec-bb98-3990b4ab180a",
   "metadata": {},
   "outputs": [
    {
     "data": {
      "image/png": "[encoded data removed]",
      "text/plain": [
       "<Figure size 800x400 with 1 Axes>"
      ]
     },
     "metadata": {},
     "output_type": "display_data"
    }
   ],
   "source": [
    "ax = dfp1.plot(kind='bar', figsize=(8, 4), ylabel='WAPD', xlabel='Year', rot=0,colormap='Paired')\n",
    "ax.plot(t.CC_DAYS_TO_ADD, c = \"y\", label = \"DSO Term\")\n",
    "_ = ax.legend(bbox_to_anchor=(1, 1.02), loc='upper left')"
   ]
  },
  {
   "cell_type": "markdown",
   "id": "10a6bbd6-e88a-498a-996e-dcdb5f781a1e",
   "metadata": {},
   "source": [
    "## EAN"
   ]
  },
  {
   "cell_type": "code",
   "execution_count": 21,
   "id": "02895845-04f8-4d38-8145-dfd67f45988a",
   "metadata": {},
   "outputs": [
    {
     "name": "stdout",
     "output_type": "stream",
     "text": [
      "[ 15.  65.  75.  60.  90.  30.  32.  29.  31.   7.  35.  26.  59.  61.\n",
      "  33. 120.   0.  34.  40.  28.  27.  37.  39.  36.  10.  38.   5.   8.]\n"
     ]
    }
   ],
   "source": [
    "EAN = \"7100007382\"\n",
    "s = get_terms(EAN)\n",
    "# DSO terms are printed below"
   ]
  },
  {
   "cell_type": "code",
   "execution_count": 22,
   "id": "caf25f8e-6f62-471a-995b-9275da5ee2a3",
   "metadata": {},
   "outputs": [
    {
     "data": {
      "text/plain": [
       "array(['PD', 'PRMD'], dtype=object)"
      ]
     },
     "execution_count": 22,
     "metadata": {},
     "output_type": "execute_result"
    }
   ],
   "source": [
    "s[5].CREDIT_CONTROL_AREA.unique()"
   ]
  },
  {
   "cell_type": "code",
   "execution_count": 23,
   "id": "d42cc68b-e007-4aeb-80cc-ee42ab75ac1a",
   "metadata": {},
   "outputs": [],
   "source": [
    "fi=search_EAN(s[5])"
   ]
  },
  {
   "cell_type": "code",
   "execution_count": 26,
   "id": "56340574-0780-4e3a-acc1-87cf2680edb2",
   "metadata": {
    "tags": []
   },
   "outputs": [],
   "source": [
    "fi['month'] = fi['PAYMENT_DATE'].dt.strftime('%b')"
   ]
  },
  {
   "cell_type": "code",
   "execution_count": 173,
   "id": "2a57eabe-594e-4468-98d8-7a6e0d65cad2",
   "metadata": {
    "tags": []
   },
   "outputs": [],
   "source": [
    "df_final = pd.DataFrame({'Year': fi.PAYMENT_DATE.dt.year,\n",
    "                   'Month': fi.month,\n",
    "                   'CREDIT_CONTROL_AREA': fi.CREDIT_CONTROL_AREA,\n",
    "                   'WAPD':fi.WAPD})"
   ]
  },
  {
   "cell_type": "code",
   "execution_count": 29,
   "id": "6b928302-5fe2-4816-bf0d-4798f30ab754",
   "metadata": {},
   "outputs": [],
   "source": [
    "monthly = df_final.groupby(['Year','CREDIT_CONTROL_AREA','Month'])['WAPD'].mean()\n",
    "# year_order = ['Jan','Feb',||year_order, axis=1)"
   ]
  },
  {
   "cell_type": "code",
   "execution_count": 276,
   "id": "5ce20c44-fb22-483f-a1e8-0409b8e3c7ef",
   "metadata": {},
   "outputs": [],
   "source": [
    "exp_cash_flow_grp = (\n",
    "    df_final\n",
    "    .filter([\"Year\", \"Month\",\"CREDIT_CONTROL_AREA\",\"WAPD\"])\n",
    "    # .query('DOCUMENT_TYPE in (\"DH\", \"DL\", \"DZ\", \"DW\", \"DC\")')\n",
    "    .groupby(['Year','Month','CREDIT_CONTROL_AREA'])\n",
    "    .agg({'WAPD' : ['mean']})\n",
    "    .sort_values(['Year',\"Month\"])\n",
    "    .reset_index()\n",
    ")\n",
    "exp_cash_flow_grp.columns = ['Year','Month', 'CREDIT_CONTROL_AREA','WAPD']"
   ]
  },
  {
   "cell_type": "code",
   "execution_count": 293,
   "id": "d740a276-c0f7-4f6f-8df5-6b159896c4a7",
   "metadata": {},
   "outputs": [],
   "source": [
    "df[\"period\"] =df[\"Month\"] +\"\\n\"+  df[\"Year\"].astype(str)"
   ]
  },
  {
   "cell_type": "code",
   "execution_count": 294,
   "id": "5503c21d-e353-4ba2-986a-1ef5b4fac4e4",
   "metadata": {
    "tags": []
   },
   "outputs": [
    {
     "data": {
      "text/plain": [
       "array(['Aug\\n2022', 'Dec\\n2022', 'Nov\\n2022', 'Oct\\n2022', 'Sep\\n2022',\n",
       "       'Apr\\n2023', 'Aug\\n2023', 'Feb\\n2023', 'Jan\\n2023', 'Jul\\n2023',\n",
       "       'Jun\\n2023', 'Mar\\n2023', 'May\\n2023', 'Sep\\n2023'], dtype=object)"
      ]
     },
     "execution_count": 294,
     "metadata": {},
     "output_type": "execute_result"
    }
   ],
   "source": [
    "df=exp_cash_flow_grp\n",
    "df.period.unique()"
   ]
  },
  {
   "cell_type": "code",
   "execution_count": 297,
   "id": "b1c903a6-ed50-4a93-bb97-6786800617f7",
   "metadata": {},
   "outputs": [],
   "source": [
    "# 0 = [2022, 2023]\n",
    "fruits = ['Aug\\n2022', 'Dec\\n2022', 'Nov\\n2022', 'Oct\\n2022', 'Sep\\n2022',\n",
    "       'Apr\\n2023', 'Aug\\n2023', 'Feb\\n2023', 'Jan\\n2023', 'Jul\\n2023',\n",
    "       'Jun\\n2023', 'Mar\\n2023', 'May\\n2023', 'Sep\\n2023']\n",
    "years= ['PD', 'PRMD']\n",
    "num_fruit = len(fruits)\n",
    "num_years = len(years)\n",
    "# num_CCA= len(CCA)"
   ]
  },
  {
   "cell_type": "code",
   "execution_count": 304,
   "id": "087de361-4045-4652-b21f-0eee376d576e",
   "metadata": {
    "tags": []
   },
   "outputs": [
    {
     "data": {
      "image/png": "[encoded data removed]",
      "text/plain": [
       "<Figure size 640x480 with 1 Axes>"
      ]
     },
     "metadata": {},
     "output_type": "display_data"
    }
   ],
   "source": [
    "width = 0.8\n",
    "for i, fruit in enumerate(fruits):\n",
    "    # print(fruit) YEAR\n",
    "    for j, year in enumerate(years):\n",
    "        # print(year) MONTH\n",
    "        \n",
    "        plt.bar(i + width / num_years * (j - (num_years - 1) / 2),\n",
    "                df[(df['period'] == fruit) & (df['CREDIT_CONTROL_AREA'] == year)]['WAPD'],\n",
    "                width / num_years, color='skyblue', ec='white')\n",
    "plt.xticks([i + width / num_years * (j - (num_years - 1) /2) \n",
    "            for i in range(num_fruit) for j in range(num_years)],\n",
    "           np.tile(years, num_fruit), rotation=70)\n",
    "    \n",
    "# plt.figure(figsize=(300,6))\n",
    "ax = plt.gca()\n",
    "# ax.yaxis.set_major_locator(MultipleLocator(1))\n",
    "# ax.yaxis.set_minor_locator(MultipleLocator(0.2))\n",
    "# ax.grid(True, axis='y')\n",
    "# ax.autoscale(False, axis='y')\n",
    "trans = blended_transform_factory(ax.transData, ax.transAxes)\n",
    "# plt.plot(fi.CC_DAYS_TO_ADD)\n",
    "for i, fruit in enumerate(fruits):\n",
    "    ax.text(i, -0.3, fruit, transform=trans, ha='center')\n",
    "    if i != 0:\n",
    "        ax.vlines(i - 0.5, .9, -0.3, color='gray', clip_on=False, transform=trans)\n",
    "plt.tight_layout()\n",
    "# print(df)\n",
    "# figure(figsize=(8, 6), dpi=80)\n",
    "plt.show()"
   ]
  },
  {
   "cell_type": "code",
   "execution_count": null,
   "id": "de836eb9-cd85-45b9-817c-2e341875037d",
   "metadata": {},
   "outputs": [],
   "source": []
  },
  {
   "cell_type": "code",
   "execution_count": 218,
   "id": "1b9412ed-6cb5-45c8-9c3e-ceac3c1a90fa",
   "metadata": {
    "tags": []
   },
   "outputs": [
    {
     "data": {
      "image/png": "[encoded data removed]",
      "text/plain": [
       "<Figure size 640x480 with 1 Axes>"
      ]
     },
     "metadata": {},
     "output_type": "display_data"
    }
   ],
   "source": [
    "width = 0.8\n",
    "for i, fruit in enumerate(fruits):\n",
    "    # print(fruit) YEAR\n",
    "    for j, year in enumerate(years):\n",
    "        # print(year) MONTH\n",
    "        plt.bar(i + width / num_years * (j - (num_years - 1) / 2),\n",
    "                df[(df['Year'] == fruit) & (df['Month'] == year)]['WAPD'],\n",
    "                width / num_years, color='skyblue', ec='white')\n",
    "plt.xticks([i + width / num_years * (j - (num_years - 1) / 2) \n",
    "            for i in range(num_fruit) for j in range(num_years)],\n",
    "           np.tile(years, num_fruit), rotation=45)\n",
    "# plt.figure(figsize=(300,6))\n",
    "ax = plt.gca()\n",
    "ax.yaxis.set_major_locator(MultipleLocator(1))\n",
    "ax.yaxis.set_minor_locator(MultipleLocator(0.2))\n",
    "ax.grid(True, axis='y')\n",
    "ax.autoscale(False, axis='y')\n",
    "trans = blended_transform_factory(ax.transData, ax.transAxes)\n",
    "for i, fruit in enumerate(fruits):\n",
    "    ax.text(i, -0.2, fruit, transform=trans, ha='center')\n",
    "    if i != 0:\n",
    "        ax.vlines(i - 0.5, 0, -0.3, color='lightgrey', clip_on=False, transform=trans)\n",
    "plt.tight_layout()\n",
    "# print(df)\n",
    "# figure(figsize=(8, 6), dpi=80)\n",
    "plt.show()"
   ]
  },
  {
   "cell_type": "code",
   "execution_count": 167,
   "id": "6d7c61be-8acd-4e2e-b831-c6c4a7cb741e",
   "metadata": {
    "jupyter": {
     "source_hidden": true
    },
    "tags": []
   },
   "outputs": [
    {
     "name": "stdout",
     "output_type": "stream",
     "text": [
      "           fruit  year  value\n",
      "0         apples  2015      5\n",
      "1          pears  2015      1\n",
      "2     nectarines  2015      2\n",
      "3          plums  2015      6\n",
      "4         grapes  2015      7\n",
      "5   strawberries  2015      1\n",
      "6         apples  2016      7\n",
      "7          pears  2016      7\n",
      "8     nectarines  2016      4\n",
      "9          plums  2016      2\n",
      "10        grapes  2016      7\n",
      "11  strawberries  2016      3\n",
      "12        apples  2017      3\n",
      "13         pears  2017      1\n",
      "14    nectarines  2017      2\n",
      "15         plums  2017      4\n",
      "16        grapes  2017      1\n",
      "17  strawberries  2017      6\n"
     ]
    },
    {
     "data": {
      "image/png": "[encoded data removed]",
      "text/plain": [
       "<Figure size 640x480 with 1 Axes>"
      ]
     },
     "metadata": {},
     "output_type": "display_data"
    }
   ],
   "source": [
    "import matplotlib.pyplot as plt\n",
    "from matplotlib.transforms import blended_transform_factory\n",
    "from matplotlib.ticker import MultipleLocator\n",
    "import numpy as np\n",
    "import pandas as pd\n",
    "import seaborn as sns\n",
    "\n",
    "fruits = ['apples', 'pears', 'nectarines', 'plums', 'grapes', 'strawberries']\n",
    "years = [2015, 2016, 2017]\n",
    "num_fruit = len(fruits)\n",
    "num_years = len(years)\n",
    "df = pd.DataFrame({'fruit': np.tile(fruits, num_years),\n",
    "                   'year': np.repeat(years, num_fruit),\n",
    "                   'value': np.random.randint(1, 8, num_fruit * num_years)})\n",
    "\n",
    "width = 0.8\n",
    "for i, fruit in enumerate(fruits):\n",
    "    for j, year in enumerate(years):\n",
    "        plt.bar(i + width / num_years * (j - (num_years - 1) / 2),\n",
    "                df[(df['fruit'] == fruit) & (df['year'] == year)]['value'],\n",
    "                width / num_years, color='skyblue', ec='white')\n",
    "plt.xticks([i + width / num_years * (j - (num_years - 1) / 2) for i in range(num_fruit) for j in range(num_years)],\n",
    "           np.tile(years, num_fruit), rotation=45)\n",
    "ax = plt.gca()\n",
    "ax.yaxis.set_major_locator(MultipleLocator(1))\n",
    "ax.yaxis.set_minor_locator(MultipleLocator(0.2))\n",
    "ax.grid(True, axis='y')\n",
    "ax.autoscale(False, axis='y')\n",
    "trans = blended_transform_factory(ax.transData, ax.transAxes)\n",
    "for i, fruit in enumerate(fruits):\n",
    "    ax.text(i, -0.2, fruit, transform=trans, ha='center')\n",
    "    if i != 0:\n",
    "        ax.vlines(i - 0.5, 0, -0.3, color='lightgrey', clip_on=False, transform=trans)\n",
    "plt.tight_layout()\n",
    "print(df)\n",
    "plt.show()"
   ]
  },
  {
   "cell_type": "code",
   "execution_count": 101,
   "id": "86fc756e-7bd5-45c7-a2cf-10571c86353d",
   "metadata": {},
   "outputs": [],
   "source": []
  },
  {
   "cell_type": "code",
   "execution_count": 102,
   "id": "d1f3cf6c-0109-4827-afe7-a2024a96d59d",
   "metadata": {},
   "outputs": [],
   "source": []
  },
  {
   "cell_type": "code",
   "execution_count": null,
   "id": "f986a7dc-2051-4247-a108-846b170f62c8",
   "metadata": {},
   "outputs": [],
   "source": []
  },
  {
   "cell_type": "code",
   "execution_count": null,
   "id": "dfd3b7a8-85e5-486b-b41b-a7e90b6ed182",
   "metadata": {},
   "outputs": [],
   "source": []
  },
  {
   "cell_type": "code",
   "execution_count": null,
   "id": "2b664964-787d-4e24-865c-b0a12ad5581a",
   "metadata": {},
   "outputs": [],
   "source": []
  },
  {
   "cell_type": "code",
   "execution_count": null,
   "id": "4f3681fc-e6c1-4bb4-97d9-b2305beddf42",
   "metadata": {},
   "outputs": [],
   "source": []
  },
  {
   "cell_type": "code",
   "execution_count": null,
   "id": "270b04e4-250c-4802-b918-e68c62772f3f",
   "metadata": {},
   "outputs": [],
   "source": []
  },
  {
   "cell_type": "code",
   "execution_count": null,
   "id": "45fd2f92-d18d-498a-9cdb-9b1c20ac9e30",
   "metadata": {
    "tags": []
   },
   "outputs": [],
   "source": [
    "four=search_EAN(s[0])\n",
    "thirty=search_EAN(s[1])\n",
    "ninty=search_EAN(s[2])\n",
    "sixty=search_EAN(s[3])\n",
    "\n"
   ]
  },
  {
   "cell_type": "code",
   "execution_count": null,
   "id": "4a6cc73e-2fdd-4cc0-a8f9-bb3767f5fc5a",
   "metadata": {},
   "outputs": [],
   "source": [
    "four.CREDIT_CONTROL_AREA.unique()"
   ]
  },
  {
   "cell_type": "code",
   "execution_count": null,
   "id": "49093cd9-5755-44cd-ad97-e92f05b34161",
   "metadata": {
    "tags": []
   },
   "outputs": [],
   "source": [
    "sixty"
   ]
  },
  {
   "cell_type": "code",
   "execution_count": null,
   "id": "c9f5b840-2780-43d3-90d1-cab976cf0e7c",
   "metadata": {},
   "outputs": [],
   "source": [
    "four['month'] = four['PAYMENT_DATE'].dt.strftime('%b')\n",
    "thirty['month'] = thirty['PAYMENT_DATE'].dt.strftime('%b')\n",
    "sixty['month'] = sixty['PAYMENT_DATE'].dt.strftime('%b')\n",
    "ninty['month'] = ninty['PAYMENT_DATE'].dt.strftime('%b')"
   ]
  },
  {
   "cell_type": "code",
   "execution_count": null,
   "id": "96d6dcaa-6a1a-4e2d-a2a0-fbf824c31ec7",
   "metadata": {},
   "outputs": [],
   "source": [
    "year_order = ['Jan','Feb','Mar','Apr','May','Jun','Jul','Aug','Sep','Oct','Nov','Dec']\n",
    "dfp_4 = pd.pivot_table(data=four, index=[four.PAYMENT_DATE.dt.year], columns='month', values='WAPD')\n",
    "dfp_4 = dfp_4.reindex(year_order, axis=1)\n",
    "dfp_4"
   ]
  },
  {
   "cell_type": "code",
   "execution_count": null,
   "id": "cdd40da1-ed54-436a-b1c5-d9dfbf162992",
   "metadata": {},
   "outputs": [],
   "source": [
    "four.query('month == \"Sep\"')[['AMOUNT_IN_LOCAL_CURRENCY','WAPD']].describe()"
   ]
  },
  {
   "cell_type": "code",
   "execution_count": null,
   "id": "5932f55c-0c71-4bfa-815a-68ea4ce80597",
   "metadata": {},
   "outputs": [],
   "source": [
    "dfp_4.plot(kind='bar', figsize=(8, 4), ylabel='WAPD', xlabel='Year', rot=0,colormap='Paired',zorder=0)\n",
    "plt.plot(four.CC_DAYS_TO_ADD, c = \"y\", label = \"DSO Term\",zorder=10)\n",
    "_ = plt.legend(bbox_to_anchor=(1, 1.02), loc='upper left')\n",
    "plt.show()"
   ]
  },
  {
   "cell_type": "code",
   "execution_count": null,
   "id": "323ea3c1-bbf6-498b-95a3-369a90a42749",
   "metadata": {},
   "outputs": [],
   "source": [
    "# year_order = ['Jan','Feb','Mar','Apr','May','Jun','Jul','Aug','Sep','Oct','Nov','Dec']\n",
    "dfp_30 = pd.pivot_table(data=thirty, index=[thirty.PAYMENT_DATE.dt.year], columns='month', values='WAPD')\n",
    "dfp_30 = dfp_30.reindex(year_order, axis=1)\n",
    "dfp_30"
   ]
  },
  {
   "cell_type": "code",
   "execution_count": null,
   "id": "38c59020-7162-4ead-b5cd-1b4be453a882",
   "metadata": {},
   "outputs": [],
   "source": [
    "# year_order = ['Jan','Feb','Mar','Apr','May','Jun','Jul','Aug','Sep','Oct','Nov','Dec']\n",
    "dfp_60 = pd.pivot_table(data=sixty, index=[sixty.PAYMENT_DATE.dt.year], columns='month', values='WAPD')\n",
    "dfp_60 = dfp_60.reindex(year_order, axis=1)\n",
    "dfp_60"
   ]
  },
  {
   "cell_type": "code",
   "execution_count": null,
   "id": "b1e56402-d249-4b9b-91b7-95912ab57c89",
   "metadata": {},
   "outputs": [],
   "source": [
    "# year_order = ['Jan','Feb','Mar','Apr','May','Jun','Jul','Aug','Sep','Oct','Nov','Dec']\n",
    "dfp_90 = pd.pivot_table(data=ninty, index=[ninty.PAYMENT_DATE.dt.year], columns='month', values='WAPD')\n",
    "dfp_90 = dfp_90.reindex(year_order, axis=1)\n",
    "dfp_90"
   ]
  },
  {
   "cell_type": "code",
   "execution_count": null,
   "id": "2d5faff6-c78f-4915-b264-69e09b852326",
   "metadata": {},
   "outputs": [],
   "source": [
    "ax30 = dfp_30.plot(kind='bar', figsize=(10, 4), ylabel='WAPD', xlabel='Year', rot=0,colormap='Paired')\n",
    "ax30.plot(thirty.CC_DAYS_TO_ADD, c = \"y\", label = \"DSO Term\")\n",
    "_ = ax30.legend(bbox_to_anchor=(1, 1.02), loc='upper left')"
   ]
  },
  {
   "cell_type": "code",
   "execution_count": null,
   "id": "27975aec-b099-4b0d-a695-890fa0b83f66",
   "metadata": {},
   "outputs": [],
   "source": [
    "ax60 = dfp_60.plot(kind='bar', figsize=(10, 4), ylabel='WAPD', xlabel='Year', rot=0,colormap='Paired')\n",
    "ax60.plot(sixty.CC_DAYS_TO_ADD, c = \"y\", label = \"DSO Term\")\n",
    "_ = ax60.legend(bbox_to_anchor=(1, 1.02), loc='upper left')"
   ]
  },
  {
   "cell_type": "code",
   "execution_count": null,
   "id": "c31bbb30-1cba-44d4-a47b-95a3ef3c6266",
   "metadata": {},
   "outputs": [],
   "source": [
    "sixty.CC_DAYS_TO_ADD"
   ]
  },
  {
   "cell_type": "code",
   "execution_count": null,
   "id": "1d09b4a6-fd26-46df-99a9-b4796ebbbf3a",
   "metadata": {},
   "outputs": [],
   "source": [
    "ax90 = dfp_90.plot(kind='bar', figsize=(10, 4), ylabel='WAPD', xlabel='Year', rot=0,colormap='Paired')\n",
    "ax90.plot(ninty.CC_DAYS_TO_ADD, c = \"y\", label = \"DSO Term\")\n",
    "_ = ax90.legend(bbox_to_anchor=(1, 1.02), loc='upper left')"
   ]
  },
  {
   "cell_type": "code",
   "execution_count": null,
   "id": "88c6c7f2-2687-4539-8689-c90c52092e92",
   "metadata": {},
   "outputs": [],
   "source": []
  },
  {
   "cell_type": "code",
   "execution_count": null,
   "id": "0954248f-038a-4d15-9a66-74de9dd180cf",
   "metadata": {},
   "outputs": [],
   "source": [
    " from pivottablejs import pivot_ui"
   ]
  },
  {
   "cell_type": "code",
   "execution_count": null,
   "id": "1e2f8c65-0dd2-4e12-b0fa-1fcddb55288e",
   "metadata": {},
   "outputs": [],
   "source": [
    "dfp_4"
   ]
  },
  {
   "cell_type": "code",
   "execution_count": null,
   "id": "611842f2-820f-469e-a10b-a34e4c6db1ad",
   "metadata": {},
   "outputs": [],
   "source": [
    "pivot_ui(dfp_4)"
   ]
  },
  {
   "cell_type": "code",
   "execution_count": null,
   "id": "6cb80213-7024-4131-87e2-4f7eeb12b73e",
   "metadata": {},
   "outputs": [],
   "source": []
  },
  {
   "cell_type": "code",
   "execution_count": null,
   "id": "39cc0d2f-2e67-4bd3-b3f2-47171f5d0d9a",
   "metadata": {},
   "outputs": [],
   "source": []
  },
  {
   "cell_type": "code",
   "execution_count": null,
   "id": "78ad13c6-5a29-4b65-b2cb-a56c71a0f68f",
   "metadata": {},
   "outputs": [],
   "source": []
  },
  {
   "cell_type": "code",
   "execution_count": null,
   "id": "c035646c-ae15-4d84-a481-1510bff44e8e",
   "metadata": {},
   "outputs": [],
   "source": []
  },
  {
   "cell_type": "markdown",
   "id": "766876bc-26b5-4089-aa0d-e6082d2b54e7",
   "metadata": {},
   "source": [
    "## National Account"
   ]
  },
  {
   "cell_type": "code",
   "execution_count": null,
   "id": "4c702a63-9d3b-4f39-9bb5-b1552d5e4b74",
   "metadata": {},
   "outputs": [],
   "source": []
  }
 ],
 "metadata": {
  "environment": {
   "kernel": "python3",
   "name": "pytorch-gpu.1-13.m108",
   "type": "gcloud",
   "uri": "gcr.io/deeplearning-platform-release/pytorch-gpu.1-13:m108"
  },
  "kernelspec": {
   "display_name": "Python 3",
   "language": "python",
   "name": "python3"
  },
  "language_info": {
   "codemirror_mode": {
    "name": "ipython",
    "version": 3
   },
   "file_extension": ".py",
   "mimetype": "text/x-python",
   "name": "python",
   "nbconvert_exporter": "python",
   "pygments_lexer": "ipython3",
   "version": "3.7.12"
  }
 },
 "nbformat": 4,
 "nbformat_minor": 5
}
