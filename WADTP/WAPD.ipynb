{
 "cells": [
  {
   "cell_type": "code",
   "execution_count": 1,
   "id": "c2d4e05d-fc05-466a-a5df-dae854b27c0f",
   "metadata": {},
   "outputs": [],
   "source": [
    "# Display settings\n",
    "## Auto reload modules & inline plots\n",
    "%reload_ext autoreload\n",
    "%autoreload 2\n",
    "%matplotlib inline"
   ]
  },
  {
   "cell_type": "code",
   "execution_count": 51,
   "id": "6d5bc12e-1427-448d-bfc2-ea97baae66a0",
   "metadata": {},
   "outputs": [],
   "source": [
    "import datetime as dt #For inputing any date or time information\n",
    "from datetime import timezone #For inputing timezones\n",
    "from google.cloud import bigquery          #The BigQuery API\n",
    "import matplotlib.pyplot as plt      #For plotting\n",
    "import numpy as np                         #For scientific computation\n",
    "import os                            #For work with native operating system and directories\n",
    "from pathlib import Path             #For working with file paths and directories\n",
    "import pydata_google_auth                  #For authentication against Google \n",
    "import pandas as pd                        #For data manipulation and bgq --> pandas conversion\n",
    "import pandas_gbq as pd_gbq #Import BigQuery data to create a pandas dataframe\n",
    "import plotly.graph_objects as go # interactive plots\n",
    "import pytz #For timezone calculations\n",
    "import seaborn as sns                #For plotting\n",
    "import warnings\n",
    "import datetime"
   ]
  },
  {
   "cell_type": "code",
   "execution_count": 3,
   "id": "0f4781a0-4d30-400e-9eca-dc6f1b48691a",
   "metadata": {},
   "outputs": [],
   "source": [
    "pd.set_option('display.max_columns', None)\n",
    "pd.options.display.float_format = '{:.4f}'.format\n",
    "warnings.filterwarnings('ignore')"
   ]
  },
  {
   "cell_type": "code",
   "execution_count": 4,
   "id": "4910a1e5-5912-411f-9aca-af31465dc11a",
   "metadata": {},
   "outputs": [],
   "source": [
    "query = \"\"\"\n",
    "SELECT\n",
    "  CUSTOMER_NUMBER,\n",
    "  ENTERPRISE_ACCOUNT_NO,\n",
    "  ENTERPRISE_ACCOUNT_NAME,\n",
    "  NATIONAL_ACCOUNT,\n",
    "  PAYER,\n",
    "  DOCUMENT_DATE_IN_DOCUMENT,\n",
    "  DOCUMENT_TYPE,\n",
    "  POSTING_KEY_NAME,\n",
    "  AMOUNT_IN_LOCAL_CURRENCY,\n",
    "  CREDIT_CONTROL_AREA,\n",
    "  AR_STATUS,\n",
    "  PAYMENT_DATE,\n",
    "  CC_DAYS_TO_ADD,\n",
    "  TERMS_OF_PAYMENT_KEY  \n",
    "FROM\n",
    "  `edna-data-pr-cah.VW_CORP_GFSS_NP.VW_AR_AGING`\n",
    "WHERE\n",
    "  (DOCUMENT_TYPE IN ('ZF',\n",
    "      'VF', 'DH', 'DL', 'DZ', 'DW', 'DC'))\n",
    "    AND (\"2024-01-01\" >=PAYMENT_DATE)\n",
    "ORDER BY\n",
    "  PAYMENT_DATE\n",
    "\"\"\""
   ]
  },
  {
   "cell_type": "markdown",
   "id": "cda44399-70ff-422d-83a1-1978151001fb",
   "metadata": {},
   "source": [
    "<font color='red'>check on: WHERE\n",
    "  (DOCUMENT_TYPE IN ('ZF',\n",
    "      'VF', 'DH', 'DL', 'DZ', 'DW', 'DC'))</font> "
   ]
  },
  {
   "cell_type": "code",
   "execution_count": 5,
   "id": "f40c94cc-547d-4e16-b49a-8529f31dd112",
   "metadata": {},
   "outputs": [],
   "source": [
    "# Import the data with imputation\n",
    "bqclient = bigquery.Client()\n",
    "df = bqclient.query(query).to_dataframe()"
   ]
  },
  {
   "cell_type": "code",
   "execution_count": 6,
   "id": "9eff9775-e3a8-4ccf-b47f-16832943f615",
   "metadata": {},
   "outputs": [
    {
     "data": {
      "text/plain": [
       "array(['PD', 'PRMD'], dtype=object)"
      ]
     },
     "execution_count": 6,
     "metadata": {},
     "output_type": "execute_result"
    }
   ],
   "source": [
    "df.query('ENTERPRISE_ACCOUNT_NO == \"7100007382\"').CREDIT_CONTROL_AREA.unique()"
   ]
  },
  {
   "cell_type": "code",
   "execution_count": 7,
   "id": "65c44fb7-3634-4da8-b17f-08bd944a890a",
   "metadata": {
    "tags": []
   },
   "outputs": [
    {
     "data": {
      "text/plain": [
       "7100007382    12071520\n",
       "               9370453\n",
       "7100017882     3147195\n",
       "7100002977     3010252\n",
       "7100000361     1378249\n",
       "                ...   \n",
       "7100008760           1\n",
       "7100021436           1\n",
       "7100015669           1\n",
       "7100005267           1\n",
       "7100009415           1\n",
       "Name: ENTERPRISE_ACCOUNT_NO, Length: 7708, dtype: int64"
      ]
     },
     "execution_count": 7,
     "metadata": {},
     "output_type": "execute_result"
    }
   ],
   "source": [
    "df.ENTERPRISE_ACCOUNT_NO.value_counts()"
   ]
  },
  {
   "cell_type": "code",
   "execution_count": 8,
   "id": "fb5e826d-55c3-449a-aa8d-f413105ca69b",
   "metadata": {},
   "outputs": [],
   "source": [
    "# df['PAYMENT_DATE']=pd.to_datetime(df['PAYMENT_DATE'])\n",
    "# df.query('\"2024-01-01\" >=PAYMENT_DATE')"
   ]
  },
  {
   "cell_type": "code",
   "execution_count": 9,
   "id": "0843619b-913d-4c0f-b76f-830ce34dcc1a",
   "metadata": {},
   "outputs": [],
   "source": [
    "df=df.query('POSTING_KEY_NAME == \"01 - Invoice\" & AR_STATUS == \"CLEAR\"')\n",
    "df['CC_DAYS_TO_ADD']=df['CC_DAYS_TO_ADD'].apply(lambda x: float(x))\n",
    "df['AMOUNT_IN_LOCAL_CURRENCY']=df['AMOUNT_IN_LOCAL_CURRENCY'].apply(lambda x: float(x))\n",
    "df.reset_index(inplace = True)\n"
   ]
  },
  {
   "cell_type": "code",
   "execution_count": 10,
   "id": "a8949bfd-c23f-4db9-a44c-8c06ad218631",
   "metadata": {
    "tags": []
   },
   "outputs": [],
   "source": [
    "def calc_WAPD(df_1):\n",
    "    df_1['PAYMENT_DATE']=pd.to_datetime(df_1['PAYMENT_DATE'])\n",
    "    df_1['DOCUMENT_DATE_IN_DOCUMENT']=pd.to_datetime(df_1['DOCUMENT_DATE_IN_DOCUMENT'])\n",
    "    WAPD_new = pd.Series([])\n",
    "    for index, row in df_1.iterrows():\n",
    "        start_date= row['PAYMENT_DATE']\n",
    "        end_date = row['90_days_ago']\n",
    "        try:\n",
    "            ninety_day_range = df_1.query('@start_date >= DOCUMENT_DATE_IN_DOCUMENT   >= @end_date')\n",
    "            WAPD= ninety_day_range['Weighted Invoice Value'].sum() / ninety_day_range['AMOUNT_IN_LOCAL_CURRENCY'].sum()\n",
    "            WAPD_new[index]=WAPD\n",
    "        except:\n",
    "            print('no PAYMENT_DATE')\n",
    "    df_1.insert(16, \"WAPD\", WAPD_new)\n",
    "    return df_1"
   ]
  },
  {
   "cell_type": "code",
   "execution_count": 11,
   "id": "843a8b35-d4e3-4a64-8117-ec4b1df6e420",
   "metadata": {
    "tags": []
   },
   "outputs": [],
   "source": [
    "def search_customer(CUSTOMER_NUMBER):\n",
    "    CUSTOMER_df=df.query('CUSTOMER_NUMBER == @CUSTOMER_NUMBER')\n",
    "    CUSTOMER_df.reset_index(inplace = True)\n",
    "    \n",
    "    CUSTOMER_df['AMOUNT_IN_LOCAL_CURRENCY']=CUSTOMER_df['AMOUNT_IN_LOCAL_CURRENCY'].apply(lambda x: float(x))\n",
    "#     Sub Payment Date from Invoice Date\n",
    "    CUSTOMER_df['Sub Payment Date from Invoice Date']=(CUSTOMER_df['PAYMENT_DATE']-CUSTOMER_df['DOCUMENT_DATE_IN_DOCUMENT']).dt.days\n",
    "#     Weighted Invoice Value\n",
    "    CUSTOMER_df['Weighted Invoice Value']= CUSTOMER_df['Sub Payment Date from Invoice Date']*CUSTOMER_df['AMOUNT_IN_LOCAL_CURRENCY']\n",
    "# WAPD\n",
    "    import datetime\n",
    "    current = pd.to_datetime(CUSTOMER_df['PAYMENT_DATE'])\n",
    "    CUSTOMER_df['90_days_ago']= current - pd.to_timedelta('90 days')\n",
    "    CUSTOMER_df = calc_WAPD(CUSTOMER_df)\n",
    "    return CUSTOMER_df"
   ]
  },
  {
   "cell_type": "code",
   "execution_count": 12,
   "id": "25fda3ea-64c0-43ab-88fd-24bd732a12d1",
   "metadata": {
    "tags": []
   },
   "outputs": [],
   "source": [
    "# Returns a tuple of DataFrames sorted by DSO term\n",
    "\n",
    "def get_terms(ENTERPRISE_ACCOUNT_NO):\n",
    "    return_list = []\n",
    "    \n",
    "    terms_df=df.query('ENTERPRISE_ACCOUNT_NO == @ENTERPRISE_ACCOUNT_NO')\n",
    "    \n",
    "    # terms_df.reset_index(inplace = True)\n",
    "    terms_list = terms_df['CC_DAYS_TO_ADD'].unique()\n",
    "    print(terms_list)\n",
    "    \n",
    "    for dso_term in terms_list:\n",
    "        name = str(dso_term)+\"_term\"\n",
    "        name = terms_df.query('CC_DAYS_TO_ADD ==@dso_term')\n",
    "        return_list.append(name)\n",
    "    \n",
    "    return return_list\n",
    " \n",
    "# EAN = \"7100000391\"\n",
    "# s = get_terms(EAN)"
   ]
  },
  {
   "cell_type": "code",
   "execution_count": 13,
   "id": "db16e6c4-b062-4f3e-a4cd-f5aa8120c4c0",
   "metadata": {},
   "outputs": [],
   "source": [
    "def search_EAN(CUSTOMER_df):\n",
    "    # CUSTOMER_df=EN_df.query('ENTERPRISE_ACCOUNT_NO == @ENTERPRISE_ACCOUNT_NO')\n",
    "    CUSTOMER_df.reset_index(inplace = True)\n",
    "   \n",
    "    # CUSTOMER_df['AMOUNT_IN_LOCAL_CURRENCY']=CUSTOMER_df['AMOUNT_IN_LOCAL_CURRENCY'].apply(lambda x: float(x))\n",
    "#     Sub Payment Date from Invoice Date\n",
    "    \n",
    "    CUSTOMER_df['Sub Payment Date from Invoice Date']=(CUSTOMER_df['PAYMENT_DATE']-CUSTOMER_df['DOCUMENT_DATE_IN_DOCUMENT']).dt.days\n",
    "#     Weighted Invoice Value\n",
    "    CUSTOMER_df['Weighted Invoice Value']= CUSTOMER_df['Sub Payment Date from Invoice Date']*CUSTOMER_df['AMOUNT_IN_LOCAL_CURRENCY']\n",
    "# WAPD\n",
    "    import datetime\n",
    "    current = pd.to_datetime(CUSTOMER_df['PAYMENT_DATE'])\n",
    "    CUSTOMER_df['90_days_ago']= current - pd.to_timedelta('90 days')\n",
    "    CUSTOMER_df = calc_WAPD(CUSTOMER_df)\n",
    "    \n",
    "    \n",
    "    \n",
    "    return CUSTOMER_df"
   ]
  },
  {
   "cell_type": "code",
   "execution_count": 14,
   "id": "dafdf0c6-22fd-4c12-982e-a7ea06dfff70",
   "metadata": {
    "jupyter": {
     "source_hidden": true
    },
    "tags": []
   },
   "outputs": [],
   "source": [
    "def search_EAN_terms(ENTERPRISE_ACCOUNT_NO):\n",
    "    CUSTOMER_df=df.query('ENTERPRISE_ACCOUNT_NO == @ENTERPRISE_ACCOUNT_NO')\n",
    "    CUSTOMER_df.reset_index(inplace = True)\n",
    "    \n",
    "#     loop for terms \n",
    "\n",
    "    four = CUSTOMER_df.query('CC_DAYS_TO_ADD ==4.000000000')\n",
    "    thirty =CUSTOMER_df.query('CC_DAYS_TO_ADD ==30.000000000')\n",
    "    sixty =CUSTOMER_df.query('CC_DAYS_TO_ADD ==60.000000000')\n",
    "    ninty = CUSTOMER_df.query('CC_DAYS_TO_ADD ==90.000000000')\n",
    "\n",
    "# FOUR\n",
    "\n",
    "\n",
    "\n",
    "    four['AMOUNT_IN_LOCAL_CURRENCY']=four['AMOUNT_IN_LOCAL_CURRENCY'].apply(lambda x: float(x))\n",
    "#     Sub Payment Date from Invoice Date\n",
    "    four['Sub Payment Date from Invoice Date']=(four['PAYMENT_DATE']-four['DOCUMENT_DATE_IN_DOCUMENT']).dt.days\n",
    "#     Weighted Invoice Value\n",
    "    four['Weighted Invoice Value']= four['Sub Payment Date from Invoice Date']*four['AMOUNT_IN_LOCAL_CURRENCY']\n",
    "# WAPD\n",
    "    import datetime\n",
    "    current = pd.to_datetime(four['PAYMENT_DATE'])\n",
    "    four['90_days_ago']= current - pd.to_timedelta('90 days')\n",
    "    four = calc_WAPD(four)\n",
    "    \n",
    "#   THIRTY  \n",
    "    \n",
    "    thirty['AMOUNT_IN_LOCAL_CURRENCY']=thirty['AMOUNT_IN_LOCAL_CURRENCY'].apply(lambda x: float(x))\n",
    "#     Sub Payment Date from Invoice Date\n",
    "    thirty['Sub Payment Date from Invoice Date']=(thirty['PAYMENT_DATE']-thirty['DOCUMENT_DATE_IN_DOCUMENT']).dt.days\n",
    "#     Weighted Invoice Value\n",
    "    thirty['Weighted Invoice Value']= thirty['Sub Payment Date from Invoice Date']*thirty['AMOUNT_IN_LOCAL_CURRENCY']\n",
    "# WAPD\n",
    "    import datetime\n",
    "    current = pd.to_datetime(thirty['PAYMENT_DATE'])\n",
    "    thirty['90_days_ago']= current - pd.to_timedelta('90 days')\n",
    "    thirty = calc_WAPD(thirty)\n",
    "    \n",
    "    \n",
    "    \n",
    "    \n",
    "    return CUSTOMER_df"
   ]
  },
  {
   "cell_type": "markdown",
   "id": "4738cf66-a9d3-43bb-93f3-898faa50ec71",
   "metadata": {},
   "source": [
    "# **********************************************************************************************************"
   ]
  },
  {
   "cell_type": "markdown",
   "id": "2a399b1d-0ef2-4692-9bc6-04f43c92ee5b",
   "metadata": {},
   "source": [
    "# Visualization"
   ]
  },
  {
   "cell_type": "markdown",
   "id": "6c411fd8-6c27-44d1-bca2-19c557dc247a",
   "metadata": {},
   "source": [
    "## Customer"
   ]
  },
  {
   "cell_type": "code",
   "execution_count": 15,
   "id": "4799ed16-4197-493f-a43e-81c011e79416",
   "metadata": {
    "tags": []
   },
   "outputs": [],
   "source": [
    "customer = \"2057194397\"\n",
    "t = search_customer(customer)"
   ]
  },
  {
   "cell_type": "code",
   "execution_count": 16,
   "id": "03c1a07d-7f51-408e-82d5-727d18e82dd3",
   "metadata": {
    "tags": []
   },
   "outputs": [
    {
     "data": {
      "text/html": [
       "<div>\n",
       "<style scoped>\n",
       "    .dataframe tbody tr th:only-of-type {\n",
       "        vertical-align: middle;\n",
       "    }\n",
       "\n",
       "    .dataframe tbody tr th {\n",
       "        vertical-align: top;\n",
       "    }\n",
       "\n",
       "    .dataframe thead th {\n",
       "        text-align: right;\n",
       "    }\n",
       "</style>\n",
       "<table border=\"1\" class=\"dataframe\">\n",
       "  <thead>\n",
       "    <tr style=\"text-align: right;\">\n",
       "      <th></th>\n",
       "      <th>level_0</th>\n",
       "      <th>index</th>\n",
       "      <th>CUSTOMER_NUMBER</th>\n",
       "      <th>ENTERPRISE_ACCOUNT_NO</th>\n",
       "      <th>ENTERPRISE_ACCOUNT_NAME</th>\n",
       "      <th>NATIONAL_ACCOUNT</th>\n",
       "      <th>PAYER</th>\n",
       "      <th>DOCUMENT_DATE_IN_DOCUMENT</th>\n",
       "      <th>DOCUMENT_TYPE</th>\n",
       "      <th>POSTING_KEY_NAME</th>\n",
       "      <th>AMOUNT_IN_LOCAL_CURRENCY</th>\n",
       "      <th>CREDIT_CONTROL_AREA</th>\n",
       "      <th>AR_STATUS</th>\n",
       "      <th>PAYMENT_DATE</th>\n",
       "      <th>CC_DAYS_TO_ADD</th>\n",
       "      <th>TERMS_OF_PAYMENT_KEY</th>\n",
       "      <th>WAPD</th>\n",
       "      <th>Sub Payment Date from Invoice Date</th>\n",
       "      <th>Weighted Invoice Value</th>\n",
       "      <th>90_days_ago</th>\n",
       "    </tr>\n",
       "  </thead>\n",
       "  <tbody>\n",
       "    <tr>\n",
       "      <th>573</th>\n",
       "      <td>42206977</td>\n",
       "      <td>50132831</td>\n",
       "      <td>2057194397</td>\n",
       "      <td>7100004137</td>\n",
       "      <td>7100004137 - CONVERSIO HEALTH</td>\n",
       "      <td>0000000101</td>\n",
       "      <td>2057194397</td>\n",
       "      <td>2023-08-21</td>\n",
       "      <td>ZF</td>\n",
       "      <td>01 - Invoice</td>\n",
       "      <td>620.3200</td>\n",
       "      <td>PD</td>\n",
       "      <td>CLEAR</td>\n",
       "      <td>2023-09-22</td>\n",
       "      <td>28.0000</td>\n",
       "      <td>YS28</td>\n",
       "      <td>28.6444</td>\n",
       "      <td>32</td>\n",
       "      <td>19850.2400</td>\n",
       "      <td>2023-06-24</td>\n",
       "    </tr>\n",
       "    <tr>\n",
       "      <th>574</th>\n",
       "      <td>42210703</td>\n",
       "      <td>50137166</td>\n",
       "      <td>2057194397</td>\n",
       "      <td>7100004137</td>\n",
       "      <td>7100004137 - CONVERSIO HEALTH</td>\n",
       "      <td>0000000101</td>\n",
       "      <td>2057194397</td>\n",
       "      <td>2023-08-22</td>\n",
       "      <td>ZF</td>\n",
       "      <td>01 - Invoice</td>\n",
       "      <td>992.0000</td>\n",
       "      <td>PD</td>\n",
       "      <td>CLEAR</td>\n",
       "      <td>2023-09-22</td>\n",
       "      <td>28.0000</td>\n",
       "      <td>YS28</td>\n",
       "      <td>28.6444</td>\n",
       "      <td>31</td>\n",
       "      <td>30752.0000</td>\n",
       "      <td>2023-06-24</td>\n",
       "    </tr>\n",
       "    <tr>\n",
       "      <th>575</th>\n",
       "      <td>42213053</td>\n",
       "      <td>50139929</td>\n",
       "      <td>2057194397</td>\n",
       "      <td>7100004137</td>\n",
       "      <td>7100004137 - CONVERSIO HEALTH</td>\n",
       "      <td>0000000101</td>\n",
       "      <td>2057194397</td>\n",
       "      <td>2023-08-24</td>\n",
       "      <td>ZF</td>\n",
       "      <td>01 - Invoice</td>\n",
       "      <td>3232.3800</td>\n",
       "      <td>PD</td>\n",
       "      <td>CLEAR</td>\n",
       "      <td>2023-09-22</td>\n",
       "      <td>28.0000</td>\n",
       "      <td>YS28</td>\n",
       "      <td>28.6444</td>\n",
       "      <td>29</td>\n",
       "      <td>93739.0200</td>\n",
       "      <td>2023-06-24</td>\n",
       "    </tr>\n",
       "    <tr>\n",
       "      <th>576</th>\n",
       "      <td>42215629</td>\n",
       "      <td>50142968</td>\n",
       "      <td>2057194397</td>\n",
       "      <td>7100004137</td>\n",
       "      <td>7100004137 - CONVERSIO HEALTH</td>\n",
       "      <td>0000000101</td>\n",
       "      <td>2057194397</td>\n",
       "      <td>2023-08-25</td>\n",
       "      <td>ZF</td>\n",
       "      <td>01 - Invoice</td>\n",
       "      <td>4801.2900</td>\n",
       "      <td>PD</td>\n",
       "      <td>CLEAR</td>\n",
       "      <td>2023-09-22</td>\n",
       "      <td>28.0000</td>\n",
       "      <td>YS28</td>\n",
       "      <td>28.6444</td>\n",
       "      <td>28</td>\n",
       "      <td>134436.1200</td>\n",
       "      <td>2023-06-24</td>\n",
       "    </tr>\n",
       "    <tr>\n",
       "      <th>577</th>\n",
       "      <td>42220857</td>\n",
       "      <td>50149097</td>\n",
       "      <td>2057194397</td>\n",
       "      <td>7100004137</td>\n",
       "      <td>7100004137 - CONVERSIO HEALTH</td>\n",
       "      <td>0000000101</td>\n",
       "      <td>2057194397</td>\n",
       "      <td>2023-08-25</td>\n",
       "      <td>ZF</td>\n",
       "      <td>01 - Invoice</td>\n",
       "      <td>608.5000</td>\n",
       "      <td>PD</td>\n",
       "      <td>CLEAR</td>\n",
       "      <td>2023-09-22</td>\n",
       "      <td>28.0000</td>\n",
       "      <td>YS28</td>\n",
       "      <td>28.6444</td>\n",
       "      <td>28</td>\n",
       "      <td>17038.0000</td>\n",
       "      <td>2023-06-24</td>\n",
       "    </tr>\n",
       "  </tbody>\n",
       "</table>\n",
       "</div>"
      ],
      "text/plain": [
       "      level_0     index CUSTOMER_NUMBER ENTERPRISE_ACCOUNT_NO  \\\n",
       "573  42206977  50132831      2057194397            7100004137   \n",
       "574  42210703  50137166      2057194397            7100004137   \n",
       "575  42213053  50139929      2057194397            7100004137   \n",
       "576  42215629  50142968      2057194397            7100004137   \n",
       "577  42220857  50149097      2057194397            7100004137   \n",
       "\n",
       "           ENTERPRISE_ACCOUNT_NAME NATIONAL_ACCOUNT       PAYER  \\\n",
       "573  7100004137 - CONVERSIO HEALTH       0000000101  2057194397   \n",
       "574  7100004137 - CONVERSIO HEALTH       0000000101  2057194397   \n",
       "575  7100004137 - CONVERSIO HEALTH       0000000101  2057194397   \n",
       "576  7100004137 - CONVERSIO HEALTH       0000000101  2057194397   \n",
       "577  7100004137 - CONVERSIO HEALTH       0000000101  2057194397   \n",
       "\n",
       "    DOCUMENT_DATE_IN_DOCUMENT DOCUMENT_TYPE POSTING_KEY_NAME  \\\n",
       "573                2023-08-21            ZF     01 - Invoice   \n",
       "574                2023-08-22            ZF     01 - Invoice   \n",
       "575                2023-08-24            ZF     01 - Invoice   \n",
       "576                2023-08-25            ZF     01 - Invoice   \n",
       "577                2023-08-25            ZF     01 - Invoice   \n",
       "\n",
       "     AMOUNT_IN_LOCAL_CURRENCY CREDIT_CONTROL_AREA AR_STATUS PAYMENT_DATE  \\\n",
       "573                  620.3200                  PD     CLEAR   2023-09-22   \n",
       "574                  992.0000                  PD     CLEAR   2023-09-22   \n",
       "575                 3232.3800                  PD     CLEAR   2023-09-22   \n",
       "576                 4801.2900                  PD     CLEAR   2023-09-22   \n",
       "577                  608.5000                  PD     CLEAR   2023-09-22   \n",
       "\n",
       "     CC_DAYS_TO_ADD TERMS_OF_PAYMENT_KEY    WAPD  \\\n",
       "573         28.0000                 YS28 28.6444   \n",
       "574         28.0000                 YS28 28.6444   \n",
       "575         28.0000                 YS28 28.6444   \n",
       "576         28.0000                 YS28 28.6444   \n",
       "577         28.0000                 YS28 28.6444   \n",
       "\n",
       "     Sub Payment Date from Invoice Date  Weighted Invoice Value 90_days_ago  \n",
       "573                                  32              19850.2400  2023-06-24  \n",
       "574                                  31              30752.0000  2023-06-24  \n",
       "575                                  29              93739.0200  2023-06-24  \n",
       "576                                  28             134436.1200  2023-06-24  \n",
       "577                                  28              17038.0000  2023-06-24  "
      ]
     },
     "execution_count": 16,
     "metadata": {},
     "output_type": "execute_result"
    }
   ],
   "source": [
    "t.tail()"
   ]
  },
  {
   "cell_type": "code",
   "execution_count": 17,
   "id": "dedcbae1-0bd6-42eb-9a32-34ba8a977e34",
   "metadata": {},
   "outputs": [],
   "source": [
    "t['month'] = t['PAYMENT_DATE'].dt.strftime('%b')"
   ]
  },
  {
   "cell_type": "code",
   "execution_count": 18,
   "id": "adcd9317-daab-4516-8a72-04786b92746e",
   "metadata": {},
   "outputs": [
    {
     "data": {
      "text/html": [
       "<div>\n",
       "<style scoped>\n",
       "    .dataframe tbody tr th:only-of-type {\n",
       "        vertical-align: middle;\n",
       "    }\n",
       "\n",
       "    .dataframe tbody tr th {\n",
       "        vertical-align: top;\n",
       "    }\n",
       "\n",
       "    .dataframe thead th {\n",
       "        text-align: right;\n",
       "    }\n",
       "</style>\n",
       "<table border=\"1\" class=\"dataframe\">\n",
       "  <thead>\n",
       "    <tr style=\"text-align: right;\">\n",
       "      <th></th>\n",
       "      <th>month</th>\n",
       "      <th>Jan</th>\n",
       "      <th>Feb</th>\n",
       "      <th>Mar</th>\n",
       "      <th>Apr</th>\n",
       "      <th>May</th>\n",
       "      <th>Jun</th>\n",
       "      <th>Jul</th>\n",
       "      <th>Aug</th>\n",
       "      <th>Sep</th>\n",
       "      <th>Oct</th>\n",
       "      <th>Nov</th>\n",
       "      <th>Dec</th>\n",
       "    </tr>\n",
       "    <tr>\n",
       "      <th>PAYMENT_DATE</th>\n",
       "      <th>CREDIT_CONTROL_AREA</th>\n",
       "      <th></th>\n",
       "      <th></th>\n",
       "      <th></th>\n",
       "      <th></th>\n",
       "      <th></th>\n",
       "      <th></th>\n",
       "      <th></th>\n",
       "      <th></th>\n",
       "      <th></th>\n",
       "      <th></th>\n",
       "      <th></th>\n",
       "      <th></th>\n",
       "    </tr>\n",
       "  </thead>\n",
       "  <tbody>\n",
       "    <tr>\n",
       "      <th>2022</th>\n",
       "      <th>PD</th>\n",
       "      <td>NaN</td>\n",
       "      <td>NaN</td>\n",
       "      <td>NaN</td>\n",
       "      <td>NaN</td>\n",
       "      <td>NaN</td>\n",
       "      <td>NaN</td>\n",
       "      <td>NaN</td>\n",
       "      <td>NaN</td>\n",
       "      <td>29.9744</td>\n",
       "      <td>29.9637</td>\n",
       "      <td>29.9682</td>\n",
       "      <td>30.0434</td>\n",
       "    </tr>\n",
       "    <tr>\n",
       "      <th>2023</th>\n",
       "      <th>PD</th>\n",
       "      <td>29.7159</td>\n",
       "      <td>28.5953</td>\n",
       "      <td>25.1921</td>\n",
       "      <td>24.8993</td>\n",
       "      <td>24.3104</td>\n",
       "      <td>25.7423</td>\n",
       "      <td>25.0257</td>\n",
       "      <td>26.6483</td>\n",
       "      <td>27.9685</td>\n",
       "      <td>NaN</td>\n",
       "      <td>NaN</td>\n",
       "      <td>NaN</td>\n",
       "    </tr>\n",
       "  </tbody>\n",
       "</table>\n",
       "</div>"
      ],
      "text/plain": [
       "month                                Jan     Feb     Mar     Apr     May  \\\n",
       "PAYMENT_DATE CREDIT_CONTROL_AREA                                           \n",
       "2022         PD                      NaN     NaN     NaN     NaN     NaN   \n",
       "2023         PD                  29.7159 28.5953 25.1921 24.8993 24.3104   \n",
       "\n",
       "month                                Jun     Jul     Aug     Sep     Oct  \\\n",
       "PAYMENT_DATE CREDIT_CONTROL_AREA                                           \n",
       "2022         PD                      NaN     NaN     NaN 29.9744 29.9637   \n",
       "2023         PD                  25.7423 25.0257 26.6483 27.9685     NaN   \n",
       "\n",
       "month                                Nov     Dec  \n",
       "PAYMENT_DATE CREDIT_CONTROL_AREA                  \n",
       "2022         PD                  29.9682 30.0434  \n",
       "2023         PD                      NaN     NaN  "
      ]
     },
     "execution_count": 18,
     "metadata": {},
     "output_type": "execute_result"
    }
   ],
   "source": [
    "year_order = ['Jan','Feb','Mar','Apr','May','Jun','Jul','Aug','Sep','Oct','Nov','Dec']\n",
    "\n",
    "dfp1 = pd.pivot_table(data=t, index=[t.PAYMENT_DATE.dt.year,t.CREDIT_CONTROL_AREA], columns='month', values='WAPD')\n",
    "dfp1 = dfp1.reindex(year_order, axis=1)\n",
    "dfp1"
   ]
  },
  {
   "cell_type": "code",
   "execution_count": 19,
   "id": "616b3c44-607f-4fec-bb98-3990b4ab180a",
   "metadata": {},
   "outputs": [
    {
     "data": {
      "image/png": "[encoded data removed]",
      "text/plain": [
       "<Figure size 800x400 with 1 Axes>"
      ]
     },
     "metadata": {},
     "output_type": "display_data"
    }
   ],
   "source": [
    "ax = dfp1.plot(kind='bar', figsize=(8, 4), ylabel='WAPD', xlabel='Year', rot=0,colormap='Paired')\n",
    "ax.plot(t.CC_DAYS_TO_ADD, c = \"y\", label = \"DSO Term\")\n",
    "_ = ax.legend(bbox_to_anchor=(1, 1.02), loc='upper left')"
   ]
  },
  {
   "cell_type": "markdown",
   "id": "10a6bbd6-e88a-498a-996e-dcdb5f781a1e",
   "metadata": {},
   "source": [
    "## EAN"
   ]
  },
  {
   "cell_type": "code",
   "execution_count": 20,
   "id": "02895845-04f8-4d38-8145-dfd67f45988a",
   "metadata": {},
   "outputs": [
    {
     "name": "stdout",
     "output_type": "stream",
     "text": [
      "[ 15.  65.  60.  75.  90.  30.  32.  29.  31.   7.  35.  26.  59.  61.\n",
      "  33. 120.   0.  34.  40.  27.  28.  37.  39.  36.  10.  38.   8.   5.]\n"
     ]
    }
   ],
   "source": [
    "EAN = \"7100007382\"\n",
    "s = get_terms(EAN)\n",
    "# DSO terms are printed below"
   ]
  },
  {
   "cell_type": "code",
   "execution_count": 21,
   "id": "caf25f8e-6f62-471a-995b-9275da5ee2a3",
   "metadata": {},
   "outputs": [
    {
     "data": {
      "text/plain": [
       "array(['PD', 'PRMD'], dtype=object)"
      ]
     },
     "execution_count": 21,
     "metadata": {},
     "output_type": "execute_result"
    }
   ],
   "source": [
    "s[5].CREDIT_CONTROL_AREA.unique()"
   ]
  },
  {
   "cell_type": "code",
   "execution_count": 22,
   "id": "d42cc68b-e007-4aeb-80cc-ee42ab75ac1a",
   "metadata": {},
   "outputs": [],
   "source": [
    "fi=search_EAN(s[5])"
   ]
  },
  {
   "cell_type": "code",
   "execution_count": 138,
   "id": "a161b816-bd22-4c1c-a21d-67f6703a50b9",
   "metadata": {},
   "outputs": [
    {
     "data": {
      "text/html": [
       "<div>\n",
       "<style scoped>\n",
       "    .dataframe tbody tr th:only-of-type {\n",
       "        vertical-align: middle;\n",
       "    }\n",
       "\n",
       "    .dataframe tbody tr th {\n",
       "        vertical-align: top;\n",
       "    }\n",
       "\n",
       "    .dataframe thead th {\n",
       "        text-align: right;\n",
       "    }\n",
       "</style>\n",
       "<table border=\"1\" class=\"dataframe\">\n",
       "  <thead>\n",
       "    <tr style=\"text-align: right;\">\n",
       "      <th></th>\n",
       "      <th>level_0</th>\n",
       "      <th>index</th>\n",
       "      <th>CUSTOMER_NUMBER</th>\n",
       "      <th>ENTERPRISE_ACCOUNT_NO</th>\n",
       "      <th>ENTERPRISE_ACCOUNT_NAME</th>\n",
       "      <th>NATIONAL_ACCOUNT</th>\n",
       "      <th>PAYER</th>\n",
       "      <th>DOCUMENT_DATE_IN_DOCUMENT</th>\n",
       "      <th>DOCUMENT_TYPE</th>\n",
       "      <th>POSTING_KEY_NAME</th>\n",
       "      <th>AMOUNT_IN_LOCAL_CURRENCY</th>\n",
       "      <th>CREDIT_CONTROL_AREA</th>\n",
       "      <th>AR_STATUS</th>\n",
       "      <th>PAYMENT_DATE</th>\n",
       "      <th>CC_DAYS_TO_ADD</th>\n",
       "      <th>TERMS_OF_PAYMENT_KEY</th>\n",
       "      <th>WAPD</th>\n",
       "      <th>Sub Payment Date from Invoice Date</th>\n",
       "      <th>Weighted Invoice Value</th>\n",
       "      <th>90_days_ago</th>\n",
       "      <th>month</th>\n",
       "    </tr>\n",
       "  </thead>\n",
       "  <tbody>\n",
       "    <tr>\n",
       "      <th>0</th>\n",
       "      <td>1386410</td>\n",
       "      <td>3146136</td>\n",
       "      <td>2057201008</td>\n",
       "      <td>7100007382</td>\n",
       "      <td>7100007382 - CVS</td>\n",
       "      <td>0000036098</td>\n",
       "      <td>2057201008</td>\n",
       "      <td>2022-08-04</td>\n",
       "      <td>ZF</td>\n",
       "      <td>01 - Invoice</td>\n",
       "      <td>1007.0800</td>\n",
       "      <td>PD</td>\n",
       "      <td>CLEAR</td>\n",
       "      <td>2022-08-29</td>\n",
       "      <td>30.0000</td>\n",
       "      <td>Y030</td>\n",
       "      <td>23.8677</td>\n",
       "      <td>25</td>\n",
       "      <td>25177.0000</td>\n",
       "      <td>2022-05-31</td>\n",
       "      <td>Aug</td>\n",
       "    </tr>\n",
       "    <tr>\n",
       "      <th>1</th>\n",
       "      <td>1738581</td>\n",
       "      <td>3569284</td>\n",
       "      <td>2057201008</td>\n",
       "      <td>7100007382</td>\n",
       "      <td>7100007382 - CVS</td>\n",
       "      <td>0000036098</td>\n",
       "      <td>2057201008</td>\n",
       "      <td>2022-08-11</td>\n",
       "      <td>ZF</td>\n",
       "      <td>01 - Invoice</td>\n",
       "      <td>682.0600</td>\n",
       "      <td>PD</td>\n",
       "      <td>CLEAR</td>\n",
       "      <td>2022-09-02</td>\n",
       "      <td>30.0000</td>\n",
       "      <td>Y030</td>\n",
       "      <td>25.4026</td>\n",
       "      <td>22</td>\n",
       "      <td>15005.3200</td>\n",
       "      <td>2022-06-04</td>\n",
       "      <td>Sep</td>\n",
       "    </tr>\n",
       "    <tr>\n",
       "      <th>2</th>\n",
       "      <td>1744826</td>\n",
       "      <td>3576187</td>\n",
       "      <td>2057201008</td>\n",
       "      <td>7100007382</td>\n",
       "      <td>7100007382 - CVS</td>\n",
       "      <td>0000036098</td>\n",
       "      <td>2057201008</td>\n",
       "      <td>2022-08-11</td>\n",
       "      <td>ZF</td>\n",
       "      <td>01 - Invoice</td>\n",
       "      <td>273.6000</td>\n",
       "      <td>PD</td>\n",
       "      <td>CLEAR</td>\n",
       "      <td>2022-09-02</td>\n",
       "      <td>30.0000</td>\n",
       "      <td>Y030</td>\n",
       "      <td>25.4026</td>\n",
       "      <td>22</td>\n",
       "      <td>6019.2000</td>\n",
       "      <td>2022-06-04</td>\n",
       "      <td>Sep</td>\n",
       "    </tr>\n",
       "    <tr>\n",
       "      <th>3</th>\n",
       "      <td>1785562</td>\n",
       "      <td>3621447</td>\n",
       "      <td>2057201008</td>\n",
       "      <td>7100007382</td>\n",
       "      <td>7100007382 - CVS</td>\n",
       "      <td>0000036098</td>\n",
       "      <td>2057201008</td>\n",
       "      <td>2022-08-11</td>\n",
       "      <td>ZF</td>\n",
       "      <td>01 - Invoice</td>\n",
       "      <td>1025.8100</td>\n",
       "      <td>PD</td>\n",
       "      <td>CLEAR</td>\n",
       "      <td>2022-09-02</td>\n",
       "      <td>30.0000</td>\n",
       "      <td>Y030</td>\n",
       "      <td>25.4026</td>\n",
       "      <td>22</td>\n",
       "      <td>22567.8200</td>\n",
       "      <td>2022-06-04</td>\n",
       "      <td>Sep</td>\n",
       "    </tr>\n",
       "    <tr>\n",
       "      <th>4</th>\n",
       "      <td>3360579</td>\n",
       "      <td>5435864</td>\n",
       "      <td>2057201008</td>\n",
       "      <td>7100007382</td>\n",
       "      <td>7100007382 - CVS</td>\n",
       "      <td>0000036098</td>\n",
       "      <td>2057201008</td>\n",
       "      <td>2022-08-25</td>\n",
       "      <td>ZF</td>\n",
       "      <td>01 - Invoice</td>\n",
       "      <td>466.5600</td>\n",
       "      <td>PD</td>\n",
       "      <td>CLEAR</td>\n",
       "      <td>2022-09-19</td>\n",
       "      <td>30.0000</td>\n",
       "      <td>Y030</td>\n",
       "      <td>25.4366</td>\n",
       "      <td>25</td>\n",
       "      <td>11664.0000</td>\n",
       "      <td>2022-06-21</td>\n",
       "      <td>Sep</td>\n",
       "    </tr>\n",
       "  </tbody>\n",
       "</table>\n",
       "</div>"
      ],
      "text/plain": [
       "   level_0    index CUSTOMER_NUMBER ENTERPRISE_ACCOUNT_NO  \\\n",
       "0  1386410  3146136      2057201008            7100007382   \n",
       "1  1738581  3569284      2057201008            7100007382   \n",
       "2  1744826  3576187      2057201008            7100007382   \n",
       "3  1785562  3621447      2057201008            7100007382   \n",
       "4  3360579  5435864      2057201008            7100007382   \n",
       "\n",
       "  ENTERPRISE_ACCOUNT_NAME NATIONAL_ACCOUNT       PAYER  \\\n",
       "0        7100007382 - CVS       0000036098  2057201008   \n",
       "1        7100007382 - CVS       0000036098  2057201008   \n",
       "2        7100007382 - CVS       0000036098  2057201008   \n",
       "3        7100007382 - CVS       0000036098  2057201008   \n",
       "4        7100007382 - CVS       0000036098  2057201008   \n",
       "\n",
       "  DOCUMENT_DATE_IN_DOCUMENT DOCUMENT_TYPE POSTING_KEY_NAME  \\\n",
       "0                2022-08-04            ZF     01 - Invoice   \n",
       "1                2022-08-11            ZF     01 - Invoice   \n",
       "2                2022-08-11            ZF     01 - Invoice   \n",
       "3                2022-08-11            ZF     01 - Invoice   \n",
       "4                2022-08-25            ZF     01 - Invoice   \n",
       "\n",
       "   AMOUNT_IN_LOCAL_CURRENCY CREDIT_CONTROL_AREA AR_STATUS PAYMENT_DATE  \\\n",
       "0                 1007.0800                  PD     CLEAR   2022-08-29   \n",
       "1                  682.0600                  PD     CLEAR   2022-09-02   \n",
       "2                  273.6000                  PD     CLEAR   2022-09-02   \n",
       "3                 1025.8100                  PD     CLEAR   2022-09-02   \n",
       "4                  466.5600                  PD     CLEAR   2022-09-19   \n",
       "\n",
       "   CC_DAYS_TO_ADD TERMS_OF_PAYMENT_KEY    WAPD  \\\n",
       "0         30.0000                 Y030 23.8677   \n",
       "1         30.0000                 Y030 25.4026   \n",
       "2         30.0000                 Y030 25.4026   \n",
       "3         30.0000                 Y030 25.4026   \n",
       "4         30.0000                 Y030 25.4366   \n",
       "\n",
       "   Sub Payment Date from Invoice Date  Weighted Invoice Value 90_days_ago  \\\n",
       "0                                  25              25177.0000  2022-05-31   \n",
       "1                                  22              15005.3200  2022-06-04   \n",
       "2                                  22               6019.2000  2022-06-04   \n",
       "3                                  22              22567.8200  2022-06-04   \n",
       "4                                  25              11664.0000  2022-06-21   \n",
       "\n",
       "  month  \n",
       "0   Aug  \n",
       "1   Sep  \n",
       "2   Sep  \n",
       "3   Sep  \n",
       "4   Sep  "
      ]
     },
     "execution_count": 138,
     "metadata": {},
     "output_type": "execute_result"
    }
   ],
   "source": [
    "fi.head()"
   ]
  },
  {
   "cell_type": "code",
   "execution_count": 23,
   "id": "56340574-0780-4e3a-acc1-87cf2680edb2",
   "metadata": {
    "tags": []
   },
   "outputs": [],
   "source": [
    "fi['month'] = fi['PAYMENT_DATE'].dt.strftime('%b')"
   ]
  },
  {
   "cell_type": "code",
   "execution_count": 143,
   "id": "2a57eabe-594e-4468-98d8-7a6e0d65cad2",
   "metadata": {
    "tags": []
   },
   "outputs": [],
   "source": [
    "df_final = pd.DataFrame({'Year': fi.PAYMENT_DATE.dt.year,\n",
    "                   'Month': fi.month,\n",
    "                   'CREDIT_CONTROL_AREA': fi.CREDIT_CONTROL_AREA,\n",
    "                   'WAPD':fi.WAPD,\n",
    "                    \"CC_DAYS_TO_ADD\":fi.CC_DAYS_TO_ADD})"
   ]
  },
  {
   "cell_type": "code",
   "execution_count": 144,
   "id": "6b928302-5fe2-4816-bf0d-4798f30ab754",
   "metadata": {},
   "outputs": [],
   "source": [
    "monthly = df_final.groupby(['Year','CREDIT_CONTROL_AREA','Month'])['WAPD'].mean()\n",
    "# year_order = ['Jan','Feb',||year_order, axis=1)"
   ]
  },
  {
   "cell_type": "code",
   "execution_count": 150,
   "id": "5ce20c44-fb22-483f-a1e8-0409b8e3c7ef",
   "metadata": {},
   "outputs": [],
   "source": [
    "exp_cash_flow_grp = (\n",
    "    df_final\n",
    "    .filter([\"Year\", \"Month\",\"CREDIT_CONTROL_AREA\",\"WAPD\",\"CC_DAYS_TO_ADD\"])\n",
    "    # .query('DOCUMENT_TYPE in (\"DH\", \"DL\", \"DZ\", \"DW\", \"DC\")')\n",
    "    .groupby(['Year','Month','CREDIT_CONTROL_AREA',\"CC_DAYS_TO_ADD\"])\n",
    "    .agg({'WAPD' : ['mean']})\n",
    "    .sort_values(['Year',\"Month\",\"CC_DAYS_TO_ADD\"])\n",
    "    .reset_index()\n",
    ")\n",
    "exp_cash_flow_grp.columns = ['Year','Month', 'CREDIT_CONTROL_AREA','CC_DAYS_TO_ADD',\"WAPD\"]"
   ]
  },
  {
   "cell_type": "code",
   "execution_count": 153,
   "id": "d740a276-c0f7-4f6f-8df5-6b159896c4a7",
   "metadata": {},
   "outputs": [
    {
     "data": {
      "text/html": [
       "<div>\n",
       "<style scoped>\n",
       "    .dataframe tbody tr th:only-of-type {\n",
       "        vertical-align: middle;\n",
       "    }\n",
       "\n",
       "    .dataframe tbody tr th {\n",
       "        vertical-align: top;\n",
       "    }\n",
       "\n",
       "    .dataframe thead th {\n",
       "        text-align: right;\n",
       "    }\n",
       "</style>\n",
       "<table border=\"1\" class=\"dataframe\">\n",
       "  <thead>\n",
       "    <tr style=\"text-align: right;\">\n",
       "      <th></th>\n",
       "      <th>Year</th>\n",
       "      <th>Month</th>\n",
       "      <th>CREDIT_CONTROL_AREA</th>\n",
       "      <th>CC_DAYS_TO_ADD</th>\n",
       "      <th>WAPD</th>\n",
       "      <th>period</th>\n",
       "    </tr>\n",
       "  </thead>\n",
       "  <tbody>\n",
       "    <tr>\n",
       "      <th>0</th>\n",
       "      <td>2022</td>\n",
       "      <td>Aug</td>\n",
       "      <td>PD</td>\n",
       "      <td>30.0000</td>\n",
       "      <td>23.8677</td>\n",
       "      <td>Aug\\n2022</td>\n",
       "    </tr>\n",
       "    <tr>\n",
       "      <th>1</th>\n",
       "      <td>2022</td>\n",
       "      <td>Dec</td>\n",
       "      <td>PD</td>\n",
       "      <td>30.0000</td>\n",
       "      <td>26.6555</td>\n",
       "      <td>Dec\\n2022</td>\n",
       "    </tr>\n",
       "    <tr>\n",
       "      <th>2</th>\n",
       "      <td>2022</td>\n",
       "      <td>Nov</td>\n",
       "      <td>PD</td>\n",
       "      <td>30.0000</td>\n",
       "      <td>26.6903</td>\n",
       "      <td>Nov\\n2022</td>\n",
       "    </tr>\n",
       "    <tr>\n",
       "      <th>3</th>\n",
       "      <td>2022</td>\n",
       "      <td>Nov</td>\n",
       "      <td>PRMD</td>\n",
       "      <td>30.0000</td>\n",
       "      <td>26.7108</td>\n",
       "      <td>Nov\\n2022</td>\n",
       "    </tr>\n",
       "    <tr>\n",
       "      <th>4</th>\n",
       "      <td>2022</td>\n",
       "      <td>Oct</td>\n",
       "      <td>PD</td>\n",
       "      <td>30.0000</td>\n",
       "      <td>26.7181</td>\n",
       "      <td>Oct\\n2022</td>\n",
       "    </tr>\n",
       "    <tr>\n",
       "      <th>5</th>\n",
       "      <td>2022</td>\n",
       "      <td>Sep</td>\n",
       "      <td>PD</td>\n",
       "      <td>30.0000</td>\n",
       "      <td>25.4173</td>\n",
       "      <td>Sep\\n2022</td>\n",
       "    </tr>\n",
       "    <tr>\n",
       "      <th>6</th>\n",
       "      <td>2023</td>\n",
       "      <td>Apr</td>\n",
       "      <td>PD</td>\n",
       "      <td>30.0000</td>\n",
       "      <td>24.9739</td>\n",
       "      <td>Apr\\n2023</td>\n",
       "    </tr>\n",
       "    <tr>\n",
       "      <th>7</th>\n",
       "      <td>2023</td>\n",
       "      <td>Aug</td>\n",
       "      <td>PD</td>\n",
       "      <td>30.0000</td>\n",
       "      <td>26.6327</td>\n",
       "      <td>Aug\\n2023</td>\n",
       "    </tr>\n",
       "    <tr>\n",
       "      <th>8</th>\n",
       "      <td>2023</td>\n",
       "      <td>Feb</td>\n",
       "      <td>PD</td>\n",
       "      <td>30.0000</td>\n",
       "      <td>25.5713</td>\n",
       "      <td>Feb\\n2023</td>\n",
       "    </tr>\n",
       "    <tr>\n",
       "      <th>9</th>\n",
       "      <td>2023</td>\n",
       "      <td>Jan</td>\n",
       "      <td>PD</td>\n",
       "      <td>30.0000</td>\n",
       "      <td>25.4317</td>\n",
       "      <td>Jan\\n2023</td>\n",
       "    </tr>\n",
       "    <tr>\n",
       "      <th>10</th>\n",
       "      <td>2023</td>\n",
       "      <td>Jul</td>\n",
       "      <td>PD</td>\n",
       "      <td>30.0000</td>\n",
       "      <td>25.7413</td>\n",
       "      <td>Jul\\n2023</td>\n",
       "    </tr>\n",
       "    <tr>\n",
       "      <th>11</th>\n",
       "      <td>2023</td>\n",
       "      <td>Jun</td>\n",
       "      <td>PD</td>\n",
       "      <td>30.0000</td>\n",
       "      <td>25.2676</td>\n",
       "      <td>Jun\\n2023</td>\n",
       "    </tr>\n",
       "    <tr>\n",
       "      <th>12</th>\n",
       "      <td>2023</td>\n",
       "      <td>Mar</td>\n",
       "      <td>PD</td>\n",
       "      <td>30.0000</td>\n",
       "      <td>25.3288</td>\n",
       "      <td>Mar\\n2023</td>\n",
       "    </tr>\n",
       "    <tr>\n",
       "      <th>13</th>\n",
       "      <td>2023</td>\n",
       "      <td>May</td>\n",
       "      <td>PD</td>\n",
       "      <td>30.0000</td>\n",
       "      <td>24.6029</td>\n",
       "      <td>May\\n2023</td>\n",
       "    </tr>\n",
       "    <tr>\n",
       "      <th>14</th>\n",
       "      <td>2023</td>\n",
       "      <td>Sep</td>\n",
       "      <td>PD</td>\n",
       "      <td>30.0000</td>\n",
       "      <td>27.1369</td>\n",
       "      <td>Sep\\n2023</td>\n",
       "    </tr>\n",
       "  </tbody>\n",
       "</table>\n",
       "</div>"
      ],
      "text/plain": [
       "    Year Month CREDIT_CONTROL_AREA  CC_DAYS_TO_ADD    WAPD     period\n",
       "0   2022   Aug                  PD         30.0000 23.8677  Aug\\n2022\n",
       "1   2022   Dec                  PD         30.0000 26.6555  Dec\\n2022\n",
       "2   2022   Nov                  PD         30.0000 26.6903  Nov\\n2022\n",
       "3   2022   Nov                PRMD         30.0000 26.7108  Nov\\n2022\n",
       "4   2022   Oct                  PD         30.0000 26.7181  Oct\\n2022\n",
       "5   2022   Sep                  PD         30.0000 25.4173  Sep\\n2022\n",
       "6   2023   Apr                  PD         30.0000 24.9739  Apr\\n2023\n",
       "7   2023   Aug                  PD         30.0000 26.6327  Aug\\n2023\n",
       "8   2023   Feb                  PD         30.0000 25.5713  Feb\\n2023\n",
       "9   2023   Jan                  PD         30.0000 25.4317  Jan\\n2023\n",
       "10  2023   Jul                  PD         30.0000 25.7413  Jul\\n2023\n",
       "11  2023   Jun                  PD         30.0000 25.2676  Jun\\n2023\n",
       "12  2023   Mar                  PD         30.0000 25.3288  Mar\\n2023\n",
       "13  2023   May                  PD         30.0000 24.6029  May\\n2023\n",
       "14  2023   Sep                  PD         30.0000 27.1369  Sep\\n2023"
      ]
     },
     "execution_count": 153,
     "metadata": {},
     "output_type": "execute_result"
    }
   ],
   "source": [
    "exp_cash_flow_grp[\"period\"] =exp_cash_flow_grp[\"Month\"] +\"\\n\"+  exp_cash_flow_grp[\"Year\"].astype(str)\n",
    "exp_cash_flow_grp"
   ]
  },
  {
   "cell_type": "code",
   "execution_count": 154,
   "id": "5503c21d-e353-4ba2-986a-1ef5b4fac4e4",
   "metadata": {
    "tags": []
   },
   "outputs": [
    {
     "data": {
      "text/plain": [
       "array(['Aug\\n2022', 'Dec\\n2022', 'Nov\\n2022', 'Oct\\n2022', 'Sep\\n2022',\n",
       "       'Apr\\n2023', 'Aug\\n2023', 'Feb\\n2023', 'Jan\\n2023', 'Jul\\n2023',\n",
       "       'Jun\\n2023', 'Mar\\n2023', 'May\\n2023', 'Sep\\n2023'], dtype=object)"
      ]
     },
     "execution_count": 154,
     "metadata": {},
     "output_type": "execute_result"
    }
   ],
   "source": [
    "df=exp_cash_flow_grp\n",
    "df.period.unique()"
   ]
  },
  {
   "cell_type": "code",
   "execution_count": 46,
   "id": "9af313d7-1c6a-497e-b9bc-ed997bcb9d2f",
   "metadata": {},
   "outputs": [],
   "source": [
    "import matplotlib.transforms as transforms"
   ]
  },
  {
   "cell_type": "code",
   "execution_count": 48,
   "id": "b1c903a6-ed50-4a93-bb97-6786800617f7",
   "metadata": {},
   "outputs": [],
   "source": [
    "# num_fruit = len(fruits)\n",
    "fruits = ['Aug\\n2022', 'Dec\\n2022', 'Nov\\n2022', 'Oct\\n2022', 'Sep\\n2022',\n",
    "       'Apr\\n2023', 'Aug\\n2023', 'Feb\\n2023', 'Jan\\n2023', 'Jul\\n2023',\n",
    "       'Jun\\n2023', 'Mar\\n2023', 'May\\n2023', 'Sep\\n2023']\n",
    "years= ['PD', 'PRMD']\n",
    "num_fruit = len(fruits)\n",
    "num_years = len(years)\n",
    "# num_CCA= len(CCA)"
   ]
  },
  {
   "cell_type": "code",
   "execution_count": 69,
   "id": "087de361-4045-4652-b21f-0eee376d576e",
   "metadata": {
    "tags": []
   },
   "outputs": [
    {
     "name": "stdout",
     "output_type": "stream",
     "text": [
      "    Year Month CREDIT_CONTROL_AREA    WAPD     period\n",
      "0   2022   Aug                  PD 23.8677  Aug\\n2022\n",
      "1   2022   Dec                  PD 26.6555  Dec\\n2022\n",
      "2   2022   Nov                  PD 26.6903  Nov\\n2022\n",
      "3   2022   Nov                PRMD 26.7108  Nov\\n2022\n",
      "4   2022   Oct                  PD 26.7181  Oct\\n2022\n",
      "5   2022   Sep                  PD 25.4173  Sep\\n2022\n",
      "6   2023   Apr                  PD 24.9739  Apr\\n2023\n",
      "7   2023   Aug                  PD 26.6327  Aug\\n2023\n",
      "8   2023   Feb                  PD 25.5713  Feb\\n2023\n",
      "9   2023   Jan                  PD 25.4317  Jan\\n2023\n",
      "10  2023   Jul                  PD 25.7413  Jul\\n2023\n",
      "11  2023   Jun                  PD 25.2676  Jun\\n2023\n",
      "12  2023   Mar                  PD 25.3288  Mar\\n2023\n",
      "13  2023   May                  PD 24.6029  May\\n2023\n",
      "14  2023   Sep                  PD 27.1369  Sep\\n2023\n"
     ]
    },
    {
     "data": {
      "image/png": "[encoded data removed]",
      "text/plain": [
       "<Figure size 1000x600 with 1 Axes>"
      ]
     },
     "metadata": {},
     "output_type": "display_data"
    }
   ],
   "source": [
    "width = 0.8\n",
    "fig, ax = plt.subplots(figsize=(10, 6))\n",
    "for i, fruit in enumerate(fruits):\n",
    "    # print(fruit) YEAR\n",
    "    for j, year in enumerate(years):\n",
    "        # print(year) MONTH\n",
    "        \n",
    "        plt.bar(\n",
    "            i + width / num_years * (j - (num_years - 1) / 2), \n",
    "                df[(df['period'] == fruit) & (df['CREDIT_CONTROL_AREA'] == year)]['WAPD'],\n",
    "                width / num_years, color='skyblue', ec='white',label=year\n",
    "               )\n",
    "        \n",
    "plt.xticks([\n",
    "        i + width / num_years * (j - (num_years - 1) /2) \n",
    "            for i in range(num_fruit) for j in range(num_years)\n",
    "    ],\n",
    "           np.tile(years, num_fruit), rotation=70)\n",
    "    \n",
    "\n",
    "ax = plt.gca()\n",
    "# ax.yaxis.set_major_locator(MultipleLocator(1))\n",
    "# ax.yaxis.set_minor_locator(MultipleLocator(0.2))\n",
    "# ax.grid(True, axis='y')\n",
    "# ax.autoscale(False, axis='y')\n",
    "trans = transforms.blended_transform_factory(ax.transData, ax.transAxes)\n",
    "# plt.plot(fi.CC_DAYS_TO_ADD)\n",
    "for i, fruit in enumerate(fruits):\n",
    "    ax.text(i, -0.3, fruit, transform=trans, ha='center')\n",
    "    if i != 0:\n",
    "        ax.vlines(i - 0.5, .9, -0.3, color='gray', clip_on=False, transform=trans)\n",
    "plt.tight_layout()\n",
    "_ = plt.legend(bbox_to_anchor=(1, 1.02), loc='upper left')\n",
    "print(df)\n",
    "# figure(figsize=(8, 6), dpi=80)\n",
    "plt.show()"
   ]
  },
  {
   "cell_type": "code",
   "execution_count": 155,
   "id": "de836eb9-cd85-45b9-817c-2e341875037d",
   "metadata": {
    "tags": []
   },
   "outputs": [
    {
     "data": {
      "text/html": [
       "<div>\n",
       "<style scoped>\n",
       "    .dataframe tbody tr th:only-of-type {\n",
       "        vertical-align: middle;\n",
       "    }\n",
       "\n",
       "    .dataframe tbody tr th {\n",
       "        vertical-align: top;\n",
       "    }\n",
       "\n",
       "    .dataframe thead th {\n",
       "        text-align: right;\n",
       "    }\n",
       "</style>\n",
       "<table border=\"1\" class=\"dataframe\">\n",
       "  <thead>\n",
       "    <tr style=\"text-align: right;\">\n",
       "      <th></th>\n",
       "      <th>Year</th>\n",
       "      <th>Month</th>\n",
       "      <th>CREDIT_CONTROL_AREA</th>\n",
       "      <th>CC_DAYS_TO_ADD</th>\n",
       "      <th>WAPD</th>\n",
       "      <th>period</th>\n",
       "    </tr>\n",
       "  </thead>\n",
       "  <tbody>\n",
       "    <tr>\n",
       "      <th>0</th>\n",
       "      <td>2022</td>\n",
       "      <td>Aug</td>\n",
       "      <td>PD</td>\n",
       "      <td>30.0000</td>\n",
       "      <td>23.8677</td>\n",
       "      <td>Aug\\n2022</td>\n",
       "    </tr>\n",
       "  </tbody>\n",
       "</table>\n",
       "</div>"
      ],
      "text/plain": [
       "   Year Month CREDIT_CONTROL_AREA  CC_DAYS_TO_ADD    WAPD     period\n",
       "0  2022   Aug                  PD         30.0000 23.8677  Aug\\n2022"
      ]
     },
     "execution_count": 155,
     "metadata": {},
     "output_type": "execute_result"
    }
   ],
   "source": [
    "df.head(1)"
   ]
  },
  {
   "cell_type": "code",
   "execution_count": 81,
   "id": "af670caf-b3f0-41c8-b9f6-10fa6acdb41c",
   "metadata": {},
   "outputs": [
    {
     "data": {
      "text/html": [
       "<div>\n",
       "<style scoped>\n",
       "    .dataframe tbody tr th:only-of-type {\n",
       "        vertical-align: middle;\n",
       "    }\n",
       "\n",
       "    .dataframe tbody tr th {\n",
       "        vertical-align: top;\n",
       "    }\n",
       "\n",
       "    .dataframe thead th {\n",
       "        text-align: right;\n",
       "    }\n",
       "</style>\n",
       "<table border=\"1\" class=\"dataframe\">\n",
       "  <thead>\n",
       "    <tr style=\"text-align: right;\">\n",
       "      <th></th>\n",
       "      <th>CREDIT_CONTROL_AREA</th>\n",
       "      <th>PD</th>\n",
       "      <th>PRMD</th>\n",
       "    </tr>\n",
       "    <tr>\n",
       "      <th>Year</th>\n",
       "      <th>Month</th>\n",
       "      <th></th>\n",
       "      <th></th>\n",
       "    </tr>\n",
       "  </thead>\n",
       "  <tbody>\n",
       "    <tr>\n",
       "      <th rowspan=\"5\" valign=\"top\">2022</th>\n",
       "      <th>Aug</th>\n",
       "      <td>23.8677</td>\n",
       "      <td>NaN</td>\n",
       "    </tr>\n",
       "    <tr>\n",
       "      <th>Dec</th>\n",
       "      <td>26.6555</td>\n",
       "      <td>NaN</td>\n",
       "    </tr>\n",
       "    <tr>\n",
       "      <th>Nov</th>\n",
       "      <td>26.6903</td>\n",
       "      <td>26.7108</td>\n",
       "    </tr>\n",
       "    <tr>\n",
       "      <th>Oct</th>\n",
       "      <td>26.7181</td>\n",
       "      <td>NaN</td>\n",
       "    </tr>\n",
       "    <tr>\n",
       "      <th>Sep</th>\n",
       "      <td>25.4173</td>\n",
       "      <td>NaN</td>\n",
       "    </tr>\n",
       "    <tr>\n",
       "      <th rowspan=\"9\" valign=\"top\">2023</th>\n",
       "      <th>Apr</th>\n",
       "      <td>24.9739</td>\n",
       "      <td>NaN</td>\n",
       "    </tr>\n",
       "    <tr>\n",
       "      <th>Aug</th>\n",
       "      <td>26.6327</td>\n",
       "      <td>NaN</td>\n",
       "    </tr>\n",
       "    <tr>\n",
       "      <th>Feb</th>\n",
       "      <td>25.5713</td>\n",
       "      <td>NaN</td>\n",
       "    </tr>\n",
       "    <tr>\n",
       "      <th>Jan</th>\n",
       "      <td>25.4317</td>\n",
       "      <td>NaN</td>\n",
       "    </tr>\n",
       "    <tr>\n",
       "      <th>Jul</th>\n",
       "      <td>25.7413</td>\n",
       "      <td>NaN</td>\n",
       "    </tr>\n",
       "    <tr>\n",
       "      <th>Jun</th>\n",
       "      <td>25.2676</td>\n",
       "      <td>NaN</td>\n",
       "    </tr>\n",
       "    <tr>\n",
       "      <th>Mar</th>\n",
       "      <td>25.3288</td>\n",
       "      <td>NaN</td>\n",
       "    </tr>\n",
       "    <tr>\n",
       "      <th>May</th>\n",
       "      <td>24.6029</td>\n",
       "      <td>NaN</td>\n",
       "    </tr>\n",
       "    <tr>\n",
       "      <th>Sep</th>\n",
       "      <td>27.1369</td>\n",
       "      <td>NaN</td>\n",
       "    </tr>\n",
       "  </tbody>\n",
       "</table>\n",
       "</div>"
      ],
      "text/plain": [
       "CREDIT_CONTROL_AREA      PD    PRMD\n",
       "Year Month                         \n",
       "2022 Aug            23.8677     NaN\n",
       "     Dec            26.6555     NaN\n",
       "     Nov            26.6903 26.7108\n",
       "     Oct            26.7181     NaN\n",
       "     Sep            25.4173     NaN\n",
       "2023 Apr            24.9739     NaN\n",
       "     Aug            26.6327     NaN\n",
       "     Feb            25.5713     NaN\n",
       "     Jan            25.4317     NaN\n",
       "     Jul            25.7413     NaN\n",
       "     Jun            25.2676     NaN\n",
       "     Mar            25.3288     NaN\n",
       "     May            24.6029     NaN\n",
       "     Sep            27.1369     NaN"
      ]
     },
     "execution_count": 81,
     "metadata": {},
     "output_type": "execute_result"
    }
   ],
   "source": [
    "dfp1 = pd.pivot_table(data=df, index=[df.Year,df.Month,], columns='CREDIT_CONTROL_AREA', values='WAPD')\n",
    "# dfp1 = dfp1.reindex(year_order, axis=1)\n",
    "dfp1"
   ]
  },
  {
   "cell_type": "code",
   "execution_count": 83,
   "id": "32d6253b-871a-4555-b5d6-61070e42296f",
   "metadata": {},
   "outputs": [
    {
     "data": {
      "image/png": "[encoded data removed]",
      "text/plain": [
       "<Figure size 800x400 with 1 Axes>"
      ]
     },
     "metadata": {},
     "output_type": "display_data"
    }
   ],
   "source": [
    "ax = dfp1.plot(kind='bar', figsize=(8, 4), ylabel='WAPD', xlabel='Year', rot=45,colormap='Paired')\n",
    "ax.plot(t.CC_DAYS_TO_ADD, c = \"y\", label = \"DSO Term\")\n",
    "_ = ax.legend(bbox_to_anchor=(1, 1.02), loc='upper left')"
   ]
  },
  {
   "cell_type": "code",
   "execution_count": null,
   "id": "ff6476c1-07a3-46d2-8637-5a8e6eba8ad9",
   "metadata": {},
   "outputs": [],
   "source": [
    "ax = dfp1.plot(kind='bar', figsize=(8, 4), ylabel='WAPD', xlabel='Year', rot=45,colormap='Paired')\n",
    "ax.plot(t.CC_DAYS_TO_ADD, c = \"y\", label = \"DSO Term\")\n",
    "for i, fruit in enumerate(fruits):\n",
    "    ax.text(i, -0.2, fruit, transform=trans, ha='center')\n",
    "    if i != 0:\n",
    "        ax.vlines(i - 0.5, 0, -0.3, color='lightgrey', clip_on=False, transform=trans)\n",
    "_ = ax.legend(bbox_to_anchor=(1, 1.02), loc='upper left')"
   ]
  },
  {
   "cell_type": "code",
   "execution_count": 156,
   "id": "fe31eede-0b67-41a4-b0b7-9ecfa96044ab",
   "metadata": {
    "tags": []
   },
   "outputs": [
    {
     "data": {
      "text/html": [
       "<div>\n",
       "<style scoped>\n",
       "    .dataframe tbody tr th:only-of-type {\n",
       "        vertical-align: middle;\n",
       "    }\n",
       "\n",
       "    .dataframe tbody tr th {\n",
       "        vertical-align: top;\n",
       "    }\n",
       "\n",
       "    .dataframe thead th {\n",
       "        text-align: right;\n",
       "    }\n",
       "</style>\n",
       "<table border=\"1\" class=\"dataframe\">\n",
       "  <thead>\n",
       "    <tr style=\"text-align: right;\">\n",
       "      <th></th>\n",
       "      <th>Year</th>\n",
       "      <th>Month</th>\n",
       "      <th>CREDIT_CONTROL_AREA</th>\n",
       "      <th>CC_DAYS_TO_ADD</th>\n",
       "      <th>WAPD</th>\n",
       "      <th>period</th>\n",
       "    </tr>\n",
       "  </thead>\n",
       "  <tbody>\n",
       "    <tr>\n",
       "      <th>0</th>\n",
       "      <td>2022</td>\n",
       "      <td>Aug</td>\n",
       "      <td>PD</td>\n",
       "      <td>30.0000</td>\n",
       "      <td>23.8677</td>\n",
       "      <td>Aug\\n2022</td>\n",
       "    </tr>\n",
       "    <tr>\n",
       "      <th>1</th>\n",
       "      <td>2022</td>\n",
       "      <td>Dec</td>\n",
       "      <td>PD</td>\n",
       "      <td>30.0000</td>\n",
       "      <td>26.6555</td>\n",
       "      <td>Dec\\n2022</td>\n",
       "    </tr>\n",
       "    <tr>\n",
       "      <th>2</th>\n",
       "      <td>2022</td>\n",
       "      <td>Nov</td>\n",
       "      <td>PD</td>\n",
       "      <td>30.0000</td>\n",
       "      <td>26.6903</td>\n",
       "      <td>Nov\\n2022</td>\n",
       "    </tr>\n",
       "    <tr>\n",
       "      <th>3</th>\n",
       "      <td>2022</td>\n",
       "      <td>Nov</td>\n",
       "      <td>PRMD</td>\n",
       "      <td>30.0000</td>\n",
       "      <td>26.7108</td>\n",
       "      <td>Nov\\n2022</td>\n",
       "    </tr>\n",
       "    <tr>\n",
       "      <th>4</th>\n",
       "      <td>2022</td>\n",
       "      <td>Oct</td>\n",
       "      <td>PD</td>\n",
       "      <td>30.0000</td>\n",
       "      <td>26.7181</td>\n",
       "      <td>Oct\\n2022</td>\n",
       "    </tr>\n",
       "  </tbody>\n",
       "</table>\n",
       "</div>"
      ],
      "text/plain": [
       "   Year Month CREDIT_CONTROL_AREA  CC_DAYS_TO_ADD    WAPD     period\n",
       "0  2022   Aug                  PD         30.0000 23.8677  Aug\\n2022\n",
       "1  2022   Dec                  PD         30.0000 26.6555  Dec\\n2022\n",
       "2  2022   Nov                  PD         30.0000 26.6903  Nov\\n2022\n",
       "3  2022   Nov                PRMD         30.0000 26.7108  Nov\\n2022\n",
       "4  2022   Oct                  PD         30.0000 26.7181  Oct\\n2022"
      ]
     },
     "execution_count": 156,
     "metadata": {},
     "output_type": "execute_result"
    }
   ],
   "source": [
    "df.head()"
   ]
  },
  {
   "cell_type": "code",
   "execution_count": 202,
   "id": "13b833d8-4ceb-48e6-8b39-24c7c9d57aae",
   "metadata": {},
   "outputs": [
    {
     "data": {
      "text/html": [
       "<div>\n",
       "<style scoped>\n",
       "    .dataframe tbody tr th:only-of-type {\n",
       "        vertical-align: middle;\n",
       "    }\n",
       "\n",
       "    .dataframe tbody tr th {\n",
       "        vertical-align: top;\n",
       "    }\n",
       "\n",
       "    .dataframe thead th {\n",
       "        text-align: right;\n",
       "    }\n",
       "</style>\n",
       "<table border=\"1\" class=\"dataframe\">\n",
       "  <thead>\n",
       "    <tr style=\"text-align: right;\">\n",
       "      <th></th>\n",
       "      <th>year</th>\n",
       "      <th>month</th>\n",
       "      <th>CCA</th>\n",
       "      <th>WAPD</th>\n",
       "      <th>dso_term</th>\n",
       "    </tr>\n",
       "  </thead>\n",
       "  <tbody>\n",
       "    <tr>\n",
       "      <th>0</th>\n",
       "      <td>2022</td>\n",
       "      <td>Aug</td>\n",
       "      <td>PD</td>\n",
       "      <td>23.8677</td>\n",
       "      <td>30.0000</td>\n",
       "    </tr>\n",
       "    <tr>\n",
       "      <th>1</th>\n",
       "      <td>2022</td>\n",
       "      <td>Dec</td>\n",
       "      <td>PD</td>\n",
       "      <td>26.6555</td>\n",
       "      <td>30.0000</td>\n",
       "    </tr>\n",
       "    <tr>\n",
       "      <th>2</th>\n",
       "      <td>2022</td>\n",
       "      <td>Nov</td>\n",
       "      <td>PD</td>\n",
       "      <td>26.6903</td>\n",
       "      <td>30.0000</td>\n",
       "    </tr>\n",
       "    <tr>\n",
       "      <th>3</th>\n",
       "      <td>2022</td>\n",
       "      <td>Nov</td>\n",
       "      <td>PRMD</td>\n",
       "      <td>26.7108</td>\n",
       "      <td>30.0000</td>\n",
       "    </tr>\n",
       "    <tr>\n",
       "      <th>4</th>\n",
       "      <td>2022</td>\n",
       "      <td>Oct</td>\n",
       "      <td>PD</td>\n",
       "      <td>26.7181</td>\n",
       "      <td>30.0000</td>\n",
       "    </tr>\n",
       "    <tr>\n",
       "      <th>5</th>\n",
       "      <td>2022</td>\n",
       "      <td>Sep</td>\n",
       "      <td>PD</td>\n",
       "      <td>25.4173</td>\n",
       "      <td>30.0000</td>\n",
       "    </tr>\n",
       "    <tr>\n",
       "      <th>6</th>\n",
       "      <td>2023</td>\n",
       "      <td>Apr</td>\n",
       "      <td>PD</td>\n",
       "      <td>24.9739</td>\n",
       "      <td>30.0000</td>\n",
       "    </tr>\n",
       "    <tr>\n",
       "      <th>7</th>\n",
       "      <td>2023</td>\n",
       "      <td>Aug</td>\n",
       "      <td>PD</td>\n",
       "      <td>26.6327</td>\n",
       "      <td>30.0000</td>\n",
       "    </tr>\n",
       "    <tr>\n",
       "      <th>8</th>\n",
       "      <td>2023</td>\n",
       "      <td>Feb</td>\n",
       "      <td>PD</td>\n",
       "      <td>25.5713</td>\n",
       "      <td>30.0000</td>\n",
       "    </tr>\n",
       "    <tr>\n",
       "      <th>9</th>\n",
       "      <td>2023</td>\n",
       "      <td>Jan</td>\n",
       "      <td>PD</td>\n",
       "      <td>25.4317</td>\n",
       "      <td>30.0000</td>\n",
       "    </tr>\n",
       "    <tr>\n",
       "      <th>10</th>\n",
       "      <td>2023</td>\n",
       "      <td>Jul</td>\n",
       "      <td>PD</td>\n",
       "      <td>25.7413</td>\n",
       "      <td>30.0000</td>\n",
       "    </tr>\n",
       "    <tr>\n",
       "      <th>11</th>\n",
       "      <td>2023</td>\n",
       "      <td>Jun</td>\n",
       "      <td>PD</td>\n",
       "      <td>25.2676</td>\n",
       "      <td>30.0000</td>\n",
       "    </tr>\n",
       "    <tr>\n",
       "      <th>12</th>\n",
       "      <td>2023</td>\n",
       "      <td>Mar</td>\n",
       "      <td>PD</td>\n",
       "      <td>25.3288</td>\n",
       "      <td>30.0000</td>\n",
       "    </tr>\n",
       "    <tr>\n",
       "      <th>13</th>\n",
       "      <td>2023</td>\n",
       "      <td>May</td>\n",
       "      <td>PD</td>\n",
       "      <td>24.6029</td>\n",
       "      <td>30.0000</td>\n",
       "    </tr>\n",
       "    <tr>\n",
       "      <th>14</th>\n",
       "      <td>2023</td>\n",
       "      <td>Sep</td>\n",
       "      <td>PD</td>\n",
       "      <td>27.1369</td>\n",
       "      <td>30.0000</td>\n",
       "    </tr>\n",
       "  </tbody>\n",
       "</table>\n",
       "</div>"
      ],
      "text/plain": [
       "    year month   CCA    WAPD  dso_term\n",
       "0   2022   Aug    PD 23.8677   30.0000\n",
       "1   2022   Dec    PD 26.6555   30.0000\n",
       "2   2022   Nov    PD 26.6903   30.0000\n",
       "3   2022   Nov  PRMD 26.7108   30.0000\n",
       "4   2022   Oct    PD 26.7181   30.0000\n",
       "5   2022   Sep    PD 25.4173   30.0000\n",
       "6   2023   Apr    PD 24.9739   30.0000\n",
       "7   2023   Aug    PD 26.6327   30.0000\n",
       "8   2023   Feb    PD 25.5713   30.0000\n",
       "9   2023   Jan    PD 25.4317   30.0000\n",
       "10  2023   Jul    PD 25.7413   30.0000\n",
       "11  2023   Jun    PD 25.2676   30.0000\n",
       "12  2023   Mar    PD 25.3288   30.0000\n",
       "13  2023   May    PD 24.6029   30.0000\n",
       "14  2023   Sep    PD 27.1369   30.0000"
      ]
     },
     "execution_count": 202,
     "metadata": {},
     "output_type": "execute_result"
    }
   ],
   "source": [
    "dff"
   ]
  },
  {
   "cell_type": "code",
   "execution_count": 160,
   "id": "619ea31d-8aaa-4888-93f9-12b68d08e105",
   "metadata": {},
   "outputs": [],
   "source": [
    "dff = pd.DataFrame(\n",
    "    dict(\n",
    "        year=df.Year.values ,\n",
    "        month=df.Month.values,\n",
    "        CCA= df.CREDIT_CONTROL_AREA.values,\n",
    "        WAPD=df.WAPD.values,\n",
    "        dso_term = df.CC_DAYS_TO_ADD.values\n",
    "    )\n",
    ")"
   ]
  },
  {
   "cell_type": "code",
   "execution_count": 186,
   "id": "77b6a2cf-aaf3-4655-9e3a-81c1ff6cc683",
   "metadata": {
    "collapsed": true,
    "jupyter": {
     "outputs_hidden": true
    },
    "tags": []
   },
   "outputs": [
    {
     "data": {
      "application/vnd.plotly.v1+json": {
       "config": {
        "plotlyServerURL": "https://plot.ly"
       },
       "data": [
        {
         "marker": {
          "color": "#2A66DE"
         },
         "name": "PD",
         "type": "bar",
         "x": [
          [
           2022,
           2022,
           2022,
           2022,
           2022,
           2023,
           2023,
           2023,
           2023,
           2023,
           2023,
           2023,
           2023,
           2023
          ],
          [
           "Aug",
           "Dec",
           "Nov",
           "Oct",
           "Sep",
           "Apr",
           "Aug",
           "Feb",
           "Jan",
           "Jul",
           "Jun",
           "Mar",
           "May",
           "Sep"
          ]
         ],
         "xaxis": "x",
         "y": [
          23.867747129898866,
          26.65552092318293,
          26.690332273399793,
          26.71810302195895,
          25.41733134649635,
          24.973905117051334,
          26.63266872540231,
          25.57133870427104,
          25.431741955328082,
          25.74129825986197,
          25.267626280532973,
          25.32881056259684,
          24.602889546295632,
          27.136884460066696
         ],
         "yaxis": "y"
        },
        {
         "marker": {
          "color": "#FFC32B"
         },
         "name": "PRMD",
         "type": "bar",
         "x": [
          [
           2022
          ],
          [
           "Nov"
          ]
         ],
         "xaxis": "x",
         "y": [
          26.71081111199409
         ],
         "yaxis": "y"
        },
        {
         "mode": "lines",
         "type": "scatter",
         "x": [
          "Nov"
         ],
         "y": [
          "PRMD"
         ]
        }
       ],
       "layout": {
        "autosize": true,
        "barmode": "group",
        "template": {
         "data": {
          "bar": [
           {
            "error_x": {
             "color": "rgb(36,36,36)"
            },
            "error_y": {
             "color": "rgb(36,36,36)"
            },
            "marker": {
             "line": {
              "color": "white",
              "width": 0.5
             },
             "pattern": {
              "fillmode": "overlay",
              "size": 10,
              "solidity": 0.2
             }
            },
            "type": "bar"
           }
          ],
          "barpolar": [
           {
            "marker": {
             "line": {
              "color": "white",
              "width": 0.5
             },
             "pattern": {
              "fillmode": "overlay",
              "size": 10,
              "solidity": 0.2
             }
            },
            "type": "barpolar"
           }
          ],
          "carpet": [
           {
            "aaxis": {
             "endlinecolor": "rgb(36,36,36)",
             "gridcolor": "white",
             "linecolor": "white",
             "minorgridcolor": "white",
             "startlinecolor": "rgb(36,36,36)"
            },
            "baxis": {
             "endlinecolor": "rgb(36,36,36)",
             "gridcolor": "white",
             "linecolor": "white",
             "minorgridcolor": "white",
             "startlinecolor": "rgb(36,36,36)"
            },
            "type": "carpet"
           }
          ],
          "choropleth": [
           {
            "colorbar": {
             "outlinewidth": 1,
             "tickcolor": "rgb(36,36,36)",
             "ticks": "outside"
            },
            "type": "choropleth"
           }
          ],
          "contour": [
           {
            "colorbar": {
             "outlinewidth": 1,
             "tickcolor": "rgb(36,36,36)",
             "ticks": "outside"
            },
            "colorscale": [
             [
              0,
              "#440154"
             ],
             [
              0.1111111111111111,
              "#482878"
             ],
             [
              0.2222222222222222,
              "#3e4989"
             ],
             [
              0.3333333333333333,
              "#31688e"
             ],
             [
              0.4444444444444444,
              "#26828e"
             ],
             [
              0.5555555555555556,
              "#1f9e89"
             ],
             [
              0.6666666666666666,
              "#35b779"
             ],
             [
              0.7777777777777778,
              "#6ece58"
             ],
             [
              0.8888888888888888,
              "#b5de2b"
             ],
             [
              1,
              "#fde725"
             ]
            ],
            "type": "contour"
           }
          ],
          "contourcarpet": [
           {
            "colorbar": {
             "outlinewidth": 1,
             "tickcolor": "rgb(36,36,36)",
             "ticks": "outside"
            },
            "type": "contourcarpet"
           }
          ],
          "heatmap": [
           {
            "colorbar": {
             "outlinewidth": 1,
             "tickcolor": "rgb(36,36,36)",
             "ticks": "outside"
            },
            "colorscale": [
             [
              0,
              "#440154"
             ],
             [
              0.1111111111111111,
              "#482878"
             ],
             [
              0.2222222222222222,
              "#3e4989"
             ],
             [
              0.3333333333333333,
              "#31688e"
             ],
             [
              0.4444444444444444,
              "#26828e"
             ],
             [
              0.5555555555555556,
              "#1f9e89"
             ],
             [
              0.6666666666666666,
              "#35b779"
             ],
             [
              0.7777777777777778,
              "#6ece58"
             ],
             [
              0.8888888888888888,
              "#b5de2b"
             ],
             [
              1,
              "#fde725"
             ]
            ],
            "type": "heatmap"
           }
          ],
          "heatmapgl": [
           {
            "colorbar": {
             "outlinewidth": 1,
             "tickcolor": "rgb(36,36,36)",
             "ticks": "outside"
            },
            "colorscale": [
             [
              0,
              "#440154"
             ],
             [
              0.1111111111111111,
              "#482878"
             ],
             [
              0.2222222222222222,
              "#3e4989"
             ],
             [
              0.3333333333333333,
              "#31688e"
             ],
             [
              0.4444444444444444,
              "#26828e"
             ],
             [
              0.5555555555555556,
              "#1f9e89"
             ],
             [
              0.6666666666666666,
              "#35b779"
             ],
             [
              0.7777777777777778,
              "#6ece58"
             ],
             [
              0.8888888888888888,
              "#b5de2b"
             ],
             [
              1,
              "#fde725"
             ]
            ],
            "type": "heatmapgl"
           }
          ],
          "histogram": [
           {
            "marker": {
             "line": {
              "color": "white",
              "width": 0.6
             }
            },
            "type": "histogram"
           }
          ],
          "histogram2d": [
           {
            "colorbar": {
             "outlinewidth": 1,
             "tickcolor": "rgb(36,36,36)",
             "ticks": "outside"
            },
            "colorscale": [
             [
              0,
              "#440154"
             ],
             [
              0.1111111111111111,
              "#482878"
             ],
             [
              0.2222222222222222,
              "#3e4989"
             ],
             [
              0.3333333333333333,
              "#31688e"
             ],
             [
              0.4444444444444444,
              "#26828e"
             ],
             [
              0.5555555555555556,
              "#1f9e89"
             ],
             [
              0.6666666666666666,
              "#35b779"
             ],
             [
              0.7777777777777778,
              "#6ece58"
             ],
             [
              0.8888888888888888,
              "#b5de2b"
             ],
             [
              1,
              "#fde725"
             ]
            ],
            "type": "histogram2d"
           }
          ],
          "histogram2dcontour": [
           {
            "colorbar": {
             "outlinewidth": 1,
             "tickcolor": "rgb(36,36,36)",
             "ticks": "outside"
            },
            "colorscale": [
             [
              0,
              "#440154"
             ],
             [
              0.1111111111111111,
              "#482878"
             ],
             [
              0.2222222222222222,
              "#3e4989"
             ],
             [
              0.3333333333333333,
              "#31688e"
             ],
             [
              0.4444444444444444,
              "#26828e"
             ],
             [
              0.5555555555555556,
              "#1f9e89"
             ],
             [
              0.6666666666666666,
              "#35b779"
             ],
             [
              0.7777777777777778,
              "#6ece58"
             ],
             [
              0.8888888888888888,
              "#b5de2b"
             ],
             [
              1,
              "#fde725"
             ]
            ],
            "type": "histogram2dcontour"
           }
          ],
          "mesh3d": [
           {
            "colorbar": {
             "outlinewidth": 1,
             "tickcolor": "rgb(36,36,36)",
             "ticks": "outside"
            },
            "type": "mesh3d"
           }
          ],
          "parcoords": [
           {
            "line": {
             "colorbar": {
              "outlinewidth": 1,
              "tickcolor": "rgb(36,36,36)",
              "ticks": "outside"
             }
            },
            "type": "parcoords"
           }
          ],
          "pie": [
           {
            "automargin": true,
            "type": "pie"
           }
          ],
          "scatter": [
           {
            "fillpattern": {
             "fillmode": "overlay",
             "size": 10,
             "solidity": 0.2
            },
            "type": "scatter"
           }
          ],
          "scatter3d": [
           {
            "line": {
             "colorbar": {
              "outlinewidth": 1,
              "tickcolor": "rgb(36,36,36)",
              "ticks": "outside"
             }
            },
            "marker": {
             "colorbar": {
              "outlinewidth": 1,
              "tickcolor": "rgb(36,36,36)",
              "ticks": "outside"
             }
            },
            "type": "scatter3d"
           }
          ],
          "scattercarpet": [
           {
            "marker": {
             "colorbar": {
              "outlinewidth": 1,
              "tickcolor": "rgb(36,36,36)",
              "ticks": "outside"
             }
            },
            "type": "scattercarpet"
           }
          ],
          "scattergeo": [
           {
            "marker": {
             "colorbar": {
              "outlinewidth": 1,
              "tickcolor": "rgb(36,36,36)",
              "ticks": "outside"
             }
            },
            "type": "scattergeo"
           }
          ],
          "scattergl": [
           {
            "marker": {
             "colorbar": {
              "outlinewidth": 1,
              "tickcolor": "rgb(36,36,36)",
              "ticks": "outside"
             }
            },
            "type": "scattergl"
           }
          ],
          "scattermapbox": [
           {
            "marker": {
             "colorbar": {
              "outlinewidth": 1,
              "tickcolor": "rgb(36,36,36)",
              "ticks": "outside"
             }
            },
            "type": "scattermapbox"
           }
          ],
          "scatterpolar": [
           {
            "marker": {
             "colorbar": {
              "outlinewidth": 1,
              "tickcolor": "rgb(36,36,36)",
              "ticks": "outside"
             }
            },
            "type": "scatterpolar"
           }
          ],
          "scatterpolargl": [
           {
            "marker": {
             "colorbar": {
              "outlinewidth": 1,
              "tickcolor": "rgb(36,36,36)",
              "ticks": "outside"
             }
            },
            "type": "scatterpolargl"
           }
          ],
          "scatterternary": [
           {
            "marker": {
             "colorbar": {
              "outlinewidth": 1,
              "tickcolor": "rgb(36,36,36)",
              "ticks": "outside"
             }
            },
            "type": "scatterternary"
           }
          ],
          "surface": [
           {
            "colorbar": {
             "outlinewidth": 1,
             "tickcolor": "rgb(36,36,36)",
             "ticks": "outside"
            },
            "colorscale": [
             [
              0,
              "#440154"
             ],
             [
              0.1111111111111111,
              "#482878"
             ],
             [
              0.2222222222222222,
              "#3e4989"
             ],
             [
              0.3333333333333333,
              "#31688e"
             ],
             [
              0.4444444444444444,
              "#26828e"
             ],
             [
              0.5555555555555556,
              "#1f9e89"
             ],
             [
              0.6666666666666666,
              "#35b779"
             ],
             [
              0.7777777777777778,
              "#6ece58"
             ],
             [
              0.8888888888888888,
              "#b5de2b"
             ],
             [
              1,
              "#fde725"
             ]
            ],
            "type": "surface"
           }
          ],
          "table": [
           {
            "cells": {
             "fill": {
              "color": "rgb(237,237,237)"
             },
             "line": {
              "color": "white"
             }
            },
            "header": {
             "fill": {
              "color": "rgb(217,217,217)"
             },
             "line": {
              "color": "white"
             }
            },
            "type": "table"
           }
          ]
         },
         "layout": {
          "annotationdefaults": {
           "arrowhead": 0,
           "arrowwidth": 1
          },
          "autotypenumbers": "strict",
          "coloraxis": {
           "colorbar": {
            "outlinewidth": 1,
            "tickcolor": "rgb(36,36,36)",
            "ticks": "outside"
           }
          },
          "colorscale": {
           "diverging": [
            [
             0,
             "rgb(103,0,31)"
            ],
            [
             0.1,
             "rgb(178,24,43)"
            ],
            [
             0.2,
             "rgb(214,96,77)"
            ],
            [
             0.3,
             "rgb(244,165,130)"
            ],
            [
             0.4,
             "rgb(253,219,199)"
            ],
            [
             0.5,
             "rgb(247,247,247)"
            ],
            [
             0.6,
             "rgb(209,229,240)"
            ],
            [
             0.7,
             "rgb(146,197,222)"
            ],
            [
             0.8,
             "rgb(67,147,195)"
            ],
            [
             0.9,
             "rgb(33,102,172)"
            ],
            [
             1,
             "rgb(5,48,97)"
            ]
           ],
           "sequential": [
            [
             0,
             "#440154"
            ],
            [
             0.1111111111111111,
             "#482878"
            ],
            [
             0.2222222222222222,
             "#3e4989"
            ],
            [
             0.3333333333333333,
             "#31688e"
            ],
            [
             0.4444444444444444,
             "#26828e"
            ],
            [
             0.5555555555555556,
             "#1f9e89"
            ],
            [
             0.6666666666666666,
             "#35b779"
            ],
            [
             0.7777777777777778,
             "#6ece58"
            ],
            [
             0.8888888888888888,
             "#b5de2b"
            ],
            [
             1,
             "#fde725"
            ]
           ],
           "sequentialminus": [
            [
             0,
             "#440154"
            ],
            [
             0.1111111111111111,
             "#482878"
            ],
            [
             0.2222222222222222,
             "#3e4989"
            ],
            [
             0.3333333333333333,
             "#31688e"
            ],
            [
             0.4444444444444444,
             "#26828e"
            ],
            [
             0.5555555555555556,
             "#1f9e89"
            ],
            [
             0.6666666666666666,
             "#35b779"
            ],
            [
             0.7777777777777778,
             "#6ece58"
            ],
            [
             0.8888888888888888,
             "#b5de2b"
            ],
            [
             1,
             "#fde725"
            ]
           ]
          },
          "colorway": [
           "#1F77B4",
           "#FF7F0E",
           "#2CA02C",
           "#D62728",
           "#9467BD",
           "#8C564B",
           "#E377C2",
           "#7F7F7F",
           "#BCBD22",
           "#17BECF"
          ],
          "font": {
           "color": "rgb(36,36,36)"
          },
          "geo": {
           "bgcolor": "white",
           "lakecolor": "white",
           "landcolor": "white",
           "showlakes": true,
           "showland": true,
           "subunitcolor": "white"
          },
          "hoverlabel": {
           "align": "left"
          },
          "hovermode": "closest",
          "mapbox": {
           "style": "light"
          },
          "paper_bgcolor": "white",
          "plot_bgcolor": "white",
          "polar": {
           "angularaxis": {
            "gridcolor": "rgb(232,232,232)",
            "linecolor": "rgb(36,36,36)",
            "showgrid": false,
            "showline": true,
            "ticks": "outside"
           },
           "bgcolor": "white",
           "radialaxis": {
            "gridcolor": "rgb(232,232,232)",
            "linecolor": "rgb(36,36,36)",
            "showgrid": false,
            "showline": true,
            "ticks": "outside"
           }
          },
          "scene": {
           "xaxis": {
            "backgroundcolor": "white",
            "gridcolor": "rgb(232,232,232)",
            "gridwidth": 2,
            "linecolor": "rgb(36,36,36)",
            "showbackground": true,
            "showgrid": false,
            "showline": true,
            "ticks": "outside",
            "zeroline": false,
            "zerolinecolor": "rgb(36,36,36)"
           },
           "yaxis": {
            "backgroundcolor": "white",
            "gridcolor": "rgb(232,232,232)",
            "gridwidth": 2,
            "linecolor": "rgb(36,36,36)",
            "showbackground": true,
            "showgrid": false,
            "showline": true,
            "ticks": "outside",
            "zeroline": false,
            "zerolinecolor": "rgb(36,36,36)"
           },
           "zaxis": {
            "backgroundcolor": "white",
            "gridcolor": "rgb(232,232,232)",
            "gridwidth": 2,
            "linecolor": "rgb(36,36,36)",
            "showbackground": true,
            "showgrid": false,
            "showline": true,
            "ticks": "outside",
            "zeroline": false,
            "zerolinecolor": "rgb(36,36,36)"
           }
          },
          "shapedefaults": {
           "fillcolor": "black",
           "line": {
            "width": 0
           },
           "opacity": 0.3
          },
          "ternary": {
           "aaxis": {
            "gridcolor": "rgb(232,232,232)",
            "linecolor": "rgb(36,36,36)",
            "showgrid": false,
            "showline": true,
            "ticks": "outside"
           },
           "baxis": {
            "gridcolor": "rgb(232,232,232)",
            "linecolor": "rgb(36,36,36)",
            "showgrid": false,
            "showline": true,
            "ticks": "outside"
           },
           "bgcolor": "white",
           "caxis": {
            "gridcolor": "rgb(232,232,232)",
            "linecolor": "rgb(36,36,36)",
            "showgrid": false,
            "showline": true,
            "ticks": "outside"
           }
          },
          "title": {
           "x": 0.05
          },
          "xaxis": {
           "automargin": true,
           "gridcolor": "rgb(232,232,232)",
           "linecolor": "rgb(36,36,36)",
           "showgrid": false,
           "showline": true,
           "ticks": "outside",
           "title": {
            "standoff": 15
           },
           "zeroline": false,
           "zerolinecolor": "rgb(36,36,36)"
          },
          "yaxis": {
           "automargin": true,
           "gridcolor": "rgb(232,232,232)",
           "linecolor": "rgb(36,36,36)",
           "showgrid": false,
           "showline": true,
           "ticks": "outside",
           "title": {
            "standoff": 15
           },
           "zeroline": false,
           "zerolinecolor": "rgb(36,36,36)"
          }
         }
        },
        "xaxis": {
         "anchor": "y",
         "autorange": true,
         "domain": [
          0,
          1
         ],
         "range": [
          -0.5,
          13.5
         ],
         "title": {
          "text": "Year"
         },
         "type": "multicategory"
        },
        "yaxis": {
         "anchor": "x",
         "autorange": true,
         "domain": [
          0,
          1
         ],
         "range": [
          0,
          28.56514153691231
         ],
         "title": {
          "text": "WAPD"
         },
         "type": "linear"
        }
       }
      },
      "image/png": "[encoded data removed]",
      "text/html": [
       "<div>                            <div id=\"718f93c7-af6d-4064-86d2-5cd0f2803268\" class=\"plotly-graph-div\" style=\"height:525px; width:100%;\"></div>            <script type=\"text/javascript\">                require([\"plotly\"], function(Plotly) {                    window.PLOTLYENV=window.PLOTLYENV || {};                                    if (document.getElementById(\"718f93c7-af6d-4064-86d2-5cd0f2803268\")) {                    Plotly.newPlot(                        \"718f93c7-af6d-4064-86d2-5cd0f2803268\",                        [{\"marker\":{\"color\":\"#2A66DE\"},\"name\":\"PD\",\"x\":[[2022,2022,2022,2022,2022,2023,2023,2023,2023,2023,2023,2023,2023,2023],[\"Aug\",\"Dec\",\"Nov\",\"Oct\",\"Sep\",\"Apr\",\"Aug\",\"Feb\",\"Jan\",\"Jul\",\"Jun\",\"Mar\",\"May\",\"Sep\"]],\"y\":[23.867747129898866,26.65552092318293,26.690332273399793,26.71810302195895,25.41733134649635,24.973905117051334,26.63266872540231,25.57133870427104,25.431741955328082,25.74129825986197,25.267626280532973,25.32881056259684,24.602889546295632,27.136884460066696],\"type\":\"bar\",\"xaxis\":\"x\",\"yaxis\":\"y\"},{\"marker\":{\"color\":\"#FFC32B\"},\"name\":\"PRMD\",\"x\":[[2022],[\"Nov\"]],\"y\":[26.71081111199409],\"type\":\"bar\",\"xaxis\":\"x\",\"yaxis\":\"y\"},{\"mode\":\"lines\",\"x\":[\"Nov\"],\"y\":[\"PRMD\"],\"type\":\"scatter\"}],                        {\"template\":{\"data\":{\"barpolar\":[{\"marker\":{\"line\":{\"color\":\"white\",\"width\":0.5},\"pattern\":{\"fillmode\":\"overlay\",\"size\":10,\"solidity\":0.2}},\"type\":\"barpolar\"}],\"bar\":[{\"error_x\":{\"color\":\"rgb(36,36,36)\"},\"error_y\":{\"color\":\"rgb(36,36,36)\"},\"marker\":{\"line\":{\"color\":\"white\",\"width\":0.5},\"pattern\":{\"fillmode\":\"overlay\",\"size\":10,\"solidity\":0.2}},\"type\":\"bar\"}],\"carpet\":[{\"aaxis\":{\"endlinecolor\":\"rgb(36,36,36)\",\"gridcolor\":\"white\",\"linecolor\":\"white\",\"minorgridcolor\":\"white\",\"startlinecolor\":\"rgb(36,36,36)\"},\"baxis\":{\"endlinecolor\":\"rgb(36,36,36)\",\"gridcolor\":\"white\",\"linecolor\":\"white\",\"minorgridcolor\":\"white\",\"startlinecolor\":\"rgb(36,36,36)\"},\"type\":\"carpet\"}],\"choropleth\":[{\"colorbar\":{\"outlinewidth\":1,\"tickcolor\":\"rgb(36,36,36)\",\"ticks\":\"outside\"},\"type\":\"choropleth\"}],\"contourcarpet\":[{\"colorbar\":{\"outlinewidth\":1,\"tickcolor\":\"rgb(36,36,36)\",\"ticks\":\"outside\"},\"type\":\"contourcarpet\"}],\"contour\":[{\"colorbar\":{\"outlinewidth\":1,\"tickcolor\":\"rgb(36,36,36)\",\"ticks\":\"outside\"},\"colorscale\":[[0.0,\"#440154\"],[0.1111111111111111,\"#482878\"],[0.2222222222222222,\"#3e4989\"],[0.3333333333333333,\"#31688e\"],[0.4444444444444444,\"#26828e\"],[0.5555555555555556,\"#1f9e89\"],[0.6666666666666666,\"#35b779\"],[0.7777777777777778,\"#6ece58\"],[0.8888888888888888,\"#b5de2b\"],[1.0,\"#fde725\"]],\"type\":\"contour\"}],\"heatmapgl\":[{\"colorbar\":{\"outlinewidth\":1,\"tickcolor\":\"rgb(36,36,36)\",\"ticks\":\"outside\"},\"colorscale\":[[0.0,\"#440154\"],[0.1111111111111111,\"#482878\"],[0.2222222222222222,\"#3e4989\"],[0.3333333333333333,\"#31688e\"],[0.4444444444444444,\"#26828e\"],[0.5555555555555556,\"#1f9e89\"],[0.6666666666666666,\"#35b779\"],[0.7777777777777778,\"#6ece58\"],[0.8888888888888888,\"#b5de2b\"],[1.0,\"#fde725\"]],\"type\":\"heatmapgl\"}],\"heatmap\":[{\"colorbar\":{\"outlinewidth\":1,\"tickcolor\":\"rgb(36,36,36)\",\"ticks\":\"outside\"},\"colorscale\":[[0.0,\"#440154\"],[0.1111111111111111,\"#482878\"],[0.2222222222222222,\"#3e4989\"],[0.3333333333333333,\"#31688e\"],[0.4444444444444444,\"#26828e\"],[0.5555555555555556,\"#1f9e89\"],[0.6666666666666666,\"#35b779\"],[0.7777777777777778,\"#6ece58\"],[0.8888888888888888,\"#b5de2b\"],[1.0,\"#fde725\"]],\"type\":\"heatmap\"}],\"histogram2dcontour\":[{\"colorbar\":{\"outlinewidth\":1,\"tickcolor\":\"rgb(36,36,36)\",\"ticks\":\"outside\"},\"colorscale\":[[0.0,\"#440154\"],[0.1111111111111111,\"#482878\"],[0.2222222222222222,\"#3e4989\"],[0.3333333333333333,\"#31688e\"],[0.4444444444444444,\"#26828e\"],[0.5555555555555556,\"#1f9e89\"],[0.6666666666666666,\"#35b779\"],[0.7777777777777778,\"#6ece58\"],[0.8888888888888888,\"#b5de2b\"],[1.0,\"#fde725\"]],\"type\":\"histogram2dcontour\"}],\"histogram2d\":[{\"colorbar\":{\"outlinewidth\":1,\"tickcolor\":\"rgb(36,36,36)\",\"ticks\":\"outside\"},\"colorscale\":[[0.0,\"#440154\"],[0.1111111111111111,\"#482878\"],[0.2222222222222222,\"#3e4989\"],[0.3333333333333333,\"#31688e\"],[0.4444444444444444,\"#26828e\"],[0.5555555555555556,\"#1f9e89\"],[0.6666666666666666,\"#35b779\"],[0.7777777777777778,\"#6ece58\"],[0.8888888888888888,\"#b5de2b\"],[1.0,\"#fde725\"]],\"type\":\"histogram2d\"}],\"histogram\":[{\"marker\":{\"line\":{\"color\":\"white\",\"width\":0.6}},\"type\":\"histogram\"}],\"mesh3d\":[{\"colorbar\":{\"outlinewidth\":1,\"tickcolor\":\"rgb(36,36,36)\",\"ticks\":\"outside\"},\"type\":\"mesh3d\"}],\"parcoords\":[{\"line\":{\"colorbar\":{\"outlinewidth\":1,\"tickcolor\":\"rgb(36,36,36)\",\"ticks\":\"outside\"}},\"type\":\"parcoords\"}],\"pie\":[{\"automargin\":true,\"type\":\"pie\"}],\"scatter3d\":[{\"line\":{\"colorbar\":{\"outlinewidth\":1,\"tickcolor\":\"rgb(36,36,36)\",\"ticks\":\"outside\"}},\"marker\":{\"colorbar\":{\"outlinewidth\":1,\"tickcolor\":\"rgb(36,36,36)\",\"ticks\":\"outside\"}},\"type\":\"scatter3d\"}],\"scattercarpet\":[{\"marker\":{\"colorbar\":{\"outlinewidth\":1,\"tickcolor\":\"rgb(36,36,36)\",\"ticks\":\"outside\"}},\"type\":\"scattercarpet\"}],\"scattergeo\":[{\"marker\":{\"colorbar\":{\"outlinewidth\":1,\"tickcolor\":\"rgb(36,36,36)\",\"ticks\":\"outside\"}},\"type\":\"scattergeo\"}],\"scattergl\":[{\"marker\":{\"colorbar\":{\"outlinewidth\":1,\"tickcolor\":\"rgb(36,36,36)\",\"ticks\":\"outside\"}},\"type\":\"scattergl\"}],\"scattermapbox\":[{\"marker\":{\"colorbar\":{\"outlinewidth\":1,\"tickcolor\":\"rgb(36,36,36)\",\"ticks\":\"outside\"}},\"type\":\"scattermapbox\"}],\"scatterpolargl\":[{\"marker\":{\"colorbar\":{\"outlinewidth\":1,\"tickcolor\":\"rgb(36,36,36)\",\"ticks\":\"outside\"}},\"type\":\"scatterpolargl\"}],\"scatterpolar\":[{\"marker\":{\"colorbar\":{\"outlinewidth\":1,\"tickcolor\":\"rgb(36,36,36)\",\"ticks\":\"outside\"}},\"type\":\"scatterpolar\"}],\"scatter\":[{\"fillpattern\":{\"fillmode\":\"overlay\",\"size\":10,\"solidity\":0.2},\"type\":\"scatter\"}],\"scatterternary\":[{\"marker\":{\"colorbar\":{\"outlinewidth\":1,\"tickcolor\":\"rgb(36,36,36)\",\"ticks\":\"outside\"}},\"type\":\"scatterternary\"}],\"surface\":[{\"colorbar\":{\"outlinewidth\":1,\"tickcolor\":\"rgb(36,36,36)\",\"ticks\":\"outside\"},\"colorscale\":[[0.0,\"#440154\"],[0.1111111111111111,\"#482878\"],[0.2222222222222222,\"#3e4989\"],[0.3333333333333333,\"#31688e\"],[0.4444444444444444,\"#26828e\"],[0.5555555555555556,\"#1f9e89\"],[0.6666666666666666,\"#35b779\"],[0.7777777777777778,\"#6ece58\"],[0.8888888888888888,\"#b5de2b\"],[1.0,\"#fde725\"]],\"type\":\"surface\"}],\"table\":[{\"cells\":{\"fill\":{\"color\":\"rgb(237,237,237)\"},\"line\":{\"color\":\"white\"}},\"header\":{\"fill\":{\"color\":\"rgb(217,217,217)\"},\"line\":{\"color\":\"white\"}},\"type\":\"table\"}]},\"layout\":{\"annotationdefaults\":{\"arrowhead\":0,\"arrowwidth\":1},\"autotypenumbers\":\"strict\",\"coloraxis\":{\"colorbar\":{\"outlinewidth\":1,\"tickcolor\":\"rgb(36,36,36)\",\"ticks\":\"outside\"}},\"colorscale\":{\"diverging\":[[0.0,\"rgb(103,0,31)\"],[0.1,\"rgb(178,24,43)\"],[0.2,\"rgb(214,96,77)\"],[0.3,\"rgb(244,165,130)\"],[0.4,\"rgb(253,219,199)\"],[0.5,\"rgb(247,247,247)\"],[0.6,\"rgb(209,229,240)\"],[0.7,\"rgb(146,197,222)\"],[0.8,\"rgb(67,147,195)\"],[0.9,\"rgb(33,102,172)\"],[1.0,\"rgb(5,48,97)\"]],\"sequential\":[[0.0,\"#440154\"],[0.1111111111111111,\"#482878\"],[0.2222222222222222,\"#3e4989\"],[0.3333333333333333,\"#31688e\"],[0.4444444444444444,\"#26828e\"],[0.5555555555555556,\"#1f9e89\"],[0.6666666666666666,\"#35b779\"],[0.7777777777777778,\"#6ece58\"],[0.8888888888888888,\"#b5de2b\"],[1.0,\"#fde725\"]],\"sequentialminus\":[[0.0,\"#440154\"],[0.1111111111111111,\"#482878\"],[0.2222222222222222,\"#3e4989\"],[0.3333333333333333,\"#31688e\"],[0.4444444444444444,\"#26828e\"],[0.5555555555555556,\"#1f9e89\"],[0.6666666666666666,\"#35b779\"],[0.7777777777777778,\"#6ece58\"],[0.8888888888888888,\"#b5de2b\"],[1.0,\"#fde725\"]]},\"colorway\":[\"#1F77B4\",\"#FF7F0E\",\"#2CA02C\",\"#D62728\",\"#9467BD\",\"#8C564B\",\"#E377C2\",\"#7F7F7F\",\"#BCBD22\",\"#17BECF\"],\"font\":{\"color\":\"rgb(36,36,36)\"},\"geo\":{\"bgcolor\":\"white\",\"lakecolor\":\"white\",\"landcolor\":\"white\",\"showlakes\":true,\"showland\":true,\"subunitcolor\":\"white\"},\"hoverlabel\":{\"align\":\"left\"},\"hovermode\":\"closest\",\"mapbox\":{\"style\":\"light\"},\"paper_bgcolor\":\"white\",\"plot_bgcolor\":\"white\",\"polar\":{\"angularaxis\":{\"gridcolor\":\"rgb(232,232,232)\",\"linecolor\":\"rgb(36,36,36)\",\"showgrid\":false,\"showline\":true,\"ticks\":\"outside\"},\"bgcolor\":\"white\",\"radialaxis\":{\"gridcolor\":\"rgb(232,232,232)\",\"linecolor\":\"rgb(36,36,36)\",\"showgrid\":false,\"showline\":true,\"ticks\":\"outside\"}},\"scene\":{\"xaxis\":{\"backgroundcolor\":\"white\",\"gridcolor\":\"rgb(232,232,232)\",\"gridwidth\":2,\"linecolor\":\"rgb(36,36,36)\",\"showbackground\":true,\"showgrid\":false,\"showline\":true,\"ticks\":\"outside\",\"zeroline\":false,\"zerolinecolor\":\"rgb(36,36,36)\"},\"yaxis\":{\"backgroundcolor\":\"white\",\"gridcolor\":\"rgb(232,232,232)\",\"gridwidth\":2,\"linecolor\":\"rgb(36,36,36)\",\"showbackground\":true,\"showgrid\":false,\"showline\":true,\"ticks\":\"outside\",\"zeroline\":false,\"zerolinecolor\":\"rgb(36,36,36)\"},\"zaxis\":{\"backgroundcolor\":\"white\",\"gridcolor\":\"rgb(232,232,232)\",\"gridwidth\":2,\"linecolor\":\"rgb(36,36,36)\",\"showbackground\":true,\"showgrid\":false,\"showline\":true,\"ticks\":\"outside\",\"zeroline\":false,\"zerolinecolor\":\"rgb(36,36,36)\"}},\"shapedefaults\":{\"fillcolor\":\"black\",\"line\":{\"width\":0},\"opacity\":0.3},\"ternary\":{\"aaxis\":{\"gridcolor\":\"rgb(232,232,232)\",\"linecolor\":\"rgb(36,36,36)\",\"showgrid\":false,\"showline\":true,\"ticks\":\"outside\"},\"baxis\":{\"gridcolor\":\"rgb(232,232,232)\",\"linecolor\":\"rgb(36,36,36)\",\"showgrid\":false,\"showline\":true,\"ticks\":\"outside\"},\"bgcolor\":\"white\",\"caxis\":{\"gridcolor\":\"rgb(232,232,232)\",\"linecolor\":\"rgb(36,36,36)\",\"showgrid\":false,\"showline\":true,\"ticks\":\"outside\"}},\"title\":{\"x\":0.05},\"xaxis\":{\"automargin\":true,\"gridcolor\":\"rgb(232,232,232)\",\"linecolor\":\"rgb(36,36,36)\",\"showgrid\":false,\"showline\":true,\"ticks\":\"outside\",\"title\":{\"standoff\":15},\"zeroline\":false,\"zerolinecolor\":\"rgb(36,36,36)\"},\"yaxis\":{\"automargin\":true,\"gridcolor\":\"rgb(232,232,232)\",\"linecolor\":\"rgb(36,36,36)\",\"showgrid\":false,\"showline\":true,\"ticks\":\"outside\",\"title\":{\"standoff\":15},\"zeroline\":false,\"zerolinecolor\":\"rgb(36,36,36)\"}}},\"xaxis\":{\"anchor\":\"y\",\"domain\":[0.0,1.0],\"title\":{\"text\":\"Year\"}},\"yaxis\":{\"anchor\":\"x\",\"domain\":[0.0,1.0],\"title\":{\"text\":\"WAPD\"}},\"barmode\":\"group\"},                        {\"responsive\": true}                    ).then(function(){\n",
       "                            \n",
       "var gd = document.getElementById('718f93c7-af6d-4064-86d2-5cd0f2803268');\n",
       "var x = new MutationObserver(function (mutations, observer) {{\n",
       "        var display = window.getComputedStyle(gd).display;\n",
       "        if (!display || display === 'none') {{\n",
       "            console.log([gd, 'removed!']);\n",
       "            Plotly.purge(gd);\n",
       "            observer.disconnect();\n",
       "        }}\n",
       "}});\n",
       "\n",
       "// Listen for the removal of the full notebook cells\n",
       "var notebookContainer = gd.closest('#notebook-container');\n",
       "if (notebookContainer) {{\n",
       "    x.observe(notebookContainer, {childList: true});\n",
       "}}\n",
       "\n",
       "// Listen for the clearing of the current output cell\n",
       "var outputEl = gd.closest('.output');\n",
       "if (outputEl) {{\n",
       "    x.observe(outputEl, {childList: true});\n",
       "}}\n",
       "\n",
       "                        })                };                });            </script>        </div>"
      ]
     },
     "metadata": {},
     "output_type": "display_data"
    }
   ],
   "source": [
    "import plotly.graph_objects as go\n",
    "from plotly.subplots import make_subplots\n",
    "import plotly.graph_objects as go\n",
    "# fig = go.Figure()\n",
    "fig = make_subplots(1,1)\n",
    "\n",
    "fig.update_layout(\n",
    "    template=\"simple_white\",\n",
    "    xaxis=dict(title_text=\"Year\"),\n",
    "    yaxis=dict(title_text=\"WAPD\"),\n",
    "    barmode=\"group\",\n",
    ")\n",
    "\n",
    "colors = [\"#2A66DE\", \"#FFC32B\"]\n",
    "# fig.add_trace(go.Scatter(x=dff['month'], y=dff['CCA'], line=dict(color='red'), name='DSO term'),\n",
    "#               row = 1, col = 1)\n",
    "\n",
    "for r, c in zip(dff.CCA.unique(), colors):\n",
    "    plot_df = dff[dff.CCA == r]\n",
    "    fig.add_trace(go.Bar(x=[plot_df.year, plot_df.month], y=plot_df.WAPD, name=r, marker_color=c),\n",
    "              row = 1, col = 1)\n",
    "# fig.add_hline(y=30.00,name = \"DSO Term\")\n",
    "\n",
    "    \n",
    "fig.add_traces(go.Scatter(x= plot_df.month, y=plot_df.CCA, mode = 'lines'))\n",
    "\n",
    "\n",
    "# fig.plot(fi.CC_DAYS_TO_ADD, c = \"y\", label = \"DSO Term\",zorder=10)\n",
    "fig.show()"
   ]
  },
  {
   "cell_type": "code",
   "execution_count": 217,
   "id": "89e1a756-1fa5-4ddb-8074-fa79cc567e0c",
   "metadata": {},
   "outputs": [
    {
     "data": {
      "application/vnd.plotly.v1+json": {
       "config": {
        "plotlyServerURL": "https://plot.ly"
       },
       "data": [
        {
         "marker": {
          "color": "#456e73"
         },
         "name": "PD",
         "type": "bar",
         "x": [
          [
           2022,
           2022,
           2022,
           2022,
           2022,
           2023,
           2023,
           2023,
           2023,
           2023,
           2023,
           2023,
           2023,
           2023
          ],
          [
           "Aug",
           "Dec",
           "Nov",
           "Oct",
           "Sep",
           "Apr",
           "Aug",
           "Feb",
           "Jan",
           "Jul",
           "Jun",
           "Mar",
           "May",
           "Sep"
          ]
         ],
         "y": [
          23.867747129898866,
          26.65552092318293,
          26.690332273399793,
          26.71810302195895,
          25.41733134649635,
          24.973905117051334,
          26.63266872540231,
          25.57133870427104,
          25.431741955328082,
          25.74129825986197,
          25.267626280532973,
          25.32881056259684,
          24.602889546295632,
          27.136884460066696
         ]
        },
        {
         "marker": {
          "color": "#2A66DE"
         },
         "name": "PRMD",
         "type": "bar",
         "x": [
          [
           2022
          ],
          [
           "Nov"
          ]
         ],
         "y": [
          26.71081111199409
         ]
        },
        {
         "mode": "lines",
         "name": "DSO Term",
         "type": "scatter",
         "x": [
          [
           2022,
           2022,
           2022,
           2022,
           2022,
           2022,
           2023,
           2023,
           2023,
           2023,
           2023,
           2023,
           2023,
           2023,
           2023
          ],
          [
           "Aug",
           "Dec",
           "Nov",
           "Nov",
           "Oct",
           "Sep",
           "Apr",
           "Aug",
           "Feb",
           "Jan",
           "Jul",
           "Jun",
           "Mar",
           "May",
           "Sep"
          ]
         ],
         "y": [
          30,
          30,
          30,
          30,
          30,
          30,
          30,
          30,
          30,
          30,
          30,
          30,
          30,
          30,
          30
         ]
        }
       ],
       "layout": {
        "autosize": true,
        "barmode": "group",
        "template": {
         "data": {
          "scatter": [
           {
            "type": "scatter"
           }
          ]
         }
        },
        "title": {
         "text": "WAPD for EAN: 7100007382"
        },
        "xaxis": {
         "autorange": true,
         "range": [
          -0.5,
          13.5
         ],
         "title": {
          "text": "Year"
         },
         "type": "multicategory"
        },
        "yaxis": {
         "autorange": true,
         "range": [
          0,
          31.57894736842105
         ],
         "title": {
          "text": "WAPD"
         },
         "type": "linear"
        }
       }
      },
      "image/png": "[encoded data removed]",
      "text/html": [
       "<div>                            <div id=\"343d8c2d-edf6-4ad2-84a2-0dba68067036\" class=\"plotly-graph-div\" style=\"height:525px; width:100%;\"></div>            <script type=\"text/javascript\">                require([\"plotly\"], function(Plotly) {                    window.PLOTLYENV=window.PLOTLYENV || {};                                    if (document.getElementById(\"343d8c2d-edf6-4ad2-84a2-0dba68067036\")) {                    Plotly.newPlot(                        \"343d8c2d-edf6-4ad2-84a2-0dba68067036\",                        [{\"marker\":{\"color\":\"#456e73\"},\"name\":\"PD\",\"x\":[[2022,2022,2022,2022,2022,2023,2023,2023,2023,2023,2023,2023,2023,2023],[\"Aug\",\"Dec\",\"Nov\",\"Oct\",\"Sep\",\"Apr\",\"Aug\",\"Feb\",\"Jan\",\"Jul\",\"Jun\",\"Mar\",\"May\",\"Sep\"]],\"y\":[23.867747129898866,26.65552092318293,26.690332273399793,26.71810302195895,25.41733134649635,24.973905117051334,26.63266872540231,25.57133870427104,25.431741955328082,25.74129825986197,25.267626280532973,25.32881056259684,24.602889546295632,27.136884460066696],\"type\":\"bar\"},{\"marker\":{\"color\":\"#2A66DE\"},\"name\":\"PRMD\",\"x\":[[2022],[\"Nov\"]],\"y\":[26.71081111199409],\"type\":\"bar\"},{\"mode\":\"lines\",\"name\":\"DSO Term\",\"x\":[[2022,2022,2022,2022,2022,2022,2023,2023,2023,2023,2023,2023,2023,2023,2023],[\"Aug\",\"Dec\",\"Nov\",\"Nov\",\"Oct\",\"Sep\",\"Apr\",\"Aug\",\"Feb\",\"Jan\",\"Jul\",\"Jun\",\"Mar\",\"May\",\"Sep\"]],\"y\":[30.0,30.0,30.0,30.0,30.0,30.0,30.0,30.0,30.0,30.0,30.0,30.0,30.0,30.0,30.0],\"type\":\"scatter\"}],                        {\"template\":{\"data\":{\"scatter\":[{\"type\":\"scatter\"}]}},\"xaxis\":{\"title\":{\"text\":\"Year\"}},\"yaxis\":{\"title\":{\"text\":\"WAPD\"}},\"barmode\":\"group\",\"title\":{\"text\":\"WAPD for EAN: 7100007382\"}},                        {\"responsive\": true}                    ).then(function(){\n",
       "                            \n",
       "var gd = document.getElementById('343d8c2d-edf6-4ad2-84a2-0dba68067036');\n",
       "var x = new MutationObserver(function (mutations, observer) {{\n",
       "        var display = window.getComputedStyle(gd).display;\n",
       "        if (!display || display === 'none') {{\n",
       "            console.log([gd, 'removed!']);\n",
       "            Plotly.purge(gd);\n",
       "            observer.disconnect();\n",
       "        }}\n",
       "}});\n",
       "\n",
       "// Listen for the removal of the full notebook cells\n",
       "var notebookContainer = gd.closest('#notebook-container');\n",
       "if (notebookContainer) {{\n",
       "    x.observe(notebookContainer, {childList: true});\n",
       "}}\n",
       "\n",
       "// Listen for the clearing of the current output cell\n",
       "var outputEl = gd.closest('.output');\n",
       "if (outputEl) {{\n",
       "    x.observe(outputEl, {childList: true});\n",
       "}}\n",
       "\n",
       "                        })                };                });            </script>        </div>"
      ]
     },
     "metadata": {},
     "output_type": "display_data"
    }
   ],
   "source": [
    "from plotly.subplots import make_subplots\n",
    "import plotly.express as px\n",
    "import plotly.graph_objects as go\n",
    "fig = go.Figure()\n",
    "# fig = make_subplots(1,1)\n",
    "\n",
    "fig.update_layout(\n",
    "    template=\"none\",\n",
    "    xaxis=dict(title_text=\"Year\"),\n",
    "    yaxis=dict(title_text=\"WAPD\"),\n",
    "    barmode=\"group\",\n",
    ")\n",
    "\n",
    "colors = [\"#456e73\",\"#2A66DE\", \"#FFC32B\",\"#457353\"]\n",
    "\n",
    "for r, c in zip(dff.CCA.unique(), colors):\n",
    "    plot_df = dff[dff.CCA == r]\n",
    "    fig.add_trace(go.Bar(x=[plot_df.year, plot_df.month], y=plot_df.WAPD, name=r, marker_color=c))\n",
    "\n",
    "    \n",
    "fig.add_trace(go.Scatter(x= [dff.year, dff.month], y=dff.dso_term, mode = 'lines',name = \"DSO Term\"))\n",
    "\n",
    "\n",
    "# fig.plot(fi.CC_DAYS_TO_ADD, c = \"y\", label = \"DSO Term\",zorder=10)\n",
    "fig.update_layout(title='WAPD for EAN: '+EAN)\n",
    "fig.show()"
   ]
  },
  {
   "cell_type": "code",
   "execution_count": 210,
   "id": "60e17570-a5a0-4fd1-9b60-7186e68d0a3f",
   "metadata": {},
   "outputs": [
    {
     "data": {
      "text/html": [
       "<div>\n",
       "<style scoped>\n",
       "    .dataframe tbody tr th:only-of-type {\n",
       "        vertical-align: middle;\n",
       "    }\n",
       "\n",
       "    .dataframe tbody tr th {\n",
       "        vertical-align: top;\n",
       "    }\n",
       "\n",
       "    .dataframe thead th {\n",
       "        text-align: right;\n",
       "    }\n",
       "</style>\n",
       "<table border=\"1\" class=\"dataframe\">\n",
       "  <thead>\n",
       "    <tr style=\"text-align: right;\">\n",
       "      <th></th>\n",
       "      <th>year</th>\n",
       "      <th>month</th>\n",
       "      <th>CCA</th>\n",
       "      <th>WAPD</th>\n",
       "      <th>dso_term</th>\n",
       "    </tr>\n",
       "  </thead>\n",
       "  <tbody>\n",
       "    <tr>\n",
       "      <th>0</th>\n",
       "      <td>2022</td>\n",
       "      <td>Aug</td>\n",
       "      <td>PD</td>\n",
       "      <td>23.8677</td>\n",
       "      <td>30.0000</td>\n",
       "    </tr>\n",
       "    <tr>\n",
       "      <th>1</th>\n",
       "      <td>2022</td>\n",
       "      <td>Dec</td>\n",
       "      <td>PD</td>\n",
       "      <td>26.6555</td>\n",
       "      <td>30.0000</td>\n",
       "    </tr>\n",
       "    <tr>\n",
       "      <th>2</th>\n",
       "      <td>2022</td>\n",
       "      <td>Nov</td>\n",
       "      <td>PD</td>\n",
       "      <td>26.6903</td>\n",
       "      <td>30.0000</td>\n",
       "    </tr>\n",
       "    <tr>\n",
       "      <th>3</th>\n",
       "      <td>2022</td>\n",
       "      <td>Nov</td>\n",
       "      <td>PRMD</td>\n",
       "      <td>26.7108</td>\n",
       "      <td>30.0000</td>\n",
       "    </tr>\n",
       "    <tr>\n",
       "      <th>4</th>\n",
       "      <td>2022</td>\n",
       "      <td>Oct</td>\n",
       "      <td>PD</td>\n",
       "      <td>26.7181</td>\n",
       "      <td>30.0000</td>\n",
       "    </tr>\n",
       "    <tr>\n",
       "      <th>5</th>\n",
       "      <td>2022</td>\n",
       "      <td>Sep</td>\n",
       "      <td>PD</td>\n",
       "      <td>25.4173</td>\n",
       "      <td>30.0000</td>\n",
       "    </tr>\n",
       "    <tr>\n",
       "      <th>6</th>\n",
       "      <td>2023</td>\n",
       "      <td>Apr</td>\n",
       "      <td>PD</td>\n",
       "      <td>24.9739</td>\n",
       "      <td>30.0000</td>\n",
       "    </tr>\n",
       "    <tr>\n",
       "      <th>7</th>\n",
       "      <td>2023</td>\n",
       "      <td>Aug</td>\n",
       "      <td>PD</td>\n",
       "      <td>26.6327</td>\n",
       "      <td>30.0000</td>\n",
       "    </tr>\n",
       "    <tr>\n",
       "      <th>8</th>\n",
       "      <td>2023</td>\n",
       "      <td>Feb</td>\n",
       "      <td>PD</td>\n",
       "      <td>25.5713</td>\n",
       "      <td>30.0000</td>\n",
       "    </tr>\n",
       "    <tr>\n",
       "      <th>9</th>\n",
       "      <td>2023</td>\n",
       "      <td>Jan</td>\n",
       "      <td>PD</td>\n",
       "      <td>25.4317</td>\n",
       "      <td>30.0000</td>\n",
       "    </tr>\n",
       "    <tr>\n",
       "      <th>10</th>\n",
       "      <td>2023</td>\n",
       "      <td>Jul</td>\n",
       "      <td>PD</td>\n",
       "      <td>25.7413</td>\n",
       "      <td>30.0000</td>\n",
       "    </tr>\n",
       "    <tr>\n",
       "      <th>11</th>\n",
       "      <td>2023</td>\n",
       "      <td>Jun</td>\n",
       "      <td>PD</td>\n",
       "      <td>25.2676</td>\n",
       "      <td>30.0000</td>\n",
       "    </tr>\n",
       "    <tr>\n",
       "      <th>12</th>\n",
       "      <td>2023</td>\n",
       "      <td>Mar</td>\n",
       "      <td>PD</td>\n",
       "      <td>25.3288</td>\n",
       "      <td>30.0000</td>\n",
       "    </tr>\n",
       "    <tr>\n",
       "      <th>13</th>\n",
       "      <td>2023</td>\n",
       "      <td>May</td>\n",
       "      <td>PD</td>\n",
       "      <td>24.6029</td>\n",
       "      <td>30.0000</td>\n",
       "    </tr>\n",
       "    <tr>\n",
       "      <th>14</th>\n",
       "      <td>2023</td>\n",
       "      <td>Sep</td>\n",
       "      <td>PD</td>\n",
       "      <td>27.1369</td>\n",
       "      <td>30.0000</td>\n",
       "    </tr>\n",
       "  </tbody>\n",
       "</table>\n",
       "</div>"
      ],
      "text/plain": [
       "    year month   CCA    WAPD  dso_term\n",
       "0   2022   Aug    PD 23.8677   30.0000\n",
       "1   2022   Dec    PD 26.6555   30.0000\n",
       "2   2022   Nov    PD 26.6903   30.0000\n",
       "3   2022   Nov  PRMD 26.7108   30.0000\n",
       "4   2022   Oct    PD 26.7181   30.0000\n",
       "5   2022   Sep    PD 25.4173   30.0000\n",
       "6   2023   Apr    PD 24.9739   30.0000\n",
       "7   2023   Aug    PD 26.6327   30.0000\n",
       "8   2023   Feb    PD 25.5713   30.0000\n",
       "9   2023   Jan    PD 25.4317   30.0000\n",
       "10  2023   Jul    PD 25.7413   30.0000\n",
       "11  2023   Jun    PD 25.2676   30.0000\n",
       "12  2023   Mar    PD 25.3288   30.0000\n",
       "13  2023   May    PD 24.6029   30.0000\n",
       "14  2023   Sep    PD 27.1369   30.0000"
      ]
     },
     "execution_count": 210,
     "metadata": {},
     "output_type": "execute_result"
    }
   ],
   "source": [
    "dff"
   ]
  },
  {
   "cell_type": "code",
   "execution_count": null,
   "id": "a608b214-6533-4272-89fc-af6824ee86ed",
   "metadata": {},
   "outputs": [],
   "source": []
  },
  {
   "cell_type": "code",
   "execution_count": null,
   "id": "199a3f3e-081e-4323-8614-855cf1003361",
   "metadata": {},
   "outputs": [],
   "source": []
  },
  {
   "cell_type": "code",
   "execution_count": null,
   "id": "53deccd4-6ef7-452f-84aa-132dc800b59e",
   "metadata": {},
   "outputs": [],
   "source": []
  },
  {
   "cell_type": "code",
   "execution_count": null,
   "id": "1b9412ed-6cb5-45c8-9c3e-ceac3c1a90fa",
   "metadata": {
    "tags": []
   },
   "outputs": [],
   "source": [
    "width = 0.8\n",
    "for i, fruit in enumerate(fruits):\n",
    "    # print(fruit) YEAR\n",
    "    for j, year in enumerate(years):\n",
    "        # print(year) MONTH\n",
    "        plt.bar(i + width / num_years * (j - (num_years - 1) / 2),\n",
    "                df[(df['Year'] == fruit) & (df['Month'] == year)]['WAPD'],\n",
    "                width / num_years, color='skyblue', ec='white')\n",
    "plt.xticks([i + width / num_years * (j - (num_years - 1) / 2) \n",
    "            for i in range(num_fruit) for j in range(num_years)],\n",
    "           np.tile(years, num_fruit), rotation=45)\n",
    "# plt.figure(figsize=(300,6))\n",
    "ax = plt.gca()\n",
    "ax.yaxis.set_major_locator(MultipleLocator(1))\n",
    "ax.yaxis.set_minor_locator(MultipleLocator(0.2))\n",
    "ax.grid(True, axis='y')\n",
    "ax.autoscale(False, axis='y')\n",
    "trans = blended_transform_factory(ax.transData, ax.transAxes)\n",
    "for i, fruit in enumerate(fruits):\n",
    "    ax.text(i, -0.2, fruit, transform=trans, ha='center')\n",
    "    if i != 0:\n",
    "        ax.vlines(i - 0.5, 0, -0.3, color='lightgrey', clip_on=False, transform=trans)\n",
    "plt.tight_layout()\n",
    "# print(df)\n",
    "# figure(figsize=(8, 6), dpi=80)\n",
    "plt.show()"
   ]
  },
  {
   "cell_type": "code",
   "execution_count": null,
   "id": "6d7c61be-8acd-4e2e-b831-c6c4a7cb741e",
   "metadata": {
    "jupyter": {
     "source_hidden": true
    },
    "tags": []
   },
   "outputs": [],
   "source": [
    "import matplotlib.pyplot as plt\n",
    "from matplotlib.transforms import blended_transform_factory\n",
    "from matplotlib.ticker import MultipleLocator\n",
    "import numpy as np\n",
    "import pandas as pd\n",
    "import seaborn as sns\n",
    "\n",
    "fruits = ['apples', 'pears', 'nectarines', 'plums', 'grapes', 'strawberries']\n",
    "years = [2015, 2016, 2017]\n",
    "num_fruit = len(fruits)\n",
    "num_years = len(years)\n",
    "df = pd.DataFrame({'fruit': np.tile(fruits, num_years),\n",
    "                   'year': np.repeat(years, num_fruit),\n",
    "                   'value': np.random.randint(1, 8, num_fruit * num_years)})\n",
    "\n",
    "width = 0.8\n",
    "for i, fruit in enumerate(fruits):\n",
    "    for j, year in enumerate(years):\n",
    "        plt.bar(i + width / num_years * (j - (num_years - 1) / 2),\n",
    "                df[(df['fruit'] == fruit) & (df['year'] == year)]['value'],\n",
    "                width / num_years, color='skyblue', ec='white')\n",
    "plt.xticks([i + width / num_years * (j - (num_years - 1) / 2) for i in range(num_fruit) for j in range(num_years)],\n",
    "           np.tile(years, num_fruit), rotation=45)\n",
    "ax = plt.gca()\n",
    "ax.yaxis.set_major_locator(MultipleLocator(1))\n",
    "ax.yaxis.set_minor_locator(MultipleLocator(0.2))\n",
    "ax.grid(True, axis='y')\n",
    "ax.autoscale(False, axis='y')\n",
    "trans = blended_transform_factory(ax.transData, ax.transAxes)\n",
    "for i, fruit in enumerate(fruits):\n",
    "    ax.text(i, -0.2, fruit, transform=trans, ha='center')\n",
    "    if i != 0:\n",
    "        ax.vlines(i - 0.5, 0, -0.3, color='lightgrey', clip_on=False, transform=trans)\n",
    "plt.tight_layout()\n",
    "print(df)\n",
    "plt.show()"
   ]
  },
  {
   "cell_type": "code",
   "execution_count": null,
   "id": "86fc756e-7bd5-45c7-a2cf-10571c86353d",
   "metadata": {},
   "outputs": [],
   "source": []
  },
  {
   "cell_type": "code",
   "execution_count": null,
   "id": "d1f3cf6c-0109-4827-afe7-a2024a96d59d",
   "metadata": {},
   "outputs": [],
   "source": []
  },
  {
   "cell_type": "code",
   "execution_count": null,
   "id": "f986a7dc-2051-4247-a108-846b170f62c8",
   "metadata": {},
   "outputs": [],
   "source": []
  },
  {
   "cell_type": "code",
   "execution_count": null,
   "id": "dfd3b7a8-85e5-486b-b41b-a7e90b6ed182",
   "metadata": {},
   "outputs": [],
   "source": []
  },
  {
   "cell_type": "code",
   "execution_count": null,
   "id": "2b664964-787d-4e24-865c-b0a12ad5581a",
   "metadata": {},
   "outputs": [],
   "source": []
  },
  {
   "cell_type": "code",
   "execution_count": null,
   "id": "4f3681fc-e6c1-4bb4-97d9-b2305beddf42",
   "metadata": {},
   "outputs": [],
   "source": []
  },
  {
   "cell_type": "code",
   "execution_count": null,
   "id": "270b04e4-250c-4802-b918-e68c62772f3f",
   "metadata": {},
   "outputs": [],
   "source": []
  },
  {
   "cell_type": "code",
   "execution_count": null,
   "id": "45fd2f92-d18d-498a-9cdb-9b1c20ac9e30",
   "metadata": {
    "tags": []
   },
   "outputs": [],
   "source": [
    "four=search_EAN(s[0])\n",
    "thirty=search_EAN(s[1])\n",
    "ninty=search_EAN(s[2])\n",
    "sixty=search_EAN(s[3])\n",
    "\n"
   ]
  },
  {
   "cell_type": "code",
   "execution_count": null,
   "id": "4a6cc73e-2fdd-4cc0-a8f9-bb3767f5fc5a",
   "metadata": {},
   "outputs": [],
   "source": [
    "four.CREDIT_CONTROL_AREA.unique()"
   ]
  },
  {
   "cell_type": "code",
   "execution_count": null,
   "id": "49093cd9-5755-44cd-ad97-e92f05b34161",
   "metadata": {
    "tags": []
   },
   "outputs": [],
   "source": [
    "sixty"
   ]
  },
  {
   "cell_type": "code",
   "execution_count": null,
   "id": "c9f5b840-2780-43d3-90d1-cab976cf0e7c",
   "metadata": {},
   "outputs": [],
   "source": [
    "four['month'] = four['PAYMENT_DATE'].dt.strftime('%b')\n",
    "thirty['month'] = thirty['PAYMENT_DATE'].dt.strftime('%b')\n",
    "sixty['month'] = sixty['PAYMENT_DATE'].dt.strftime('%b')\n",
    "ninty['month'] = ninty['PAYMENT_DATE'].dt.strftime('%b')"
   ]
  },
  {
   "cell_type": "code",
   "execution_count": null,
   "id": "96d6dcaa-6a1a-4e2d-a2a0-fbf824c31ec7",
   "metadata": {},
   "outputs": [],
   "source": [
    "year_order = ['Jan','Feb','Mar','Apr','May','Jun','Jul','Aug','Sep','Oct','Nov','Dec']\n",
    "dfp_4 = pd.pivot_table(data=four, index=[four.PAYMENT_DATE.dt.year], columns='month', values='WAPD')\n",
    "dfp_4 = dfp_4.reindex(year_order, axis=1)\n",
    "dfp_4"
   ]
  },
  {
   "cell_type": "code",
   "execution_count": null,
   "id": "cdd40da1-ed54-436a-b1c5-d9dfbf162992",
   "metadata": {},
   "outputs": [],
   "source": [
    "four.query('month == \"Sep\"')[['AMOUNT_IN_LOCAL_CURRENCY','WAPD']].describe()"
   ]
  },
  {
   "cell_type": "code",
   "execution_count": null,
   "id": "5932f55c-0c71-4bfa-815a-68ea4ce80597",
   "metadata": {},
   "outputs": [],
   "source": [
    "dfp_4.plot(kind='bar', figsize=(8, 4), ylabel='WAPD', xlabel='Year', rot=0,colormap='Paired',zorder=0)\n",
    "plt.plot(four.CC_DAYS_TO_ADD, c = \"y\", label = \"DSO Term\",zorder=10)\n",
    "_ = plt.legend(bbox_to_anchor=(1, 1.02), loc='upper left')\n",
    "plt.show()"
   ]
  },
  {
   "cell_type": "code",
   "execution_count": null,
   "id": "323ea3c1-bbf6-498b-95a3-369a90a42749",
   "metadata": {},
   "outputs": [],
   "source": [
    "# year_order = ['Jan','Feb','Mar','Apr','May','Jun','Jul','Aug','Sep','Oct','Nov','Dec']\n",
    "dfp_30 = pd.pivot_table(data=thirty, index=[thirty.PAYMENT_DATE.dt.year], columns='month', values='WAPD')\n",
    "dfp_30 = dfp_30.reindex(year_order, axis=1)\n",
    "dfp_30"
   ]
  },
  {
   "cell_type": "code",
   "execution_count": null,
   "id": "38c59020-7162-4ead-b5cd-1b4be453a882",
   "metadata": {},
   "outputs": [],
   "source": [
    "# year_order = ['Jan','Feb','Mar','Apr','May','Jun','Jul','Aug','Sep','Oct','Nov','Dec']\n",
    "dfp_60 = pd.pivot_table(data=sixty, index=[sixty.PAYMENT_DATE.dt.year], columns='month', values='WAPD')\n",
    "dfp_60 = dfp_60.reindex(year_order, axis=1)\n",
    "dfp_60"
   ]
  },
  {
   "cell_type": "code",
   "execution_count": null,
   "id": "b1e56402-d249-4b9b-91b7-95912ab57c89",
   "metadata": {},
   "outputs": [],
   "source": [
    "# year_order = ['Jan','Feb','Mar','Apr','May','Jun','Jul','Aug','Sep','Oct','Nov','Dec']\n",
    "dfp_90 = pd.pivot_table(data=ninty, index=[ninty.PAYMENT_DATE.dt.year], columns='month', values='WAPD')\n",
    "dfp_90 = dfp_90.reindex(year_order, axis=1)\n",
    "dfp_90"
   ]
  },
  {
   "cell_type": "code",
   "execution_count": null,
   "id": "2d5faff6-c78f-4915-b264-69e09b852326",
   "metadata": {},
   "outputs": [],
   "source": [
    "ax30 = dfp_30.plot(kind='bar', figsize=(10, 4), ylabel='WAPD', xlabel='Year', rot=0,colormap='Paired')\n",
    "ax30.plot(thirty.CC_DAYS_TO_ADD, c = \"y\", label = \"DSO Term\")\n",
    "_ = ax30.legend(bbox_to_anchor=(1, 1.02), loc='upper left')"
   ]
  },
  {
   "cell_type": "code",
   "execution_count": null,
   "id": "27975aec-b099-4b0d-a695-890fa0b83f66",
   "metadata": {},
   "outputs": [],
   "source": [
    "ax60 = dfp_60.plot(kind='bar', figsize=(10, 4), ylabel='WAPD', xlabel='Year', rot=0,colormap='Paired')\n",
    "ax60.plot(sixty.CC_DAYS_TO_ADD, c = \"y\", label = \"DSO Term\")\n",
    "_ = ax60.legend(bbox_to_anchor=(1, 1.02), loc='upper left')"
   ]
  },
  {
   "cell_type": "code",
   "execution_count": null,
   "id": "c31bbb30-1cba-44d4-a47b-95a3ef3c6266",
   "metadata": {},
   "outputs": [],
   "source": [
    "sixty.CC_DAYS_TO_ADD"
   ]
  },
  {
   "cell_type": "code",
   "execution_count": null,
   "id": "1d09b4a6-fd26-46df-99a9-b4796ebbbf3a",
   "metadata": {},
   "outputs": [],
   "source": [
    "ax90 = dfp_90.plot(kind='bar', figsize=(10, 4), ylabel='WAPD', xlabel='Year', rot=0,colormap='Paired')\n",
    "ax90.plot(ninty.CC_DAYS_TO_ADD, c = \"y\", label = \"DSO Term\")\n",
    "_ = ax90.legend(bbox_to_anchor=(1, 1.02), loc='upper left')"
   ]
  },
  {
   "cell_type": "code",
   "execution_count": null,
   "id": "88c6c7f2-2687-4539-8689-c90c52092e92",
   "metadata": {},
   "outputs": [],
   "source": []
  },
  {
   "cell_type": "code",
   "execution_count": null,
   "id": "0954248f-038a-4d15-9a66-74de9dd180cf",
   "metadata": {},
   "outputs": [],
   "source": [
    " from pivottablejs import pivot_ui"
   ]
  },
  {
   "cell_type": "code",
   "execution_count": null,
   "id": "1e2f8c65-0dd2-4e12-b0fa-1fcddb55288e",
   "metadata": {},
   "outputs": [],
   "source": [
    "dfp_4"
   ]
  },
  {
   "cell_type": "code",
   "execution_count": null,
   "id": "611842f2-820f-469e-a10b-a34e4c6db1ad",
   "metadata": {},
   "outputs": [],
   "source": [
    "pivot_ui(dfp_4)"
   ]
  },
  {
   "cell_type": "code",
   "execution_count": null,
   "id": "6cb80213-7024-4131-87e2-4f7eeb12b73e",
   "metadata": {},
   "outputs": [],
   "source": []
  },
  {
   "cell_type": "code",
   "execution_count": null,
   "id": "39cc0d2f-2e67-4bd3-b3f2-47171f5d0d9a",
   "metadata": {},
   "outputs": [],
   "source": []
  },
  {
   "cell_type": "code",
   "execution_count": null,
   "id": "78ad13c6-5a29-4b65-b2cb-a56c71a0f68f",
   "metadata": {},
   "outputs": [],
   "source": []
  },
  {
   "cell_type": "code",
   "execution_count": null,
   "id": "c035646c-ae15-4d84-a481-1510bff44e8e",
   "metadata": {},
   "outputs": [],
   "source": []
  },
  {
   "cell_type": "markdown",
   "id": "766876bc-26b5-4089-aa0d-e6082d2b54e7",
   "metadata": {},
   "source": [
    "## National Account"
   ]
  },
  {
   "cell_type": "code",
   "execution_count": null,
   "id": "4c702a63-9d3b-4f39-9bb5-b1552d5e4b74",
   "metadata": {},
   "outputs": [],
   "source": []
  }
 ],
 "metadata": {
  "environment": {
   "kernel": "python3",
   "name": "pytorch-gpu.1-13.m108",
   "type": "gcloud",
   "uri": "gcr.io/deeplearning-platform-release/pytorch-gpu.1-13:m108"
  },
  "kernelspec": {
   "display_name": "Python 3",
   "language": "python",
   "name": "python3"
  },
  "language_info": {
   "codemirror_mode": {
    "name": "ipython",
    "version": 3
   },
   "file_extension": ".py",
   "mimetype": "text/x-python",
   "name": "python",
   "nbconvert_exporter": "python",
   "pygments_lexer": "ipython3",
   "version": "3.7.12"
  }
 },
 "nbformat": 4,
 "nbformat_minor": 5
}
